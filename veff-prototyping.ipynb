{
 "cells": [
  {
   "cell_type": "code",
   "execution_count": 1,
   "id": "reverse-alberta",
   "metadata": {},
   "outputs": [],
   "source": [
    "%reload_ext autoreload\n",
    "%autoreload "
   ]
  },
  {
   "cell_type": "code",
   "execution_count": 2,
   "id": "regulation-attitude",
   "metadata": {},
   "outputs": [],
   "source": [
    "import numpy as np\n",
    "from time import time"
   ]
  },
  {
   "cell_type": "code",
   "execution_count": 3,
   "id": "monthly-image",
   "metadata": {},
   "outputs": [],
   "source": [
    "import cProfile\n",
    "import pstats\n",
    "import allel\n",
    "import pandas as pd"
   ]
  },
  {
   "cell_type": "code",
   "execution_count": 4,
   "id": "mobile-honduras",
   "metadata": {},
   "outputs": [],
   "source": [
    "%aimport malariagen_data.ag3"
   ]
  },
  {
   "cell_type": "code",
   "execution_count": 5,
   "id": "judicial-raise",
   "metadata": {},
   "outputs": [],
   "source": [
    "%aimport malariagen_data.veff "
   ]
  },
  {
   "cell_type": "code",
   "execution_count": 6,
   "id": "living-wrestling",
   "metadata": {},
   "outputs": [],
   "source": [
    "veff = malariagen_data.veff"
   ]
  },
  {
   "cell_type": "code",
   "execution_count": 7,
   "id": "younger-diagnosis",
   "metadata": {},
   "outputs": [],
   "source": [
    "ag3 = malariagen_data.Ag3(\"simplecache::gs://vo_agam_release\", simplecache=dict(cache_storage=\"gcs_cache\"))"
   ]
  },
  {
   "cell_type": "code",
   "execution_count": 8,
   "id": "wound-chassis",
   "metadata": {},
   "outputs": [
    {
     "data": {
      "text/plain": [
       "<zarr.hierarchy.Group '/'>"
      ]
     },
     "execution_count": 8,
     "metadata": {},
     "output_type": "execute_result"
    }
   ],
   "source": [
    "genome = ag3.open_genome()\n",
    "genome"
   ]
  },
  {
   "cell_type": "code",
   "execution_count": null,
   "id": "composite-gallery",
   "metadata": {},
   "outputs": [],
   "source": [
    "list(genome)"
   ]
  },
  {
   "cell_type": "code",
   "execution_count": null,
   "id": "perceived-found",
   "metadata": {},
   "outputs": [],
   "source": [
    "genome[\"3R\"][0:10].tobytes().decode()"
   ]
  },
  {
   "cell_type": "code",
   "execution_count": 9,
   "id": "terminal-auditor",
   "metadata": {},
   "outputs": [
    {
     "data": {
      "text/html": [
       "<div>\n",
       "<style scoped>\n",
       "    .dataframe tbody tr th:only-of-type {\n",
       "        vertical-align: middle;\n",
       "    }\n",
       "\n",
       "    .dataframe tbody tr th {\n",
       "        vertical-align: top;\n",
       "    }\n",
       "\n",
       "    .dataframe thead th {\n",
       "        text-align: right;\n",
       "    }\n",
       "</style>\n",
       "<table border=\"1\" class=\"dataframe\">\n",
       "  <thead>\n",
       "    <tr style=\"text-align: right;\">\n",
       "      <th></th>\n",
       "      <th>seqid</th>\n",
       "      <th>source</th>\n",
       "      <th>type</th>\n",
       "      <th>start</th>\n",
       "      <th>end</th>\n",
       "      <th>score</th>\n",
       "      <th>strand</th>\n",
       "      <th>phase</th>\n",
       "      <th>ID</th>\n",
       "      <th>Parent</th>\n",
       "      <th>Name</th>\n",
       "    </tr>\n",
       "  </thead>\n",
       "  <tbody>\n",
       "    <tr>\n",
       "      <th>0</th>\n",
       "      <td>2L</td>\n",
       "      <td>VectorBase</td>\n",
       "      <td>chromosome</td>\n",
       "      <td>1</td>\n",
       "      <td>49364325</td>\n",
       "      <td>NaN</td>\n",
       "      <td>NaN</td>\n",
       "      <td>NaN</td>\n",
       "      <td>2L</td>\n",
       "      <td>NaN</td>\n",
       "      <td>NaN</td>\n",
       "    </tr>\n",
       "    <tr>\n",
       "      <th>1</th>\n",
       "      <td>2L</td>\n",
       "      <td>VectorBase</td>\n",
       "      <td>gene</td>\n",
       "      <td>157348</td>\n",
       "      <td>186936</td>\n",
       "      <td>NaN</td>\n",
       "      <td>-</td>\n",
       "      <td>NaN</td>\n",
       "      <td>AGAP004677</td>\n",
       "      <td>NaN</td>\n",
       "      <td>NaN</td>\n",
       "    </tr>\n",
       "    <tr>\n",
       "      <th>2</th>\n",
       "      <td>2L</td>\n",
       "      <td>VectorBase</td>\n",
       "      <td>mRNA</td>\n",
       "      <td>157348</td>\n",
       "      <td>181305</td>\n",
       "      <td>NaN</td>\n",
       "      <td>-</td>\n",
       "      <td>NaN</td>\n",
       "      <td>AGAP004677-RA</td>\n",
       "      <td>AGAP004677</td>\n",
       "      <td>NaN</td>\n",
       "    </tr>\n",
       "    <tr>\n",
       "      <th>3</th>\n",
       "      <td>2L</td>\n",
       "      <td>VectorBase</td>\n",
       "      <td>three_prime_UTR</td>\n",
       "      <td>157348</td>\n",
       "      <td>157495</td>\n",
       "      <td>NaN</td>\n",
       "      <td>-</td>\n",
       "      <td>NaN</td>\n",
       "      <td>NaN</td>\n",
       "      <td>AGAP004677-RA</td>\n",
       "      <td>NaN</td>\n",
       "    </tr>\n",
       "    <tr>\n",
       "      <th>4</th>\n",
       "      <td>2L</td>\n",
       "      <td>VectorBase</td>\n",
       "      <td>exon</td>\n",
       "      <td>157348</td>\n",
       "      <td>157623</td>\n",
       "      <td>NaN</td>\n",
       "      <td>-</td>\n",
       "      <td>NaN</td>\n",
       "      <td>NaN</td>\n",
       "      <td>AGAP004677-RA</td>\n",
       "      <td>AGAP004677-RB-E4</td>\n",
       "    </tr>\n",
       "    <tr>\n",
       "      <th>...</th>\n",
       "      <td>...</td>\n",
       "      <td>...</td>\n",
       "      <td>...</td>\n",
       "      <td>...</td>\n",
       "      <td>...</td>\n",
       "      <td>...</td>\n",
       "      <td>...</td>\n",
       "      <td>...</td>\n",
       "      <td>...</td>\n",
       "      <td>...</td>\n",
       "      <td>...</td>\n",
       "    </tr>\n",
       "    <tr>\n",
       "      <th>196140</th>\n",
       "      <td>Y_unplaced</td>\n",
       "      <td>VectorBase</td>\n",
       "      <td>five_prime_UTR</td>\n",
       "      <td>47932</td>\n",
       "      <td>48111</td>\n",
       "      <td>NaN</td>\n",
       "      <td>+</td>\n",
       "      <td>NaN</td>\n",
       "      <td>NaN</td>\n",
       "      <td>AGAP029375-RA</td>\n",
       "      <td>NaN</td>\n",
       "    </tr>\n",
       "    <tr>\n",
       "      <th>196141</th>\n",
       "      <td>Y_unplaced</td>\n",
       "      <td>VectorBase</td>\n",
       "      <td>exon</td>\n",
       "      <td>47932</td>\n",
       "      <td>48138</td>\n",
       "      <td>NaN</td>\n",
       "      <td>+</td>\n",
       "      <td>NaN</td>\n",
       "      <td>NaN</td>\n",
       "      <td>AGAP029375-RA</td>\n",
       "      <td>AGAP029375-RA-E2</td>\n",
       "    </tr>\n",
       "    <tr>\n",
       "      <th>196142</th>\n",
       "      <td>Y_unplaced</td>\n",
       "      <td>VectorBase</td>\n",
       "      <td>CDS</td>\n",
       "      <td>48112</td>\n",
       "      <td>48138</td>\n",
       "      <td>NaN</td>\n",
       "      <td>+</td>\n",
       "      <td>0.0</td>\n",
       "      <td>AGAP029375-PA</td>\n",
       "      <td>AGAP029375-RA</td>\n",
       "      <td>NaN</td>\n",
       "    </tr>\n",
       "    <tr>\n",
       "      <th>196143</th>\n",
       "      <td>Y_unplaced</td>\n",
       "      <td>VectorBase</td>\n",
       "      <td>exon</td>\n",
       "      <td>48301</td>\n",
       "      <td>48385</td>\n",
       "      <td>NaN</td>\n",
       "      <td>+</td>\n",
       "      <td>NaN</td>\n",
       "      <td>NaN</td>\n",
       "      <td>AGAP029375-RA</td>\n",
       "      <td>AGAP029375-RA-E3</td>\n",
       "    </tr>\n",
       "    <tr>\n",
       "      <th>196144</th>\n",
       "      <td>Y_unplaced</td>\n",
       "      <td>VectorBase</td>\n",
       "      <td>CDS</td>\n",
       "      <td>48301</td>\n",
       "      <td>48385</td>\n",
       "      <td>NaN</td>\n",
       "      <td>+</td>\n",
       "      <td>0.0</td>\n",
       "      <td>AGAP029375-PA</td>\n",
       "      <td>AGAP029375-RA</td>\n",
       "      <td>NaN</td>\n",
       "    </tr>\n",
       "  </tbody>\n",
       "</table>\n",
       "<p>196145 rows × 11 columns</p>\n",
       "</div>"
      ],
      "text/plain": [
       "             seqid      source             type   start       end  score  \\\n",
       "0               2L  VectorBase       chromosome       1  49364325    NaN   \n",
       "1               2L  VectorBase             gene  157348    186936    NaN   \n",
       "2               2L  VectorBase             mRNA  157348    181305    NaN   \n",
       "3               2L  VectorBase  three_prime_UTR  157348    157495    NaN   \n",
       "4               2L  VectorBase             exon  157348    157623    NaN   \n",
       "...            ...         ...              ...     ...       ...    ...   \n",
       "196140  Y_unplaced  VectorBase   five_prime_UTR   47932     48111    NaN   \n",
       "196141  Y_unplaced  VectorBase             exon   47932     48138    NaN   \n",
       "196142  Y_unplaced  VectorBase              CDS   48112     48138    NaN   \n",
       "196143  Y_unplaced  VectorBase             exon   48301     48385    NaN   \n",
       "196144  Y_unplaced  VectorBase              CDS   48301     48385    NaN   \n",
       "\n",
       "       strand  phase             ID         Parent              Name  \n",
       "0         NaN    NaN             2L            NaN               NaN  \n",
       "1           -    NaN     AGAP004677            NaN               NaN  \n",
       "2           -    NaN  AGAP004677-RA     AGAP004677               NaN  \n",
       "3           -    NaN            NaN  AGAP004677-RA               NaN  \n",
       "4           -    NaN            NaN  AGAP004677-RA  AGAP004677-RB-E4  \n",
       "...       ...    ...            ...            ...               ...  \n",
       "196140      +    NaN            NaN  AGAP029375-RA               NaN  \n",
       "196141      +    NaN            NaN  AGAP029375-RA  AGAP029375-RA-E2  \n",
       "196142      +    0.0  AGAP029375-PA  AGAP029375-RA               NaN  \n",
       "196143      +    NaN            NaN  AGAP029375-RA  AGAP029375-RA-E3  \n",
       "196144      +    0.0  AGAP029375-PA  AGAP029375-RA               NaN  \n",
       "\n",
       "[196145 rows x 11 columns]"
      ]
     },
     "execution_count": 9,
     "metadata": {},
     "output_type": "execute_result"
    }
   ],
   "source": [
    "geneset = ag3.geneset()\n",
    "geneset"
   ]
  },
  {
   "cell_type": "code",
   "execution_count": null,
   "id": "impressed-anthropology",
   "metadata": {},
   "outputs": [],
   "source": [
    "geneset[geneset.Parent == 'AGAP004679-RB']"
   ]
  },
  {
   "cell_type": "code",
   "execution_count": null,
   "id": "bibliographic-partnership",
   "metadata": {},
   "outputs": [],
   "source": [
    "%%time\n",
    "# this will take some time, loading gff, one-off cost\n",
    "ann = veff.Annotator(\n",
    "    genome=genome,\n",
    "    geneset=geneset,\n",
    ")"
   ]
  },
  {
   "cell_type": "code",
   "execution_count": null,
   "id": "trained-supplement",
   "metadata": {},
   "outputs": [],
   "source": [
    "%%time\n",
    "for effect in ann.get_effects(chrom='2L', pos=2422652, ref='A', alt='T',\n",
    "                                  transcript_ids=[\"AGAP004707-RD\"]):\n",
    "       print(effect)"
   ]
  },
  {
   "cell_type": "code",
   "execution_count": null,
   "id": "great-region",
   "metadata": {},
   "outputs": [],
   "source": [
    "for a in effect:\n",
    "    print(a)"
   ]
  },
  {
   "cell_type": "code",
   "execution_count": null,
   "id": "commercial-column",
   "metadata": {},
   "outputs": [],
   "source": [
    "effect.effect, effect.impact"
   ]
  },
  {
   "cell_type": "code",
   "execution_count": null,
   "id": "existing-hotel",
   "metadata": {},
   "outputs": [],
   "source": [
    "effect.ref_codon, effect.alt_codon"
   ]
  },
  {
   "cell_type": "code",
   "execution_count": null,
   "id": "rotary-values",
   "metadata": {},
   "outputs": [],
   "source": [
    "effect.aa_pos, effect.ref_aa, effect.alt_aa, effect.aa_change"
   ]
  },
  {
   "cell_type": "code",
   "execution_count": null,
   "id": "northern-massage",
   "metadata": {},
   "outputs": [],
   "source": [
    "type(effect.aa_pos)"
   ]
  },
  {
   "cell_type": "code",
   "execution_count": null,
   "id": "warming-retrieval",
   "metadata": {},
   "outputs": [],
   "source": [
    "pos, ref, alt = ag3.snp_sites('2L')"
   ]
  },
  {
   "cell_type": "code",
   "execution_count": null,
   "id": "acting-commitment",
   "metadata": {},
   "outputs": [],
   "source": [
    "import allel"
   ]
  },
  {
   "cell_type": "code",
   "execution_count": null,
   "id": "level-hazard",
   "metadata": {},
   "outputs": [],
   "source": [
    "start_idx = allel.SortedIndex(pos).locate_key(2429745)\n",
    "start_idx"
   ]
  },
  {
   "cell_type": "code",
   "execution_count": null,
   "id": "approved-jackson",
   "metadata": {},
   "outputs": [],
   "source": [
    "pp = pos[start_idx:start_idx+100].compute()\n",
    "rr = ref[start_idx:start_idx+100].compute()\n",
    "aaa = alt[start_idx:start_idx+100].compute()"
   ]
  },
  {
   "cell_type": "code",
   "execution_count": null,
   "id": "deluxe-festival",
   "metadata": {},
   "outputs": [],
   "source": [
    "def testf(n, show=False):\n",
    "    # loop over sites\n",
    "    for i, (p, r, aa) in enumerate(zip(pp, rr, aaa)):\n",
    "        if i < n:\n",
    "            # loop over alt alleles\n",
    "            for a in aa:\n",
    "                for effect in ann.get_effects(chrom='2L', pos=p, ref=r.decode(), alt=a.decode(),\n",
    "                                              transcript_ids=[\"AGAP004707-RA\"]):\n",
    "                    if show:\n",
    "                        print(effect)\n",
    "    "
   ]
  },
  {
   "cell_type": "code",
   "execution_count": null,
   "id": "extra-hunger",
   "metadata": {},
   "outputs": [],
   "source": [
    "%%time\n",
    "testf(20)"
   ]
  },
  {
   "cell_type": "code",
   "execution_count": null,
   "id": "patient-doubt",
   "metadata": {},
   "outputs": [],
   "source": [
    "%%time\n",
    "x = ref.compute()"
   ]
  },
  {
   "cell_type": "code",
   "execution_count": null,
   "id": "honest-poultry",
   "metadata": {},
   "outputs": [],
   "source": [
    "x.nbytes"
   ]
  },
  {
   "cell_type": "code",
   "execution_count": null,
   "id": "instructional-gibraltar",
   "metadata": {},
   "outputs": [],
   "source": [
    "cProfile.run('testf(100)', sort='cumtime')"
   ]
  },
  {
   "cell_type": "code",
   "execution_count": null,
   "id": "funny-waterproof",
   "metadata": {},
   "outputs": [],
   "source": [
    "cProfile.run('testf(20)', sort='time')"
   ]
  },
  {
   "cell_type": "code",
   "execution_count": null,
   "id": "tight-strengthening",
   "metadata": {},
   "outputs": [],
   "source": [
    "ann.get_feature(\"AGAP004707-RD\")"
   ]
  },
  {
   "cell_type": "code",
   "execution_count": null,
   "id": "alien-custom",
   "metadata": {},
   "outputs": [],
   "source": [
    "ann.get_children(\"AGAP004707\")"
   ]
  },
  {
   "cell_type": "code",
   "execution_count": null,
   "id": "egyptian-hawaii",
   "metadata": {},
   "outputs": [],
   "source": [
    "ann.find(\"2L\", 2358158, 2358159)"
   ]
  },
  {
   "cell_type": "markdown",
   "id": "fiscal-wisconsin",
   "metadata": {},
   "source": [
    "# ag3.snp_effects appears to work for vgsc and some other genes but most genes seem to fail\n",
    "- the number of effects is less than the number of rows of positions"
   ]
  },
  {
   "cell_type": "markdown",
   "id": "coupled-chocolate",
   "metadata": {},
   "source": [
    "#### run veff locally and try to debug"
   ]
  },
  {
   "cell_type": "code",
   "execution_count": null,
   "id": "understood-balance",
   "metadata": {},
   "outputs": [],
   "source": [
    "genome = ag3.open_genome()\n",
    "genome"
   ]
  },
  {
   "cell_type": "code",
   "execution_count": 9,
   "id": "confused-remove",
   "metadata": {},
   "outputs": [],
   "source": [
    "gste2 = 'AGAP009194-RA'\n",
    "site_mask = 'gamb_colu'"
   ]
  },
  {
   "cell_type": "code",
   "execution_count": null,
   "id": "present-episode",
   "metadata": {},
   "outputs": [],
   "source": [
    "geneset[geneset.Parent == gste2]"
   ]
  },
  {
   "cell_type": "code",
   "execution_count": null,
   "id": "amino-ontario",
   "metadata": {},
   "outputs": [],
   "source": [
    "%%time\n",
    "for effect in ann.get_effects(chrom='3R', pos=28598166, ref='A', alt='G',\n",
    "                                  transcript_ids=[gste2]):\n",
    "       print(effect)"
   ]
  },
  {
   "cell_type": "code",
   "execution_count": null,
   "id": "understanding-mortgage",
   "metadata": {},
   "outputs": [],
   "source": [
    "feature = ann.get_feature(gste2)\n",
    "#feature = ann.get_feature('AGAP004707-RA')\n",
    "contig = feature[0]\n",
    "start = feature[3]\n",
    "stop = feature[4]\n",
    "strand = feature[6]"
   ]
  },
  {
   "cell_type": "code",
   "execution_count": null,
   "id": "plastic-chess",
   "metadata": {},
   "outputs": [],
   "source": [
    "feature"
   ]
  },
  {
   "cell_type": "code",
   "execution_count": null,
   "id": "killing-sharp",
   "metadata": {},
   "outputs": [],
   "source": [
    "sites = ag3.snp_sites(contig=contig, site_mask=site_mask)"
   ]
  },
  {
   "cell_type": "code",
   "execution_count": null,
   "id": "interracial-parcel",
   "metadata": {},
   "outputs": [],
   "source": [
    "# sites are dask arrays, turn pos into sorted index\n",
    "pos = allel.SortedIndex(sites[0].compute())\n",
    "# locate transcript range\n",
    "loc = pos.locate_range(start, stop)\n",
    "# dask compute on the sliced arrays to speed things up\n",
    "ref = sites[1][loc].compute()\n",
    "alt = sites[2][loc].compute()"
   ]
  },
  {
   "cell_type": "code",
   "execution_count": null,
   "id": "recognized-patrol",
   "metadata": {},
   "outputs": [],
   "source": [
    "loc"
   ]
  },
  {
   "cell_type": "code",
   "execution_count": null,
   "id": "varied-westminster",
   "metadata": {},
   "outputs": [],
   "source": [
    "df_in = pd.DataFrame()\n",
    "df_in[\"position\"] = np.asarray(pos[loc])\n",
    "df_in[\"ref_allele\"] = [q.tobytes().decode() for q in np.asarray(ref)]\n",
    "# bytes within lists within lists...\n",
    "df_in[\"alt_alleles\"] = [list(q.tobytes().decode()) for q in list(alt)]"
   ]
  },
  {
   "cell_type": "code",
   "execution_count": null,
   "id": "legitimate-premium",
   "metadata": {},
   "outputs": [],
   "source": [
    "df_in.shape[0] *3"
   ]
  },
  {
   "cell_type": "code",
   "execution_count": null,
   "id": "altered-occasions",
   "metadata": {},
   "outputs": [],
   "source": [
    "#explode\n",
    "df_effects = df_in.explode(\"alt_alleles\").reset_index(drop=True)"
   ]
  },
  {
   "cell_type": "code",
   "execution_count": null,
   "id": "mineral-marketing",
   "metadata": {},
   "outputs": [],
   "source": [
    "df_effects.shape"
   ]
  },
  {
   "cell_type": "code",
   "execution_count": null,
   "id": "finnish-christopher",
   "metadata": {},
   "outputs": [],
   "source": [
    "df_effects"
   ]
  },
  {
   "cell_type": "code",
   "execution_count": null,
   "id": "overhead-bargain",
   "metadata": {},
   "outputs": [],
   "source": [
    "leffect = []\n",
    "limpact = []\n",
    "lref_codon = []\n",
    "lalt_codon = []\n",
    "laa_pos = []\n",
    "lref_aa = []\n",
    "lalt_aa = []\n",
    "laa_change = []\n",
    "lpos = []\n",
    "\n",
    "pos = []\n",
    "\n",
    "for row in df_effects.itertuples(index=True):\n",
    "    pos.append(row.position)\n",
    "    for effect in ann.get_effects(\n",
    "        chrom=contig,\n",
    "        pos=row.position,\n",
    "        ref=row.ref_allele,\n",
    "        alt=row.alt_alleles,\n",
    "        transcript_ids=[gste2],\n",
    "    ):\n",
    "\n",
    "        leffect.append(effect.effect)\n",
    "        lpos.append(effect.ref_start)\n",
    "        limpact.append(effect.impact)\n",
    "        lref_codon.append(effect.ref_codon)\n",
    "        lalt_codon.append(effect.alt_codon)\n",
    "        laa_pos.append(effect.aa_pos)\n",
    "        lref_aa.append(effect.ref_aa)\n",
    "        lalt_aa.append(effect.alt_aa)\n",
    "        laa_change.append(effect.aa_change)"
   ]
  },
  {
   "cell_type": "code",
   "execution_count": null,
   "id": "dramatic-strategy",
   "metadata": {},
   "outputs": [],
   "source": [
    "len(pos)"
   ]
  },
  {
   "cell_type": "code",
   "execution_count": null,
   "id": "round-enclosure",
   "metadata": {},
   "outputs": [],
   "source": [
    "len(lpos)"
   ]
  },
  {
   "cell_type": "code",
   "execution_count": null,
   "id": "burning-phoenix",
   "metadata": {},
   "outputs": [],
   "source": [
    "s = set(lpos)\n",
    "missing = [x for x in pos if x not in s]"
   ]
  },
  {
   "cell_type": "code",
   "execution_count": null,
   "id": "japanese-communist",
   "metadata": {},
   "outputs": [],
   "source": [
    "len(missing) + len(lpos)"
   ]
  },
  {
   "cell_type": "code",
   "execution_count": null,
   "id": "cultural-salem",
   "metadata": {},
   "outputs": [],
   "source": [
    "missing"
   ]
  },
  {
   "cell_type": "code",
   "execution_count": null,
   "id": "adequate-newman",
   "metadata": {},
   "outputs": [],
   "source": [
    "%%time\n",
    "for effect in ann.get_effects(chrom='3R', pos=28597652, ref='G', alt='A',\n",
    "                                  transcript_ids=[gste2]):\n",
    "       print(effect)"
   ]
  },
  {
   "cell_type": "code",
   "execution_count": null,
   "id": "analyzed-persian",
   "metadata": {},
   "outputs": [],
   "source": []
  },
  {
   "cell_type": "code",
   "execution_count": null,
   "id": "closed-convertible",
   "metadata": {},
   "outputs": [],
   "source": [
    "e = ag3.snp_single_effect('3R', pos=28598166, ref='A', alt='G', transcript=[gste2])\n",
    "e"
   ]
  },
  {
   "cell_type": "code",
   "execution_count": null,
   "id": "above-firmware",
   "metadata": {},
   "outputs": [],
   "source": [
    "type(e)"
   ]
  },
  {
   "cell_type": "code",
   "execution_count": null,
   "id": "technological-graduate",
   "metadata": {},
   "outputs": [],
   "source": [
    "e = ag3.snp_single_effect('3R', pos=28597652, ref='G', alt='A',\n",
    "                                  transcript=[gste2])\n",
    "e"
   ]
  },
  {
   "cell_type": "code",
   "execution_count": null,
   "id": "aging-monitor",
   "metadata": {},
   "outputs": [],
   "source": [
    "assert e.effect == 'UTR_VARIANT'"
   ]
  },
  {
   "cell_type": "code",
   "execution_count": null,
   "id": "reliable-knock",
   "metadata": {},
   "outputs": [],
   "source": []
  },
  {
   "cell_type": "code",
   "execution_count": null,
   "id": "danish-moisture",
   "metadata": {},
   "outputs": [],
   "source": []
  },
  {
   "cell_type": "markdown",
   "id": "macro-tragedy",
   "metadata": {},
   "source": [
    "# working out test parameters"
   ]
  },
  {
   "cell_type": "markdown",
   "id": "earned-matter",
   "metadata": {},
   "source": [
    "### reverse strand"
   ]
  },
  {
   "cell_type": "code",
   "execution_count": null,
   "id": "rapid-walker",
   "metadata": {},
   "outputs": [],
   "source": [
    "df = ag3.snp_effects(gste2, site_mask)"
   ]
  },
  {
   "cell_type": "code",
   "execution_count": null,
   "id": "connected-polls",
   "metadata": {},
   "outputs": [],
   "source": [
    "a = df.columns[:]"
   ]
  },
  {
   "cell_type": "code",
   "execution_count": null,
   "id": "ready-credits",
   "metadata": {},
   "outputs": [],
   "source": [
    "b = ['position', 'ref_allele', 'alt_alleles', 'effect', 'impact',\n",
    "       'ref_codon', 'alt_codon', 'aa_pos', 'ref_aa', 'alt_aa', 'aa_change']"
   ]
  },
  {
   "cell_type": "code",
   "execution_count": null,
   "id": "shared-society",
   "metadata": {},
   "outputs": [],
   "source": [
    "assert isinstance(df, pd.DataFrame)"
   ]
  },
  {
   "cell_type": "code",
   "execution_count": null,
   "id": "detected-allocation",
   "metadata": {},
   "outputs": [],
   "source": [
    "for e in b:\n",
    "    assert e in a"
   ]
  },
  {
   "cell_type": "code",
   "execution_count": null,
   "id": "early-shirt",
   "metadata": {},
   "outputs": [],
   "source": [
    "assert df.shape == (2838, 11)"
   ]
  },
  {
   "cell_type": "code",
   "execution_count": null,
   "id": "chinese-context",
   "metadata": {},
   "outputs": [],
   "source": [
    "df[df.effect == 'FIVE_PRIME_UTR']"
   ]
  },
  {
   "cell_type": "code",
   "execution_count": null,
   "id": "editorial-gather",
   "metadata": {},
   "outputs": [],
   "source": [
    "df.iloc[1451]"
   ]
  },
  {
   "cell_type": "code",
   "execution_count": null,
   "id": "pursuant-cornwall",
   "metadata": {},
   "outputs": [],
   "source": [
    "assert df.iloc[1451].aa_change == 'I114T'"
   ]
  },
  {
   "cell_type": "code",
   "execution_count": null,
   "id": "upset-collaboration",
   "metadata": {},
   "outputs": [],
   "source": [
    "df = ag3.snp_effects(gste2, site_mask)"
   ]
  },
  {
   "cell_type": "code",
   "execution_count": null,
   "id": "banned-greenhouse",
   "metadata": {},
   "outputs": [],
   "source": [
    "df"
   ]
  },
  {
   "cell_type": "markdown",
   "id": "instructional-madness",
   "metadata": {},
   "source": [
    "### forward strand"
   ]
  },
  {
   "cell_type": "code",
   "execution_count": null,
   "id": "stopped-viking",
   "metadata": {},
   "outputs": [],
   "source": [
    "gste6 = \"AGAP009196-RA\""
   ]
  },
  {
   "cell_type": "code",
   "execution_count": null,
   "id": "helpful-camping",
   "metadata": {},
   "outputs": [],
   "source": [
    "df = ag3.snp_effects(gste6, site_mask)"
   ]
  },
  {
   "cell_type": "code",
   "execution_count": null,
   "id": "younger-advertiser",
   "metadata": {},
   "outputs": [],
   "source": [
    "df.shape"
   ]
  },
  {
   "cell_type": "code",
   "execution_count": null,
   "id": "included-sullivan",
   "metadata": {},
   "outputs": [],
   "source": [
    "df[900:]"
   ]
  },
  {
   "cell_type": "markdown",
   "id": "applied-press",
   "metadata": {},
   "source": [
    "### introns in 5' UTRs"
   ]
  },
  {
   "cell_type": "code",
   "execution_count": 14,
   "id": "modular-franklin",
   "metadata": {},
   "outputs": [
    {
     "data": {
      "text/html": [
       "<div>\n",
       "<style scoped>\n",
       "    .dataframe tbody tr th:only-of-type {\n",
       "        vertical-align: middle;\n",
       "    }\n",
       "\n",
       "    .dataframe tbody tr th {\n",
       "        vertical-align: top;\n",
       "    }\n",
       "\n",
       "    .dataframe thead th {\n",
       "        text-align: right;\n",
       "    }\n",
       "</style>\n",
       "<table border=\"1\" class=\"dataframe\">\n",
       "  <thead>\n",
       "    <tr style=\"text-align: right;\">\n",
       "      <th></th>\n",
       "      <th>seqid</th>\n",
       "      <th>source</th>\n",
       "      <th>type</th>\n",
       "      <th>start</th>\n",
       "      <th>end</th>\n",
       "      <th>score</th>\n",
       "      <th>strand</th>\n",
       "      <th>phase</th>\n",
       "      <th>ID</th>\n",
       "      <th>Parent</th>\n",
       "      <th>Name</th>\n",
       "    </tr>\n",
       "  </thead>\n",
       "  <tbody>\n",
       "    <tr>\n",
       "      <th>34</th>\n",
       "      <td>2L</td>\n",
       "      <td>VectorBase</td>\n",
       "      <td>exon</td>\n",
       "      <td>207894</td>\n",
       "      <td>207953</td>\n",
       "      <td>NaN</td>\n",
       "      <td>+</td>\n",
       "      <td>NaN</td>\n",
       "      <td>NaN</td>\n",
       "      <td>AGAP004679-RB</td>\n",
       "      <td>AGAP004679-RB-E1</td>\n",
       "    </tr>\n",
       "    <tr>\n",
       "      <th>35</th>\n",
       "      <td>2L</td>\n",
       "      <td>VectorBase</td>\n",
       "      <td>five_prime_UTR</td>\n",
       "      <td>207894</td>\n",
       "      <td>207953</td>\n",
       "      <td>NaN</td>\n",
       "      <td>+</td>\n",
       "      <td>NaN</td>\n",
       "      <td>NaN</td>\n",
       "      <td>AGAP004679-RB</td>\n",
       "      <td>NaN</td>\n",
       "    </tr>\n",
       "    <tr>\n",
       "      <th>36</th>\n",
       "      <td>2L</td>\n",
       "      <td>VectorBase</td>\n",
       "      <td>five_prime_UTR</td>\n",
       "      <td>208393</td>\n",
       "      <td>208416</td>\n",
       "      <td>NaN</td>\n",
       "      <td>+</td>\n",
       "      <td>NaN</td>\n",
       "      <td>NaN</td>\n",
       "      <td>AGAP004679-RB</td>\n",
       "      <td>NaN</td>\n",
       "    </tr>\n",
       "    <tr>\n",
       "      <th>37</th>\n",
       "      <td>2L</td>\n",
       "      <td>VectorBase</td>\n",
       "      <td>exon</td>\n",
       "      <td>208393</td>\n",
       "      <td>208581</td>\n",
       "      <td>NaN</td>\n",
       "      <td>+</td>\n",
       "      <td>NaN</td>\n",
       "      <td>NaN</td>\n",
       "      <td>AGAP004679-RB</td>\n",
       "      <td>AGAP004679-RB-E2</td>\n",
       "    </tr>\n",
       "    <tr>\n",
       "      <th>38</th>\n",
       "      <td>2L</td>\n",
       "      <td>VectorBase</td>\n",
       "      <td>CDS</td>\n",
       "      <td>208417</td>\n",
       "      <td>208581</td>\n",
       "      <td>NaN</td>\n",
       "      <td>+</td>\n",
       "      <td>0.0</td>\n",
       "      <td>AGAP004679-PB</td>\n",
       "      <td>AGAP004679-RB</td>\n",
       "      <td>NaN</td>\n",
       "    </tr>\n",
       "    <tr>\n",
       "      <th>39</th>\n",
       "      <td>2L</td>\n",
       "      <td>VectorBase</td>\n",
       "      <td>exon</td>\n",
       "      <td>208639</td>\n",
       "      <td>208824</td>\n",
       "      <td>NaN</td>\n",
       "      <td>+</td>\n",
       "      <td>NaN</td>\n",
       "      <td>NaN</td>\n",
       "      <td>AGAP004679-RB</td>\n",
       "      <td>AGAP004679-RB-E3</td>\n",
       "    </tr>\n",
       "    <tr>\n",
       "      <th>40</th>\n",
       "      <td>2L</td>\n",
       "      <td>VectorBase</td>\n",
       "      <td>CDS</td>\n",
       "      <td>208639</td>\n",
       "      <td>208824</td>\n",
       "      <td>NaN</td>\n",
       "      <td>+</td>\n",
       "      <td>0.0</td>\n",
       "      <td>AGAP004679-PB</td>\n",
       "      <td>AGAP004679-RB</td>\n",
       "      <td>NaN</td>\n",
       "    </tr>\n",
       "    <tr>\n",
       "      <th>41</th>\n",
       "      <td>2L</td>\n",
       "      <td>VectorBase</td>\n",
       "      <td>exon</td>\n",
       "      <td>208897</td>\n",
       "      <td>209394</td>\n",
       "      <td>NaN</td>\n",
       "      <td>+</td>\n",
       "      <td>NaN</td>\n",
       "      <td>NaN</td>\n",
       "      <td>AGAP004679-RB</td>\n",
       "      <td>AGAP004679-RB-E4</td>\n",
       "    </tr>\n",
       "    <tr>\n",
       "      <th>42</th>\n",
       "      <td>2L</td>\n",
       "      <td>VectorBase</td>\n",
       "      <td>CDS</td>\n",
       "      <td>208897</td>\n",
       "      <td>209394</td>\n",
       "      <td>NaN</td>\n",
       "      <td>+</td>\n",
       "      <td>0.0</td>\n",
       "      <td>AGAP004679-PB</td>\n",
       "      <td>AGAP004679-RB</td>\n",
       "      <td>NaN</td>\n",
       "    </tr>\n",
       "    <tr>\n",
       "      <th>43</th>\n",
       "      <td>2L</td>\n",
       "      <td>VectorBase</td>\n",
       "      <td>exon</td>\n",
       "      <td>209473</td>\n",
       "      <td>209816</td>\n",
       "      <td>NaN</td>\n",
       "      <td>+</td>\n",
       "      <td>NaN</td>\n",
       "      <td>NaN</td>\n",
       "      <td>AGAP004679-RB</td>\n",
       "      <td>AGAP004679-RB-E5</td>\n",
       "    </tr>\n",
       "    <tr>\n",
       "      <th>44</th>\n",
       "      <td>2L</td>\n",
       "      <td>VectorBase</td>\n",
       "      <td>CDS</td>\n",
       "      <td>209473</td>\n",
       "      <td>209816</td>\n",
       "      <td>NaN</td>\n",
       "      <td>+</td>\n",
       "      <td>0.0</td>\n",
       "      <td>AGAP004679-PB</td>\n",
       "      <td>AGAP004679-RB</td>\n",
       "      <td>NaN</td>\n",
       "    </tr>\n",
       "    <tr>\n",
       "      <th>45</th>\n",
       "      <td>2L</td>\n",
       "      <td>VectorBase</td>\n",
       "      <td>CDS</td>\n",
       "      <td>209877</td>\n",
       "      <td>210276</td>\n",
       "      <td>NaN</td>\n",
       "      <td>+</td>\n",
       "      <td>1.0</td>\n",
       "      <td>AGAP004679-PB</td>\n",
       "      <td>AGAP004679-RB</td>\n",
       "      <td>NaN</td>\n",
       "    </tr>\n",
       "    <tr>\n",
       "      <th>46</th>\n",
       "      <td>2L</td>\n",
       "      <td>VectorBase</td>\n",
       "      <td>exon</td>\n",
       "      <td>209877</td>\n",
       "      <td>210460</td>\n",
       "      <td>NaN</td>\n",
       "      <td>+</td>\n",
       "      <td>NaN</td>\n",
       "      <td>NaN</td>\n",
       "      <td>AGAP004679-RB</td>\n",
       "      <td>AGAP004679-RB-E6</td>\n",
       "    </tr>\n",
       "    <tr>\n",
       "      <th>47</th>\n",
       "      <td>2L</td>\n",
       "      <td>VectorBase</td>\n",
       "      <td>three_prime_UTR</td>\n",
       "      <td>210277</td>\n",
       "      <td>210460</td>\n",
       "      <td>NaN</td>\n",
       "      <td>+</td>\n",
       "      <td>NaN</td>\n",
       "      <td>NaN</td>\n",
       "      <td>AGAP004679-RB</td>\n",
       "      <td>NaN</td>\n",
       "    </tr>\n",
       "  </tbody>\n",
       "</table>\n",
       "</div>"
      ],
      "text/plain": [
       "   seqid      source             type   start     end  score strand  phase  \\\n",
       "34    2L  VectorBase             exon  207894  207953    NaN      +    NaN   \n",
       "35    2L  VectorBase   five_prime_UTR  207894  207953    NaN      +    NaN   \n",
       "36    2L  VectorBase   five_prime_UTR  208393  208416    NaN      +    NaN   \n",
       "37    2L  VectorBase             exon  208393  208581    NaN      +    NaN   \n",
       "38    2L  VectorBase              CDS  208417  208581    NaN      +    0.0   \n",
       "39    2L  VectorBase             exon  208639  208824    NaN      +    NaN   \n",
       "40    2L  VectorBase              CDS  208639  208824    NaN      +    0.0   \n",
       "41    2L  VectorBase             exon  208897  209394    NaN      +    NaN   \n",
       "42    2L  VectorBase              CDS  208897  209394    NaN      +    0.0   \n",
       "43    2L  VectorBase             exon  209473  209816    NaN      +    NaN   \n",
       "44    2L  VectorBase              CDS  209473  209816    NaN      +    0.0   \n",
       "45    2L  VectorBase              CDS  209877  210276    NaN      +    1.0   \n",
       "46    2L  VectorBase             exon  209877  210460    NaN      +    NaN   \n",
       "47    2L  VectorBase  three_prime_UTR  210277  210460    NaN      +    NaN   \n",
       "\n",
       "               ID         Parent              Name  \n",
       "34            NaN  AGAP004679-RB  AGAP004679-RB-E1  \n",
       "35            NaN  AGAP004679-RB               NaN  \n",
       "36            NaN  AGAP004679-RB               NaN  \n",
       "37            NaN  AGAP004679-RB  AGAP004679-RB-E2  \n",
       "38  AGAP004679-PB  AGAP004679-RB               NaN  \n",
       "39            NaN  AGAP004679-RB  AGAP004679-RB-E3  \n",
       "40  AGAP004679-PB  AGAP004679-RB               NaN  \n",
       "41            NaN  AGAP004679-RB  AGAP004679-RB-E4  \n",
       "42  AGAP004679-PB  AGAP004679-RB               NaN  \n",
       "43            NaN  AGAP004679-RB  AGAP004679-RB-E5  \n",
       "44  AGAP004679-PB  AGAP004679-RB               NaN  \n",
       "45  AGAP004679-PB  AGAP004679-RB               NaN  \n",
       "46            NaN  AGAP004679-RB  AGAP004679-RB-E6  \n",
       "47            NaN  AGAP004679-RB               NaN  "
      ]
     },
     "execution_count": 14,
     "metadata": {},
     "output_type": "execute_result"
    }
   ],
   "source": [
    "geneset[geneset.Parent == \"AGAP004679-RB\"]"
   ]
  },
  {
   "cell_type": "code",
   "execution_count": 11,
   "id": "joined-confidentiality",
   "metadata": {},
   "outputs": [
    {
     "name": "stdout",
     "output_type": "stream",
     "text": [
      "transcript : AGAP004679-RB\n",
      "chromosome : 2L \n",
      "start : 207894\n",
      "stop : 210460\n",
      "strand : +\n"
     ]
    }
   ],
   "source": [
    "#this gene has a 5' utr\n",
    "utrintron5 = \"AGAP004679-RB\"\n",
    "df = ag3.snp_effects(utrintron5, site_mask)"
   ]
  },
  {
   "cell_type": "code",
   "execution_count": 12,
   "id": "textile-spirit",
   "metadata": {},
   "outputs": [
    {
     "data": {
      "text/html": [
       "<div>\n",
       "<style scoped>\n",
       "    .dataframe tbody tr th:only-of-type {\n",
       "        vertical-align: middle;\n",
       "    }\n",
       "\n",
       "    .dataframe tbody tr th {\n",
       "        vertical-align: top;\n",
       "    }\n",
       "\n",
       "    .dataframe thead th {\n",
       "        text-align: right;\n",
       "    }\n",
       "</style>\n",
       "<table border=\"1\" class=\"dataframe\">\n",
       "  <thead>\n",
       "    <tr style=\"text-align: right;\">\n",
       "      <th></th>\n",
       "      <th>position</th>\n",
       "      <th>ref_allele</th>\n",
       "      <th>alt_alleles</th>\n",
       "      <th>effect</th>\n",
       "      <th>impact</th>\n",
       "      <th>ref_codon</th>\n",
       "      <th>alt_codon</th>\n",
       "      <th>aa_pos</th>\n",
       "      <th>ref_aa</th>\n",
       "      <th>alt_aa</th>\n",
       "      <th>aa_change</th>\n",
       "    </tr>\n",
       "  </thead>\n",
       "  <tbody>\n",
       "    <tr>\n",
       "      <th>178</th>\n",
       "      <td>207953</td>\n",
       "      <td>T</td>\n",
       "      <td>C</td>\n",
       "      <td>FIVE_PRIME_UTR</td>\n",
       "      <td>LOW</td>\n",
       "      <td>None</td>\n",
       "      <td>None</td>\n",
       "      <td>NaN</td>\n",
       "      <td>None</td>\n",
       "      <td>None</td>\n",
       "      <td>None</td>\n",
       "    </tr>\n",
       "    <tr>\n",
       "      <th>179</th>\n",
       "      <td>207953</td>\n",
       "      <td>T</td>\n",
       "      <td>G</td>\n",
       "      <td>FIVE_PRIME_UTR</td>\n",
       "      <td>LOW</td>\n",
       "      <td>None</td>\n",
       "      <td>None</td>\n",
       "      <td>NaN</td>\n",
       "      <td>None</td>\n",
       "      <td>None</td>\n",
       "      <td>None</td>\n",
       "    </tr>\n",
       "    <tr>\n",
       "      <th>180</th>\n",
       "      <td>207954</td>\n",
       "      <td>G</td>\n",
       "      <td>A</td>\n",
       "      <td>INTRAGENIC</td>\n",
       "      <td>LOW</td>\n",
       "      <td>None</td>\n",
       "      <td>None</td>\n",
       "      <td>NaN</td>\n",
       "      <td>None</td>\n",
       "      <td>None</td>\n",
       "      <td>None</td>\n",
       "    </tr>\n",
       "    <tr>\n",
       "      <th>181</th>\n",
       "      <td>207954</td>\n",
       "      <td>G</td>\n",
       "      <td>C</td>\n",
       "      <td>INTRAGENIC</td>\n",
       "      <td>LOW</td>\n",
       "      <td>None</td>\n",
       "      <td>None</td>\n",
       "      <td>NaN</td>\n",
       "      <td>None</td>\n",
       "      <td>None</td>\n",
       "      <td>None</td>\n",
       "    </tr>\n",
       "    <tr>\n",
       "      <th>182</th>\n",
       "      <td>207954</td>\n",
       "      <td>G</td>\n",
       "      <td>T</td>\n",
       "      <td>INTRAGENIC</td>\n",
       "      <td>LOW</td>\n",
       "      <td>None</td>\n",
       "      <td>None</td>\n",
       "      <td>NaN</td>\n",
       "      <td>None</td>\n",
       "      <td>None</td>\n",
       "      <td>None</td>\n",
       "    </tr>\n",
       "    <tr>\n",
       "      <th>...</th>\n",
       "      <td>...</td>\n",
       "      <td>...</td>\n",
       "      <td>...</td>\n",
       "      <td>...</td>\n",
       "      <td>...</td>\n",
       "      <td>...</td>\n",
       "      <td>...</td>\n",
       "      <td>...</td>\n",
       "      <td>...</td>\n",
       "      <td>...</td>\n",
       "      <td>...</td>\n",
       "    </tr>\n",
       "    <tr>\n",
       "      <th>7681</th>\n",
       "      <td>210459</td>\n",
       "      <td>A</td>\n",
       "      <td>T</td>\n",
       "      <td>THREE_PRIME_UTR</td>\n",
       "      <td>LOW</td>\n",
       "      <td>None</td>\n",
       "      <td>None</td>\n",
       "      <td>NaN</td>\n",
       "      <td>None</td>\n",
       "      <td>None</td>\n",
       "      <td>None</td>\n",
       "    </tr>\n",
       "    <tr>\n",
       "      <th>7682</th>\n",
       "      <td>210459</td>\n",
       "      <td>A</td>\n",
       "      <td>G</td>\n",
       "      <td>THREE_PRIME_UTR</td>\n",
       "      <td>LOW</td>\n",
       "      <td>None</td>\n",
       "      <td>None</td>\n",
       "      <td>NaN</td>\n",
       "      <td>None</td>\n",
       "      <td>None</td>\n",
       "      <td>None</td>\n",
       "    </tr>\n",
       "    <tr>\n",
       "      <th>7683</th>\n",
       "      <td>210460</td>\n",
       "      <td>G</td>\n",
       "      <td>A</td>\n",
       "      <td>THREE_PRIME_UTR</td>\n",
       "      <td>LOW</td>\n",
       "      <td>None</td>\n",
       "      <td>None</td>\n",
       "      <td>NaN</td>\n",
       "      <td>None</td>\n",
       "      <td>None</td>\n",
       "      <td>None</td>\n",
       "    </tr>\n",
       "    <tr>\n",
       "      <th>7684</th>\n",
       "      <td>210460</td>\n",
       "      <td>G</td>\n",
       "      <td>C</td>\n",
       "      <td>THREE_PRIME_UTR</td>\n",
       "      <td>LOW</td>\n",
       "      <td>None</td>\n",
       "      <td>None</td>\n",
       "      <td>NaN</td>\n",
       "      <td>None</td>\n",
       "      <td>None</td>\n",
       "      <td>None</td>\n",
       "    </tr>\n",
       "    <tr>\n",
       "      <th>7685</th>\n",
       "      <td>210460</td>\n",
       "      <td>G</td>\n",
       "      <td>T</td>\n",
       "      <td>THREE_PRIME_UTR</td>\n",
       "      <td>LOW</td>\n",
       "      <td>None</td>\n",
       "      <td>None</td>\n",
       "      <td>NaN</td>\n",
       "      <td>None</td>\n",
       "      <td>None</td>\n",
       "      <td>None</td>\n",
       "    </tr>\n",
       "  </tbody>\n",
       "</table>\n",
       "<p>7508 rows × 11 columns</p>\n",
       "</div>"
      ],
      "text/plain": [
       "      position ref_allele alt_alleles           effect impact ref_codon  \\\n",
       "178     207953          T           C   FIVE_PRIME_UTR    LOW      None   \n",
       "179     207953          T           G   FIVE_PRIME_UTR    LOW      None   \n",
       "180     207954          G           A       INTRAGENIC    LOW      None   \n",
       "181     207954          G           C       INTRAGENIC    LOW      None   \n",
       "182     207954          G           T       INTRAGENIC    LOW      None   \n",
       "...        ...        ...         ...              ...    ...       ...   \n",
       "7681    210459          A           T  THREE_PRIME_UTR    LOW      None   \n",
       "7682    210459          A           G  THREE_PRIME_UTR    LOW      None   \n",
       "7683    210460          G           A  THREE_PRIME_UTR    LOW      None   \n",
       "7684    210460          G           C  THREE_PRIME_UTR    LOW      None   \n",
       "7685    210460          G           T  THREE_PRIME_UTR    LOW      None   \n",
       "\n",
       "     alt_codon  aa_pos ref_aa alt_aa aa_change  \n",
       "178       None     NaN   None   None      None  \n",
       "179       None     NaN   None   None      None  \n",
       "180       None     NaN   None   None      None  \n",
       "181       None     NaN   None   None      None  \n",
       "182       None     NaN   None   None      None  \n",
       "...        ...     ...    ...    ...       ...  \n",
       "7681      None     NaN   None   None      None  \n",
       "7682      None     NaN   None   None      None  \n",
       "7683      None     NaN   None   None      None  \n",
       "7684      None     NaN   None   None      None  \n",
       "7685      None     NaN   None   None      None  \n",
       "\n",
       "[7508 rows x 11 columns]"
      ]
     },
     "execution_count": 12,
     "metadata": {},
     "output_type": "execute_result"
    }
   ],
   "source": [
    "df[178:]"
   ]
  },
  {
   "cell_type": "code",
   "execution_count": null,
   "id": "overhead-harvey",
   "metadata": {},
   "outputs": [],
   "source": [
    "df[1490:]"
   ]
  },
  {
   "cell_type": "markdown",
   "id": "fundamental-starter",
   "metadata": {},
   "source": [
    "### introns in 3' UTRs"
   ]
  },
  {
   "cell_type": "code",
   "execution_count": null,
   "id": "discrete-charleston",
   "metadata": {},
   "outputs": [],
   "source": [
    "AGAP028431-RA"
   ]
  },
  {
   "cell_type": "code",
   "execution_count": 29,
   "id": "liquid-cutting",
   "metadata": {},
   "outputs": [
    {
     "name": "stdout",
     "output_type": "stream",
     "text": [
      "transcript : AGAP029346-RA\n",
      "chromosome : 2L \n",
      "start : 5605327\n",
      "stop : 5606838\n",
      "strand : -\n"
     ]
    }
   ],
   "source": [
    "#this gene has a 3' utr\n",
    "utrintron3 = \"AGAP029346-RA\"\n",
    "site_mask = 'gamb_colu'\n",
    "df = ag3.snp_effects(utrintron3, site_mask)"
   ]
  },
  {
   "cell_type": "code",
   "execution_count": null,
   "id": "first-prototype",
   "metadata": {},
   "outputs": [],
   "source": [
    "three_prime_UTR\t5605327\t5605863\n",
    "three_prime_UTR\t5605952\t5606353"
   ]
  },
  {
   "cell_type": "code",
   "execution_count": 58,
   "id": "systematic-briefs",
   "metadata": {},
   "outputs": [
    {
     "data": {
      "text/html": [
       "<div>\n",
       "<style scoped>\n",
       "    .dataframe tbody tr th:only-of-type {\n",
       "        vertical-align: middle;\n",
       "    }\n",
       "\n",
       "    .dataframe tbody tr th {\n",
       "        vertical-align: top;\n",
       "    }\n",
       "\n",
       "    .dataframe thead th {\n",
       "        text-align: right;\n",
       "    }\n",
       "</style>\n",
       "<table border=\"1\" class=\"dataframe\">\n",
       "  <thead>\n",
       "    <tr style=\"text-align: right;\">\n",
       "      <th></th>\n",
       "      <th>position</th>\n",
       "      <th>ref_allele</th>\n",
       "      <th>alt_alleles</th>\n",
       "      <th>effect</th>\n",
       "      <th>impact</th>\n",
       "      <th>ref_codon</th>\n",
       "      <th>alt_codon</th>\n",
       "      <th>aa_pos</th>\n",
       "      <th>ref_aa</th>\n",
       "      <th>alt_aa</th>\n",
       "      <th>aa_change</th>\n",
       "    </tr>\n",
       "  </thead>\n",
       "  <tbody>\n",
       "    <tr>\n",
       "      <th>1590</th>\n",
       "      <td>5605863</td>\n",
       "      <td>T</td>\n",
       "      <td>A</td>\n",
       "      <td>THREE_PRIME_UTR</td>\n",
       "      <td>LOW</td>\n",
       "      <td>None</td>\n",
       "      <td>None</td>\n",
       "      <td>NaN</td>\n",
       "      <td>None</td>\n",
       "      <td>None</td>\n",
       "      <td>None</td>\n",
       "    </tr>\n",
       "    <tr>\n",
       "      <th>1591</th>\n",
       "      <td>5605863</td>\n",
       "      <td>T</td>\n",
       "      <td>C</td>\n",
       "      <td>THREE_PRIME_UTR</td>\n",
       "      <td>LOW</td>\n",
       "      <td>None</td>\n",
       "      <td>None</td>\n",
       "      <td>NaN</td>\n",
       "      <td>None</td>\n",
       "      <td>None</td>\n",
       "      <td>None</td>\n",
       "    </tr>\n",
       "    <tr>\n",
       "      <th>1592</th>\n",
       "      <td>5605863</td>\n",
       "      <td>T</td>\n",
       "      <td>G</td>\n",
       "      <td>THREE_PRIME_UTR</td>\n",
       "      <td>LOW</td>\n",
       "      <td>None</td>\n",
       "      <td>None</td>\n",
       "      <td>NaN</td>\n",
       "      <td>None</td>\n",
       "      <td>None</td>\n",
       "      <td>None</td>\n",
       "    </tr>\n",
       "    <tr>\n",
       "      <th>1593</th>\n",
       "      <td>5605864</td>\n",
       "      <td>C</td>\n",
       "      <td>A</td>\n",
       "      <td>INTRAGENIC</td>\n",
       "      <td>LOW</td>\n",
       "      <td>None</td>\n",
       "      <td>None</td>\n",
       "      <td>NaN</td>\n",
       "      <td>None</td>\n",
       "      <td>None</td>\n",
       "      <td>None</td>\n",
       "    </tr>\n",
       "    <tr>\n",
       "      <th>1594</th>\n",
       "      <td>5605864</td>\n",
       "      <td>C</td>\n",
       "      <td>T</td>\n",
       "      <td>INTRAGENIC</td>\n",
       "      <td>LOW</td>\n",
       "      <td>None</td>\n",
       "      <td>None</td>\n",
       "      <td>NaN</td>\n",
       "      <td>None</td>\n",
       "      <td>None</td>\n",
       "      <td>None</td>\n",
       "    </tr>\n",
       "    <tr>\n",
       "      <th>...</th>\n",
       "      <td>...</td>\n",
       "      <td>...</td>\n",
       "      <td>...</td>\n",
       "      <td>...</td>\n",
       "      <td>...</td>\n",
       "      <td>...</td>\n",
       "      <td>...</td>\n",
       "      <td>...</td>\n",
       "      <td>...</td>\n",
       "      <td>...</td>\n",
       "      <td>...</td>\n",
       "    </tr>\n",
       "    <tr>\n",
       "      <th>4303</th>\n",
       "      <td>5606837</td>\n",
       "      <td>G</td>\n",
       "      <td>C</td>\n",
       "      <td>FIVE_PRIME_UTR</td>\n",
       "      <td>LOW</td>\n",
       "      <td>None</td>\n",
       "      <td>None</td>\n",
       "      <td>NaN</td>\n",
       "      <td>None</td>\n",
       "      <td>None</td>\n",
       "      <td>None</td>\n",
       "    </tr>\n",
       "    <tr>\n",
       "      <th>4304</th>\n",
       "      <td>5606837</td>\n",
       "      <td>G</td>\n",
       "      <td>T</td>\n",
       "      <td>FIVE_PRIME_UTR</td>\n",
       "      <td>LOW</td>\n",
       "      <td>None</td>\n",
       "      <td>None</td>\n",
       "      <td>NaN</td>\n",
       "      <td>None</td>\n",
       "      <td>None</td>\n",
       "      <td>None</td>\n",
       "    </tr>\n",
       "    <tr>\n",
       "      <th>4305</th>\n",
       "      <td>5606838</td>\n",
       "      <td>A</td>\n",
       "      <td>C</td>\n",
       "      <td>FIVE_PRIME_UTR</td>\n",
       "      <td>LOW</td>\n",
       "      <td>None</td>\n",
       "      <td>None</td>\n",
       "      <td>NaN</td>\n",
       "      <td>None</td>\n",
       "      <td>None</td>\n",
       "      <td>None</td>\n",
       "    </tr>\n",
       "    <tr>\n",
       "      <th>4306</th>\n",
       "      <td>5606838</td>\n",
       "      <td>A</td>\n",
       "      <td>T</td>\n",
       "      <td>FIVE_PRIME_UTR</td>\n",
       "      <td>LOW</td>\n",
       "      <td>None</td>\n",
       "      <td>None</td>\n",
       "      <td>NaN</td>\n",
       "      <td>None</td>\n",
       "      <td>None</td>\n",
       "      <td>None</td>\n",
       "    </tr>\n",
       "    <tr>\n",
       "      <th>4307</th>\n",
       "      <td>5606838</td>\n",
       "      <td>A</td>\n",
       "      <td>G</td>\n",
       "      <td>FIVE_PRIME_UTR</td>\n",
       "      <td>LOW</td>\n",
       "      <td>None</td>\n",
       "      <td>None</td>\n",
       "      <td>NaN</td>\n",
       "      <td>None</td>\n",
       "      <td>None</td>\n",
       "      <td>None</td>\n",
       "    </tr>\n",
       "  </tbody>\n",
       "</table>\n",
       "<p>2718 rows × 11 columns</p>\n",
       "</div>"
      ],
      "text/plain": [
       "      position ref_allele alt_alleles           effect impact ref_codon  \\\n",
       "1590   5605863          T           A  THREE_PRIME_UTR    LOW      None   \n",
       "1591   5605863          T           C  THREE_PRIME_UTR    LOW      None   \n",
       "1592   5605863          T           G  THREE_PRIME_UTR    LOW      None   \n",
       "1593   5605864          C           A       INTRAGENIC    LOW      None   \n",
       "1594   5605864          C           T       INTRAGENIC    LOW      None   \n",
       "...        ...        ...         ...              ...    ...       ...   \n",
       "4303   5606837          G           C   FIVE_PRIME_UTR    LOW      None   \n",
       "4304   5606837          G           T   FIVE_PRIME_UTR    LOW      None   \n",
       "4305   5606838          A           C   FIVE_PRIME_UTR    LOW      None   \n",
       "4306   5606838          A           T   FIVE_PRIME_UTR    LOW      None   \n",
       "4307   5606838          A           G   FIVE_PRIME_UTR    LOW      None   \n",
       "\n",
       "     alt_codon  aa_pos ref_aa alt_aa aa_change  \n",
       "1590      None     NaN   None   None      None  \n",
       "1591      None     NaN   None   None      None  \n",
       "1592      None     NaN   None   None      None  \n",
       "1593      None     NaN   None   None      None  \n",
       "1594      None     NaN   None   None      None  \n",
       "...        ...     ...    ...    ...       ...  \n",
       "4303      None     NaN   None   None      None  \n",
       "4304      None     NaN   None   None      None  \n",
       "4305      None     NaN   None   None      None  \n",
       "4306      None     NaN   None   None      None  \n",
       "4307      None     NaN   None   None      None  \n",
       "\n",
       "[2718 rows x 11 columns]"
      ]
     },
     "execution_count": 58,
     "metadata": {},
     "output_type": "execute_result"
    }
   ],
   "source": [
    "df[1590:]"
   ]
  },
  {
   "cell_type": "code",
   "execution_count": null,
   "id": "liable-button",
   "metadata": {},
   "outputs": [],
   "source": []
  },
  {
   "cell_type": "code",
   "execution_count": null,
   "id": "driven-fortune",
   "metadata": {},
   "outputs": [],
   "source": []
  },
  {
   "cell_type": "markdown",
   "id": "running-democrat",
   "metadata": {},
   "source": [
    "# SNP allele frequencies"
   ]
  },
  {
   "cell_type": "code",
   "execution_count": null,
   "id": "gross-rating",
   "metadata": {},
   "outputs": [],
   "source": [
    "%%time\n",
    "df_meta, gt = ag3.snp_allele_frequencies(\"AGAP004707-RD\", \"gamb_colu\")"
   ]
  },
  {
   "cell_type": "code",
   "execution_count": null,
   "id": "suspended-armor",
   "metadata": {},
   "outputs": [],
   "source": [
    "df"
   ]
  },
  {
   "cell_type": "code",
   "execution_count": null,
   "id": "caring-building",
   "metadata": {},
   "outputs": [],
   "source": [
    "len(gt) *3"
   ]
  },
  {
   "cell_type": "code",
   "execution_count": null,
   "id": "direct-typing",
   "metadata": {},
   "outputs": [],
   "source": [
    "df_meta.loc[df_meta.country == 'AG1000G-UG']\n"
   ]
  },
  {
   "cell_type": "code",
   "execution_count": null,
   "id": "competitive-commons",
   "metadata": {},
   "outputs": [],
   "source": []
  }
 ],
 "metadata": {
  "kernelspec": {
   "display_name": "Python 3",
   "language": "python",
   "name": "python3"
  },
  "language_info": {
   "codemirror_mode": {
    "name": "ipython",
    "version": 3
   },
   "file_extension": ".py",
   "mimetype": "text/x-python",
   "name": "python",
   "nbconvert_exporter": "python",
   "pygments_lexer": "ipython3",
   "version": "3.6.9"
  }
 },
 "nbformat": 4,
 "nbformat_minor": 5
}
