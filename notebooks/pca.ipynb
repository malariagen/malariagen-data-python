{
 "cells": [
  {
   "cell_type": "code",
   "execution_count": 1,
   "id": "36039d6f",
   "metadata": {},
   "outputs": [],
   "source": [
    "import malariagen_data\n",
    "import logging"
   ]
  },
  {
   "cell_type": "code",
   "execution_count": 2,
   "id": "d8bf7a3a",
   "metadata": {},
   "outputs": [
    {
     "data": {
      "application/javascript": [
       "\n",
       "(function(root) {\n",
       "  function now() {\n",
       "    return new Date();\n",
       "  }\n",
       "\n",
       "  const force = true;\n",
       "\n",
       "  if (typeof root._bokeh_onload_callbacks === \"undefined\" || force === true) {\n",
       "    root._bokeh_onload_callbacks = [];\n",
       "    root._bokeh_is_loading = undefined;\n",
       "  }\n",
       "\n",
       "  const JS_MIME_TYPE = 'application/javascript';\n",
       "  const HTML_MIME_TYPE = 'text/html';\n",
       "  const EXEC_MIME_TYPE = 'application/vnd.bokehjs_exec.v0+json';\n",
       "  const CLASS_NAME = 'output_bokeh rendered_html';\n",
       "\n",
       "  /**\n",
       "   * Render data to the DOM node\n",
       "   */\n",
       "  function render(props, node) {\n",
       "    const script = document.createElement(\"script\");\n",
       "    node.appendChild(script);\n",
       "  }\n",
       "\n",
       "  /**\n",
       "   * Handle when an output is cleared or removed\n",
       "   */\n",
       "  function handleClearOutput(event, handle) {\n",
       "    const cell = handle.cell;\n",
       "\n",
       "    const id = cell.output_area._bokeh_element_id;\n",
       "    const server_id = cell.output_area._bokeh_server_id;\n",
       "    // Clean up Bokeh references\n",
       "    if (id != null && id in Bokeh.index) {\n",
       "      Bokeh.index[id].model.document.clear();\n",
       "      delete Bokeh.index[id];\n",
       "    }\n",
       "\n",
       "    if (server_id !== undefined) {\n",
       "      // Clean up Bokeh references\n",
       "      const cmd_clean = \"from bokeh.io.state import curstate; print(curstate().uuid_to_server['\" + server_id + \"'].get_sessions()[0].document.roots[0]._id)\";\n",
       "      cell.notebook.kernel.execute(cmd_clean, {\n",
       "        iopub: {\n",
       "          output: function(msg) {\n",
       "            const id = msg.content.text.trim();\n",
       "            if (id in Bokeh.index) {\n",
       "              Bokeh.index[id].model.document.clear();\n",
       "              delete Bokeh.index[id];\n",
       "            }\n",
       "          }\n",
       "        }\n",
       "      });\n",
       "      // Destroy server and session\n",
       "      const cmd_destroy = \"import bokeh.io.notebook as ion; ion.destroy_server('\" + server_id + \"')\";\n",
       "      cell.notebook.kernel.execute(cmd_destroy);\n",
       "    }\n",
       "  }\n",
       "\n",
       "  /**\n",
       "   * Handle when a new output is added\n",
       "   */\n",
       "  function handleAddOutput(event, handle) {\n",
       "    const output_area = handle.output_area;\n",
       "    const output = handle.output;\n",
       "\n",
       "    // limit handleAddOutput to display_data with EXEC_MIME_TYPE content only\n",
       "    if ((output.output_type != \"display_data\") || (!Object.prototype.hasOwnProperty.call(output.data, EXEC_MIME_TYPE))) {\n",
       "      return\n",
       "    }\n",
       "\n",
       "    const toinsert = output_area.element.find(\".\" + CLASS_NAME.split(' ')[0]);\n",
       "\n",
       "    if (output.metadata[EXEC_MIME_TYPE][\"id\"] !== undefined) {\n",
       "      toinsert[toinsert.length - 1].firstChild.textContent = output.data[JS_MIME_TYPE];\n",
       "      // store reference to embed id on output_area\n",
       "      output_area._bokeh_element_id = output.metadata[EXEC_MIME_TYPE][\"id\"];\n",
       "    }\n",
       "    if (output.metadata[EXEC_MIME_TYPE][\"server_id\"] !== undefined) {\n",
       "      const bk_div = document.createElement(\"div\");\n",
       "      bk_div.innerHTML = output.data[HTML_MIME_TYPE];\n",
       "      const script_attrs = bk_div.children[0].attributes;\n",
       "      for (let i = 0; i < script_attrs.length; i++) {\n",
       "        toinsert[toinsert.length - 1].firstChild.setAttribute(script_attrs[i].name, script_attrs[i].value);\n",
       "        toinsert[toinsert.length - 1].firstChild.textContent = bk_div.children[0].textContent\n",
       "      }\n",
       "      // store reference to server id on output_area\n",
       "      output_area._bokeh_server_id = output.metadata[EXEC_MIME_TYPE][\"server_id\"];\n",
       "    }\n",
       "  }\n",
       "\n",
       "  function register_renderer(events, OutputArea) {\n",
       "\n",
       "    function append_mime(data, metadata, element) {\n",
       "      // create a DOM node to render to\n",
       "      const toinsert = this.create_output_subarea(\n",
       "        metadata,\n",
       "        CLASS_NAME,\n",
       "        EXEC_MIME_TYPE\n",
       "      );\n",
       "      this.keyboard_manager.register_events(toinsert);\n",
       "      // Render to node\n",
       "      const props = {data: data, metadata: metadata[EXEC_MIME_TYPE]};\n",
       "      render(props, toinsert[toinsert.length - 1]);\n",
       "      element.append(toinsert);\n",
       "      return toinsert\n",
       "    }\n",
       "\n",
       "    /* Handle when an output is cleared or removed */\n",
       "    events.on('clear_output.CodeCell', handleClearOutput);\n",
       "    events.on('delete.Cell', handleClearOutput);\n",
       "\n",
       "    /* Handle when a new output is added */\n",
       "    events.on('output_added.OutputArea', handleAddOutput);\n",
       "\n",
       "    /**\n",
       "     * Register the mime type and append_mime function with output_area\n",
       "     */\n",
       "    OutputArea.prototype.register_mime_type(EXEC_MIME_TYPE, append_mime, {\n",
       "      /* Is output safe? */\n",
       "      safe: true,\n",
       "      /* Index of renderer in `output_area.display_order` */\n",
       "      index: 0\n",
       "    });\n",
       "  }\n",
       "\n",
       "  // register the mime type if in Jupyter Notebook environment and previously unregistered\n",
       "  if (root.Jupyter !== undefined) {\n",
       "    const events = require('base/js/events');\n",
       "    const OutputArea = require('notebook/js/outputarea').OutputArea;\n",
       "\n",
       "    if (OutputArea.prototype.mime_types().indexOf(EXEC_MIME_TYPE) == -1) {\n",
       "      register_renderer(events, OutputArea);\n",
       "    }\n",
       "  }\n",
       "\n",
       "  \n",
       "  if (typeof (root._bokeh_timeout) === \"undefined\" || force === true) {\n",
       "    root._bokeh_timeout = Date.now() + 5000;\n",
       "    root._bokeh_failed_load = false;\n",
       "  }\n",
       "\n",
       "  const NB_LOAD_WARNING = {'data': {'text/html':\n",
       "     \"<div style='background-color: #fdd'>\\n\"+\n",
       "     \"<p>\\n\"+\n",
       "     \"BokehJS does not appear to have successfully loaded. If loading BokehJS from CDN, this \\n\"+\n",
       "     \"may be due to a slow or bad network connection. Possible fixes:\\n\"+\n",
       "     \"</p>\\n\"+\n",
       "     \"<ul>\\n\"+\n",
       "     \"<li>re-rerun `output_notebook()` to attempt to load from CDN again, or</li>\\n\"+\n",
       "     \"<li>use INLINE resources instead, as so:</li>\\n\"+\n",
       "     \"</ul>\\n\"+\n",
       "     \"<code>\\n\"+\n",
       "     \"from bokeh.resources import INLINE\\n\"+\n",
       "     \"output_notebook(resources=INLINE)\\n\"+\n",
       "     \"</code>\\n\"+\n",
       "     \"</div>\"}};\n",
       "\n",
       "  function display_loaded() {\n",
       "    const el = document.getElementById(null);\n",
       "    if (el != null) {\n",
       "      el.textContent = \"BokehJS is loading...\";\n",
       "    }\n",
       "    if (root.Bokeh !== undefined) {\n",
       "      if (el != null) {\n",
       "        el.textContent = \"BokehJS \" + root.Bokeh.version + \" successfully loaded.\";\n",
       "      }\n",
       "    } else if (Date.now() < root._bokeh_timeout) {\n",
       "      setTimeout(display_loaded, 100)\n",
       "    }\n",
       "  }\n",
       "\n",
       "\n",
       "  function run_callbacks() {\n",
       "    try {\n",
       "      root._bokeh_onload_callbacks.forEach(function(callback) {\n",
       "        if (callback != null)\n",
       "          callback();\n",
       "      });\n",
       "    } finally {\n",
       "      delete root._bokeh_onload_callbacks\n",
       "    }\n",
       "    console.debug(\"Bokeh: all callbacks have finished\");\n",
       "  }\n",
       "\n",
       "  function load_libs(css_urls, js_urls, callback) {\n",
       "    if (css_urls == null) css_urls = [];\n",
       "    if (js_urls == null) js_urls = [];\n",
       "\n",
       "    root._bokeh_onload_callbacks.push(callback);\n",
       "    if (root._bokeh_is_loading > 0) {\n",
       "      console.debug(\"Bokeh: BokehJS is being loaded, scheduling callback at\", now());\n",
       "      return null;\n",
       "    }\n",
       "    if (js_urls == null || js_urls.length === 0) {\n",
       "      run_callbacks();\n",
       "      return null;\n",
       "    }\n",
       "    console.debug(\"Bokeh: BokehJS not loaded, scheduling load and callback at\", now());\n",
       "    root._bokeh_is_loading = css_urls.length + js_urls.length;\n",
       "\n",
       "    function on_load() {\n",
       "      root._bokeh_is_loading--;\n",
       "      if (root._bokeh_is_loading === 0) {\n",
       "        console.debug(\"Bokeh: all BokehJS libraries/stylesheets loaded\");\n",
       "        run_callbacks()\n",
       "      }\n",
       "    }\n",
       "\n",
       "    function on_error(url) {\n",
       "      console.error(\"failed to load \" + url);\n",
       "    }\n",
       "\n",
       "    for (let i = 0; i < css_urls.length; i++) {\n",
       "      const url = css_urls[i];\n",
       "      const element = document.createElement(\"link\");\n",
       "      element.onload = on_load;\n",
       "      element.onerror = on_error.bind(null, url);\n",
       "      element.rel = \"stylesheet\";\n",
       "      element.type = \"text/css\";\n",
       "      element.href = url;\n",
       "      console.debug(\"Bokeh: injecting link tag for BokehJS stylesheet: \", url);\n",
       "      document.body.appendChild(element);\n",
       "    }\n",
       "\n",
       "    for (let i = 0; i < js_urls.length; i++) {\n",
       "      const url = js_urls[i];\n",
       "      const element = document.createElement('script');\n",
       "      element.onload = on_load;\n",
       "      element.onerror = on_error.bind(null, url);\n",
       "      element.async = false;\n",
       "      element.src = url;\n",
       "      console.debug(\"Bokeh: injecting script tag for BokehJS library: \", url);\n",
       "      document.head.appendChild(element);\n",
       "    }\n",
       "  };\n",
       "\n",
       "  function inject_raw_css(css) {\n",
       "    const element = document.createElement(\"style\");\n",
       "    element.appendChild(document.createTextNode(css));\n",
       "    document.body.appendChild(element);\n",
       "  }\n",
       "\n",
       "  \n",
       "  const js_urls = [\"https://cdn.bokeh.org/bokeh/release/bokeh-2.4.2.min.js\", \"https://cdn.bokeh.org/bokeh/release/bokeh-gl-2.4.2.min.js\", \"https://cdn.bokeh.org/bokeh/release/bokeh-widgets-2.4.2.min.js\", \"https://cdn.bokeh.org/bokeh/release/bokeh-tables-2.4.2.min.js\", \"https://cdn.bokeh.org/bokeh/release/bokeh-mathjax-2.4.2.min.js\"];\n",
       "  const css_urls = [];\n",
       "  \n",
       "\n",
       "  const inline_js = [\n",
       "    function(Bokeh) {\n",
       "      Bokeh.set_log_level(\"info\");\n",
       "    },\n",
       "    function(Bokeh) {\n",
       "    \n",
       "    \n",
       "    }\n",
       "  ];\n",
       "\n",
       "  function run_inline_js() {\n",
       "    \n",
       "    if (root.Bokeh !== undefined || force === true) {\n",
       "      \n",
       "    for (let i = 0; i < inline_js.length; i++) {\n",
       "      inline_js[i].call(root, root.Bokeh);\n",
       "    }\n",
       "    } else if (Date.now() < root._bokeh_timeout) {\n",
       "      setTimeout(run_inline_js, 100);\n",
       "    } else if (!root._bokeh_failed_load) {\n",
       "      console.log(\"Bokeh: BokehJS failed to load within specified timeout.\");\n",
       "      root._bokeh_failed_load = true;\n",
       "    } else if (force !== true) {\n",
       "      const cell = $(document.getElementById(null)).parents('.cell').data().cell;\n",
       "      cell.output_area.append_execute_result(NB_LOAD_WARNING)\n",
       "    }\n",
       "\n",
       "  }\n",
       "\n",
       "  if (root._bokeh_is_loading === 0) {\n",
       "    console.debug(\"Bokeh: BokehJS loaded, going straight to plotting\");\n",
       "    run_inline_js();\n",
       "  } else {\n",
       "    load_libs(css_urls, js_urls, function() {\n",
       "      console.debug(\"Bokeh: BokehJS plotting callback run at\", now());\n",
       "      run_inline_js();\n",
       "    });\n",
       "  }\n",
       "}(window));"
      ],
      "application/vnd.bokehjs_load.v0+json": "\n(function(root) {\n  function now() {\n    return new Date();\n  }\n\n  const force = true;\n\n  if (typeof root._bokeh_onload_callbacks === \"undefined\" || force === true) {\n    root._bokeh_onload_callbacks = [];\n    root._bokeh_is_loading = undefined;\n  }\n\n  \n\n  \n  if (typeof (root._bokeh_timeout) === \"undefined\" || force === true) {\n    root._bokeh_timeout = Date.now() + 5000;\n    root._bokeh_failed_load = false;\n  }\n\n  const NB_LOAD_WARNING = {'data': {'text/html':\n     \"<div style='background-color: #fdd'>\\n\"+\n     \"<p>\\n\"+\n     \"BokehJS does not appear to have successfully loaded. If loading BokehJS from CDN, this \\n\"+\n     \"may be due to a slow or bad network connection. Possible fixes:\\n\"+\n     \"</p>\\n\"+\n     \"<ul>\\n\"+\n     \"<li>re-rerun `output_notebook()` to attempt to load from CDN again, or</li>\\n\"+\n     \"<li>use INLINE resources instead, as so:</li>\\n\"+\n     \"</ul>\\n\"+\n     \"<code>\\n\"+\n     \"from bokeh.resources import INLINE\\n\"+\n     \"output_notebook(resources=INLINE)\\n\"+\n     \"</code>\\n\"+\n     \"</div>\"}};\n\n  function display_loaded() {\n    const el = document.getElementById(null);\n    if (el != null) {\n      el.textContent = \"BokehJS is loading...\";\n    }\n    if (root.Bokeh !== undefined) {\n      if (el != null) {\n        el.textContent = \"BokehJS \" + root.Bokeh.version + \" successfully loaded.\";\n      }\n    } else if (Date.now() < root._bokeh_timeout) {\n      setTimeout(display_loaded, 100)\n    }\n  }\n\n\n  function run_callbacks() {\n    try {\n      root._bokeh_onload_callbacks.forEach(function(callback) {\n        if (callback != null)\n          callback();\n      });\n    } finally {\n      delete root._bokeh_onload_callbacks\n    }\n    console.debug(\"Bokeh: all callbacks have finished\");\n  }\n\n  function load_libs(css_urls, js_urls, callback) {\n    if (css_urls == null) css_urls = [];\n    if (js_urls == null) js_urls = [];\n\n    root._bokeh_onload_callbacks.push(callback);\n    if (root._bokeh_is_loading > 0) {\n      console.debug(\"Bokeh: BokehJS is being loaded, scheduling callback at\", now());\n      return null;\n    }\n    if (js_urls == null || js_urls.length === 0) {\n      run_callbacks();\n      return null;\n    }\n    console.debug(\"Bokeh: BokehJS not loaded, scheduling load and callback at\", now());\n    root._bokeh_is_loading = css_urls.length + js_urls.length;\n\n    function on_load() {\n      root._bokeh_is_loading--;\n      if (root._bokeh_is_loading === 0) {\n        console.debug(\"Bokeh: all BokehJS libraries/stylesheets loaded\");\n        run_callbacks()\n      }\n    }\n\n    function on_error(url) {\n      console.error(\"failed to load \" + url);\n    }\n\n    for (let i = 0; i < css_urls.length; i++) {\n      const url = css_urls[i];\n      const element = document.createElement(\"link\");\n      element.onload = on_load;\n      element.onerror = on_error.bind(null, url);\n      element.rel = \"stylesheet\";\n      element.type = \"text/css\";\n      element.href = url;\n      console.debug(\"Bokeh: injecting link tag for BokehJS stylesheet: \", url);\n      document.body.appendChild(element);\n    }\n\n    for (let i = 0; i < js_urls.length; i++) {\n      const url = js_urls[i];\n      const element = document.createElement('script');\n      element.onload = on_load;\n      element.onerror = on_error.bind(null, url);\n      element.async = false;\n      element.src = url;\n      console.debug(\"Bokeh: injecting script tag for BokehJS library: \", url);\n      document.head.appendChild(element);\n    }\n  };\n\n  function inject_raw_css(css) {\n    const element = document.createElement(\"style\");\n    element.appendChild(document.createTextNode(css));\n    document.body.appendChild(element);\n  }\n\n  \n  const js_urls = [\"https://cdn.bokeh.org/bokeh/release/bokeh-2.4.2.min.js\", \"https://cdn.bokeh.org/bokeh/release/bokeh-gl-2.4.2.min.js\", \"https://cdn.bokeh.org/bokeh/release/bokeh-widgets-2.4.2.min.js\", \"https://cdn.bokeh.org/bokeh/release/bokeh-tables-2.4.2.min.js\", \"https://cdn.bokeh.org/bokeh/release/bokeh-mathjax-2.4.2.min.js\"];\n  const css_urls = [];\n  \n\n  const inline_js = [\n    function(Bokeh) {\n      Bokeh.set_log_level(\"info\");\n    },\n    function(Bokeh) {\n    \n    \n    }\n  ];\n\n  function run_inline_js() {\n    \n    if (root.Bokeh !== undefined || force === true) {\n      \n    for (let i = 0; i < inline_js.length; i++) {\n      inline_js[i].call(root, root.Bokeh);\n    }\n    } else if (Date.now() < root._bokeh_timeout) {\n      setTimeout(run_inline_js, 100);\n    } else if (!root._bokeh_failed_load) {\n      console.log(\"Bokeh: BokehJS failed to load within specified timeout.\");\n      root._bokeh_failed_load = true;\n    } else if (force !== true) {\n      const cell = $(document.getElementById(null)).parents('.cell').data().cell;\n      cell.output_area.append_execute_result(NB_LOAD_WARNING)\n    }\n\n  }\n\n  if (root._bokeh_is_loading === 0) {\n    console.debug(\"Bokeh: BokehJS loaded, going straight to plotting\");\n    run_inline_js();\n  } else {\n    load_libs(css_urls, js_urls, function() {\n      console.debug(\"Bokeh: BokehJS plotting callback run at\", now());\n      run_inline_js();\n    });\n  }\n}(window));"
     },
     "metadata": {},
     "output_type": "display_data"
    },
    {
     "data": {
      "text/html": [
       "\n",
       "            <table class=\"malariagen-ag3\">\n",
       "                <thead>\n",
       "                    <tr>\n",
       "                        <th style=\"text-align: left\" colspan=\"2\">MalariaGEN Ag3 data resource API</th>\n",
       "                    </tr>\n",
       "                    <tr><td colspan=\"2\" style=\"text-align: left\">\n",
       "                        Please note that data are subject to terms of use,\n",
       "                        for more information see <a href=\"https://www.malariagen.net/data\">\n",
       "                        the MalariaGEN website</a> or contact data@malariagen.net.\n",
       "                        See also the <a href=\"https://malariagen.github.io/vector-data/ag3/api.html\">Ag3 API docs</a>.\n",
       "                    </td></tr>\n",
       "                </thead>\n",
       "                <tbody>\n",
       "                    <tr>\n",
       "                        <th style=\"text-align: left\">\n",
       "                            Storage URL\n",
       "                        </th>\n",
       "                        <td>simplecache::gs://vo_agam_release</td>\n",
       "                    </tr>\n",
       "                    <tr>\n",
       "                        <th style=\"text-align: left\">\n",
       "                            Data releases available\n",
       "                        </th>\n",
       "                        <td>3.0</td>\n",
       "                    </tr>\n",
       "                    <tr>\n",
       "                        <th style=\"text-align: left\">\n",
       "                            Results cache\n",
       "                        </th>\n",
       "                        <td>/home/aliman/github/malariagen/malariagen-data-python/results_cache</td>\n",
       "                    </tr>\n",
       "                    <tr>\n",
       "                        <th style=\"text-align: left\">\n",
       "                            Cohorts analysis\n",
       "                        </th>\n",
       "                        <td>20211101</td>\n",
       "                    </tr>\n",
       "                    <tr>\n",
       "                        <th style=\"text-align: left\">\n",
       "                            Species analysis\n",
       "                        </th>\n",
       "                        <td>aim_20200422</td>\n",
       "                    </tr>\n",
       "                    <tr>\n",
       "                        <th style=\"text-align: left\">\n",
       "                            Site filters analysis\n",
       "                        </th>\n",
       "                        <td>dt_20200416</td>\n",
       "                    </tr>\n",
       "                    <tr>\n",
       "                        <th style=\"text-align: left\">\n",
       "                            Software version\n",
       "                        </th>\n",
       "                        <td>3.0.0</td>\n",
       "                    </tr>\n",
       "                </tbody>\n",
       "            </table>\n",
       "        "
      ],
      "text/plain": [
       "<MalariaGEN Ag3 data resource API>\n",
       "Storage URL             : simplecache::gs://vo_agam_release\n",
       "Data releases available : 3.0\n",
       "Results cache           : /home/aliman/github/malariagen/malariagen-data-python/results_cache\n",
       "Cohorts analysis        : 20211101\n",
       "Species analysis        : aim_20200422\n",
       "Site filters analysis   : dt_20200416\n",
       "Software version        : 3.0.0\n",
       "---\n",
       "Please note that data are subject to terms of use,\n",
       "for more information see https://www.malariagen.net/data\n",
       "or contact data@malariagen.net. For API documentation see: \n",
       "https://malariagen.github.io/vector-data/ag3/api.html"
      ]
     },
     "execution_count": 2,
     "metadata": {},
     "output_type": "execute_result"
    }
   ],
   "source": [
    "ag3 = malariagen_data.Ag3(\n",
    "    \"simplecache::gs://vo_agam_release\",\n",
    "    results_cache=\"../results_cache\",\n",
    "    log_level=logging.DEBUG,\n",
    "    simplecache=dict(cache_storage=\"../gcs_cache\")\n",
    ")\n",
    "ag3"
   ]
  },
  {
   "cell_type": "code",
   "execution_count": 3,
   "id": "4e5e1c70",
   "metadata": {},
   "outputs": [
    {
     "name": "stdout",
     "output_type": "stream",
     "text": [
      "removed '/home/aliman/github/malariagen/malariagen-data-python/results_cache/snp_allele_counts_1/15cd6025febe334c1ccb1672f934d4bd/results.npz'\r\n",
      "removed '/home/aliman/github/malariagen/malariagen-data-python/results_cache/snp_allele_counts_1/15cd6025febe334c1ccb1672f934d4bd/params.json'\r\n",
      "removed directory '/home/aliman/github/malariagen/malariagen-data-python/results_cache/snp_allele_counts_1/15cd6025febe334c1ccb1672f934d4bd'\r\n",
      "removed '/home/aliman/github/malariagen/malariagen-data-python/results_cache/snp_allele_counts_1/6a4d752172f87d43eff481960e942a4f/results.npz'\r\n",
      "removed '/home/aliman/github/malariagen/malariagen-data-python/results_cache/snp_allele_counts_1/6a4d752172f87d43eff481960e942a4f/params.json'\r\n",
      "removed directory '/home/aliman/github/malariagen/malariagen-data-python/results_cache/snp_allele_counts_1/6a4d752172f87d43eff481960e942a4f'\r\n",
      "removed '/home/aliman/github/malariagen/malariagen-data-python/results_cache/snp_allele_counts_1/1e87f7eefefbe7da3ffc9269c1180c94/results.npz'\r\n",
      "removed '/home/aliman/github/malariagen/malariagen-data-python/results_cache/snp_allele_counts_1/1e87f7eefefbe7da3ffc9269c1180c94/params.json'\r\n",
      "removed directory '/home/aliman/github/malariagen/malariagen-data-python/results_cache/snp_allele_counts_1/1e87f7eefefbe7da3ffc9269c1180c94'\r\n",
      "removed '/home/aliman/github/malariagen/malariagen-data-python/results_cache/snp_allele_counts_1/f366ff5ebf703fbf364f0acce372d85a/results.npz'\r\n",
      "removed '/home/aliman/github/malariagen/malariagen-data-python/results_cache/snp_allele_counts_1/f366ff5ebf703fbf364f0acce372d85a/params.json'\r\n",
      "removed directory '/home/aliman/github/malariagen/malariagen-data-python/results_cache/snp_allele_counts_1/f366ff5ebf703fbf364f0acce372d85a'\r\n",
      "removed directory '/home/aliman/github/malariagen/malariagen-data-python/results_cache/snp_allele_counts_1'\r\n",
      "removed '/home/aliman/github/malariagen/malariagen-data-python/results_cache/pca_1/a8b06c5dd2769df151349463d958ccb1/results.npz'\r\n",
      "removed '/home/aliman/github/malariagen/malariagen-data-python/results_cache/pca_1/a8b06c5dd2769df151349463d958ccb1/params.json'\r\n",
      "removed directory '/home/aliman/github/malariagen/malariagen-data-python/results_cache/pca_1/a8b06c5dd2769df151349463d958ccb1'\r\n",
      "removed '/home/aliman/github/malariagen/malariagen-data-python/results_cache/pca_1/3796f1c8a8741873bc3c668831f618ca/results.npz'\r\n",
      "removed '/home/aliman/github/malariagen/malariagen-data-python/results_cache/pca_1/3796f1c8a8741873bc3c668831f618ca/params.json'\r\n",
      "removed directory '/home/aliman/github/malariagen/malariagen-data-python/results_cache/pca_1/3796f1c8a8741873bc3c668831f618ca'\r\n",
      "removed '/home/aliman/github/malariagen/malariagen-data-python/results_cache/pca_1/8cbf44103308b9d7cc7fb33c3531946e/results.npz'\r\n",
      "removed '/home/aliman/github/malariagen/malariagen-data-python/results_cache/pca_1/8cbf44103308b9d7cc7fb33c3531946e/params.json'\r\n",
      "removed directory '/home/aliman/github/malariagen/malariagen-data-python/results_cache/pca_1/8cbf44103308b9d7cc7fb33c3531946e'\r\n",
      "removed directory '/home/aliman/github/malariagen/malariagen-data-python/results_cache/pca_1'\r\n",
      "removed directory '/home/aliman/github/malariagen/malariagen-data-python/results_cache'\r\n"
     ]
    }
   ],
   "source": [
    "!rm -rvf {ag3._results_cache}"
   ]
  },
  {
   "cell_type": "code",
   "execution_count": 4,
   "id": "e5743579",
   "metadata": {},
   "outputs": [
    {
     "name": "stdout",
     "output_type": "stream",
     "text": [
      "[DEBUG] _pca: access SNP calls\n",
      "[DEBUG] _pca: 9,272 variants, 23 samples\n",
      "[DEBUG] _pca: perform allele count\n",
      "[INFO] compute SNP allele counts\n",
      "[########################################] | 100% Completed |  0.1s\n",
      "[DEBUG] results_cache_set: saved snp_allele_counts_1/6a4d752172f87d43eff481960e942a4f\n",
      "[DEBUG] _pca: ascertain sites\n",
      "[DEBUG] _pca: ascertained 58 sites\n",
      "[DEBUG] _pca: thin sites to approximately desired number\n",
      "[DEBUG] _pca: thinned to 58 sites\n",
      "[DEBUG] _pca: access genotypes\n",
      "[INFO] load SNP genotypes\n",
      "[########################################] | 100% Completed |  0.1s\n",
      "[DEBUG] _pca: remove any edge-case variants where all genotypes are identical\n",
      "[DEBUG] _pca: run the PCA\n",
      "[DEBUG] results_cache_set: saved pca_1/8cbf44103308b9d7cc7fb33c3531946e\n"
     ]
    }
   ],
   "source": [
    "df_pca, evr = ag3.pca(\n",
    "    region=\"3L:1,000,000-1,100,000\",\n",
    "    sample_sets=\"AG1000G-FR\",\n",
    "    n_snps=1000,\n",
    ")"
   ]
  },
  {
   "cell_type": "code",
   "execution_count": 5,
   "id": "d77d866b",
   "metadata": {},
   "outputs": [
    {
     "name": "stdout",
     "output_type": "stream",
     "text": [
      "[DEBUG] results_cache_get: loaded snp_allele_counts_1/6a4d752172f87d43eff481960e942a4f\n"
     ]
    },
    {
     "data": {
      "text/plain": [
       "array([[46,  0,  0,  0],\n",
       "       [46,  0,  0,  0],\n",
       "       [46,  0,  0,  0],\n",
       "       ...,\n",
       "       [46,  0,  0,  0],\n",
       "       [46,  0,  0,  0],\n",
       "       [46,  0,  0,  0]], dtype=int32)"
      ]
     },
     "execution_count": 5,
     "metadata": {},
     "output_type": "execute_result"
    }
   ],
   "source": [
    "ac = ag3.snp_allele_counts(\n",
    "    region=\"3L:1,000,000-1,100,000\",\n",
    "    sample_sets=\"AG1000G-FR\",\n",
    "    site_mask=\"gamb_colu_arab\"\n",
    ")\n",
    "ac"
   ]
  },
  {
   "cell_type": "code",
   "execution_count": 6,
   "id": "c179c665",
   "metadata": {},
   "outputs": [
    {
     "name": "stdout",
     "output_type": "stream",
     "text": [
      "[DEBUG] results_cache_get: loaded pca_1/8cbf44103308b9d7cc7fb33c3531946e\n"
     ]
    }
   ],
   "source": [
    "df_pca, evr = ag3.pca(\n",
    "    region=\"3L:1,000,000-1,100,000\",\n",
    "    sample_sets=\"AG1000G-FR\",\n",
    "    n_snps=1000,\n",
    ")"
   ]
  },
  {
   "cell_type": "code",
   "execution_count": 8,
   "id": "74fa12d6",
   "metadata": {},
   "outputs": [
    {
     "name": "stdout",
     "output_type": "stream",
     "text": [
      "[DEBUG] results_cache_get: loaded pca_1/3796f1c8a8741873bc3c668831f618ca\n"
     ]
    }
   ],
   "source": [
    "df_pca, evr = ag3.pca(\n",
    "    region=\"3L:1,000,000-1,200,000\",\n",
    "    sample_sets=\"3.0\",\n",
    "    n_snps=1000,\n",
    ")"
   ]
  },
  {
   "cell_type": "code",
   "execution_count": 9,
   "id": "76aeb677",
   "metadata": {},
   "outputs": [
    {
     "name": "stdout",
     "output_type": "stream",
     "text": [
      "[DEBUG] _pca: access SNP calls\n",
      "[DEBUG] _pca: 155,377 variants, 3,081 samples\n",
      "[DEBUG] _pca: perform allele count\n",
      "[INFO] compute SNP allele counts\n",
      "[########################################] | 100% Completed |  1min 10.6s\n",
      "[DEBUG] results_cache_set: saved snp_allele_counts_1/9ebc784b5519cdce9d43c9be1c69488b\n",
      "[DEBUG] _pca: ascertain sites\n",
      "[DEBUG] _pca: ascertained 15,846 sites\n",
      "[DEBUG] _pca: thin sites to approximately desired number\n",
      "[DEBUG] _pca: thinned to 1,057 sites\n",
      "[DEBUG] _pca: access genotypes\n",
      "[INFO] load SNP genotypes\n",
      "[########################################] | 100% Completed |  0.7s\n",
      "[DEBUG] _pca: remove any edge-case variants where all genotypes are identical\n",
      "[DEBUG] _pca: run the PCA\n",
      "[DEBUG] results_cache_set: saved pca_1/ebbee80e3f1f4007d4ced88084765ae1\n"
     ]
    }
   ],
   "source": [
    "df_pca, evr = ag3.pca(\n",
    "    region=\"3L:2,000,000-2,200,000\",\n",
    "    sample_sets=\"3.0\",\n",
    "    n_snps=1000,\n",
    ")"
   ]
  },
  {
   "cell_type": "code",
   "execution_count": 15,
   "id": "498e48c6",
   "metadata": {},
   "outputs": [
    {
     "data": {
      "text/plain": [
       "Index(['sample_id', 'partner_sample_id', 'contributor', 'country', 'location',\n",
       "       'year', 'month', 'latitude', 'longitude', 'sex_call', 'sample_set',\n",
       "       'release', 'aim_species_fraction_colu', 'aim_species_fraction_arab',\n",
       "       'aim_species_gambcolu_arabiensis', 'aim_species_gambiae_coluzzii',\n",
       "       'aim_species', 'country_iso', 'admin1_name', 'admin1_iso',\n",
       "       'admin2_name', 'taxon', 'cohort_admin1_year', 'cohort_admin1_month',\n",
       "       'cohort_admin2_year', 'cohort_admin2_month', 'pc1', 'pc2', 'pc3', 'pc4',\n",
       "       'pc5', 'pc6', 'pc7', 'pc8', 'pc9', 'pc10', 'pc11', 'pc12', 'pc13',\n",
       "       'pc14', 'pc15', 'pc16', 'pc17', 'pc18', 'pc19', 'pc20'],\n",
       "      dtype='object')"
      ]
     },
     "execution_count": 15,
     "metadata": {},
     "output_type": "execute_result"
    }
   ],
   "source": [
    "df_pca.columns"
   ]
  },
  {
   "cell_type": "code",
   "execution_count": 7,
   "id": "b174cc76",
   "metadata": {},
   "outputs": [
    {
     "data": {
      "text/plain": [
       "array([4.79581892e-01, 2.12980539e-01, 8.22921023e-02, 5.34474887e-02,\n",
       "       4.76087406e-02, 4.61504608e-02, 3.42114829e-02, 2.57538855e-02,\n",
       "       9.20490548e-03, 5.17160119e-03, 3.59694753e-03, 2.09365991e-09,\n",
       "       3.74160181e-16, 1.04561406e-16, 8.33007140e-17, 5.84878632e-17,\n",
       "       1.45061688e-17, 4.45303336e-18, 1.73731565e-18, 9.17408973e-21],\n",
       "      dtype=float32)"
      ]
     },
     "execution_count": 7,
     "metadata": {},
     "output_type": "execute_result"
    }
   ],
   "source": [
    "evr"
   ]
  },
  {
   "cell_type": "code",
   "execution_count": 8,
   "id": "68f2c6d5",
   "metadata": {},
   "outputs": [
    {
     "name": "stdout",
     "output_type": "stream",
     "text": [
      "\u001b[01;34m/home/aliman/github/malariagen/malariagen-data-python/results_cache\u001b[00m\r\n",
      "├── [4.0K]  \u001b[01;34mpca_1\u001b[00m\r\n",
      "│   └── [4.0K]  \u001b[01;34m8cbf44103308b9d7cc7fb33c3531946e\u001b[00m\r\n",
      "│       ├── [ 434]  params.json\r\n",
      "│       └── [2.1K]  results.npz\r\n",
      "└── [4.0K]  \u001b[01;34msnp_allele_counts_1\u001b[00m\r\n",
      "    └── [4.0K]  \u001b[01;34m6a4d752172f87d43eff481960e942a4f\u001b[00m\r\n",
      "        ├── [ 328]  params.json\r\n",
      "        └── [1.1K]  results.npz\r\n",
      "\r\n",
      "4 directories, 4 files\r\n"
     ]
    }
   ],
   "source": [
    "!tree -h {ag3._results_cache}"
   ]
  },
  {
   "cell_type": "code",
   "execution_count": 9,
   "id": "237946d3",
   "metadata": {},
   "outputs": [
    {
     "name": "stdout",
     "output_type": "stream",
     "text": [
      "[INFO] Computing SNP allele counts ...\n",
      "[########################################] | 100% Completed |  0.1s\n"
     ]
    },
    {
     "data": {
      "text/plain": [
       "array([[ 0,  0,  0,  0],\n",
       "       [ 0,  0,  0,  0],\n",
       "       [ 0,  0,  0,  0],\n",
       "       ...,\n",
       "       [46,  0,  0,  0],\n",
       "       [46,  0,  0,  0],\n",
       "       [46,  0,  0,  0]], dtype=int32)"
      ]
     },
     "execution_count": 9,
     "metadata": {},
     "output_type": "execute_result"
    }
   ],
   "source": [
    "ac = ag3.snp_allele_counts(\n",
    "    region=\"3L:1,000,000-1,100,000\",\n",
    "    sample_sets=\"AG1000G-FR\",\n",
    ")\n",
    "ac"
   ]
  },
  {
   "cell_type": "code",
   "execution_count": 10,
   "id": "a9350906",
   "metadata": {},
   "outputs": [
    {
     "name": "stdout",
     "output_type": "stream",
     "text": [
      "\u001b[01;34m/home/aliman/github/malariagen/malariagen-data-python/results_cache\u001b[00m\r\n",
      "├── [4.0K]  \u001b[01;34mpca_1\u001b[00m\r\n",
      "│   └── [4.0K]  \u001b[01;34m8cbf44103308b9d7cc7fb33c3531946e\u001b[00m\r\n",
      "│       ├── [ 434]  params.json\r\n",
      "│       └── [2.1K]  results.npz\r\n",
      "└── [4.0K]  \u001b[01;34msnp_allele_counts_1\u001b[00m\r\n",
      "    ├── [4.0K]  \u001b[01;34m6a4d752172f87d43eff481960e942a4f\u001b[00m\r\n",
      "    │   ├── [ 328]  params.json\r\n",
      "    │   └── [1.1K]  results.npz\r\n",
      "    └── [4.0K]  \u001b[01;34mfa71fe2c4c9b20b0f5aa155fa4b054bb\u001b[00m\r\n",
      "        ├── [ 316]  params.json\r\n",
      "        └── [ 35K]  results.npz\r\n",
      "\r\n",
      "5 directories, 6 files\r\n"
     ]
    }
   ],
   "source": [
    "!tree -h {ag3._results_cache}"
   ]
  },
  {
   "cell_type": "code",
   "execution_count": 11,
   "id": "c382e290",
   "metadata": {},
   "outputs": [
    {
     "name": "stdout",
     "output_type": "stream",
     "text": [
      "{\r\n",
      "    \"cohorts_analysis\": \"20211101\",\r\n",
      "    \"region\": {\r\n",
      "        \"contig\": \"3L\",\r\n",
      "        \"end\": 1100000,\r\n",
      "        \"start\": 1000000\r\n",
      "    },\r\n",
      "    \"sample_query\": null,\r\n",
      "    \"sample_sets\": [\r\n",
      "        \"AG1000G-FR\"\r\n",
      "    ],\r\n",
      "    \"site_filters_analysis\": \"dt_20200416\",\r\n",
      "    \"site_mask\": \"gamb_colu_arab\",\r\n",
      "    \"species_analysis\": \"aim_20200422\"\r\n",
      "}"
     ]
    }
   ],
   "source": [
    "!cat ../results_cache/snp_allele_counts_1/6a4d752172f87d43eff481960e942a4f/params.json"
   ]
  },
  {
   "cell_type": "code",
   "execution_count": 12,
   "id": "31150d4d",
   "metadata": {},
   "outputs": [
    {
     "name": "stdout",
     "output_type": "stream",
     "text": [
      "{\r\n",
      "    \"cohorts_analysis\": \"20211101\",\r\n",
      "    \"region\": {\r\n",
      "        \"contig\": \"3L\",\r\n",
      "        \"end\": 1100000,\r\n",
      "        \"start\": 1000000\r\n",
      "    },\r\n",
      "    \"sample_query\": null,\r\n",
      "    \"sample_sets\": [\r\n",
      "        \"AG1000G-FR\"\r\n",
      "    ],\r\n",
      "    \"site_filters_analysis\": \"dt_20200416\",\r\n",
      "    \"site_mask\": null,\r\n",
      "    \"species_analysis\": \"aim_20200422\"\r\n",
      "}"
     ]
    }
   ],
   "source": [
    "!cat ../results_cache/snp_allele_counts_1/fa71fe2c4c9b20b0f5aa155fa4b054bb/params.json"
   ]
  },
  {
   "cell_type": "code",
   "execution_count": 7,
   "id": "04e1ff8c",
   "metadata": {},
   "outputs": [
    {
     "data": {
      "text/plain": [
       "array([[ 0,  0,  0,  0],\n",
       "       [ 0,  0,  0,  0],\n",
       "       [ 0,  0,  0,  0],\n",
       "       ...,\n",
       "       [46,  0,  0,  0],\n",
       "       [46,  0,  0,  0],\n",
       "       [46,  0,  0,  0]], dtype=int32)"
      ]
     },
     "execution_count": 7,
     "metadata": {},
     "output_type": "execute_result"
    }
   ],
   "source": [
    "ac = ag3.snp_allele_counts(\n",
    "    region=\"3L:1,000,000-1,100,000\",\n",
    "    sample_sets=\"AG1000G-FR\",\n",
    ")\n",
    "ac"
   ]
  },
  {
   "cell_type": "code",
   "execution_count": 8,
   "id": "e3adb07b",
   "metadata": {},
   "outputs": [
    {
     "name": "stdout",
     "output_type": "stream",
     "text": [
      "{\r\n",
      "    \"cohorts_analysis\": \"20211101\",\r\n",
      "    \"region\": {\r\n",
      "        \"contig\": \"3L\",\r\n",
      "        \"end\": 1100000,\r\n",
      "        \"start\": 1000000\r\n",
      "    },\r\n",
      "    \"sample_query\": null,\r\n",
      "    \"sample_sets\": [\r\n",
      "        \"AG1000G-FR\"\r\n",
      "    ],\r\n",
      "    \"site_filters_analysis\": \"dt_20200416\",\r\n",
      "    \"site_mask\": null,\r\n",
      "    \"species_analysis\": \"aim_20200422\"\r\n",
      "}"
     ]
    }
   ],
   "source": [
    "!cat {ag3._results_cache}/snp_allele_counts_1/fa71fe2c4c9b20b0f5aa155fa4b054bb/params.json"
   ]
  },
  {
   "cell_type": "code",
   "execution_count": 9,
   "id": "57ea2511",
   "metadata": {},
   "outputs": [
    {
     "name": "stdout",
     "output_type": "stream",
     "text": [
      "[INFO] Computing SNP allele counts ...\n",
      "[########################################] | 100% Completed |  0.3s\n"
     ]
    },
    {
     "data": {
      "text/plain": [
       "array([[  48,    0,  174,    0],\n",
       "       [ 793,    1,    0,    0],\n",
       "       [ 972,    0,    2,    0],\n",
       "       ...,\n",
       "       [6112,    0,    0,    0],\n",
       "       [6112,    0,    0,    0],\n",
       "       [6112,    0,    0,    0]], dtype=int32)"
      ]
     },
     "execution_count": 9,
     "metadata": {},
     "output_type": "execute_result"
    }
   ],
   "source": [
    "ac = ag3.snp_allele_counts(\n",
    "    region=\"3L:1,000,000-1,010,000\",\n",
    "    sample_sets=\"3.0\",\n",
    ")\n",
    "ac"
   ]
  },
  {
   "cell_type": "code",
   "execution_count": 10,
   "id": "2ee2713f",
   "metadata": {},
   "outputs": [
    {
     "name": "stdout",
     "output_type": "stream",
     "text": [
      "\u001b[01;34m/home/aliman/github/malariagen/malariagen-data-python/results_cache\u001b[00m\r\n",
      "└── [4.0K]  \u001b[01;34msnp_allele_counts_1\u001b[00m\r\n",
      "    ├── [4.0K]  \u001b[01;34m45e473a9572a9fda004d0e7f85b13f2b\u001b[00m\r\n",
      "    │   ├── [ 937]  params.json\r\n",
      "    │   └── [ 36K]  results.npz\r\n",
      "    └── [4.0K]  \u001b[01;34mfa71fe2c4c9b20b0f5aa155fa4b054bb\u001b[00m\r\n",
      "        ├── [ 316]  params.json\r\n",
      "        └── [ 35K]  results.npz\r\n",
      "\r\n",
      "3 directories, 4 files\r\n"
     ]
    }
   ],
   "source": [
    "!tree -h {ag3._results_cache}"
   ]
  },
  {
   "cell_type": "code",
   "execution_count": 11,
   "id": "75e2bb1d",
   "metadata": {},
   "outputs": [
    {
     "name": "stdout",
     "output_type": "stream",
     "text": [
      "{\r\n",
      "    \"cohorts_analysis\": \"20211101\",\r\n",
      "    \"region\": {\r\n",
      "        \"contig\": \"3L\",\r\n",
      "        \"end\": 1010000,\r\n",
      "        \"start\": 1000000\r\n",
      "    },\r\n",
      "    \"sample_query\": null,\r\n",
      "    \"sample_sets\": [\r\n",
      "        \"AG1000G-AO\",\r\n",
      "        \"AG1000G-BF-A\",\r\n",
      "        \"AG1000G-BF-B\",\r\n",
      "        \"AG1000G-BF-C\",\r\n",
      "        \"AG1000G-CD\",\r\n",
      "        \"AG1000G-CF\",\r\n",
      "        \"AG1000G-CI\",\r\n",
      "        \"AG1000G-CM-A\",\r\n",
      "        \"AG1000G-CM-B\",\r\n",
      "        \"AG1000G-CM-C\",\r\n",
      "        \"AG1000G-FR\",\r\n",
      "        \"AG1000G-GA-A\",\r\n",
      "        \"AG1000G-GH\",\r\n",
      "        \"AG1000G-GM-A\",\r\n",
      "        \"AG1000G-GM-B\",\r\n",
      "        \"AG1000G-GM-C\",\r\n",
      "        \"AG1000G-GN-A\",\r\n",
      "        \"AG1000G-GN-B\",\r\n",
      "        \"AG1000G-GQ\",\r\n",
      "        \"AG1000G-GW\",\r\n",
      "        \"AG1000G-KE\",\r\n",
      "        \"AG1000G-ML-A\",\r\n",
      "        \"AG1000G-ML-B\",\r\n",
      "        \"AG1000G-MW\",\r\n",
      "        \"AG1000G-MZ\",\r\n",
      "        \"AG1000G-TZ\",\r\n",
      "        \"AG1000G-UG\",\r\n",
      "        \"AG1000G-X\"\r\n",
      "    ],\r\n",
      "    \"site_filters_analysis\": \"dt_20200416\",\r\n",
      "    \"site_mask\": null,\r\n",
      "    \"species_analysis\": \"aim_20200422\"\r\n",
      "}"
     ]
    }
   ],
   "source": [
    "!cat {ag3._results_cache}/snp_allele_counts_1/45e473a9572a9fda004d0e7f85b13f2b/params.json"
   ]
  },
  {
   "cell_type": "code",
   "execution_count": 12,
   "id": "628ef689",
   "metadata": {},
   "outputs": [
    {
     "data": {
      "text/plain": [
       "array([[  48,    0,  174,    0],\n",
       "       [ 793,    1,    0,    0],\n",
       "       [ 972,    0,    2,    0],\n",
       "       ...,\n",
       "       [6112,    0,    0,    0],\n",
       "       [6112,    0,    0,    0],\n",
       "       [6112,    0,    0,    0]], dtype=int32)"
      ]
     },
     "execution_count": 12,
     "metadata": {},
     "output_type": "execute_result"
    }
   ],
   "source": [
    "ac = ag3.snp_allele_counts(\n",
    "    region=\"3L:1,000,000-1,010,000\",\n",
    "    sample_sets=\"3.0\",\n",
    ")\n",
    "ac"
   ]
  },
  {
   "cell_type": "code",
   "execution_count": 16,
   "id": "11986122",
   "metadata": {},
   "outputs": [],
   "source": [
    "import logging"
   ]
  },
  {
   "cell_type": "code",
   "execution_count": 20,
   "id": "1ba74187",
   "metadata": {},
   "outputs": [
    {
     "data": {
      "text/plain": [
       "40"
      ]
     },
     "execution_count": 20,
     "metadata": {},
     "output_type": "execute_result"
    }
   ],
   "source": [
    "logging.ERROR"
   ]
  }
 ],
 "metadata": {
  "kernelspec": {
   "display_name": "Python 3 (ipykernel)",
   "language": "python",
   "name": "python3"
  },
  "language_info": {
   "codemirror_mode": {
    "name": "ipython",
    "version": 3
   },
   "file_extension": ".py",
   "mimetype": "text/x-python",
   "name": "python",
   "nbconvert_exporter": "python",
   "pygments_lexer": "ipython3",
   "version": "3.7.13"
  }
 },
 "nbformat": 4,
 "nbformat_minor": 5
}
