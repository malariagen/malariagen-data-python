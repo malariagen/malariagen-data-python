{
 "cells": [
  {
   "cell_type": "code",
   "execution_count": null,
   "id": "29e2e4a7",
   "metadata": {},
   "outputs": [],
   "source": [
    "import malariagen_data\n",
    "\n",
    "ag3 = malariagen_data.Ag3(\n",
    "    \"simplecache::gs://vo_agam_release\",\n",
    "    simplecache=dict(cache_storage=\"../gcs_cache\"),\n",
    ")\n",
    "ag3"
   ]
  },
  {
   "cell_type": "code",
   "execution_count": null,
   "id": "a751077f",
   "metadata": {},
   "outputs": [],
   "source": [
    "import malariagen_data\n",
    "\n",
    "af1 = malariagen_data.Af1(\n",
    "    \"simplecache::gs://vo_afun_release\",\n",
    "    simplecache=dict(cache_storage=\"../gcs_cache\"),\n",
    ")\n",
    "af1"
   ]
  },
  {
   "cell_type": "code",
   "execution_count": null,
   "id": "4b2bb835",
   "metadata": {},
   "outputs": [],
   "source": [
    "ag3.plot_roh(\n",
    "    sample=\"AK0050-C\",\n",
    "    region=\"3R\",\n",
    "    site_mask=\"gamb_colu\",\n",
    "    window_size=20_000,\n",
    ")"
   ]
  },
  {
   "cell_type": "code",
   "execution_count": null,
   "id": "ac466ddf",
   "metadata": {},
   "outputs": [],
   "source": [
    "ag3.plot_roh(\n",
    "    sample=\"AK0050-C\",\n",
    "    region=\"3R\",\n",
    "    site_mask=\"gamb_colu\",\n",
    "    window_size=10_000,\n",
    ")"
   ]
  },
  {
   "cell_type": "code",
   "execution_count": null,
   "id": "522b2a30",
   "metadata": {},
   "outputs": [],
   "source": [
    "ag3.plot_roh(\n",
    "    sample=\"AB0085-Cx\",\n",
    "    region=\"3R\",\n",
    "    site_mask=\"gamb_colu\",\n",
    "    window_size=10_000,\n",
    ")"
   ]
  },
  {
   "cell_type": "code",
   "execution_count": null,
   "id": "10aff683",
   "metadata": {},
   "outputs": [],
   "source": [
    "ag3.plot_roh(\n",
    "    sample=\"AD0305-C\",\n",
    "    region=\"3R\",\n",
    "    site_mask=\"gamb_colu\",\n",
    "    window_size=10_000,\n",
    ")"
   ]
  },
  {
   "cell_type": "code",
   "execution_count": null,
   "id": "0c66bd85",
   "metadata": {},
   "outputs": [],
   "source": [
    "ag3.sample_metadata(sample_query=\"country == 'Burkina Faso'\").head()"
   ]
  },
  {
   "cell_type": "code",
   "execution_count": null,
   "id": "a8fc0887",
   "metadata": {},
   "outputs": [],
   "source": [
    "ag3.plot_heterozygosity(\n",
    "    sample=\"AB0085-Cx\",\n",
    "    region=\"3R\",\n",
    ")"
   ]
  },
  {
   "cell_type": "code",
   "execution_count": null,
   "id": "e564c19b",
   "metadata": {},
   "outputs": [],
   "source": [
    "ag3.plot_heterozygosity(\n",
    "    sample=[\"AB0086-Cx\", \"AB0087-C\"],\n",
    "    region=\"3R\",\n",
    "    site_mask=\"gamb_colu\",\n",
    "    window_size=30_000,\n",
    ")"
   ]
  },
  {
   "cell_type": "code",
   "execution_count": null,
   "id": "c0202112",
   "metadata": {},
   "outputs": [],
   "source": [
    "af1.sample_metadata()"
   ]
  },
  {
   "cell_type": "code",
   "execution_count": null,
   "id": "3ebba22a",
   "metadata": {},
   "outputs": [],
   "source": [
    "af1.plot_heterozygosity(\n",
    "    sample=\"VBS24195\",\n",
    "    region=\"3RL\",\n",
    ")"
   ]
  },
  {
   "cell_type": "code",
   "execution_count": null,
   "id": "df452208",
   "metadata": {},
   "outputs": [],
   "source": [
    "af1.plot_heterozygosity(\n",
    "    sample=[\"VBS24199\", \"VBS24539\"],\n",
    "    region=\"3RL\",\n",
    "    site_mask=\"funestus\",\n",
    "    window_size=30_000,\n",
    ")"
   ]
  },
  {
   "cell_type": "code",
   "execution_count": null,
   "id": "af3bf25f",
   "metadata": {},
   "outputs": [],
   "source": []
  }
 ],
 "metadata": {
  "kernelspec": {
   "display_name": "Python 3 (ipykernel)",
   "language": "python",
   "name": "python3"
  },
  "language_info": {
   "codemirror_mode": {
    "name": "ipython",
    "version": 3
   },
   "file_extension": ".py",
   "mimetype": "text/x-python",
   "name": "python",
   "nbconvert_exporter": "python",
   "pygments_lexer": "ipython3",
   "version": "3.8.16"
  }
 },
 "nbformat": 4,
 "nbformat_minor": 5
}
