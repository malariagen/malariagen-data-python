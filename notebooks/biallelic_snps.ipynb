{
 "cells": [
  {
   "cell_type": "code",
   "execution_count": null,
   "id": "890ed13a-3e8e-4fd6-b0cb-464e31ab5f64",
   "metadata": {},
   "outputs": [],
   "source": [
    "import malariagen_data\n",
    "\n",
    "ag3 = malariagen_data.Ag3(\n",
    "    \"simplecache::gs://vo_agam_release_master_us_central1\",\n",
    "    simplecache=dict(cache_storage=\"../gcs_cache\"),\n",
    "    results_cache=\"results_cache\",\n",
    ")\n",
    "ag3"
   ]
  },
  {
   "cell_type": "code",
   "execution_count": null,
   "id": "42ecae20-46b7-4218-a37c-e96df62241fb",
   "metadata": {},
   "outputs": [],
   "source": [
    "ds = ag3.snp_calls(region=\"3L\", sample_sets=\"AG1000G-BF-A\")\n",
    "ds"
   ]
  },
  {
   "cell_type": "code",
   "execution_count": null,
   "id": "9151e470-bdbe-4eee-902c-6178b5f6b62f",
   "metadata": {},
   "outputs": [],
   "source": [
    "ds[\"variant_allele\"]"
   ]
  },
  {
   "cell_type": "code",
   "execution_count": null,
   "id": "9cb9bfcb-19b5-40e1-bd2b-11a8c2247af3",
   "metadata": {},
   "outputs": [],
   "source": [
    "ds[\"variant_allele\"].values"
   ]
  },
  {
   "cell_type": "code",
   "execution_count": null,
   "id": "489c3941-1ae6-4954-ae48-585823b46649",
   "metadata": {},
   "outputs": [],
   "source": [
    "%%time\n",
    "ds_bi = ag3.biallelic_snp_calls(\n",
    "    region=\"3L\",\n",
    "    sample_sets=\"AG1000G-BF-A\",\n",
    "    chunks=\"300MiB\",\n",
    ")\n",
    "ds_bi"
   ]
  },
  {
   "cell_type": "code",
   "execution_count": null,
   "id": "8b024a95-6f9d-4371-95bb-eb6887481a6a",
   "metadata": {},
   "outputs": [],
   "source": [
    "ds_bi[\"variant_allele\"]"
   ]
  },
  {
   "cell_type": "code",
   "execution_count": null,
   "id": "787973c4-1974-4c8e-8b57-e82b4ea90e6a",
   "metadata": {},
   "outputs": [],
   "source": [
    "%%time\n",
    "ds_bi[\"variant_allele\"].values"
   ]
  },
  {
   "cell_type": "code",
   "execution_count": null,
   "id": "34dfc71b-4e81-4083-8c8a-c08d712e2fa3",
   "metadata": {},
   "outputs": [],
   "source": [
    "ds_bi[\"variant_allele_count\"]"
   ]
  },
  {
   "cell_type": "code",
   "execution_count": null,
   "id": "8781008d-966c-46c4-83dc-31d03a9da7ad",
   "metadata": {},
   "outputs": [],
   "source": [
    "ds_bi[\"variant_allele_count\"].data"
   ]
  },
  {
   "cell_type": "code",
   "execution_count": null,
   "id": "29e17deb-830f-4f5a-9e5f-4707a6041743",
   "metadata": {},
   "outputs": [],
   "source": [
    "%%time\n",
    "ds_bi[\"variant_allele_count\"].values"
   ]
  },
  {
   "cell_type": "code",
   "execution_count": null,
   "id": "42afc05c-045e-47c8-925a-9df3676ad0fc",
   "metadata": {},
   "outputs": [],
   "source": [
    "ds_bi[\"call_genotype\"]"
   ]
  },
  {
   "cell_type": "code",
   "execution_count": null,
   "id": "c419ef30-504f-4e8b-8b77-6b15fa29ccb5",
   "metadata": {},
   "outputs": [],
   "source": [
    "%%time\n",
    "ds[\"call_genotype\"][:100_000].values;"
   ]
  },
  {
   "cell_type": "code",
   "execution_count": null,
   "id": "489878b8-eb77-41b8-8b1d-cf6f5035877d",
   "metadata": {},
   "outputs": [],
   "source": [
    "%%time\n",
    "ds_bi[\"call_genotype\"][:100_000].values;"
   ]
  },
  {
   "cell_type": "code",
   "execution_count": null,
   "id": "f6be6ddb-4862-4164-81f1-314712fb1aa8",
   "metadata": {},
   "outputs": [],
   "source": [
    "ds_bi"
   ]
  },
  {
   "cell_type": "code",
   "execution_count": null,
   "id": "ef087212-fef9-45da-a797-00be884887a2",
   "metadata": {},
   "outputs": [],
   "source": [
    "%%time\n",
    "ds_bi2 = ag3.biallelic_snp_calls(\n",
    "    region=\"3L\",\n",
    "    sample_sets=\"AG1000G-BF-A\",\n",
    "    max_missing_an=50,\n",
    "    min_minor_ac=1,\n",
    "    chunks=\"300MiB\",\n",
    ")\n",
    "ds_bi2"
   ]
  },
  {
   "cell_type": "code",
   "execution_count": null,
   "id": "52d0e6c9-b994-4dd9-91b6-00c58af1ee3b",
   "metadata": {},
   "outputs": [],
   "source": [
    "ds_bi2[\"call_genotype\"]"
   ]
  },
  {
   "cell_type": "code",
   "execution_count": null,
   "id": "b8b26acb-c6c5-4c92-9831-a8a276c952f3",
   "metadata": {},
   "outputs": [],
   "source": [
    "%%time\n",
    "ds_bi2[\"call_genotype\"][:100_000].values;"
   ]
  },
  {
   "cell_type": "code",
   "execution_count": null,
   "id": "87cdfec5-ca1e-4139-91fa-93506a112b1a",
   "metadata": {},
   "outputs": [],
   "source": [
    "%%time\n",
    "ds_bi3 = ag3.biallelic_snp_calls(\n",
    "    region=\"3L\",\n",
    "    sample_sets=\"AG1000G-BF-A\",\n",
    "    max_missing_an=50,\n",
    "    min_minor_ac=1,\n",
    "    n_snps=100_000,\n",
    "    chunks=\"300MiB\",\n",
    ")\n",
    "ds_bi3"
   ]
  },
  {
   "cell_type": "code",
   "execution_count": null,
   "id": "447b3cc9-e3ab-4baf-a719-07bed9e69e62",
   "metadata": {},
   "outputs": [],
   "source": [
    "ds_bi4 = ag3.biallelic_snp_calls(\n",
    "    region=\"3L\",\n",
    "    sample_sets=[\"AG1000G-BF-A\", \"AG1000G-FR\"],\n",
    "    max_missing_an=0,\n",
    "    min_minor_ac=204,\n",
    "    chunks=\"1KB\",\n",
    ")\n",
    "ds_bi4"
   ]
  },
  {
   "cell_type": "code",
   "execution_count": null,
   "id": "628dccca-718a-4592-8463-5bd181fa35af",
   "metadata": {},
   "outputs": [],
   "source": [
    "ds_bi4[\"variant_allele_count\"].chunks"
   ]
  },
  {
   "cell_type": "code",
   "execution_count": null,
   "id": "7fbc437a-e136-4092-b875-a5f21733d19f",
   "metadata": {},
   "outputs": [],
   "source": [
    "ds_bi4[\"variant_allele\"].chunks"
   ]
  },
  {
   "cell_type": "code",
   "execution_count": null,
   "id": "1c5477c2-9029-4b01-bb30-c0cc57ba11e9",
   "metadata": {},
   "outputs": [],
   "source": [
    "ds_bi4[\"call_genotype\"].chunks"
   ]
  },
  {
   "cell_type": "code",
   "execution_count": null,
   "id": "85331284-f1e8-4c27-9c90-bc20c738819d",
   "metadata": {},
   "outputs": [],
   "source": [
    "ds_bi4[\"variant_allele_count\"].values"
   ]
  },
  {
   "cell_type": "code",
   "execution_count": null,
   "id": "1f029fa3-5516-4327-b8d0-32e2a9e3e10b",
   "metadata": {},
   "outputs": [],
   "source": [
    "ds_bi4[\"variant_allele\"].values"
   ]
  },
  {
   "cell_type": "code",
   "execution_count": null,
   "id": "7560e04a-1166-468c-a000-1c5f6ea6d04c",
   "metadata": {},
   "outputs": [],
   "source": [
    "ds_bi4[\"call_genotype\"].values"
   ]
  },
  {
   "cell_type": "code",
   "execution_count": null,
   "id": "394555a1-62a4-4a7d-b698-85fde0697303",
   "metadata": {},
   "outputs": [],
   "source": []
  }
 ],
 "metadata": {
  "kernelspec": {
   "display_name": "Python 3 (ipykernel)",
   "language": "python",
   "name": "python3"
  },
  "language_info": {
   "codemirror_mode": {
    "name": "ipython",
    "version": 3
   },
   "file_extension": ".py",
   "mimetype": "text/x-python",
   "name": "python",
   "nbconvert_exporter": "python",
   "pygments_lexer": "ipython3",
   "version": "3.10.12"
  },
  "widgets": {
   "application/vnd.jupyter.widget-state+json": {
    "state": {
     "010e48ec083043d9990f323d7c98d8be": {
      "model_module": "@jupyter-widgets/controls",
      "model_module_version": "2.0.0",
      "model_name": "HTMLModel",
      "state": {
       "layout": "IPY_MODEL_9fb2dfffed824c048b4efc8bbf30f8a5",
       "style": "IPY_MODEL_ff2638cd4af44b69b671c8bcabf7be07",
       "value": "Compute SNP allele counts: 100%"
      }
     },
     "0883f219ed4e4aa884a851a46293427f": {
      "model_module": "@jupyter-widgets/controls",
      "model_module_version": "2.0.0",
      "model_name": "ProgressStyleModel",
      "state": {
       "description_width": ""
      }
     },
     "1ca5ce80eb61435fbae9b6b51fe1d467": {
      "model_module": "@jupyter-widgets/controls",
      "model_module_version": "2.0.0",
      "model_name": "ProgressStyleModel",
      "state": {
       "description_width": ""
      }
     },
     "27c5782c5687493d9cdb086340636ace": {
      "model_module": "@jupyter-widgets/controls",
      "model_module_version": "2.0.0",
      "model_name": "HTMLModel",
      "state": {
       "layout": "IPY_MODEL_dccd36d132f44e19adba293dda53651f",
       "style": "IPY_MODEL_b062ea693c0b4a8c8c28d9ef88e5208c",
       "value": "Compute SNP allele counts: 100%"
      }
     },
     "29880c19a0a54b29aaf8c69f8fbeb4f2": {
      "model_module": "@jupyter-widgets/controls",
      "model_module_version": "2.0.0",
      "model_name": "HTMLModel",
      "state": {
       "layout": "IPY_MODEL_8e60ef0c71274288981ab2e30fbe578c",
       "style": "IPY_MODEL_e9762172d2784dcfabd2624bdc88b2d8",
       "value": "Compute SNP allele counts:  99%"
      }
     },
     "3297835369714bd799ffaf935d130e86": {
      "model_module": "@jupyter-widgets/base",
      "model_module_version": "2.0.0",
      "model_name": "LayoutModel",
      "state": {}
     },
     "3c49aca5a190415aa598414efca16ed5": {
      "model_module": "@jupyter-widgets/base",
      "model_module_version": "2.0.0",
      "model_name": "LayoutModel",
      "state": {
       "visibility": "hidden"
      }
     },
     "4fc786e0f36a4578a19e53d5d887783a": {
      "model_module": "@jupyter-widgets/controls",
      "model_module_version": "2.0.0",
      "model_name": "ProgressStyleModel",
      "state": {
       "description_width": ""
      }
     },
     "525da9d0b75f4d1099593100225278ab": {
      "model_module": "@jupyter-widgets/controls",
      "model_module_version": "2.0.0",
      "model_name": "HTMLStyleModel",
      "state": {
       "description_width": "",
       "font_size": null,
       "text_color": null
      }
     },
     "604a3c9559544fe2ac1a985866971989": {
      "model_module": "@jupyter-widgets/base",
      "model_module_version": "2.0.0",
      "model_name": "LayoutModel",
      "state": {}
     },
     "60fd3faf03f347028399838ea65be771": {
      "model_module": "@jupyter-widgets/controls",
      "model_module_version": "2.0.0",
      "model_name": "HTMLStyleModel",
      "state": {
       "description_width": "",
       "font_size": null,
       "text_color": null
      }
     },
     "63ff74f08c0b4da389ead394b1ddaa48": {
      "model_module": "@jupyter-widgets/controls",
      "model_module_version": "2.0.0",
      "model_name": "HTMLModel",
      "state": {
       "layout": "IPY_MODEL_e7a386cf8ac642d5ba48a5586223984f",
       "style": "IPY_MODEL_525da9d0b75f4d1099593100225278ab",
       "value": " 1/27 [00:00&lt;00:07,  3.42it/s]"
      }
     },
     "7dd409446fd141749afb78caab1e5294": {
      "model_module": "@jupyter-widgets/controls",
      "model_module_version": "2.0.0",
      "model_name": "HTMLModel",
      "state": {
       "layout": "IPY_MODEL_e2617e2b35bf45fd96621da0d34aba73",
       "style": "IPY_MODEL_60fd3faf03f347028399838ea65be771",
       "value": "Compute SNP allele counts:   4%"
      }
     },
     "8e60ef0c71274288981ab2e30fbe578c": {
      "model_module": "@jupyter-widgets/base",
      "model_module_version": "2.0.0",
      "model_name": "LayoutModel",
      "state": {}
     },
     "961a84989d7c4b13a5f200dc5aca410e": {
      "model_module": "@jupyter-widgets/base",
      "model_module_version": "2.0.0",
      "model_name": "LayoutModel",
      "state": {}
     },
     "965deb49135c4d33aeb3e12797503177": {
      "model_module": "@jupyter-widgets/base",
      "model_module_version": "2.0.0",
      "model_name": "LayoutModel",
      "state": {
       "visibility": "hidden"
      }
     },
     "97af2238033849418d0401d4b4e54c14": {
      "model_module": "@jupyter-widgets/base",
      "model_module_version": "2.0.0",
      "model_name": "LayoutModel",
      "state": {}
     },
     "9f1716e1551f4bc797d8e9e8e795526f": {
      "model_module": "@jupyter-widgets/controls",
      "model_module_version": "2.0.0",
      "model_name": "ProgressStyleModel",
      "state": {
       "description_width": ""
      }
     },
     "9fb2dfffed824c048b4efc8bbf30f8a5": {
      "model_module": "@jupyter-widgets/base",
      "model_module_version": "2.0.0",
      "model_name": "LayoutModel",
      "state": {}
     },
     "9fd2aa35ba084ce4865f71cc35c1617a": {
      "model_module": "@jupyter-widgets/base",
      "model_module_version": "2.0.0",
      "model_name": "LayoutModel",
      "state": {
       "visibility": "hidden"
      }
     },
     "a2602f9f801945e8bd3f88372b351ffc": {
      "model_module": "@jupyter-widgets/controls",
      "model_module_version": "2.0.0",
      "model_name": "HTMLModel",
      "state": {
       "layout": "IPY_MODEL_b258750c7db94dd3b9daba8fe4e3c52c",
       "style": "IPY_MODEL_b0a835e4b87d4bcd8f2a7b01814aa082",
       "value": " 1627/1632 [00:21&lt;00:00, 45.37it/s]"
      }
     },
     "a9d0557f76524072b59a8b2561872e8f": {
      "model_module": "@jupyter-widgets/base",
      "model_module_version": "2.0.0",
      "model_name": "LayoutModel",
      "state": {
       "visibility": "hidden"
      }
     },
     "b062ea693c0b4a8c8c28d9ef88e5208c": {
      "model_module": "@jupyter-widgets/controls",
      "model_module_version": "2.0.0",
      "model_name": "HTMLStyleModel",
      "state": {
       "description_width": "",
       "font_size": null,
       "text_color": null
      }
     },
     "b0a835e4b87d4bcd8f2a7b01814aa082": {
      "model_module": "@jupyter-widgets/controls",
      "model_module_version": "2.0.0",
      "model_name": "HTMLStyleModel",
      "state": {
       "description_width": "",
       "font_size": null,
       "text_color": null
      }
     },
     "b258750c7db94dd3b9daba8fe4e3c52c": {
      "model_module": "@jupyter-widgets/base",
      "model_module_version": "2.0.0",
      "model_name": "LayoutModel",
      "state": {}
     },
     "bc1c2d02dc5a411f889593f9b1d9422c": {
      "model_module": "@jupyter-widgets/controls",
      "model_module_version": "2.0.0",
      "model_name": "HTMLStyleModel",
      "state": {
       "description_width": "",
       "font_size": null,
       "text_color": null
      }
     },
     "be729089b190406cae752800b9c58aeb": {
      "model_module": "@jupyter-widgets/controls",
      "model_module_version": "2.0.0",
      "model_name": "HTMLModel",
      "state": {
       "layout": "IPY_MODEL_3297835369714bd799ffaf935d130e86",
       "style": "IPY_MODEL_bc1c2d02dc5a411f889593f9b1d9422c",
       "value": " 36/36 [00:01&lt;00:00, 18.91it/s]"
      }
     },
     "cdf5f1aac7e249b18f430e968283b6bb": {
      "model_module": "@jupyter-widgets/controls",
      "model_module_version": "2.0.0",
      "model_name": "FloatProgressModel",
      "state": {
       "layout": "IPY_MODEL_604a3c9559544fe2ac1a985866971989",
       "max": 36,
       "style": "IPY_MODEL_0883f219ed4e4aa884a851a46293427f",
       "value": 36
      }
     },
     "d1d6378f4fb64927aedc5b6b6db6a7b9": {
      "model_module": "@jupyter-widgets/base",
      "model_module_version": "2.0.0",
      "model_name": "LayoutModel",
      "state": {}
     },
     "d666cf65de91402c9c149a09b6a24f9a": {
      "model_module": "@jupyter-widgets/base",
      "model_module_version": "2.0.0",
      "model_name": "LayoutModel",
      "state": {}
     },
     "d6fd06bf4bc44aec8bef56d4431b5343": {
      "model_module": "@jupyter-widgets/controls",
      "model_module_version": "2.0.0",
      "model_name": "FloatProgressModel",
      "state": {
       "layout": "IPY_MODEL_d1d6378f4fb64927aedc5b6b6db6a7b9",
       "max": 1632,
       "style": "IPY_MODEL_9f1716e1551f4bc797d8e9e8e795526f",
       "value": 1632
      }
     },
     "d7033b7301744cd98e3630e2289d7f95": {
      "model_module": "@jupyter-widgets/controls",
      "model_module_version": "2.0.0",
      "model_name": "HTMLStyleModel",
      "state": {
       "description_width": "",
       "font_size": null,
       "text_color": null
      }
     },
     "dccd36d132f44e19adba293dda53651f": {
      "model_module": "@jupyter-widgets/base",
      "model_module_version": "2.0.0",
      "model_name": "LayoutModel",
      "state": {}
     },
     "e2617e2b35bf45fd96621da0d34aba73": {
      "model_module": "@jupyter-widgets/base",
      "model_module_version": "2.0.0",
      "model_name": "LayoutModel",
      "state": {}
     },
     "e7a386cf8ac642d5ba48a5586223984f": {
      "model_module": "@jupyter-widgets/base",
      "model_module_version": "2.0.0",
      "model_name": "LayoutModel",
      "state": {}
     },
     "e9762172d2784dcfabd2624bdc88b2d8": {
      "model_module": "@jupyter-widgets/controls",
      "model_module_version": "2.0.0",
      "model_name": "HTMLStyleModel",
      "state": {
       "description_width": "",
       "font_size": null,
       "text_color": null
      }
     },
     "eb42ae8fe3f34bec98d1e72010610025": {
      "model_module": "@jupyter-widgets/controls",
      "model_module_version": "2.0.0",
      "model_name": "FloatProgressModel",
      "state": {
       "layout": "IPY_MODEL_961a84989d7c4b13a5f200dc5aca410e",
       "max": 27,
       "style": "IPY_MODEL_4fc786e0f36a4578a19e53d5d887783a",
       "value": 27
      }
     },
     "fc32ab437d8947668d4648613efbe462": {
      "model_module": "@jupyter-widgets/controls",
      "model_module_version": "2.0.0",
      "model_name": "HTMLModel",
      "state": {
       "layout": "IPY_MODEL_97af2238033849418d0401d4b4e54c14",
       "style": "IPY_MODEL_d7033b7301744cd98e3630e2289d7f95",
       "value": " 285/288 [00:03&lt;00:00, 78.73it/s]"
      }
     },
     "fc60ff63cbeb49c7aaedf43a070a27e1": {
      "model_module": "@jupyter-widgets/controls",
      "model_module_version": "2.0.0",
      "model_name": "FloatProgressModel",
      "state": {
       "layout": "IPY_MODEL_d666cf65de91402c9c149a09b6a24f9a",
       "max": 288,
       "style": "IPY_MODEL_1ca5ce80eb61435fbae9b6b51fe1d467",
       "value": 288
      }
     },
     "ff2638cd4af44b69b671c8bcabf7be07": {
      "model_module": "@jupyter-widgets/controls",
      "model_module_version": "2.0.0",
      "model_name": "HTMLStyleModel",
      "state": {
       "description_width": "",
       "font_size": null,
       "text_color": null
      }
     }
    },
    "version_major": 2,
    "version_minor": 0
   }
  }
 },
 "nbformat": 4,
 "nbformat_minor": 5
}
