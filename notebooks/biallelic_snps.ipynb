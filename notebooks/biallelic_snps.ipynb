{
 "cells": [
  {
   "cell_type": "code",
   "execution_count": null,
   "id": "890ed13a-3e8e-4fd6-b0cb-464e31ab5f64",
   "metadata": {},
   "outputs": [],
   "source": [
    "import malariagen_data\n",
    "\n",
    "ag3 = malariagen_data.Ag3(\n",
    "    \"simplecache::gs://vo_agam_release_master_us_central1\",\n",
    "    simplecache=dict(cache_storage=\"../gcs_cache\"),\n",
    "    results_cache=\"results_cache\",\n",
    ")\n",
    "ag3"
   ]
  },
  {
   "cell_type": "code",
   "execution_count": null,
   "id": "42ecae20-46b7-4218-a37c-e96df62241fb",
   "metadata": {},
   "outputs": [],
   "source": [
    "ds = ag3.snp_calls(region=\"3L\", sample_sets=\"AG1000G-BF-A\")\n",
    "ds"
   ]
  },
  {
   "cell_type": "code",
   "execution_count": null,
   "id": "9151e470-bdbe-4eee-902c-6178b5f6b62f",
   "metadata": {},
   "outputs": [],
   "source": [
    "ds[\"variant_allele\"]"
   ]
  },
  {
   "cell_type": "code",
   "execution_count": null,
   "id": "9cb9bfcb-19b5-40e1-bd2b-11a8c2247af3",
   "metadata": {},
   "outputs": [],
   "source": [
    "%%time\n",
    "ds[\"variant_allele\"].values"
   ]
  },
  {
   "cell_type": "code",
   "execution_count": null,
   "id": "489c3941-1ae6-4954-ae48-585823b46649",
   "metadata": {},
   "outputs": [],
   "source": [
    "%%time\n",
    "ds_bi = ag3.biallelic_snp_calls(\n",
    "    region=\"3L\",\n",
    "    sample_sets=\"AG1000G-BF-A\",\n",
    "    chunks=\"300MiB\",\n",
    ")\n",
    "ds_bi"
   ]
  },
  {
   "cell_type": "code",
   "execution_count": null,
   "id": "8b024a95-6f9d-4371-95bb-eb6887481a6a",
   "metadata": {},
   "outputs": [],
   "source": [
    "ds_bi[\"variant_allele\"]"
   ]
  },
  {
   "cell_type": "code",
   "execution_count": null,
   "id": "787973c4-1974-4c8e-8b57-e82b4ea90e6a",
   "metadata": {},
   "outputs": [],
   "source": [
    "%%time\n",
    "ds_bi[\"variant_allele\"].values"
   ]
  },
  {
   "cell_type": "code",
   "execution_count": null,
   "id": "34dfc71b-4e81-4083-8c8a-c08d712e2fa3",
   "metadata": {},
   "outputs": [],
   "source": [
    "ds_bi[\"variant_allele_count\"]"
   ]
  },
  {
   "cell_type": "code",
   "execution_count": null,
   "id": "29e17deb-830f-4f5a-9e5f-4707a6041743",
   "metadata": {},
   "outputs": [],
   "source": [
    "%%time\n",
    "ds_bi[\"variant_allele_count\"].values"
   ]
  },
  {
   "cell_type": "code",
   "execution_count": null,
   "id": "42afc05c-045e-47c8-925a-9df3676ad0fc",
   "metadata": {},
   "outputs": [],
   "source": [
    "ds_bi[\"call_genotype\"]"
   ]
  },
  {
   "cell_type": "code",
   "execution_count": null,
   "id": "c419ef30-504f-4e8b-8b77-6b15fa29ccb5",
   "metadata": {},
   "outputs": [],
   "source": [
    "%%time\n",
    "ds[\"call_genotype\"][:100_000].values;"
   ]
  },
  {
   "cell_type": "code",
   "execution_count": null,
   "id": "489878b8-eb77-41b8-8b1d-cf6f5035877d",
   "metadata": {},
   "outputs": [],
   "source": [
    "%%time\n",
    "ds_bi[\"call_genotype\"][:100_000].values;"
   ]
  },
  {
   "cell_type": "code",
   "execution_count": null,
   "id": "ef087212-fef9-45da-a797-00be884887a2",
   "metadata": {},
   "outputs": [],
   "source": [
    "%%time\n",
    "ds_bi2 = ag3.biallelic_snp_calls(\n",
    "    region=\"3L\",\n",
    "    sample_sets=\"AG1000G-BF-A\",\n",
    "    max_missing_an=50,\n",
    "    min_minor_ac=1,\n",
    "    chunks=\"300MiB\",\n",
    ")\n",
    "ds_bi2"
   ]
  },
  {
   "cell_type": "code",
   "execution_count": null,
   "id": "52d0e6c9-b994-4dd9-91b6-00c58af1ee3b",
   "metadata": {},
   "outputs": [],
   "source": [
    "ds_bi2[\"call_genotype\"]"
   ]
  },
  {
   "cell_type": "code",
   "execution_count": null,
   "id": "b8b26acb-c6c5-4c92-9831-a8a276c952f3",
   "metadata": {},
   "outputs": [],
   "source": [
    "%%time\n",
    "ds_bi2[\"call_genotype\"][:100_000].values;"
   ]
  },
  {
   "cell_type": "code",
   "execution_count": null,
   "id": "87cdfec5-ca1e-4139-91fa-93506a112b1a",
   "metadata": {},
   "outputs": [],
   "source": [
    "%%time\n",
    "ds_bi3 = ag3.biallelic_snp_calls(\n",
    "    region=\"3L\",\n",
    "    sample_sets=\"AG1000G-BF-A\",\n",
    "    max_missing_an=50,\n",
    "    min_minor_ac=1,\n",
    "    n_snps=100_000,\n",
    "    chunks=\"300MiB\",\n",
    ")\n",
    "ds_bi3"
   ]
  },
  {
   "cell_type": "code",
   "execution_count": null,
   "id": "c83b492b-11ec-400b-bceb-de6630c34a7b",
   "metadata": {},
   "outputs": [],
   "source": [
    "ds_bi3[\"call_genotype\"]"
   ]
  },
  {
   "cell_type": "code",
   "execution_count": null,
   "id": "07f75f48-bf25-4491-8891-77765867e9a0",
   "metadata": {},
   "outputs": [],
   "source": [
    "%%time\n",
    "ds_bi3[\"call_genotype\"][:1000].values;"
   ]
  },
  {
   "cell_type": "code",
   "execution_count": null,
   "id": "9e434252-0c77-4a5d-ac76-55c87c84fd94",
   "metadata": {},
   "outputs": [],
   "source": []
  }
 ],
 "metadata": {
  "kernelspec": {
   "display_name": "Python 3 (ipykernel)",
   "language": "python",
   "name": "python3"
  },
  "language_info": {
   "codemirror_mode": {
    "name": "ipython",
    "version": 3
   },
   "file_extension": ".py",
   "mimetype": "text/x-python",
   "name": "python",
   "nbconvert_exporter": "python",
   "pygments_lexer": "ipython3",
   "version": "3.10.12"
  },
  "widgets": {
   "application/vnd.jupyter.widget-state+json": {
    "state": {},
    "version_major": 2,
    "version_minor": 0
   }
  }
 },
 "nbformat": 4,
 "nbformat_minor": 5
}
