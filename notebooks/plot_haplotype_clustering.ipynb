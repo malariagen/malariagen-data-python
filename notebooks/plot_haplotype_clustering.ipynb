{
 "cells": [
  {
   "cell_type": "code",
   "execution_count": null,
   "id": "d3f73666",
   "metadata": {},
   "outputs": [],
   "source": [
    "import malariagen_data"
   ]
  },
  {
   "cell_type": "code",
   "execution_count": null,
   "id": "38abbb28",
   "metadata": {},
   "outputs": [],
   "source": [
    "ag3 = malariagen_data.Ag3(\n",
    "    \"simplecache::gs://vo_agam_release\",\n",
    "    simplecache=dict(cache_storage=\"../gcs_cache\"),\n",
    "    debug=False, pre=True\n",
    ")\n",
    "ag3"
   ]
  },
  {
   "cell_type": "code",
   "execution_count": null,
   "id": "ccb2366f",
   "metadata": {
    "scrolled": false
   },
   "outputs": [],
   "source": [
    "ag3.plot_haplotype_clustering(\n",
    "    region=\"2L:2,410,000-2,430,000\",\n",
    "    sample_sets=[\"AG1000G-GH\", 'AG1000G-BF-B'],\n",
    "    analysis=\"gamb_colu\",\n",
    "    color='taxon',\n",
    "    symbol='country',\n",
    "    linkage_method='single',\n",
    "    width=1000, \n",
    "    height=500,\n",
    "    count_sort=True,\n",
    "    distance_sort=False\n",
    ")"
   ]
  },
  {
   "cell_type": "code",
   "execution_count": null,
   "id": "857145af",
   "metadata": {},
   "outputs": [],
   "source": [
    "ag3.plot_haplotype_clustering(\n",
    "    region=\"2L:28,545,000-28,550,000\",\n",
    "    sample_sets=[\"AG1000G-GH\", '1244-VO-GH-YAWSON-VMF00051'],\n",
    "    analysis=\"gamb_colu\",\n",
    "    color='country',\n",
    "    symbol='taxon',\n",
    "    cohort_size=500,\n",
    "    linkage_method='weighted',\n",
    "    count_sort=True,\n",
    "    width=1200, \n",
    "    height=600\n",
    ")"
   ]
  },
  {
   "cell_type": "code",
   "execution_count": null,
   "id": "f41b7e63",
   "metadata": {
    "scrolled": false
   },
   "outputs": [],
   "source": [
    "ag3.plot_haplotype_clustering(\n",
    "    region=\"2R:28,480,000-28,490,000\",\n",
    "    sample_sets=[\"3.0\"],\n",
    "    sample_query=\"taxon == 'arabiensis'\",\n",
    "    analysis=\"gamb_colu_arab\",\n",
    "    color='sample_set',\n",
    "    cohort_size=None,\n",
    "    width=1000, \n",
    "    height=400\n",
    ")"
   ]
  },
  {
   "cell_type": "code",
   "execution_count": null,
   "id": "5979cca3",
   "metadata": {},
   "outputs": [],
   "source": []
  }
 ],
 "metadata": {
  "kernelspec": {
   "display_name": "Python 3 (ipykernel)",
   "language": "python",
   "name": "python3"
  },
  "language_info": {
   "codemirror_mode": {
    "name": "ipython",
    "version": 3
   },
   "file_extension": ".py",
   "mimetype": "text/x-python",
   "name": "python",
   "nbconvert_exporter": "python",
   "pygments_lexer": "ipython3",
   "version": "3.7.13"
  },
  "vscode": {
   "interpreter": {
    "hash": "ff6c32050ffc6f249369d74e5cfe850403f8bea8efc4c1e981444d8ca77e689e"
   }
  }
 },
 "nbformat": 4,
 "nbformat_minor": 5
}
