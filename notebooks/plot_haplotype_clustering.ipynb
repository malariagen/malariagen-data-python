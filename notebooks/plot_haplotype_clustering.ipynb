{
 "cells": [
  {
   "cell_type": "code",
   "execution_count": 1,
   "id": "d3f73666",
   "metadata": {},
   "outputs": [],
   "source": [
    "import malariagen_data"
   ]
  },
  {
   "attachments": {},
   "cell_type": "markdown",
   "id": "0b889fd3",
   "metadata": {},
   "source": [
    "## Ag3"
   ]
  },
  {
   "cell_type": "code",
   "execution_count": 2,
   "id": "38abbb28",
   "metadata": {},
   "outputs": [
    {
     "data": {
      "application/javascript": "'use strict';\n(function(root) {\n  function now() {\n    return new Date();\n  }\n\n  const force = true;\n\n  if (typeof root._bokeh_onload_callbacks === \"undefined\" || force === true) {\n    root._bokeh_onload_callbacks = [];\n    root._bokeh_is_loading = undefined;\n  }\n\nconst JS_MIME_TYPE = 'application/javascript';\n  const HTML_MIME_TYPE = 'text/html';\n  const EXEC_MIME_TYPE = 'application/vnd.bokehjs_exec.v0+json';\n  const CLASS_NAME = 'output_bokeh rendered_html';\n\n  /**\n   * Render data to the DOM node\n   */\n  function render(props, node) {\n    const script = document.createElement(\"script\");\n    node.appendChild(script);\n  }\n\n  /**\n   * Handle when an output is cleared or removed\n   */\n  function handleClearOutput(event, handle) {\n    function drop(id) {\n      const view = Bokeh.index.get_by_id(id)\n      if (view != null) {\n        view.model.document.clear()\n        Bokeh.index.delete(view)\n      }\n    }\n\n    const cell = handle.cell;\n\n    const id = cell.output_area._bokeh_element_id;\n    const server_id = cell.output_area._bokeh_server_id;\n\n    // Clean up Bokeh references\n    if (id != null) {\n      drop(id)\n    }\n\n    if (server_id !== undefined) {\n      // Clean up Bokeh references\n      const cmd_clean = \"from bokeh.io.state import curstate; print(curstate().uuid_to_server['\" + server_id + \"'].get_sessions()[0].document.roots[0]._id)\";\n      cell.notebook.kernel.execute(cmd_clean, {\n        iopub: {\n          output: function(msg) {\n            const id = msg.content.text.trim()\n            drop(id)\n          }\n        }\n      });\n      // Destroy server and session\n      const cmd_destroy = \"import bokeh.io.notebook as ion; ion.destroy_server('\" + server_id + \"')\";\n      cell.notebook.kernel.execute(cmd_destroy);\n    }\n  }\n\n  /**\n   * Handle when a new output is added\n   */\n  function handleAddOutput(event, handle) {\n    const output_area = handle.output_area;\n    const output = handle.output;\n\n    // limit handleAddOutput to display_data with EXEC_MIME_TYPE content only\n    if ((output.output_type != \"display_data\") || (!Object.prototype.hasOwnProperty.call(output.data, EXEC_MIME_TYPE))) {\n      return\n    }\n\n    const toinsert = output_area.element.find(\".\" + CLASS_NAME.split(' ')[0]);\n\n    if (output.metadata[EXEC_MIME_TYPE][\"id\"] !== undefined) {\n      toinsert[toinsert.length - 1].firstChild.textContent = output.data[JS_MIME_TYPE];\n      // store reference to embed id on output_area\n      output_area._bokeh_element_id = output.metadata[EXEC_MIME_TYPE][\"id\"];\n    }\n    if (output.metadata[EXEC_MIME_TYPE][\"server_id\"] !== undefined) {\n      const bk_div = document.createElement(\"div\");\n      bk_div.innerHTML = output.data[HTML_MIME_TYPE];\n      const script_attrs = bk_div.children[0].attributes;\n      for (let i = 0; i < script_attrs.length; i++) {\n        toinsert[toinsert.length - 1].firstChild.setAttribute(script_attrs[i].name, script_attrs[i].value);\n        toinsert[toinsert.length - 1].firstChild.textContent = bk_div.children[0].textContent\n      }\n      // store reference to server id on output_area\n      output_area._bokeh_server_id = output.metadata[EXEC_MIME_TYPE][\"server_id\"];\n    }\n  }\n\n  function register_renderer(events, OutputArea) {\n\n    function append_mime(data, metadata, element) {\n      // create a DOM node to render to\n      const toinsert = this.create_output_subarea(\n        metadata,\n        CLASS_NAME,\n        EXEC_MIME_TYPE\n      );\n      this.keyboard_manager.register_events(toinsert);\n      // Render to node\n      const props = {data: data, metadata: metadata[EXEC_MIME_TYPE]};\n      render(props, toinsert[toinsert.length - 1]);\n      element.append(toinsert);\n      return toinsert\n    }\n\n    /* Handle when an output is cleared or removed */\n    events.on('clear_output.CodeCell', handleClearOutput);\n    events.on('delete.Cell', handleClearOutput);\n\n    /* Handle when a new output is added */\n    events.on('output_added.OutputArea', handleAddOutput);\n\n    /**\n     * Register the mime type and append_mime function with output_area\n     */\n    OutputArea.prototype.register_mime_type(EXEC_MIME_TYPE, append_mime, {\n      /* Is output safe? */\n      safe: true,\n      /* Index of renderer in `output_area.display_order` */\n      index: 0\n    });\n  }\n\n  // register the mime type if in Jupyter Notebook environment and previously unregistered\n  if (root.Jupyter !== undefined) {\n    const events = require('base/js/events');\n    const OutputArea = require('notebook/js/outputarea').OutputArea;\n\n    if (OutputArea.prototype.mime_types().indexOf(EXEC_MIME_TYPE) == -1) {\n      register_renderer(events, OutputArea);\n    }\n  }\n  if (typeof (root._bokeh_timeout) === \"undefined\" || force === true) {\n    root._bokeh_timeout = Date.now() + 5000;\n    root._bokeh_failed_load = false;\n  }\n\n  const NB_LOAD_WARNING = {'data': {'text/html':\n     \"<div style='background-color: #fdd'>\\n\"+\n     \"<p>\\n\"+\n     \"BokehJS does not appear to have successfully loaded. If loading BokehJS from CDN, this \\n\"+\n     \"may be due to a slow or bad network connection. Possible fixes:\\n\"+\n     \"</p>\\n\"+\n     \"<ul>\\n\"+\n     \"<li>re-rerun `output_notebook()` to attempt to load from CDN again, or</li>\\n\"+\n     \"<li>use INLINE resources instead, as so:</li>\\n\"+\n     \"</ul>\\n\"+\n     \"<code>\\n\"+\n     \"from bokeh.resources import INLINE\\n\"+\n     \"output_notebook(resources=INLINE)\\n\"+\n     \"</code>\\n\"+\n     \"</div>\"}};\n\n  function display_loaded(error = null) {\n    const el = document.getElementById(null);\n    if (el != null) {\n      const html = (() => {\n        if (typeof root.Bokeh === \"undefined\") {\n          if (error == null) {\n            return \"BokehJS is loading ...\";\n          } else {\n            return \"BokehJS failed to load.\";\n          }\n        } else {\n          const prefix = `BokehJS ${root.Bokeh.version}`;\n          if (error == null) {\n            return `${prefix} successfully loaded.`;\n          } else {\n            return `${prefix} <b>encountered errors</b> while loading and may not function as expected.`;\n          }\n        }\n      })();\n      el.innerHTML = html;\n\n      if (error != null) {\n        const wrapper = document.createElement(\"div\");\n        wrapper.style.overflow = \"auto\";\n        wrapper.style.height = \"5em\";\n        wrapper.style.resize = \"vertical\";\n        const content = document.createElement(\"div\");\n        content.style.fontFamily = \"monospace\";\n        content.style.whiteSpace = \"pre-wrap\";\n        content.style.backgroundColor = \"rgb(255, 221, 221)\";\n        content.textContent = error.stack ?? error.toString();\n        wrapper.append(content);\n        el.append(wrapper);\n      }\n    } else if (Date.now() < root._bokeh_timeout) {\n      setTimeout(() => display_loaded(error), 100);\n    }\n  }\n\n  function run_callbacks() {\n    try {\n      root._bokeh_onload_callbacks.forEach(function(callback) {\n        if (callback != null)\n          callback();\n      });\n    } finally {\n      delete root._bokeh_onload_callbacks\n    }\n    console.debug(\"Bokeh: all callbacks have finished\");\n  }\n\n  function load_libs(css_urls, js_urls, callback) {\n    if (css_urls == null) css_urls = [];\n    if (js_urls == null) js_urls = [];\n\n    root._bokeh_onload_callbacks.push(callback);\n    if (root._bokeh_is_loading > 0) {\n      console.debug(\"Bokeh: BokehJS is being loaded, scheduling callback at\", now());\n      return null;\n    }\n    if (js_urls == null || js_urls.length === 0) {\n      run_callbacks();\n      return null;\n    }\n    console.debug(\"Bokeh: BokehJS not loaded, scheduling load and callback at\", now());\n    root._bokeh_is_loading = css_urls.length + js_urls.length;\n\n    function on_load() {\n      root._bokeh_is_loading--;\n      if (root._bokeh_is_loading === 0) {\n        console.debug(\"Bokeh: all BokehJS libraries/stylesheets loaded\");\n        run_callbacks()\n      }\n    }\n\n    function on_error(url) {\n      console.error(\"failed to load \" + url);\n    }\n\n    for (let i = 0; i < css_urls.length; i++) {\n      const url = css_urls[i];\n      const element = document.createElement(\"link\");\n      element.onload = on_load;\n      element.onerror = on_error.bind(null, url);\n      element.rel = \"stylesheet\";\n      element.type = \"text/css\";\n      element.href = url;\n      console.debug(\"Bokeh: injecting link tag for BokehJS stylesheet: \", url);\n      document.body.appendChild(element);\n    }\n\n    for (let i = 0; i < js_urls.length; i++) {\n      const url = js_urls[i];\n      const element = document.createElement('script');\n      element.onload = on_load;\n      element.onerror = on_error.bind(null, url);\n      element.async = false;\n      element.src = url;\n      console.debug(\"Bokeh: injecting script tag for BokehJS library: \", url);\n      document.head.appendChild(element);\n    }\n  };\n\n  function inject_raw_css(css) {\n    const element = document.createElement(\"style\");\n    element.appendChild(document.createTextNode(css));\n    document.body.appendChild(element);\n  }\n\n  const js_urls = [\"https://cdn.bokeh.org/bokeh/release/bokeh-3.6.3.min.js\", \"https://cdn.bokeh.org/bokeh/release/bokeh-gl-3.6.3.min.js\", \"https://cdn.bokeh.org/bokeh/release/bokeh-widgets-3.6.3.min.js\", \"https://cdn.bokeh.org/bokeh/release/bokeh-tables-3.6.3.min.js\", \"https://cdn.bokeh.org/bokeh/release/bokeh-mathjax-3.6.3.min.js\"];\n  const css_urls = [];\n\n  const inline_js = [    function(Bokeh) {\n      Bokeh.set_log_level(\"info\");\n    },\nfunction(Bokeh) {\n    }\n  ];\n\n  function run_inline_js() {\n    if (root.Bokeh !== undefined || force === true) {\n      try {\n            for (let i = 0; i < inline_js.length; i++) {\n      inline_js[i].call(root, root.Bokeh);\n    }\n\n      } catch (error) {throw error;\n      }} else if (Date.now() < root._bokeh_timeout) {\n      setTimeout(run_inline_js, 100);\n    } else if (!root._bokeh_failed_load) {\n      console.log(\"Bokeh: BokehJS failed to load within specified timeout.\");\n      root._bokeh_failed_load = true;\n    } else if (force !== true) {\n      const cell = $(document.getElementById(null)).parents('.cell').data().cell;\n      cell.output_area.append_execute_result(NB_LOAD_WARNING)\n    }\n  }\n\n  if (root._bokeh_is_loading === 0) {\n    console.debug(\"Bokeh: BokehJS loaded, going straight to plotting\");\n    run_inline_js();\n  } else {\n    load_libs(css_urls, js_urls, function() {\n      console.debug(\"Bokeh: BokehJS plotting callback run at\", now());\n      run_inline_js();\n    });\n  }\n}(window));",
      "application/vnd.bokehjs_load.v0+json": ""
     },
     "metadata": {},
     "output_type": "display_data"
    },
    {
     "data": {
      "text/html": [
       "\n",
       "            <table class=\"malariagen-ag3\">\n",
       "                <thead>\n",
       "                    <tr>\n",
       "                        <th style=\"text-align: left\" colspan=\"2\">MalariaGEN Ag3 API client</th>\n",
       "                    </tr>\n",
       "                    <tr><td colspan=\"2\" style=\"text-align: left\">\n",
       "                        Please note that data are subject to terms of use,\n",
       "                        for more information see <a href=\"https://www.malariagen.net/data\">\n",
       "                        the MalariaGEN website</a> or contact support@malariagen.net.\n",
       "                        See also the <a href=\"https://malariagen.github.io/malariagen-data-python/v15.4.0.post6+f591dba1/Ag3.html\">Ag3 API docs</a>.\n",
       "                    </td></tr>\n",
       "                </thead>\n",
       "                <tbody>\n",
       "                    <tr>\n",
       "                        <th style=\"text-align: left\">\n",
       "                            Storage URL\n",
       "                        </th>\n",
       "                        <td>simplecache::gs://vo_agam_release_master_us_central1</td>\n",
       "                    </tr>\n",
       "                    <tr>\n",
       "                        <th style=\"text-align: left\">\n",
       "                            Data releases available\n",
       "                        </th>\n",
       "                        <td>3.0, 3.1, 3.2, 3.3, 3.4, 3.5, 3.6, 3.7, 3.8, 3.9, 3.10, 3.11, 3.12, 3.13, 3.14, 3.15, 3.16</td>\n",
       "                    </tr>\n",
       "                    <tr>\n",
       "                        <th style=\"text-align: left\">\n",
       "                            Results cache\n",
       "                        </th>\n",
       "                        <td>/home/sanj/Software/malariagen-data-python/notebooks/results_cache</td>\n",
       "                    </tr>\n",
       "                    <tr>\n",
       "                        <th style=\"text-align: left\">\n",
       "                            Cohorts analysis\n",
       "                        </th>\n",
       "                        <td>20250502</td>\n",
       "                    </tr>\n",
       "                    <tr>\n",
       "                        <th style=\"text-align: left\">\n",
       "                            AIM analysis\n",
       "                        </th>\n",
       "                        <td>20220528</td>\n",
       "                    </tr>\n",
       "                    <tr>\n",
       "                        <th style=\"text-align: left\">\n",
       "                            Site filters analysis\n",
       "                        </th>\n",
       "                        <td>dt_20200416</td>\n",
       "                    </tr>\n",
       "                    <tr>\n",
       "                        <th style=\"text-align: left\">\n",
       "                            Software version\n",
       "                        </th>\n",
       "                        <td>malariagen_data 15.4.0.post6+f591dba1</td>\n",
       "                    </tr>\n",
       "                    <tr>\n",
       "                        <th style=\"text-align: left\">\n",
       "                            Client location\n",
       "                        </th>\n",
       "                        <td>England, United Kingdom</td>\n",
       "                    </tr>\n",
       "                </tbody>\n",
       "            </table>\n",
       "        "
      ],
      "text/plain": [
       "<MalariaGEN Ag3 API client>\n",
       "Storage URL             : simplecache::gs://vo_agam_release_master_us_central1\n",
       "Data releases available : 3.0, 3.1, 3.2, 3.3, 3.4, 3.5, 3.6, 3.7, 3.8, 3.9, 3.10, 3.11, 3.12, 3.13, 3.14, 3.15, 3.16\n",
       "Results cache           : /home/sanj/Software/malariagen-data-python/notebooks/results_cache\n",
       "Cohorts analysis        : 20250502\n",
       "AIM analysis            : 20220528\n",
       "Site filters analysis   : dt_20200416\n",
       "Software version        : malariagen_data 15.4.0.post6+f591dba1\n",
       "Client location         : England, United Kingdom\n",
       "---\n",
       "Please note that data are subject to terms of use,\n",
       "for more information see https://www.malariagen.net/data\n",
       "or contact support@malariagen.net. For API documentation see \n",
       "https://malariagen.github.io/malariagen-data-python/v15.4.0.post6+f591dba1/Ag3.html"
      ]
     },
     "execution_count": 2,
     "metadata": {},
     "output_type": "execute_result"
    }
   ],
   "source": [
    "ag3 = malariagen_data.Ag3(\n",
    "    \"simplecache::gs://vo_agam_release_master_us_central1\",\n",
    "    simplecache=dict(cache_storage=\"../gcs_cache\"),\n",
    "    results_cache=\"results_cache\",\n",
    "    pre=True,\n",
    ")\n",
    "ag3"
   ]
  },
  {
   "cell_type": "code",
   "execution_count": null,
   "id": "60bd6d1f-e8bd-499e-8c78-e64d2d7e9210",
   "metadata": {},
   "outputs": [],
   "source": [
    "# %%time\n",
    "# ag3.plot_haplotype_clustering(\n",
    "#     region=\"2L:2,410,000-2,430,000\",\n",
    "#     sample_sets=[\"3.0\", \"3.1\", \"3.2\", \"3.3\", \"3.4\", \"3.5\", \"3.6\", \"3.7\"],\n",
    "#     analysis=\"gamb_colu\",\n",
    "#     color=\"taxon\",\n",
    "#     symbol=\"country\",\n",
    "#     linkage_method=\"single\",\n",
    "#     width=1000,\n",
    "#     height=500,\n",
    "#     count_sort=True,\n",
    "#     distance_sort=False,\n",
    "#     render_mode=\"auto\",\n",
    "#     show=False,\n",
    "# );"
   ]
  },
  {
   "cell_type": "code",
   "execution_count": null,
   "id": "04e74ac9-51db-4bae-875c-1ee50e02d024",
   "metadata": {},
   "outputs": [],
   "source": [
    "# ag3.plot_haplotype_clustering(\n",
    "#     region=\"2L:2,410,000-2,430,000\",\n",
    "#     sample_sets=[\"3.0\", \"3.1\", \"3.2\", \"3.3\", \"3.4\", \"3.5\", \"3.6\", \"3.7\"],\n",
    "#     analysis=\"gamb_colu\",\n",
    "#     color=\"country\",\n",
    "#     linkage_method=\"single\",\n",
    "#     width=None,\n",
    "#     height=500,\n",
    "#     count_sort=True,\n",
    "# )"
   ]
  },
  {
   "cell_type": "code",
   "execution_count": null,
   "id": "637ae668-c3b8-4914-a0c2-1587cc252c0c",
   "metadata": {},
   "outputs": [],
   "source": [
    "ag3.plot_haplotype_clustering(\n",
    "    region=\"2L:2,410,000-2,430,000\",\n",
    "    sample_sets=[\"AG1000G-GH\", \"AG1000G-BF-B\"],\n",
    "    analysis=\"gamb_colu\",\n",
    ")"
   ]
  },
  {
   "cell_type": "code",
   "execution_count": null,
   "id": "9bca4ab4-89b4-4238-9f82-d7920e107583",
   "metadata": {},
   "outputs": [],
   "source": [
    "ag3.plot_haplotype_clustering(\n",
    "    region=\"2L:2,410,000-2,430,000\",\n",
    "    sample_sets=[\"AG1000G-GH\", \"AG1000G-BF-B\"],\n",
    "    analysis=\"gamb_colu\",\n",
    "    color=\"taxon\",\n",
    "    symbol=\"country\",\n",
    ")"
   ]
  },
  {
   "cell_type": "code",
   "execution_count": null,
   "id": "ccb2366f",
   "metadata": {},
   "outputs": [],
   "source": [
    "ag3.plot_haplotype_clustering(\n",
    "    region=\"2L:2,410,000-2,430,000\",\n",
    "    sample_sets=[\"AG1000G-GH\", \"AG1000G-BF-B\"],\n",
    "    analysis=\"gamb_colu\",\n",
    "    color=\"taxon\",\n",
    "    symbol=\"country\",\n",
    "    linkage_method=\"single\",\n",
    "    width=1000,\n",
    "    height=500,\n",
    "    count_sort=True,\n",
    "    distance_sort=False,\n",
    ")"
   ]
  },
  {
   "cell_type": "code",
   "execution_count": null,
   "id": "c0420334-124d-4bab-9ef7-bb9ceb99d6f0",
   "metadata": {},
   "outputs": [],
   "source": [
    "ag3.plot_haplotype_clustering(\n",
    "    region=\"2L:2,410,000-2,430,000\",\n",
    "    sample_sets=[\"AG1000G-GH\", \"AG1000G-BF-B\"],\n",
    "    analysis=\"gamb_colu\",\n",
    "    color=\"taxon\",\n",
    "    symbol=\"country\",\n",
    "    linkage_method=\"single\",\n",
    "    width=1000,\n",
    "    height=500,\n",
    "    count_sort=True,\n",
    "    distance_sort=False,\n",
    "    render_mode=\"svg\",\n",
    ")"
   ]
  },
  {
   "cell_type": "code",
   "execution_count": null,
   "id": "e957de19-af70-412a-8c75-2e6835ffb2cd",
   "metadata": {},
   "outputs": [],
   "source": [
    "ag3.plot_haplotype_clustering(\n",
    "    region=\"2L:2,410,000-2,430,000\",\n",
    "    sample_sets=[\"AG1000G-GH\", \"AG1000G-BF-B\"],\n",
    "    analysis=\"gamb_colu\",\n",
    "    color=\"country\",\n",
    "    symbol=\"taxon\",\n",
    "    linkage_method=\"single\",\n",
    "    width=1000,\n",
    "    height=500,\n",
    "    count_sort=True,\n",
    "    distance_sort=False,\n",
    "    render_mode=\"webgl\",\n",
    ")"
   ]
  },
  {
   "cell_type": "code",
   "execution_count": null,
   "id": "857145af",
   "metadata": {},
   "outputs": [],
   "source": [
    "ag3.plot_haplotype_clustering(\n",
    "    region=\"2L:28,545,000-28,550,000\",\n",
    "    sample_sets=[\"AG1000G-GH\", \"1244-VO-GH-YAWSON-VMF00051\"],\n",
    "    analysis=\"gamb_colu\",\n",
    "    color=\"admin1_name\",\n",
    "    symbol=\"taxon\",\n",
    "    cohort_size=500,\n",
    "    linkage_method=\"weighted\",\n",
    "    count_sort=True,\n",
    "    width=1200,\n",
    "    height=600,\n",
    ")"
   ]
  },
  {
   "cell_type": "code",
   "execution_count": null,
   "id": "f41b7e63",
   "metadata": {},
   "outputs": [],
   "source": [
    "ag3.plot_haplotype_clustering(\n",
    "    region=\"2R:28,480,000-28,490,000\",\n",
    "    sample_sets=[\"3.0\"],\n",
    "    sample_query=\"taxon == 'arabiensis'\",\n",
    "    analysis=\"gamb_colu_arab\",\n",
    "    color=\"sample_set\",\n",
    "    cohort_size=None,\n",
    "    width=1000,\n",
    "    height=400,\n",
    ")"
   ]
  },
  {
   "cell_type": "code",
   "execution_count": null,
   "id": "b93d6d94-1add-4ba4-8618-87a11c843e6e",
   "metadata": {},
   "outputs": [],
   "source": [
    "ag3.plot_haplotype_clustering(\n",
    "    region=\"2R:28,480,000-28,490,000\",\n",
    "    sample_sets=[\"3.0\"],\n",
    "    sample_query=\"taxon == 'arabiensis'\",\n",
    "    analysis=\"gamb_colu_arab\",\n",
    "    color=\"admin1_year\",\n",
    "    cohort_size=None,\n",
    "    width=1000,\n",
    "    height=400,\n",
    ")"
   ]
  },
  {
   "cell_type": "code",
   "execution_count": null,
   "id": "5773cf5a-6040-4ed9-8bdd-01d7f16408a7",
   "metadata": {},
   "outputs": [],
   "source": [
    "ag3.plot_haplotype_clustering(\n",
    "    region=\"2R:28,480,000-28,490,000\",\n",
    "    sample_sets=[\"3.0\"],\n",
    "    sample_query=\"taxon == 'arabiensis'\",\n",
    "    analysis=\"gamb_colu_arab\",\n",
    "    color=\"admin1_year\",\n",
    "    cohort_size=None,\n",
    "    width=1000,\n",
    "    height=400,\n",
    "    title=None,\n",
    ")"
   ]
  },
  {
   "cell_type": "code",
   "execution_count": null,
   "id": "52c159c8-1751-4be7-92d9-52bd17751259",
   "metadata": {},
   "outputs": [],
   "source": [
    "new_cohorts = {\n",
    "    \"East\": \"country in ['Malawi', 'Tanzania', 'Kenya', 'Uganda']\",\n",
    "    \"West\": \"country in ['Mali', 'Burkina Faso', 'Cameroon']\",\n",
    "}\n",
    "other_cohorts = {\n",
    "    \"East\": \"country in ['Malawi']\",\n",
    "    \"West\": \"country in ['Mali', 'Burkina Faso', 'Cameroon']\",\n",
    "}"
   ]
  },
  {
   "cell_type": "code",
   "execution_count": null,
   "id": "7bd7b04c-5401-4c1e-92eb-cae5b3d87851",
   "metadata": {},
   "outputs": [],
   "source": [
    "ag3.plot_haplotype_clustering(\n",
    "    region=\"2R:28,480,000-28,490,000\",\n",
    "    sample_sets=[\"3.0\"],\n",
    "    sample_query=\"taxon == 'arabiensis'\",\n",
    "    analysis=\"gamb_colu_arab\",\n",
    "    color=new_cohorts,\n",
    "    cohort_size=None,\n",
    "    width=1000,\n",
    "    height=400,\n",
    ")"
   ]
  },
  {
   "cell_type": "code",
   "execution_count": null,
   "id": "9f6415e6-8d0d-4446-9adb-58c5b236dbcc",
   "metadata": {},
   "outputs": [],
   "source": [
    "ag3.plot_haplotype_clustering(\n",
    "    region=\"2R:28,480,000-28,490,000\",\n",
    "    sample_sets=[\"3.0\"],\n",
    "    sample_query=\"taxon == 'arabiensis'\",\n",
    "    analysis=\"gamb_colu_arab\",\n",
    "    color=other_cohorts,\n",
    "    cohort_size=None,\n",
    "    width=1000,\n",
    "    height=400,\n",
    ")"
   ]
  },
  {
   "cell_type": "code",
   "execution_count": null,
   "id": "31df6632-8025-4f55-9d5d-9d04978b1690",
   "metadata": {},
   "outputs": [],
   "source": [
    "ag3.plot_haplotype_clustering(\n",
    "    region=\"2R:28,480,000-28,490,000\",\n",
    "    sample_sets=[\"3.0\"],\n",
    "    sample_query=\"taxon == 'arabiensis'\",\n",
    "    analysis=\"gamb_colu_arab\",\n",
    "    symbol=new_cohorts,\n",
    "    color=\"year\",\n",
    "    cohort_size=None,\n",
    "    width=1000,\n",
    "    height=400,\n",
    ")"
   ]
  },
  {
   "cell_type": "code",
   "execution_count": 5,
   "id": "51846e18",
   "metadata": {},
   "outputs": [
    {
     "name": "stdout",
     "output_type": "stream",
     "text": [
      "                                     \r"
     ]
    },
    {
     "data": {
      "application/vnd.jupyter.widget-view+json": {
       "model_id": "4daea74540a74823be0621dcc0afd499",
       "version_major": 2,
       "version_minor": 0
      },
      "text/plain": [
       "Load haplotypes:   0%|          | 0/67 [00:00<?, ?it/s]"
      ]
     },
     "metadata": {},
     "output_type": "display_data"
    },
    {
     "name": "stdout",
     "output_type": "stream",
     "text": [
      "                                           \r"
     ]
    },
    {
     "name": "stderr",
     "output_type": "stream",
     "text": [
      "/home/sanj/apps/miniforge3/lib/python3.12/site-packages/numba/np/ufunc/parallel.py:371: NumbaWarning: \u001b[1mThe TBB threading layer requires TBB version 2021 update 6 or later i.e., TBB_INTERFACE_VERSION >= 12060. Found TBB_INTERFACE_VERSION = 12050. The TBB threading layer is disabled.\u001b[0m\n",
      "  warnings.warn(problem)\n"
     ]
    },
    {
     "name": "stdout",
     "output_type": "stream",
     "text": [
      "                                           \r"
     ]
    },
    {
     "ename": "AttributeError",
     "evalue": "'DataFrame' object has no attribute 'label'",
     "output_type": "error",
     "traceback": [
      "\u001b[31m---------------------------------------------------------------------------\u001b[39m",
      "\u001b[31mAttributeError\u001b[39m                            Traceback (most recent call last)",
      "\u001b[32m/tmp/ipykernel_537773/530656911.py\u001b[39m in \u001b[36m?\u001b[39m\u001b[34m()\u001b[39m\n\u001b[32m----> \u001b[39m\u001b[32m1\u001b[39m ag3.plot_haplotype_clustering_advanced(\n\u001b[32m      2\u001b[39m     region=\u001b[33m\"2R:28,480,000-28,490,000\"\u001b[39m,\n\u001b[32m      3\u001b[39m     sample_sets=[\u001b[33m\"3.0\"\u001b[39m],\n\u001b[32m      4\u001b[39m     sample_query=\u001b[33m\"taxon == 'arabiensis'\"\u001b[39m,\n",
      "\u001b[32m~/Software/malariagen-data-python/malariagen_data/anoph/hapclust.py\u001b[39m in \u001b[36m?\u001b[39m\u001b[34m(self, region, analysis, snp_transcript, snp_colorscale, snp_filter_min_maf, snp_query, sample_sets, sample_query, sample_query_options, random_seed, cohort_size, cut_height, min_cluster_size, color, symbol, linkage_method, count_sort, distance_sort, title, title_font_size, width, dendrogram_height, snp_row_height, show, renderer, render_mode, leaf_y, marker_size, line_width, line_color, color_discrete_sequence, color_discrete_map, category_orders, legend_sizing, chunks, inline_array)\u001b[39m\n\u001b[32m    415\u001b[39m             )\n\u001b[32m    416\u001b[39m             figures.append(snp_trace)\n\u001b[32m    417\u001b[39m             subplot_heights.append(\u001b[32m25\u001b[39m)\n\u001b[32m    418\u001b[39m \n\u001b[32m--> \u001b[39m\u001b[32m419\u001b[39m         figures, subplot_heights, df_haps = self._insert_hapclust_snp_trace(\n\u001b[32m    420\u001b[39m             transcript=snp_transcript,\n\u001b[32m    421\u001b[39m             snp_query=snp_query,\n\u001b[32m    422\u001b[39m             figures=figures,\n",
      "\u001b[32m~/Software/malariagen-data-python/malariagen_data/anoph/hapclust.py\u001b[39m in \u001b[36m?\u001b[39m\u001b[34m(self, figures, subplot_heights, transcript, analysis, dendro_sample_id_order, snp_filter_min_maf, snp_colorscale, snp_query, snp_row_height, sample_sets, sample_query, chunks, inline_array)\u001b[39m\n\u001b[32m    561\u001b[39m     ):\n\u001b[32m    562\u001b[39m         \u001b[38;5;28;01mfrom\u001b[39;00m plotly \u001b[38;5;28;01mimport\u001b[39;00m graph_objects \u001b[38;5;28;01mas\u001b[39;00m go\n\u001b[32m    563\u001b[39m \n\u001b[32m    564\u001b[39m         \u001b[38;5;66;03m# load genotype allele counts at SNP variants for each sample\u001b[39;00m\n\u001b[32m--> \u001b[39m\u001b[32m565\u001b[39m         df_haps = self.transcript_haplotypes(\n\u001b[32m    566\u001b[39m             transcript=transcript,\n\u001b[32m    567\u001b[39m             snp_query=snp_query,\n\u001b[32m    568\u001b[39m             sample_query=sample_query,\n",
      "\u001b[32m~/Software/malariagen-data-python/malariagen_data/anoph/hapclust.py\u001b[39m in \u001b[36m?\u001b[39m\u001b[34m(self, transcript, sample_sets, sample_query, analysis, snp_query, chunks, inline_array)\u001b[39m\n\u001b[32m    529\u001b[39m         sample_ids = ds_haps[\u001b[33m\"sample_id\"\u001b[39m].values\n\u001b[32m    530\u001b[39m \n\u001b[32m    531\u001b[39m         \u001b[38;5;66;03m# Filter df_eff to haplotypes, and filter haplotypes to SNPs present in df_eff\u001b[39;00m\n\u001b[32m    532\u001b[39m         df_eff = df_eff.query(\u001b[33m\"pos_alt in @h_pos_alts\"\u001b[39m)\n\u001b[32m--> \u001b[39m\u001b[32m533\u001b[39m         label = df_eff.label.values\n\u001b[32m    534\u001b[39m         haps_bool = np.isin(h_pos_alts, df_eff.pos_alt)\n\u001b[32m    535\u001b[39m         haps = haps.compress(haps_bool)\n\u001b[32m    536\u001b[39m \n",
      "\u001b[32m~/apps/miniforge3/lib/python3.12/site-packages/pandas/core/generic.py\u001b[39m in \u001b[36m?\u001b[39m\u001b[34m(self, name)\u001b[39m\n\u001b[32m   6295\u001b[39m             \u001b[38;5;28;01mand\u001b[39;00m name \u001b[38;5;28;01mnot\u001b[39;00m \u001b[38;5;28;01min\u001b[39;00m self._accessors\n\u001b[32m   6296\u001b[39m             \u001b[38;5;28;01mand\u001b[39;00m self._info_axis._can_hold_identifiers_and_holds_name(name)\n\u001b[32m   6297\u001b[39m         ):\n\u001b[32m   6298\u001b[39m             \u001b[38;5;28;01mreturn\u001b[39;00m self[name]\n\u001b[32m-> \u001b[39m\u001b[32m6299\u001b[39m         \u001b[38;5;28;01mreturn\u001b[39;00m object.__getattribute__(self, name)\n",
      "\u001b[31mAttributeError\u001b[39m: 'DataFrame' object has no attribute 'label'"
     ]
    }
   ],
   "source": [
    "ag3.plot_haplotype_clustering_advanced(\n",
    "    region=\"2R:28,480,000-28,490,000\",\n",
    "    sample_sets=[\"3.0\"],\n",
    "    sample_query=\"taxon == 'arabiensis'\",\n",
    "    analysis=\"gamb_colu_arab\",\n",
    "    # symbol=new_cohorts,\n",
    "    color=\"year\",\n",
    "    cohort_size=None,\n",
    "    snp_transcript=\"AGAP002862-RA\",\n",
    "    # width=1000,\n",
    "    # height=400,\n",
    ")"
   ]
  },
  {
   "attachments": {},
   "cell_type": "markdown",
   "id": "6016ee62",
   "metadata": {},
   "source": [
    "## Af1"
   ]
  },
  {
   "cell_type": "code",
   "execution_count": null,
   "id": "87f36d07",
   "metadata": {},
   "outputs": [],
   "source": [
    "af1 = malariagen_data.Af1(\n",
    "    \"simplecache::gs://vo_afun_release_master_us_central1\",\n",
    "    simplecache=dict(cache_storage=\"../gcs_cache\"),\n",
    "    debug=False,\n",
    "    pre=True,\n",
    ")\n",
    "af1"
   ]
  },
  {
   "cell_type": "code",
   "execution_count": null,
   "id": "e1f68c6c",
   "metadata": {},
   "outputs": [],
   "source": [
    "af1.plot_haplotype_clustering(\n",
    "    region=\"2RL:2,410,000-2,430,000\",\n",
    "    sample_sets=[\"1240-VO-CD-KOEKEMOER-VMF00099\", \"1240-VO-MZ-KOEKEMOER-VMF00101\"],\n",
    "    color=\"sample_set\",\n",
    "    symbol=\"country\",\n",
    "    linkage_method=\"single\",\n",
    "    width=1000,\n",
    "    height=500,\n",
    "    count_sort=True,\n",
    "    distance_sort=False,\n",
    ")"
   ]
  },
  {
   "cell_type": "code",
   "execution_count": null,
   "id": "5bc93110",
   "metadata": {},
   "outputs": [],
   "source": [
    "af1.plot_haplotype_clustering(\n",
    "    region=\"2RL:28,545,000-28,550,000\",\n",
    "    sample_sets=[\"1240-VO-CD-KOEKEMOER-VMF00099\", \"1240-VO-MZ-KOEKEMOER-VMF00101\"],\n",
    "    color=\"country\",\n",
    "    symbol=\"sample_set\",\n",
    "    cohort_size=80,\n",
    "    linkage_method=\"weighted\",\n",
    "    count_sort=True,\n",
    "    width=1200,\n",
    "    height=600,\n",
    ")"
   ]
  },
  {
   "cell_type": "code",
   "execution_count": null,
   "id": "45bdce7c",
   "metadata": {},
   "outputs": [],
   "source": [
    "af1.plot_haplotype_clustering(\n",
    "    region=\"2RL:28,480,000-28,490,000\",\n",
    "    sample_sets=[\"1.0\"],\n",
    "    sample_query=\"country == 'Ghana'\",\n",
    "    color=\"sample_set\",\n",
    "    cohort_size=None,\n",
    "    width=1000,\n",
    "    height=400,\n",
    ")"
   ]
  },
  {
   "cell_type": "code",
   "execution_count": null,
   "id": "5979cca3",
   "metadata": {},
   "outputs": [],
   "source": []
  }
 ],
 "metadata": {
  "kernelspec": {
   "display_name": "base",
   "language": "python",
   "name": "python3"
  },
  "language_info": {
   "codemirror_mode": {
    "name": "ipython",
    "version": 3
   },
   "file_extension": ".py",
   "mimetype": "text/x-python",
   "name": "python",
   "nbconvert_exporter": "python",
   "pygments_lexer": "ipython3",
   "version": "3.12.8"
  },
  "widgets": {
   "application/vnd.jupyter.widget-state+json": {
    "state": {},
    "version_major": 2,
    "version_minor": 0
   }
  }
 },
 "nbformat": 4,
 "nbformat_minor": 5
}
