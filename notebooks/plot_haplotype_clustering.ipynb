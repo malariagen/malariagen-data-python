{
 "cells": [
  {
   "cell_type": "code",
   "execution_count": null,
   "id": "d3f73666",
   "metadata": {},
   "outputs": [],
   "source": [
    "import malariagen_data"
   ]
  },
  {
   "attachments": {},
   "cell_type": "markdown",
   "id": "0b889fd3",
   "metadata": {},
   "source": [
    "## Ag3"
   ]
  },
  {
   "cell_type": "code",
   "execution_count": null,
   "id": "38abbb28",
   "metadata": {},
   "outputs": [],
   "source": [
    "ag3 = malariagen_data.Ag3(\n",
    "    \"simplecache::gs://vo_agam_release\",\n",
    "    simplecache=dict(cache_storage=\"../gcs_cache\"),\n",
    "    debug=False,\n",
    "    pre=True,\n",
    ")\n",
    "ag3"
   ]
  },
  {
   "cell_type": "code",
   "execution_count": null,
   "id": "ccb2366f",
   "metadata": {
    "scrolled": false
   },
   "outputs": [],
   "source": [
    "ag3.plot_haplotype_clustering(\n",
    "    region=\"2L:2,410,000-2,430,000\",\n",
    "    sample_sets=[\"AG1000G-GH\", \"AG1000G-BF-B\"],\n",
    "    analysis=\"gamb_colu\",\n",
    "    color=\"taxon\",\n",
    "    symbol=\"country\",\n",
    "    linkage_method=\"single\",\n",
    "    width=1000,\n",
    "    height=500,\n",
    "    count_sort=True,\n",
    "    distance_sort=False,\n",
    ")"
   ]
  },
  {
   "cell_type": "code",
   "execution_count": null,
   "id": "857145af",
   "metadata": {},
   "outputs": [],
   "source": [
    "ag3.plot_haplotype_clustering(\n",
    "    region=\"2L:28,545,000-28,550,000\",\n",
    "    sample_sets=[\"AG1000G-GH\", \"1244-VO-GH-YAWSON-VMF00051\"],\n",
    "    analysis=\"gamb_colu\",\n",
    "    color=\"country\",\n",
    "    symbol=\"taxon\",\n",
    "    cohort_size=500,\n",
    "    linkage_method=\"weighted\",\n",
    "    count_sort=True,\n",
    "    width=1200,\n",
    "    height=600,\n",
    ")"
   ]
  },
  {
   "cell_type": "code",
   "execution_count": null,
   "id": "f41b7e63",
   "metadata": {
    "scrolled": false
   },
   "outputs": [],
   "source": [
    "ag3.plot_haplotype_clustering(\n",
    "    region=\"2R:28,480,000-28,490,000\",\n",
    "    sample_sets=[\"3.0\"],\n",
    "    sample_query=\"taxon == 'arabiensis'\",\n",
    "    analysis=\"gamb_colu_arab\",\n",
    "    color=\"sample_set\",\n",
    "    cohort_size=None,\n",
    "    width=1000,\n",
    "    height=400,\n",
    ")"
   ]
  },
  {
   "attachments": {},
   "cell_type": "markdown",
   "id": "6016ee62",
   "metadata": {},
   "source": [
    "## Af1"
   ]
  },
  {
   "cell_type": "code",
   "execution_count": null,
   "id": "87f36d07",
   "metadata": {},
   "outputs": [],
   "source": [
    "af1 = malariagen_data.Af1(\n",
    "    \"simplecache::gs://vo_afun_release\",\n",
    "    simplecache=dict(cache_storage=\"../gcs_cache\"),\n",
    "    debug=False,\n",
    "    pre=True,\n",
    ")\n",
    "af1"
   ]
  },
  {
   "cell_type": "code",
   "execution_count": null,
   "id": "e1f68c6c",
   "metadata": {
    "scrolled": false
   },
   "outputs": [],
   "source": [
    "af1.plot_haplotype_clustering(\n",
    "    region=\"2RL:2,410,000-2,430,000\",\n",
    "    sample_sets=[\"1240-VO-CD-KOEKEMOER-VMF00099\", \"1240-VO-MZ-KOEKEMOER-VMF00101\"],\n",
    "    color=\"sample_set\",\n",
    "    symbol=\"country\",\n",
    "    linkage_method=\"single\",\n",
    "    width=1000,\n",
    "    height=500,\n",
    "    count_sort=True,\n",
    "    distance_sort=False,\n",
    ")"
   ]
  },
  {
   "cell_type": "code",
   "execution_count": null,
   "id": "5bc93110",
   "metadata": {},
   "outputs": [],
   "source": [
    "af1.plot_haplotype_clustering(\n",
    "    region=\"2RL:28,545,000-28,550,000\",\n",
    "    sample_sets=[\"1240-VO-CD-KOEKEMOER-VMF00099\", \"1240-VO-MZ-KOEKEMOER-VMF00101\"],\n",
    "    color=\"country\",\n",
    "    symbol=\"sample_set\",\n",
    "    cohort_size=80,\n",
    "    linkage_method=\"weighted\",\n",
    "    count_sort=True,\n",
    "    width=1200,\n",
    "    height=600,\n",
    ")"
   ]
  },
  {
   "cell_type": "code",
   "execution_count": null,
   "id": "45bdce7c",
   "metadata": {
    "scrolled": false
   },
   "outputs": [],
   "source": [
    "af1.plot_haplotype_clustering(\n",
    "    region=\"2RL:28,480,000-28,490,000\",\n",
    "    sample_sets=[\"1.0\"],\n",
    "    sample_query=\"country == 'Ghana'\",\n",
    "    color=\"sample_set\",\n",
    "    cohort_size=None,\n",
    "    width=1000,\n",
    "    height=400,\n",
    ")"
   ]
  },
  {
   "cell_type": "code",
   "execution_count": null,
   "id": "5979cca3",
   "metadata": {},
   "outputs": [],
   "source": []
  }
 ],
 "metadata": {
  "kernelspec": {
   "display_name": "Python 3.8.9 ('malariagen-data-ea_k69mu-py3.8')",
   "language": "python",
   "name": "python3"
  },
  "language_info": {
   "codemirror_mode": {
    "name": "ipython",
    "version": 3
   },
   "file_extension": ".py",
   "mimetype": "text/x-python",
   "name": "python",
   "nbconvert_exporter": "python",
   "pygments_lexer": "ipython3",
   "version": "3.8.16"
  },
  "vscode": {
   "interpreter": {
    "hash": "3b9ddb1005cd06989fd869b9e3d566470f1be01faa610bb17d64e58e32302e8b"
   }
  }
 },
 "nbformat": 4,
 "nbformat_minor": 5
}
