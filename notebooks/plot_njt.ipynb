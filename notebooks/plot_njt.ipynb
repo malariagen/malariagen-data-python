{
 "cells": [
  {
   "cell_type": "code",
   "execution_count": null,
   "id": "3139f0e8-e82f-4d3d-a031-bc9c2d92edd8",
   "metadata": {},
   "outputs": [],
   "source": [
    "import malariagen_data"
   ]
  },
  {
   "cell_type": "code",
   "execution_count": null,
   "id": "3112b35f-d951-441e-a850-59615aa1f9ec",
   "metadata": {},
   "outputs": [],
   "source": [
    "ag3 = malariagen_data.Ag3(\n",
    "    \"simplecache::gs://vo_agam_release\",\n",
    "    simplecache=dict(cache_storage=\"../gcs_cache\"),\n",
    "    results_cache=\"results_cache\",\n",
    ")\n",
    "ag3"
   ]
  },
  {
   "cell_type": "code",
   "execution_count": null,
   "id": "1e83d8ad-e20e-449b-8601-150540e6dd82",
   "metadata": {},
   "outputs": [],
   "source": [
    "!rm -rf results_cache"
   ]
  },
  {
   "cell_type": "code",
   "execution_count": null,
   "id": "5f86a798-51c8-4c79-ac60-e7520ab9a503",
   "metadata": {},
   "outputs": [],
   "source": [
    "ag3.plot_njt(\n",
    "    region=\"3L:15,000,000-16,000,000\",\n",
    "    sample_sets=\"AG1000G-BF-A\",\n",
    "    n_snps=10_000,\n",
    "    leaf_legend=False,\n",
    ")"
   ]
  },
  {
   "cell_type": "code",
   "execution_count": null,
   "id": "392e6c4c-512f-4a80-bbe9-932280a4efdb",
   "metadata": {},
   "outputs": [],
   "source": [
    "ag3.plot_njt(\n",
    "    region=\"3L:15,000,000-16,000,000\",\n",
    "    sample_sets=\"AG1000G-BF-A\",\n",
    "    n_snps=10_000,\n",
    "    color=\"taxon\",\n",
    "    width=700,\n",
    ")"
   ]
  },
  {
   "cell_type": "code",
   "execution_count": null,
   "id": "4437435f-d3b3-4ad6-9e62-6e5f6f01edea",
   "metadata": {},
   "outputs": [],
   "source": [
    "ag3.plot_njt(\n",
    "    region=\"3L:15,000,000-16,000,000\",\n",
    "    sample_sets=\"AG1000G-BF-A\",\n",
    "    n_snps=10_000,\n",
    "    color=\"taxon\",\n",
    "    width=700,\n",
    "    legend_sizing=\"constant\",\n",
    "    category_orders=dict(taxon=[\"coluzzii\", \"gambiae\"]),\n",
    ")"
   ]
  },
  {
   "cell_type": "code",
   "execution_count": null,
   "id": "664a9d48-001e-40ed-8901-08bccb2184ba",
   "metadata": {},
   "outputs": [],
   "source": [
    "ag3.plot_njt(\n",
    "    region=\"3L:15,000,000-16,000,000\",\n",
    "    sample_sets=\"AG1000G-BF-A\",\n",
    "    n_snps=10_000,\n",
    "    color=\"taxon\",\n",
    "    width=700,\n",
    "    edge_legend=True,\n",
    ")"
   ]
  },
  {
   "cell_type": "code",
   "execution_count": null,
   "id": "76405cc3-6cdd-4067-a2cb-71095d2c28b3",
   "metadata": {},
   "outputs": [],
   "source": [
    "ag3.plot_njt(\n",
    "    region=\"3L:15,000,000-16,000,000\",\n",
    "    sample_sets=\"AG1000G-BF-A\",\n",
    "    n_snps=10_000,\n",
    "    color=\"taxon\",\n",
    "    width=700,\n",
    "    leaf_legend=False,\n",
    "    edge_legend=True,\n",
    ")"
   ]
  },
  {
   "cell_type": "code",
   "execution_count": null,
   "id": "972f4787-7c2b-47e2-859c-cd1cc800d92e",
   "metadata": {},
   "outputs": [],
   "source": [
    "ag3.plot_njt(\n",
    "    region=\"3L:15,000,000-16,000,000\",\n",
    "    sample_sets=\"AG1000G-BF-A\",\n",
    "    n_snps=10_000,\n",
    "    color=\"taxon\",\n",
    "    distance_sort=True,\n",
    ")"
   ]
  },
  {
   "cell_type": "code",
   "execution_count": null,
   "id": "95d20897-6100-4b11-a3e6-38155feb98c2",
   "metadata": {},
   "outputs": [],
   "source": [
    "ag3.plot_njt(\n",
    "    region=\"3L:15,000,000-16,000,000\",\n",
    "    sample_sets=\"AG1000G-BF-A\",\n",
    "    n_snps=10_000,\n",
    "    color=\"location\",\n",
    ")"
   ]
  },
  {
   "cell_type": "code",
   "execution_count": null,
   "id": "5bf936d6-5dc0-409c-828d-7af326102d41",
   "metadata": {},
   "outputs": [],
   "source": [
    "ag3.plot_njt(\n",
    "    region=\"3L:15,000,000-16,000,000\",\n",
    "    sample_sets=\"AG1000G-BF-A\",\n",
    "    n_snps=10_000,\n",
    "    color=\"location\",\n",
    "    symbol=\"taxon\",\n",
    "    edge_legend=False,\n",
    ")"
   ]
  },
  {
   "cell_type": "code",
   "execution_count": null,
   "id": "8ea0532c-58f4-4bdf-bd56-0bdfb245e060",
   "metadata": {},
   "outputs": [],
   "source": [
    "ag3.plot_njt(\n",
    "    region=\"3L:15,000,000-16,000,000\",\n",
    "    sample_sets=\"AG1000G-BF-A\",\n",
    "    n_snps=10_000,\n",
    "    color=\"location\",\n",
    "    symbol=\"taxon\",\n",
    "    leaf_legend=False,\n",
    "    title=None,\n",
    ")"
   ]
  },
  {
   "cell_type": "code",
   "execution_count": null,
   "id": "2335937a-eec7-4d9e-b4ca-b737ff481cd6",
   "metadata": {},
   "outputs": [],
   "source": [
    "ag3.plot_njt(\n",
    "    region=\"3L:15,000,000-16,000,000\",\n",
    "    sample_sets=[\"AG1000G-BF-A\", \"AG1000G-BF-B\"],\n",
    "    n_snps=10_000,\n",
    "    color=\"admin1_year\",\n",
    "    symbol=\"taxon\",\n",
    ")"
   ]
  },
  {
   "cell_type": "code",
   "execution_count": null,
   "id": "68fb01ae-2567-4c13-b0a3-5890b38165d5",
   "metadata": {},
   "outputs": [],
   "source": [
    "ag3.plot_njt(\n",
    "    region=\"3L:15,000,000-16,000,000\",\n",
    "    sample_sets=[\"AG1000G-BF-A\", \"AG1000G-BF-B\"],\n",
    "    n_snps=10_000,\n",
    "    color=\"taxon\",\n",
    "    symbol=\"admin2_month\",\n",
    ")"
   ]
  },
  {
   "cell_type": "code",
   "execution_count": null,
   "id": "2f1139fe-9c06-420f-855f-e3900186768a",
   "metadata": {},
   "outputs": [],
   "source": [
    "ag3.plot_njt(\n",
    "    region=\"3L:15,000,000-16,000,000\",\n",
    "    sample_sets=[\"AG1000G-BF-A\", \"AG1000G-UG\"],\n",
    "    sample_query=\"taxon == 'gambiae'\",\n",
    "    n_snps=10_000,\n",
    "    color=\"country\",\n",
    ")"
   ]
  },
  {
   "cell_type": "code",
   "execution_count": null,
   "id": "3f8f8976-0080-4f44-b665-1534980f0da1",
   "metadata": {},
   "outputs": [],
   "source": [
    "ag3.plot_njt(\n",
    "    region=\"3L:15,000,000-16,000,000\",\n",
    "    sample_sets=[\"AG1000G-BF-A\", \"AG1000G-UG\"],\n",
    "    sample_query=\"taxon == 'gambiae'\",\n",
    "    n_snps=10_000,\n",
    "    color=\"country\",\n",
    "    metric=\"euclidean\",\n",
    ")"
   ]
  },
  {
   "cell_type": "code",
   "execution_count": null,
   "id": "72155de8-c657-4530-af38-82e0248b85a8",
   "metadata": {},
   "outputs": [],
   "source": [
    "af1 = malariagen_data.Af1(\n",
    "    \"simplecache::gs://vo_afun_release\",\n",
    "    simplecache=dict(cache_storage=\"../gcs_cache\"),\n",
    "    results_cache=\"results_cache\",\n",
    ")\n",
    "af1"
   ]
  },
  {
   "cell_type": "code",
   "execution_count": null,
   "id": "69aec527-1351-44ba-b394-681fd3d424dd",
   "metadata": {},
   "outputs": [],
   "source": [
    "af1.plot_njt(\n",
    "    n_snps=10_000,\n",
    "    region=\"3RL:15,000,000-16,000,000\",\n",
    "    sample_sets=\"1.0\",\n",
    "    color=\"country\",\n",
    ")"
   ]
  },
  {
   "cell_type": "code",
   "execution_count": null,
   "id": "38a2817d-933e-46f8-af0a-fedeb7370a38",
   "metadata": {},
   "outputs": [],
   "source": [
    "af1.plot_njt(\n",
    "    n_snps=10_000,\n",
    "    region=\"3RL:15,000,000-16,000,000\",\n",
    "    sample_sets=\"1.0\",\n",
    "    color=\"country\",\n",
    "    metric=\"euclidean\",\n",
    "    distance_sort=True,\n",
    ")"
   ]
  },
  {
   "cell_type": "code",
   "execution_count": null,
   "id": "9c1dc76a-1fea-49ee-9341-a7542b2a74f0",
   "metadata": {},
   "outputs": [],
   "source": [
    "new_cohorts = {\n",
    "    \"East\": \"country in ['Malawi', 'Tanzania', 'Kenya', 'Uganda']\",\n",
    "    \"West\": \"country in ['Mali', 'Burkina Faso', 'Cameroon']\",\n",
    "}"
   ]
  },
  {
   "cell_type": "code",
   "execution_count": null,
   "id": "bc7b2566-ac5d-4ca0-bc91-0208fe9d2cb0",
   "metadata": {},
   "outputs": [],
   "source": [
    "af1.plot_njt(\n",
    "    n_snps=10_000,\n",
    "    region=\"3RL:15,000,000-16,000,000\",\n",
    "    sample_sets=\"1.0\",\n",
    "    color=new_cohorts,\n",
    "    metric=\"euclidean\",\n",
    "    distance_sort=True,\n",
    ")"
   ]
  },
  {
   "cell_type": "code",
   "execution_count": null,
   "id": "9f5cd515-4933-4f08-82cc-c0fa57e77fb3",
   "metadata": {},
   "outputs": [],
   "source": []
  }
 ],
 "metadata": {
  "kernelspec": {
   "display_name": "Python 3 (ipykernel)",
   "language": "python",
   "name": "python3"
  },
  "language_info": {
   "codemirror_mode": {
    "name": "ipython",
    "version": 3
   },
   "file_extension": ".py",
   "mimetype": "text/x-python",
   "name": "python",
   "nbconvert_exporter": "python",
   "pygments_lexer": "ipython3",
   "version": "3.8.18"
  }
 },
 "nbformat": 4,
 "nbformat_minor": 5
}
