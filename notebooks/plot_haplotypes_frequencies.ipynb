{
 "cells": [
  {
   "cell_type": "markdown",
   "id": "74a45bfa-2af5-4a9d-9285-84f34a82d986",
   "metadata": {},
   "source": [
    "# Ag3"
   ]
  },
  {
   "cell_type": "code",
   "execution_count": null,
   "id": "a46f23bf-2635-4249-b115-aa8cfd35d33f",
   "metadata": {},
   "outputs": [],
   "source": [
    "import malariagen_data\n",
    "\n",
    "ag3 = malariagen_data.Ag3(\n",
    "    \"simplecache::gs://vo_agam_release_master_us_central1\",\n",
    "    simplecache=dict(cache_storage=\"../gcs_cache\"),\n",
    "    cohorts_analysis=\"20230516\",\n",
    ")\n",
    "ag3"
   ]
  },
  {
   "cell_type": "code",
   "execution_count": null,
   "id": "8130522f-98de-463f-83fd-a1c1c460e00e",
   "metadata": {},
   "outputs": [],
   "source": [
    "hap_df = ag3.haplotypes_frequencies(\"2L:2,358,158-2,431,617\", \"admin1_year\", sample_sets=(\"AG1000G-BF-A\", \"AG1000G-BF-B\", \"AG1000G-BF-C\"))\n",
    "hap_df"
   ]
  },
  {
   "cell_type": "code",
   "execution_count": null,
   "id": "2cefad62-e558-4797-9d1a-4b501ad364b0",
   "metadata": {},
   "outputs": [],
   "source": [
    "ag3.plot_frequencies_heatmap(hap_df.query(\"max_af > .05\"))"
   ]
  },
  {
   "cell_type": "code",
   "execution_count": null,
   "id": "6bac8aca-8835-43b7-84c0-f6eb62594d91",
   "metadata": {},
   "outputs": [],
   "source": [
    "hap_xr = ag3.haplotypes_frequencies_advanced(region=\"2L:2,358,158-2,431,617\", area_by=\"admin1_iso\", period_by=\"year\", sample_sets = [\"AG1000G-BF-A\", \"AG1000G-BF-B\"])"
   ]
  },
  {
   "cell_type": "code",
   "execution_count": null,
   "id": "2770b59a-6b6d-4458-99cf-cdf08e47ddac",
   "metadata": {},
   "outputs": [],
   "source": [
    "ag3.plot_frequencies_time_series(hap_xr)"
   ]
  },
  {
   "cell_type": "markdown",
   "id": "a771fda2-ae68-46bc-b38e-2f4ba6b41b71",
   "metadata": {},
   "source": [
    "# Af1"
   ]
  },
  {
   "cell_type": "code",
   "execution_count": null,
   "id": "415cc454-ffdd-4bff-8881-95180bcf66f6",
   "metadata": {},
   "outputs": [],
   "source": [
    "af1 = malariagen_data.Af1(\n",
    "    \"simplecache::gs://vo_afun_release_master_us_central1\",\n",
    "    simplecache=dict(cache_storage=\"../gcs_cache\"),\n",
    ")\n",
    "af1"
   ]
  },
  {
   "cell_type": "code",
   "execution_count": null,
   "id": "5d8fb2b5-5b49-4856-8e1c-895174e32f04",
   "metadata": {},
   "outputs": [],
   "source": [
    "hap_xr = af1.haplotypes_frequencies_advanced(\n",
    "    region=\"2RL:2,358,158-2,431,617\",\n",
    "    area_by=\"admin1_iso\",\n",
    "    period_by=\"year\",\n",
    "    sample_sets=[\"1232-VO-KE-OCHOMO-VMF00044\"],\n",
    "    min_cohort_size=10,\n",
    ")\n",
    "ag3.plot_frequencies_time_series(hap_xr)"
   ]
  },
  {
   "cell_type": "code",
   "execution_count": null,
   "id": "ef2cb769-4a8d-49fe-8e28-c9dc1af0159d",
   "metadata": {},
   "outputs": [],
   "source": []
  }
 ],
 "metadata": {
  "kernelspec": {
   "display_name": "Python 3 (ipykernel)",
   "language": "python",
   "name": "python3"
  },
  "language_info": {
   "codemirror_mode": {
    "name": "ipython",
    "version": 3
   },
   "file_extension": ".py",
   "mimetype": "text/x-python",
   "name": "python",
   "nbconvert_exporter": "python",
   "pygments_lexer": "ipython3",
   "version": "3.10.11"
  }
 },
 "nbformat": 4,
 "nbformat_minor": 5
}
