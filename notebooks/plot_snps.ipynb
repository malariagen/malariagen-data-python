{
 "cells": [
  {
   "cell_type": "code",
   "execution_count": null,
   "id": "14640993",
   "metadata": {
    "tags": []
   },
   "outputs": [],
   "source": [
    "import malariagen_data"
   ]
  },
  {
   "cell_type": "code",
   "execution_count": null,
   "id": "5d740cac",
   "metadata": {
    "tags": []
   },
   "outputs": [],
   "source": [
    "ag3 = malariagen_data.Ag3(\n",
    "    \"simplecache::gs://vo_agam_release_master_us_central1\",\n",
    "    simplecache=dict(cache_storage=\"../gcs_cache\"),\n",
    ")\n",
    "ag3"
   ]
  },
  {
   "cell_type": "code",
   "execution_count": null,
   "id": "bd576b75",
   "metadata": {
    "tags": []
   },
   "outputs": [],
   "source": [
    "ag3.snp_variants(region=\"3L\")"
   ]
  },
  {
   "cell_type": "code",
   "execution_count": null,
   "id": "7de3ba82",
   "metadata": {
    "tags": []
   },
   "outputs": [],
   "source": [
    "ds = ag3.snp_calls(region=\"3L\", sample_sets=\"AG1000G-FR\")\n",
    "ds"
   ]
  },
  {
   "cell_type": "code",
   "execution_count": null,
   "id": "3a3de267-affa-46e6-92b9-d07553cad816",
   "metadata": {},
   "outputs": [],
   "source": [
    "ds[\"variant_position\"]"
   ]
  },
  {
   "cell_type": "code",
   "execution_count": null,
   "id": "2c66985f-592b-4fb5-a560-5cdedb472bee",
   "metadata": {},
   "outputs": [],
   "source": [
    "ds[\"call_genotype\"]"
   ]
  },
  {
   "cell_type": "code",
   "execution_count": null,
   "id": "82096dc0",
   "metadata": {
    "tags": []
   },
   "outputs": [],
   "source": [
    "ag3.plot_snps_track(region=\"2L:2,350,000-2,450,000\", sample_sets=\"AG1000G-FR\")"
   ]
  },
  {
   "cell_type": "code",
   "execution_count": null,
   "id": "10c340aa",
   "metadata": {},
   "outputs": [],
   "source": [
    "ag3.plot_snps_track(region=\"2L:2,363,000-2,364,000\", sample_sets=\"AG1000G-FR\")"
   ]
  },
  {
   "cell_type": "code",
   "execution_count": null,
   "id": "e8e463dd",
   "metadata": {},
   "outputs": [],
   "source": [
    "ag3.plot_snps_track(region=\"2L:2,364,000-2,366,000\", sample_sets=\"AG1000G-FR\")"
   ]
  },
  {
   "cell_type": "code",
   "execution_count": null,
   "id": "7fb757a7",
   "metadata": {},
   "outputs": [],
   "source": [
    "ag3.plot_snps_track(region=\"2L:2,364,000-2,364,500\", sample_sets=\"AG1000G-FR\")"
   ]
  },
  {
   "cell_type": "code",
   "execution_count": null,
   "id": "0e3a8961",
   "metadata": {
    "tags": []
   },
   "outputs": [],
   "source": [
    "ag3.plot_snps_track(\n",
    "    region=\"2L:2,350,000-2,450,000\", sample_sets=\"AG1000G-BF-A\", cohort_size=20\n",
    ")"
   ]
  },
  {
   "cell_type": "code",
   "execution_count": null,
   "id": "63aca10c",
   "metadata": {
    "tags": []
   },
   "outputs": [],
   "source": [
    "ag3.plot_snps(region=\"2L:2,350,000-2,450,000\", sample_sets=\"AG1000G-FR\")"
   ]
  },
  {
   "cell_type": "code",
   "execution_count": null,
   "id": "6fb5216e",
   "metadata": {
    "tags": []
   },
   "outputs": [],
   "source": [
    "ag3.plot_snps(\n",
    "    region=\"3R:28,550,000-28,650,000\", sample_sets=\"AG1000G-BF-A\", cohort_size=10\n",
    ")"
   ]
  },
  {
   "cell_type": "code",
   "execution_count": null,
   "id": "0d88ceb5",
   "metadata": {
    "tags": []
   },
   "outputs": [],
   "source": [
    "af1 = malariagen_data.Af1(\n",
    "    \"simplecache::gs://vo_afun_release_master_us_central1\",\n",
    "    simplecache=dict(cache_storage=\"../gcs_cache\"),\n",
    ")\n",
    "af1"
   ]
  },
  {
   "cell_type": "code",
   "execution_count": null,
   "id": "0c98cabe",
   "metadata": {
    "tags": []
   },
   "outputs": [],
   "source": [
    "af1.snp_variants(region=\"3RL\")"
   ]
  },
  {
   "cell_type": "code",
   "execution_count": null,
   "id": "8a7c297d",
   "metadata": {
    "tags": []
   },
   "outputs": [],
   "source": [
    "af1.sample_sets()"
   ]
  },
  {
   "cell_type": "code",
   "execution_count": null,
   "id": "d0552711",
   "metadata": {
    "tags": []
   },
   "outputs": [],
   "source": [
    "af1.snp_calls(region=\"3RL\", sample_sets=\"1229-VO-GH-DADZIE-VMF00095\")"
   ]
  },
  {
   "cell_type": "code",
   "execution_count": null,
   "id": "d269e02e",
   "metadata": {
    "tags": []
   },
   "outputs": [],
   "source": [
    "af1.plot_snps_track(\n",
    "    region=\"2RL:2,420,000-2,450,000\", sample_sets=\"1229-VO-GH-DADZIE-VMF00095\"\n",
    ")"
   ]
  },
  {
   "cell_type": "code",
   "execution_count": null,
   "id": "872c56ab",
   "metadata": {
    "tags": []
   },
   "outputs": [],
   "source": [
    "af1.plot_snps(\n",
    "    region=\"2RL:2,420,000-2,450,000\", sample_sets=\"1229-VO-GH-DADZIE-VMF00095\"\n",
    ")"
   ]
  },
  {
   "cell_type": "code",
   "execution_count": null,
   "id": "c24a21ab",
   "metadata": {
    "tags": []
   },
   "outputs": [],
   "source": [
    "af1.plot_snps(\n",
    "    region=\"2RL:2,420,000-2,450,000\",\n",
    "    sample_sets=\"1229-VO-GH-DADZIE-VMF00095\",\n",
    "    cohort_size=10,\n",
    ")"
   ]
  },
  {
   "cell_type": "code",
   "execution_count": null,
   "id": "60280e52",
   "metadata": {},
   "outputs": [],
   "source": []
  }
 ],
 "metadata": {
  "kernelspec": {
   "display_name": "Python 3 (ipykernel)",
   "language": "python",
   "name": "python3"
  },
  "language_info": {
   "codemirror_mode": {
    "name": "ipython",
    "version": 3
   },
   "file_extension": ".py",
   "mimetype": "text/x-python",
   "name": "python",
   "nbconvert_exporter": "python",
   "pygments_lexer": "ipython3",
   "version": "3.10.12"
  },
  "widgets": {
   "application/vnd.jupyter.widget-state+json": {
    "state": {},
    "version_major": 2,
    "version_minor": 0
   }
  }
 },
 "nbformat": 4,
 "nbformat_minor": 5
}
