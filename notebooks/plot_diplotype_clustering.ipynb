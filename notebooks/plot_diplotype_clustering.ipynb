{
 "cells": [
  {
   "cell_type": "code",
   "execution_count": null,
   "id": "d3f73666",
   "metadata": {},
   "outputs": [],
   "source": [
    "import malariagen_data"
   ]
  },
  {
   "cell_type": "markdown",
   "id": "0b889fd3",
   "metadata": {},
   "source": [
    "## Ag3"
   ]
  },
  {
   "cell_type": "code",
   "execution_count": null,
   "id": "ae9caa20-bdce-4b69-81f9-32d560caa5a2",
   "metadata": {},
   "outputs": [],
   "source": [
    "ag3 = malariagen_data.Ag3(\n",
    "    \"simplecache::gs://vo_agam_release\",\n",
    "    simplecache=dict(cache_storage=\"../gcs_cache\"),\n",
    "    results_cache=\"results_cache\",\n",
    ")\n",
    "ag3"
   ]
  },
  {
   "cell_type": "code",
   "execution_count": null,
   "id": "92a9bdfd-d808-4c07-8bdd-f2eb3d1e5614",
   "metadata": {},
   "outputs": [],
   "source": [
    "ag3.plot_diplotype_clustering_advanced(\n",
    "    region='2L:2,350,000-2,410,000',\n",
    "    snp_transcript='AGAP004707-RD',\n",
    "    snp_query=\"effect == 'NON_SYNONYMOUS_CODING'\",\n",
    "    snp_filter_min_maf=0.05,\n",
    "    sample_sets=\"AG1000G-GH\",\n",
    "    site_mask=\"gamb_colu\",\n",
    "    color=\"taxon\",\n",
    "    symbol=\"country\",\n",
    "    linkage_method=\"complete\",\n",
    "    count_sort=True,\n",
    "    distance_sort=False,\n",
    ")"
   ]
  },
  {
   "cell_type": "code",
   "execution_count": null,
   "id": "15d0bf3e-bbbe-4b67-a39d-c7ed5622cc3b",
   "metadata": {},
   "outputs": [],
   "source": [
    "fig = ag3.plot_diplotype_clustering_advanced(\n",
    "    region=\"2R:28,480,000-28,500,000\",\n",
    "    cnv_region=\"2R:28,480,000-28,500,000\",\n",
    "    snp_transcript='AGAP002862-RA',\n",
    "    snp_filter_min_maf=0.05,\n",
    "    sample_sets=\"AG1000G-GH\",\n",
    "    site_mask=\"gamb_colu\",\n",
    "    color=\"taxon\",\n",
    "    symbol=\"country\",\n",
    "    linkage_method=\"complete\",\n",
    "    count_sort=True,\n",
    "    distance_sort=False,\n",
    "    show=False,\n",
    ")\n",
    "fig"
   ]
  },
  {
   "cell_type": "code",
   "execution_count": null,
   "id": "b6976257-a5be-489f-940f-9e6c717394b1",
   "metadata": {},
   "outputs": [],
   "source": [
    "ag3.plot_diplotype_clustering_advanced(\n",
    "    region=\"2R:28,480,000-28,500,000\",\n",
    "    cnv_region = \"2R:28,480,000-28,500,000\",\n",
    "    snp_transcript='AGAP002862-RA',\n",
    "    sample_sets=[\"AG1000G-GH\", 'AG1000G-BF-A'],\n",
    "    snp_filter_min_maf=0.05,\n",
    "    site_mask=\"gamb_colu\",\n",
    "    color=\"taxon\",\n",
    "    symbol=\"country\",\n",
    "    linkage_method=\"complete\",\n",
    "    count_sort=True,\n",
    "    distance_sort=False,\n",
    ")"
   ]
  },
  {
   "cell_type": "code",
   "execution_count": null,
   "id": "ccb2366f",
   "metadata": {},
   "outputs": [],
   "source": [
    "ag3.plot_diplotype_clustering(\n",
    "    region=\"2L:2,410,000-2,430,000\",\n",
    "    sample_sets=[\"AG1000G-GH\", \"AG1000G-BF-B\"],\n",
    "    site_mask=\"gamb_colu\",\n",
    "    color=\"taxon\",\n",
    "    symbol=\"country\",\n",
    "    linkage_method=\"complete\",\n",
    "    width=1000,\n",
    "    height=500,\n",
    "    count_sort=True,\n",
    "    distance_sort=False,\n",
    ")"
   ]
  },
  {
   "cell_type": "code",
   "execution_count": null,
   "id": "c0420334-124d-4bab-9ef7-bb9ceb99d6f0",
   "metadata": {},
   "outputs": [],
   "source": [
    "ag3.plot_diplotype_clustering(\n",
    "    region=\"2L:2,410,000-2,430,000\",\n",
    "    sample_sets=[\"AG1000G-GH\", \"AG1000G-BF-B\"],\n",
    "    site_mask=None,\n",
    "    color=\"taxon\",\n",
    "    symbol=\"country\",\n",
    "    linkage_method=\"complete\",\n",
    "    count_sort=True,\n",
    "    distance_sort=False,\n",
    "    render_mode=\"svg\",\n",
    ")"
   ]
  },
  {
   "cell_type": "code",
   "execution_count": null,
   "id": "e957de19-af70-412a-8c75-2e6835ffb2cd",
   "metadata": {},
   "outputs": [],
   "source": [
    "ag3.plot_diplotype_clustering(\n",
    "    region=\"2L:2,410,000-2,430,000\",\n",
    "    sample_sets=[\"AG1000G-GH\", \"AG1000G-BF-B\"],\n",
    "    site_mask=\"gamb_colu\",\n",
    "    color=\"country\",\n",
    "    symbol=\"taxon\",\n",
    "    linkage_method=\"single\",\n",
    "    width=1000,\n",
    "    height=500,\n",
    "    count_sort=True,\n",
    "    distance_sort=False,\n",
    "    render_mode=\"webgl\",\n",
    ")"
   ]
  },
  {
   "cell_type": "code",
   "execution_count": null,
   "id": "857145af",
   "metadata": {},
   "outputs": [],
   "source": [
    "ag3.plot_diplotype_clustering(\n",
    "    region=\"2L:28,545,000-28,550,000\",\n",
    "    sample_sets=[\"AG1000G-GH\", \"1244-VO-GH-YAWSON-VMF00051\"],\n",
    "    site_mask=\"gamb_colu\",\n",
    "    color=\"admin1_name\",\n",
    "    symbol=\"taxon\",\n",
    "    cohort_size=500,\n",
    "    linkage_method=\"weighted\",\n",
    "    distance_metric=\"euclidean\",\n",
    "    count_sort=True,\n",
    "    width=1200,\n",
    "    height=600,\n",
    ")"
   ]
  },
  {
   "cell_type": "code",
   "execution_count": null,
   "id": "f41b7e63",
   "metadata": {},
   "outputs": [],
   "source": [
    "ag3.plot_diplotype_clustering(\n",
    "    region=\"2R:28,480,000-28,490,000\",\n",
    "    sample_sets=[\"3.0\"],\n",
    "    sample_query=\"taxon == 'arabiensis'\",\n",
    "    site_mask=\"gamb_colu_arab\",\n",
    "    color=\"sample_set\",\n",
    "    cohort_size=None,\n",
    "    width=1000,\n",
    "    height=400,\n",
    ")"
   ]
  },
  {
   "cell_type": "code",
   "execution_count": null,
   "id": "b93d6d94-1add-4ba4-8618-87a11c843e6e",
   "metadata": {},
   "outputs": [],
   "source": [
    "ag3.plot_diplotype_clustering(\n",
    "    region=\"2R:28,480,000-28,490,000\",\n",
    "    sample_sets=[\"3.0\"],\n",
    "    sample_query=\"taxon == 'arabiensis'\",\n",
    "    site_mask=\"gamb_colu_arab\",\n",
    "    color=\"admin1_year\",\n",
    "    cohort_size=None,\n",
    "    width=1000,\n",
    "    height=400,\n",
    ")"
   ]
  },
  {
   "cell_type": "code",
   "execution_count": null,
   "id": "5773cf5a-6040-4ed9-8bdd-01d7f16408a7",
   "metadata": {},
   "outputs": [],
   "source": [
    "ag3.plot_diplotype_clustering(\n",
    "    region=\"2R:28,480,000-28,490,000\",\n",
    "    sample_sets=[\"3.0\"],\n",
    "    sample_query=\"taxon == 'arabiensis'\",\n",
    "    site_mask=\"gamb_colu_arab\",\n",
    "    color=\"admin1_year\",\n",
    "    cohort_size=None,\n",
    "    width=1000,\n",
    "    height=400,\n",
    "    title=None,\n",
    ")"
   ]
  },
  {
   "cell_type": "code",
   "execution_count": null,
   "id": "52c159c8-1751-4be7-92d9-52bd17751259",
   "metadata": {},
   "outputs": [],
   "source": [
    "new_cohorts = {\n",
    "    \"East\": \"country in ['Malawi', 'Tanzania', 'Kenya', 'Uganda']\",\n",
    "    \"West\": \"country in ['Mali', 'Burkina Faso', 'Cameroon']\",\n",
    "}\n",
    "other_cohorts = {\n",
    "    \"East\": \"country in ['Malawi']\",\n",
    "    \"West\": \"country in ['Mali', 'Burkina Faso', 'Cameroon']\",\n",
    "}"
   ]
  },
  {
   "cell_type": "code",
   "execution_count": null,
   "id": "7bd7b04c-5401-4c1e-92eb-cae5b3d87851",
   "metadata": {},
   "outputs": [],
   "source": [
    "ag3.plot_diplotype_clustering(\n",
    "    region=\"2R:28,480,000-28,490,000\",\n",
    "    sample_sets=[\"3.0\"],\n",
    "    sample_query=\"taxon == 'arabiensis'\",\n",
    "    distance_metric=\"euclidean\",\n",
    "    site_mask=\"gamb_colu_arab\",\n",
    "    color=new_cohorts,\n",
    "    cohort_size=None,\n",
    "    width=1000,\n",
    "    height=400,\n",
    ")"
   ]
  },
  {
   "cell_type": "code",
   "execution_count": null,
   "id": "9f6415e6-8d0d-4446-9adb-58c5b236dbcc",
   "metadata": {},
   "outputs": [],
   "source": [
    "ag3.plot_diplotype_clustering(\n",
    "    region=\"2R:28,480,000-28,490,000\",\n",
    "    sample_sets=[\"3.0\"],\n",
    "    sample_query=\"taxon == 'arabiensis'\",\n",
    "    site_mask=\"gamb_colu_arab\",\n",
    "    color=other_cohorts,\n",
    "    cohort_size=None,\n",
    "    width=1000,\n",
    "    height=400,\n",
    ")"
   ]
  },
  {
   "cell_type": "code",
   "execution_count": null,
   "id": "31df6632-8025-4f55-9d5d-9d04978b1690",
   "metadata": {},
   "outputs": [],
   "source": [
    "ag3.plot_diplotype_clustering(\n",
    "    region=\"2R:28,480,000-28,490,000\",\n",
    "    sample_sets=[\"3.0\"],\n",
    "    sample_query=\"taxon == 'arabiensis'\",\n",
    "    site_mask=\"gamb_colu_arab\",\n",
    "    symbol=new_cohorts,\n",
    "    color=\"year\",\n",
    "    cohort_size=None,\n",
    "    width=1000,\n",
    "    height=400,\n",
    ")"
   ]
  },
  {
   "cell_type": "markdown",
   "id": "6016ee62",
   "metadata": {},
   "source": [
    "## Af1"
   ]
  },
  {
   "cell_type": "code",
   "execution_count": null,
   "id": "87f36d07",
   "metadata": {},
   "outputs": [],
   "source": [
    "af1 = malariagen_data.Af1(\n",
    "    \"simplecache::gs://vo_afun_release\",\n",
    "    simplecache=dict(cache_storage=\"../gcs_cache\"),\n",
    "    debug=False,\n",
    "    pre=True,\n",
    ")\n",
    "af1"
   ]
  },
  {
   "cell_type": "code",
   "execution_count": null,
   "id": "e1f68c6c",
   "metadata": {},
   "outputs": [],
   "source": [
    "af1.plot_diplotype_clustering(\n",
    "    region=\"2RL:2,410,000-2,430,000\",\n",
    "    sample_sets=[\"1240-VO-CD-KOEKEMOER-VMF00099\", \"1240-VO-MZ-KOEKEMOER-VMF00101\"],\n",
    "    color=\"sample_set\",\n",
    "    symbol=\"country\",\n",
    "    linkage_method=\"complete\",\n",
    "    distance_metric=\"euclidean\",\n",
    "    width=1000,\n",
    "    height=500,\n",
    "    count_sort=True,\n",
    "    distance_sort=False,\n",
    ")"
   ]
  },
  {
   "cell_type": "code",
   "execution_count": null,
   "id": "5bc93110",
   "metadata": {},
   "outputs": [],
   "source": [
    "af1.plot_diplotype_clustering(\n",
    "    region=\"2RL:28,545,000-28,550,000\",\n",
    "    sample_sets=[\"1240-VO-CD-KOEKEMOER-VMF00099\", \"1240-VO-MZ-KOEKEMOER-VMF00101\"],\n",
    "    color=\"country\",\n",
    "    symbol=\"sample_set\",\n",
    "    cohort_size=80,\n",
    "    linkage_method=\"weighted\",\n",
    "    count_sort=True,\n",
    "    width=1200,\n",
    "    height=600,\n",
    ")"
   ]
  },
  {
   "cell_type": "code",
   "execution_count": null,
   "id": "45bdce7c",
   "metadata": {},
   "outputs": [],
   "source": [
    "af1.plot_diplotype_clustering(\n",
    "    region=\"2RL:28,480,000-28,490,000\",\n",
    "    sample_sets=[\"1.0\"],\n",
    "    sample_query=\"country == 'Ghana'\",\n",
    "    color=\"sample_set\",\n",
    "    cohort_size=None,\n",
    "    width=1000,\n",
    "    height=400,\n",
    ")"
   ]
  },
  {
   "cell_type": "code",
   "execution_count": null,
   "id": "5979cca3",
   "metadata": {},
   "outputs": [],
   "source": []
  }
 ],
 "metadata": {
  "kernelspec": {
   "display_name": "Python 3 (ipykernel)",
   "language": "python",
   "name": "python3"
  },
  "language_info": {
   "codemirror_mode": {
    "name": "ipython",
    "version": 3
   },
   "file_extension": ".py",
   "mimetype": "text/x-python",
   "name": "python",
   "nbconvert_exporter": "python",
   "pygments_lexer": "ipython3",
   "version": "3.10.12"
  },
  "vscode": {
   "interpreter": {
    "hash": "3b9ddb1005cd06989fd869b9e3d566470f1be01faa610bb17d64e58e32302e8b"
   }
  }
 },
 "nbformat": 4,
 "nbformat_minor": 5
}
