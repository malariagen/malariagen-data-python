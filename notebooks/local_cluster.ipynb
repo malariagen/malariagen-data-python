{
 "cells": [
  {
   "cell_type": "code",
   "execution_count": null,
   "id": "5ba32f43-2308-43a0-9849-489d77a2f841",
   "metadata": {},
   "outputs": [],
   "source": [
    "import malariagen_data"
   ]
  },
  {
   "cell_type": "code",
   "execution_count": null,
   "id": "8015add7-81c7-42bd-94c3-a433047c6ca2",
   "metadata": {},
   "outputs": [],
   "source": [
    "ag3 = malariagen_data.Ag3(\n",
    "    \"simplecache::gs://vo_agam_release\",\n",
    "    simplecache=dict(cache_storage=\"../gcs_cache\"),\n",
    ")\n",
    "ag3"
   ]
  },
  {
   "cell_type": "code",
   "execution_count": null,
   "id": "27c25fb3-ad5c-4652-bf6c-c51d07558790",
   "metadata": {},
   "outputs": [],
   "source": [
    "ag3.snp_allele_counts(\n",
    "    region=\"3R:28,550,000-28,650,000\", sample_sets=\"AG1000G-BF-A\", cohort_size=10\n",
    ")"
   ]
  },
  {
   "cell_type": "code",
   "execution_count": null,
   "id": "176f77d9-6376-41ce-b3bf-d8025b5a7174",
   "metadata": {},
   "outputs": [],
   "source": [
    "from distributed import LocalCluster, Client\n",
    "cluster = LocalCluster()\n",
    "cluster"
   ]
  },
  {
   "cell_type": "code",
   "execution_count": null,
   "id": "d9657559-8fc9-4a70-97da-12208b9502ea",
   "metadata": {},
   "outputs": [],
   "source": [
    "client = Client(cluster)\n",
    "client"
   ]
  },
  {
   "cell_type": "code",
   "execution_count": null,
   "id": "37bbdfb4-b27d-49d0-9888-042f33d17d32",
   "metadata": {},
   "outputs": [],
   "source": [
    "ag3.snp_allele_counts(\n",
    "    region=\"3R:28,550,000-28,650,000\", sample_sets=\"AG1000G-BF-A\", cohort_size=10\n",
    ")"
   ]
  },
  {
   "cell_type": "code",
   "execution_count": null,
   "id": "87aad9d0-75e6-4d9c-b6a2-814b8fe2ccea",
   "metadata": {},
   "outputs": [],
   "source": [
    "cluster.close()"
   ]
  },
  {
   "cell_type": "code",
   "execution_count": null,
   "id": "a6508f51-6915-4da5-b3ce-f3baa4f69937",
   "metadata": {},
   "outputs": [],
   "source": []
  }
 ],
 "metadata": {
  "kernelspec": {
   "display_name": "Python 3 (ipykernel)",
   "language": "python",
   "name": "python3"
  },
  "language_info": {
   "codemirror_mode": {
    "name": "ipython",
    "version": 3
   },
   "file_extension": ".py",
   "mimetype": "text/x-python",
   "name": "python",
   "nbconvert_exporter": "python",
   "pygments_lexer": "ipython3",
   "version": "3.10.12"
  },
  "widgets": {
   "application/vnd.jupyter.widget-state+json": {
    "state": {
     "0706e189987c461982fc723a82554b59": {
      "model_module": "@jupyter-widgets/controls",
      "model_module_version": "2.0.0",
      "model_name": "ProgressStyleModel",
      "state": {
       "description_width": ""
      }
     },
     "0d8ee3af453b474ba1bbdc3307c0394f": {
      "model_module": "@jupyter-widgets/base",
      "model_module_version": "2.0.0",
      "model_name": "LayoutModel",
      "state": {
       "min_width": "500px"
      }
     },
     "140824b5a7d44dabb27b4c8ff52d4ffc": {
      "model_module": "@jupyter-widgets/controls",
      "model_module_version": "2.0.0",
      "model_name": "HTMLStyleModel",
      "state": {
       "description_width": "",
       "font_size": null,
       "text_color": null
      }
     },
     "14ff98e88d4c4aa78d431243ff3519d3": {
      "model_module": "@jupyter-widgets/controls",
      "model_module_version": "2.0.0",
      "model_name": "HTMLStyleModel",
      "state": {
       "description_width": "",
       "font_size": null,
       "text_color": null
      }
     },
     "177d2102184d4d2398c2b9d0f4ee4210": {
      "model_module": "@jupyter-widgets/base",
      "model_module_version": "2.0.0",
      "model_name": "LayoutModel",
      "state": {}
     },
     "1f0a3725e3fc41e5a7ffcda8ca307715": {
      "model_module": "@jupyter-widgets/base",
      "model_module_version": "2.0.0",
      "model_name": "LayoutModel",
      "state": {
       "visibility": "hidden"
      }
     },
     "22318bb09e4f4e43b3d3494142fd461f": {
      "model_module": "@jupyter-widgets/controls",
      "model_module_version": "2.0.0",
      "model_name": "ButtonStyleModel",
      "state": {
       "font_family": null,
       "font_size": null,
       "font_style": null,
       "font_variant": null,
       "font_weight": null,
       "text_color": null,
       "text_decoration": null
      }
     },
     "37fc6f827e104f55b1d26b4ba72bf188": {
      "model_module": "@jupyter-widgets/controls",
      "model_module_version": "2.0.0",
      "model_name": "VBoxModel",
      "state": {
       "children": [
        "IPY_MODEL_4397142e018b41acb7d28444b7cd056d",
        "IPY_MODEL_461c8c11b557434191d133573296656a"
       ],
       "layout": "IPY_MODEL_684a76aab2b546e095854cefa8b48dcd"
      }
     },
     "3840c2dca71b454abbac28fa2e9a578e": {
      "model_module": "@jupyter-widgets/base",
      "model_module_version": "2.0.0",
      "model_name": "LayoutModel",
      "state": {}
     },
     "4397142e018b41acb7d28444b7cd056d": {
      "model_module": "@jupyter-widgets/controls",
      "model_module_version": "2.0.0",
      "model_name": "HTMLModel",
      "state": {
       "layout": "IPY_MODEL_e135cb64cab1427b963b90e5c176dffc",
       "style": "IPY_MODEL_4ef2da1e33dc4a1fb7a9a19b22a55158",
       "value": "\n        <table>\n            <tr><td style=\"text-align: left;\">Scaling mode: Manual</td></tr>\n            <tr><td style=\"text-align: left;\">Workers: 0</td></tr>\n        </table>\n        "
      }
     },
     "461c8c11b557434191d133573296656a": {
      "model_module": "@jupyter-widgets/controls",
      "model_module_version": "2.0.0",
      "model_name": "AccordionModel",
      "state": {
       "children": [
        "IPY_MODEL_f177493c1eb94fe2b3aa75fcdd23598f",
        "IPY_MODEL_73afeb404c6d46299a84d82429377dc9"
       ],
       "layout": "IPY_MODEL_0d8ee3af453b474ba1bbdc3307c0394f",
       "titles": [
        "Manual Scaling",
        "Adaptive Scaling"
       ]
      }
     },
     "474690082604447785637eb090297cda": {
      "model_module": "@jupyter-widgets/controls",
      "model_module_version": "2.0.0",
      "model_name": "IntTextModel",
      "state": {
       "description": "Minimum",
       "layout": "IPY_MODEL_6bb3ec6ba9a44c37b0d5055ab7a44ebb",
       "step": 1,
       "style": "IPY_MODEL_ca17746a58b94682a513ce903db5b77e"
      }
     },
     "4835bc9eeb6d4a2d91af1fc6a06ef0e4": {
      "model_module": "@jupyter-widgets/controls",
      "model_module_version": "2.0.0",
      "model_name": "DescriptionStyleModel",
      "state": {
       "description_width": ""
      }
     },
     "4ef2da1e33dc4a1fb7a9a19b22a55158": {
      "model_module": "@jupyter-widgets/controls",
      "model_module_version": "2.0.0",
      "model_name": "HTMLStyleModel",
      "state": {
       "description_width": "",
       "font_size": null,
       "text_color": null
      }
     },
     "684a76aab2b546e095854cefa8b48dcd": {
      "model_module": "@jupyter-widgets/base",
      "model_module_version": "2.0.0",
      "model_name": "LayoutModel",
      "state": {}
     },
     "6b14d6d31b7a4c58a3773a43450ad47a": {
      "model_module": "@jupyter-widgets/controls",
      "model_module_version": "2.0.0",
      "model_name": "IntTextModel",
      "state": {
       "description": "Maximum",
       "layout": "IPY_MODEL_6bb3ec6ba9a44c37b0d5055ab7a44ebb",
       "step": 1,
       "style": "IPY_MODEL_4835bc9eeb6d4a2d91af1fc6a06ef0e4"
      }
     },
     "6bb3ec6ba9a44c37b0d5055ab7a44ebb": {
      "model_module": "@jupyter-widgets/base",
      "model_module_version": "2.0.0",
      "model_name": "LayoutModel",
      "state": {
       "width": "150px"
      }
     },
     "73afeb404c6d46299a84d82429377dc9": {
      "model_module": "@jupyter-widgets/controls",
      "model_module_version": "2.0.0",
      "model_name": "HBoxModel",
      "state": {
       "children": [
        "IPY_MODEL_474690082604447785637eb090297cda",
        "IPY_MODEL_6b14d6d31b7a4c58a3773a43450ad47a",
        "IPY_MODEL_bed8c1843f6b44a081a0806592ae09be"
       ],
       "layout": "IPY_MODEL_3840c2dca71b454abbac28fa2e9a578e"
      }
     },
     "73da40e3070d4498afd4ae9a22e0c29b": {
      "model_module": "@jupyter-widgets/base",
      "model_module_version": "2.0.0",
      "model_name": "LayoutModel",
      "state": {}
     },
     "77a48fce42d544c1b30d844db2c5eae1": {
      "model_module": "@jupyter-widgets/controls",
      "model_module_version": "2.0.0",
      "model_name": "IntTextModel",
      "state": {
       "description": "Workers",
       "layout": "IPY_MODEL_6bb3ec6ba9a44c37b0d5055ab7a44ebb",
       "step": 1,
       "style": "IPY_MODEL_b98bd7c4612b47388c1c80a47fcebd21"
      }
     },
     "79f2084e08d344b6a95977fc6adb0030": {
      "model_module": "@jupyter-widgets/controls",
      "model_module_version": "2.0.0",
      "model_name": "HTMLModel",
      "state": {
       "layout": "IPY_MODEL_9b111fb172c646f281981f0791c8da72",
       "style": "IPY_MODEL_14ff98e88d4c4aa78d431243ff3519d3",
       "value": "<div class=\"jp-RenderedHTMLCommon jp-RenderedHTML jp-mod-trusted jp-OutputArea-output\">\n    <div style=\"width: 24px; height: 24px; background-color: #e1e1e1; border: 3px solid #9D9D9D; border-radius: 5px; position: absolute;\">\n    </div>\n    <div style=\"margin-left: 48px;\">\n        <h3 style=\"margin-bottom: 0px; margin-top: 0px;\">LocalCluster</h3>\n        <p style=\"color: #9D9D9D; margin-bottom: 0px;\">c8d55d86</p>\n        <table style=\"width: 100%; text-align: left;\">\n            <tr>\n                <td style=\"text-align: left;\">\n                    <strong>Dashboard:</strong> <a href=\"http://127.0.0.1:8787/status\" target=\"_blank\">http://127.0.0.1:8787/status</a>\n                </td>\n                <td style=\"text-align: left;\">\n                    <strong>Workers:</strong> 0\n                </td>\n            </tr>\n            <tr>\n                <td style=\"text-align: left;\">\n                    <strong>Total threads:</strong> 0\n                </td>\n                <td style=\"text-align: left;\">\n                    <strong>Total memory:</strong> 0 B\n                </td>\n            </tr>\n            \n            <tr>\n    <td style=\"text-align: left;\"><strong>Status:</strong> closing</td>\n    <td style=\"text-align: left;\"><strong>Using processes:</strong> True</td>\n</tr>\n\n            \n        </table>\n\n        <details>\n            <summary style=\"margin-bottom: 20px;\">\n                <h3 style=\"display: inline;\">Scheduler Info</h3>\n            </summary>\n\n            <div style=\"\">\n    <div>\n        <div style=\"width: 24px; height: 24px; background-color: #FFF7E5; border: 3px solid #FF6132; border-radius: 5px; position: absolute;\"> </div>\n        <div style=\"margin-left: 48px;\">\n            <h3 style=\"margin-bottom: 0px;\">Scheduler</h3>\n            <p style=\"color: #9D9D9D; margin-bottom: 0px;\">Scheduler-1810d8c9-444a-46c6-95f2-b8b36ab711e8</p>\n            <table style=\"width: 100%; text-align: left;\">\n                <tr>\n                    <td style=\"text-align: left;\">\n                        <strong>Comm:</strong> tcp://127.0.0.1:33211\n                    </td>\n                    <td style=\"text-align: left;\">\n                        <strong>Workers:</strong> 0\n                    </td>\n                </tr>\n                <tr>\n                    <td style=\"text-align: left;\">\n                        <strong>Dashboard:</strong> <a href=\"http://127.0.0.1:8787/status\" target=\"_blank\">http://127.0.0.1:8787/status</a>\n                    </td>\n                    <td style=\"text-align: left;\">\n                        <strong>Total threads:</strong> 0\n                    </td>\n                </tr>\n                <tr>\n                    <td style=\"text-align: left;\">\n                        <strong>Started:</strong> Just now\n                    </td>\n                    <td style=\"text-align: left;\">\n                        <strong>Total memory:</strong> 0 B\n                    </td>\n                </tr>\n            </table>\n        </div>\n    </div>\n\n    <details style=\"margin-left: 48px;\">\n        <summary style=\"margin-bottom: 20px;\">\n            <h3 style=\"display: inline;\">Workers</h3>\n        </summary>\n\n        \n\n    </details>\n</div>\n\n        </details>\n    </div>\n</div>"
      }
     },
     "7b95ccec24f44e6b96cccdefec10a4ec": {
      "model_module": "@jupyter-widgets/controls",
      "model_module_version": "2.0.0",
      "model_name": "ButtonStyleModel",
      "state": {
       "font_family": null,
       "font_size": null,
       "font_style": null,
       "font_variant": null,
       "font_weight": null,
       "text_color": null,
       "text_decoration": null
      }
     },
     "9739c226a12e49a4beed359ca3120c87": {
      "model_module": "@jupyter-widgets/controls",
      "model_module_version": "2.0.0",
      "model_name": "TabModel",
      "state": {
       "children": [
        "IPY_MODEL_79f2084e08d344b6a95977fc6adb0030",
        "IPY_MODEL_37fc6f827e104f55b1d26b4ba72bf188"
       ],
       "layout": "IPY_MODEL_ba72906d952e4f3ca6ff8ea920fe6eed",
       "selected_index": 0,
       "titles": [
        "Status",
        "Scaling"
       ]
      }
     },
     "9b111fb172c646f281981f0791c8da72": {
      "model_module": "@jupyter-widgets/base",
      "model_module_version": "2.0.0",
      "model_name": "LayoutModel",
      "state": {}
     },
     "9b6a899672254a2ebb64244dd680e3e7": {
      "model_module": "@jupyter-widgets/base",
      "model_module_version": "2.0.0",
      "model_name": "LayoutModel",
      "state": {}
     },
     "a148b8ebe3ac462a9a3be3c03c628b35": {
      "model_module": "@jupyter-widgets/controls",
      "model_module_version": "2.0.0",
      "model_name": "FloatProgressModel",
      "state": {
       "layout": "IPY_MODEL_177d2102184d4d2398c2b9d0f4ee4210",
       "max": 14,
       "style": "IPY_MODEL_0706e189987c461982fc723a82554b59",
       "value": 14
      }
     },
     "a15600f19f8849c78392d8bb1f3cdfb8": {
      "model_module": "@jupyter-widgets/controls",
      "model_module_version": "2.0.0",
      "model_name": "HTMLModel",
      "state": {
       "layout": "IPY_MODEL_73da40e3070d4498afd4ae9a22e0c29b",
       "style": "IPY_MODEL_c0cffa4a78d447e69e8413a97f81ec63",
       "value": "Compute SNP allele counts:  71%"
      }
     },
     "a5e60b94fcca4963a3e26bc3642e3ad3": {
      "model_module": "@jupyter-widgets/base",
      "model_module_version": "2.0.0",
      "model_name": "LayoutModel",
      "state": {}
     },
     "a89e4973ce38474eab4d101111002932": {
      "model_module": "@jupyter-widgets/controls",
      "model_module_version": "2.0.0",
      "model_name": "HTMLModel",
      "state": {
       "layout": "IPY_MODEL_a5e60b94fcca4963a3e26bc3642e3ad3",
       "style": "IPY_MODEL_140824b5a7d44dabb27b4c8ff52d4ffc",
       "value": " 10/14 [00:00&lt;00:00, 33.18it/s]"
      }
     },
     "b1dec88428eb43329963233ff95fa6a1": {
      "model_module": "@jupyter-widgets/controls",
      "model_module_version": "2.0.0",
      "model_name": "ButtonModel",
      "state": {
       "description": "Scale",
       "layout": "IPY_MODEL_6bb3ec6ba9a44c37b0d5055ab7a44ebb",
       "style": "IPY_MODEL_7b95ccec24f44e6b96cccdefec10a4ec",
       "tooltip": null
      }
     },
     "b98bd7c4612b47388c1c80a47fcebd21": {
      "model_module": "@jupyter-widgets/controls",
      "model_module_version": "2.0.0",
      "model_name": "DescriptionStyleModel",
      "state": {
       "description_width": ""
      }
     },
     "ba72906d952e4f3ca6ff8ea920fe6eed": {
      "model_module": "@jupyter-widgets/base",
      "model_module_version": "2.0.0",
      "model_name": "LayoutModel",
      "state": {}
     },
     "bed8c1843f6b44a081a0806592ae09be": {
      "model_module": "@jupyter-widgets/controls",
      "model_module_version": "2.0.0",
      "model_name": "ButtonModel",
      "state": {
       "description": "Adapt",
       "layout": "IPY_MODEL_6bb3ec6ba9a44c37b0d5055ab7a44ebb",
       "style": "IPY_MODEL_22318bb09e4f4e43b3d3494142fd461f",
       "tooltip": null
      }
     },
     "c0cffa4a78d447e69e8413a97f81ec63": {
      "model_module": "@jupyter-widgets/controls",
      "model_module_version": "2.0.0",
      "model_name": "HTMLStyleModel",
      "state": {
       "description_width": "",
       "font_size": null,
       "text_color": null
      }
     },
     "ca17746a58b94682a513ce903db5b77e": {
      "model_module": "@jupyter-widgets/controls",
      "model_module_version": "2.0.0",
      "model_name": "DescriptionStyleModel",
      "state": {
       "description_width": ""
      }
     },
     "e135cb64cab1427b963b90e5c176dffc": {
      "model_module": "@jupyter-widgets/base",
      "model_module_version": "2.0.0",
      "model_name": "LayoutModel",
      "state": {}
     },
     "f177493c1eb94fe2b3aa75fcdd23598f": {
      "model_module": "@jupyter-widgets/controls",
      "model_module_version": "2.0.0",
      "model_name": "HBoxModel",
      "state": {
       "children": [
        "IPY_MODEL_77a48fce42d544c1b30d844db2c5eae1",
        "IPY_MODEL_b1dec88428eb43329963233ff95fa6a1"
       ],
       "layout": "IPY_MODEL_9b6a899672254a2ebb64244dd680e3e7"
      }
     }
    },
    "version_major": 2,
    "version_minor": 0
   }
  }
 },
 "nbformat": 4,
 "nbformat_minor": 5
}
