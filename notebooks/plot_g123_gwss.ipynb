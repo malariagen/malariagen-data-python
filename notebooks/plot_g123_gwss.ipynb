{
 "cells": [
  {
   "cell_type": "code",
   "execution_count": null,
   "id": "a31720f1",
   "metadata": {},
   "outputs": [],
   "source": [
    "import malariagen_data\n",
    "\n",
    "ag3 = malariagen_data.Ag3(\n",
    "    \"simplecache::gs://vo_agam_release\",\n",
    "    simplecache=dict(cache_storage=\"../gcs_cache\"),\n",
    "    cohorts_analysis=\"20230516\",\n",
    "    results_cache=\"results_cache\",\n",
    ")\n",
    "ag3"
   ]
  },
  {
   "cell_type": "code",
   "execution_count": null,
   "id": "ece45863",
   "metadata": {},
   "outputs": [],
   "source": [
    "import malariagen_data\n",
    "\n",
    "af1 = malariagen_data.Af1(\n",
    "    \"simplecache::gs://vo_afun_release\",\n",
    "    simplecache=dict(cache_storage=\"../gcs_cache\"),\n",
    "    cohorts_analysis=\"20230823\",\n",
    "    results_cache=\"results_cache\",\n",
    ")\n",
    "af1"
   ]
  },
  {
   "cell_type": "code",
   "execution_count": null,
   "id": "9ada4f50-bfc0-4524-96de-8903896c7c68",
   "metadata": {},
   "outputs": [],
   "source": [
    "!rm -rf results_cache"
   ]
  },
  {
   "cell_type": "code",
   "execution_count": null,
   "id": "db33f6d9",
   "metadata": {},
   "outputs": [],
   "source": [
    "%%time\n",
    "contig = \"3L\"\n",
    "sample_set = \"AG1000G-BF-A\"\n",
    "sample_query = 'taxon == \"gambiae\"'\n",
    "site_mask = \"gamb_colu\"\n",
    "\n",
    "ag3.plot_g123_calibration(\n",
    "    contig=contig,\n",
    "    sites=site_mask,\n",
    "    sample_sets=sample_set,\n",
    "    sample_query=sample_query,\n",
    "    site_mask=site_mask,\n",
    ")"
   ]
  },
  {
   "cell_type": "code",
   "execution_count": null,
   "id": "a585cbba-ea63-4fd9-97ca-d97a3a4f163a",
   "metadata": {},
   "outputs": [],
   "source": [
    "%%time\n",
    "ag3.plot_g123_calibration(\n",
    "    contig=contig,\n",
    "    sites=site_mask,\n",
    "    sample_sets=sample_set,\n",
    "    sample_query=sample_query,\n",
    "    site_mask=site_mask,\n",
    ")"
   ]
  },
  {
   "cell_type": "code",
   "execution_count": null,
   "id": "effd3060",
   "metadata": {},
   "outputs": [],
   "source": [
    "%%time\n",
    "ag3.plot_g123_gwss_track(\n",
    "    contig=\"2L\",\n",
    "    window_size=1_000,\n",
    "    site_mask=site_mask,\n",
    "    sites=site_mask,\n",
    "    sample_query=sample_query,\n",
    "    sample_sets=sample_set,\n",
    "    max_cohort_size=10,\n",
    ")"
   ]
  },
  {
   "cell_type": "code",
   "execution_count": null,
   "id": "efe89451-f05b-4e55-83ef-0f85204f4b04",
   "metadata": {},
   "outputs": [],
   "source": [
    "%%time\n",
    "ag3.plot_g123_gwss_track(\n",
    "    contig=\"2L\",\n",
    "    window_size=1_000,\n",
    "    site_mask=site_mask,\n",
    "    sites=site_mask,\n",
    "    sample_query=sample_query,\n",
    "    sample_sets=sample_set,\n",
    "    max_cohort_size=10,\n",
    ")"
   ]
  },
  {
   "cell_type": "code",
   "execution_count": null,
   "id": "8e747d9a",
   "metadata": {},
   "outputs": [],
   "source": [
    "ag3.plot_g123_gwss_track(\n",
    "    contig=\"2L\",\n",
    "    window_size=1_000,\n",
    "    site_mask=site_mask,\n",
    "    sites=\"segregating\",\n",
    "    sample_query=sample_query,\n",
    "    sample_sets=sample_set,\n",
    "    max_cohort_size=30,\n",
    "    width=700,\n",
    "    sizing_mode=\"fixed\",\n",
    ")"
   ]
  },
  {
   "cell_type": "code",
   "execution_count": null,
   "id": "b63d02fe",
   "metadata": {},
   "outputs": [],
   "source": [
    "ag3.plot_g123_gwss(\n",
    "    contig=\"2L\",\n",
    "    window_size=1_000,\n",
    "    site_mask=site_mask,\n",
    "    sites=\"all\",\n",
    "    sample_query=sample_query,\n",
    "    sample_sets=sample_set,\n",
    "    min_cohort_size=10,\n",
    "    max_cohort_size=20,\n",
    ")"
   ]
  },
  {
   "cell_type": "code",
   "execution_count": null,
   "id": "f77bbae1",
   "metadata": {},
   "outputs": [],
   "source": [
    "ag3.plot_g123_gwss(\n",
    "    contig=\"2L\",\n",
    "    window_size=1_000,\n",
    "    site_mask=site_mask,\n",
    "    sites=site_mask,\n",
    "    sample_query=sample_query,\n",
    "    sample_sets=sample_set,\n",
    "    max_cohort_size=None,\n",
    ")"
   ]
  },
  {
   "cell_type": "code",
   "execution_count": null,
   "id": "f4c9c960-0f72-497d-9938-4dc9516498c8",
   "metadata": {},
   "outputs": [],
   "source": [
    "af1.sample_sets(release=\"1.0\")"
   ]
  },
  {
   "cell_type": "code",
   "execution_count": null,
   "id": "cd3c2a2d",
   "metadata": {},
   "outputs": [],
   "source": [
    "af1.sample_metadata(sample_sets=\"1.0\").groupby([\"sample_set\", \"cohort_admin1_year\"]).size()"
   ]
  },
  {
   "cell_type": "code",
   "execution_count": null,
   "id": "1b87b2f2",
   "metadata": {},
   "outputs": [],
   "source": [
    "af1.plot_g123_gwss(\n",
    "    contig=\"X\",\n",
    "    window_size=2_000,\n",
    "    sites=\"segregating\",\n",
    "    site_mask=\"funestus\",\n",
    "    sample_query=\"cohort_admin1_year == 'KE-03_fune_2016'\",\n",
    "    sample_sets=\"1232-VO-KE-OCHOMO-VMF00044\",\n",
    "    max_cohort_size=20,\n",
    ")"
   ]
  },
  {
   "cell_type": "code",
   "execution_count": null,
   "id": "9e3fc1c8",
   "metadata": {},
   "outputs": [],
   "source": [
    "af1.plot_g123_gwss(\n",
    "    contig=\"X\",\n",
    "    window_size=2000,\n",
    "    site_mask=\"funestus\",\n",
    "    sites=\"funestus\",\n",
    "    sample_query=\"cohort_admin1_year == 'KE-03_fune_2016'\",\n",
    "    sample_sets=\"1232-VO-KE-OCHOMO-VMF00044\",\n",
    "    max_cohort_size=None,\n",
    ")"
   ]
  },
  {
   "cell_type": "code",
   "execution_count": null,
   "id": "6ef172dc-e697-4a6c-b63d-d8841aca3b97",
   "metadata": {},
   "outputs": [],
   "source": []
  }
 ],
 "metadata": {
  "kernelspec": {
   "display_name": "Python 3 (ipykernel)",
   "language": "python",
   "name": "python3"
  },
  "language_info": {
   "codemirror_mode": {
    "name": "ipython",
    "version": 3
   },
   "file_extension": ".py",
   "mimetype": "text/x-python",
   "name": "python",
   "nbconvert_exporter": "python",
   "pygments_lexer": "ipython3",
   "version": "3.8.18"
  }
 },
 "nbformat": 4,
 "nbformat_minor": 5
}
