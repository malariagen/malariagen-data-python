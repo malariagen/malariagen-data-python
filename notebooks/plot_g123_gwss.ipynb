{
 "cells": [
  {
   "cell_type": "code",
   "execution_count": null,
   "id": "a31720f1",
   "metadata": {},
   "outputs": [],
   "source": [
    "import malariagen_data\n",
    "\n",
    "ag3 = malariagen_data.Ag3(\n",
    "    \"simplecache::gs://vo_agam_release\",\n",
    "    simplecache=dict(cache_storage=\"../gcs_cache\"),\n",
    ")\n",
    "ag3"
   ]
  },
  {
   "cell_type": "code",
   "execution_count": null,
   "id": "ece45863",
   "metadata": {},
   "outputs": [],
   "source": [
    "import malariagen_data\n",
    "\n",
    "af1 = malariagen_data.Af1(\n",
    "    \"simplecache::gs://vo_afun_release\",\n",
    "    simplecache=dict(cache_storage=\"../gcs_cache\"),\n",
    ")\n",
    "af1"
   ]
  },
  {
   "cell_type": "code",
   "execution_count": null,
   "id": "db33f6d9",
   "metadata": {},
   "outputs": [],
   "source": [
    "contig = \"3L\"\n",
    "sample_set = \"AG1000G-BF-A\"\n",
    "sample_query = 'taxon == \"gambiae\"'\n",
    "site_mask = \"gamb_colu\"\n",
    "\n",
    "ag3.plot_g123_calibration(\n",
    "    contig=contig,\n",
    "    sites=site_mask,\n",
    "    sample_sets=sample_set,\n",
    "    sample_query=sample_query,\n",
    "    site_mask=site_mask,\n",
    ")"
   ]
  },
  {
   "cell_type": "code",
   "execution_count": null,
   "id": "effd3060",
   "metadata": {},
   "outputs": [],
   "source": [
    "ag3.plot_g123_gwss_track(\n",
    "    contig=\"2L\",\n",
    "    window_size=1_000,\n",
    "    site_mask=\"gamb_colu\",\n",
    "    sites=\"gamb_colu\",\n",
    "    sample_query=\"cohort_admin2_year == 'ML-2_Kati_colu_2014'\",\n",
    "    max_cohort_size=10,\n",
    ")"
   ]
  },
  {
   "cell_type": "code",
   "execution_count": null,
   "id": "8e747d9a",
   "metadata": {},
   "outputs": [],
   "source": [
    "ag3.plot_g123_gwss_track(\n",
    "    contig=\"2L\",\n",
    "    window_size=1000,\n",
    "    site_mask=\"gamb_colu\",\n",
    "    sites=\"segregating\",\n",
    "    sample_query=\"cohort_admin2_year == 'ML-2_Kati_colu_2014'\",\n",
    "    max_cohort_size=30,\n",
    "    width=700,\n",
    "    sizing_mode=\"fixed\",\n",
    ")"
   ]
  },
  {
   "cell_type": "code",
   "execution_count": null,
   "id": "b63d02fe",
   "metadata": {},
   "outputs": [],
   "source": [
    "ag3.plot_g123_gwss(\n",
    "    contig=\"2L\",\n",
    "    window_size=1000,\n",
    "    sites=\"all\",\n",
    "    sample_query=\"cohort_admin2_year == 'ML-2_Kati_colu_2014'\",\n",
    "    site_mask=\"gamb_colu\",\n",
    "    min_cohort_size=10,\n",
    "    max_cohort_size=20,\n",
    ")"
   ]
  },
  {
   "cell_type": "code",
   "execution_count": null,
   "id": "f77bbae1",
   "metadata": {},
   "outputs": [],
   "source": [
    "ag3.plot_g123_gwss(\n",
    "    contig=\"2L\",\n",
    "    window_size=1_000,\n",
    "    sample_query=\"cohort_admin2_year == 'ML-2_Kati_colu_2014'\",\n",
    "    site_mask=\"gamb_colu\",\n",
    "    sites=\"gamb_colu\",\n",
    "    max_cohort_size=None,\n",
    ")"
   ]
  },
  {
   "cell_type": "code",
   "execution_count": null,
   "id": "cd3c2a2d",
   "metadata": {},
   "outputs": [],
   "source": [
    "af1.sample_metadata()[\"cohort_admin1_year\"].value_counts()"
   ]
  },
  {
   "cell_type": "code",
   "execution_count": null,
   "id": "1b87b2f2",
   "metadata": {},
   "outputs": [],
   "source": [
    "af1.plot_g123_gwss(\n",
    "    contig=\"X\",\n",
    "    window_size=2_000,\n",
    "    sites=\"segregating\",\n",
    "    site_mask=\"funestus\",\n",
    "    sample_query=\"cohort_admin1_year == 'KE-03_fune_2016'\",\n",
    "    max_cohort_size=20,\n",
    ")"
   ]
  },
  {
   "cell_type": "code",
   "execution_count": null,
   "id": "9e3fc1c8",
   "metadata": {},
   "outputs": [],
   "source": [
    "af1.plot_g123_gwss(\n",
    "    contig=\"X\",\n",
    "    window_size=2000,\n",
    "    site_mask=\"funestus\",\n",
    "    sites=\"funestus\",\n",
    "    sample_query=\"cohort_admin1_year == 'KE-03_fune_2016'\",\n",
    "    max_cohort_size=None,\n",
    ")"
   ]
  }
 ],
 "metadata": {
  "kernelspec": {
   "display_name": "Python 3 (ipykernel)",
   "language": "python",
   "name": "python3"
  },
  "language_info": {
   "codemirror_mode": {
    "name": "ipython",
    "version": 3
   },
   "file_extension": ".py",
   "mimetype": "text/x-python",
   "name": "python",
   "nbconvert_exporter": "python",
   "pygments_lexer": "ipython3",
   "version": "3.8.16"
  }
 },
 "nbformat": 4,
 "nbformat_minor": 5
}
