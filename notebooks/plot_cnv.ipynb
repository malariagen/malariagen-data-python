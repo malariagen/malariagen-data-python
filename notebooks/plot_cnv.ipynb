{
 "cells": [
  {
   "cell_type": "code",
   "execution_count": null,
   "id": "a6b71675",
   "metadata": {},
   "outputs": [],
   "source": [
    "import malariagen_data"
   ]
  },
  {
   "cell_type": "code",
   "execution_count": null,
   "id": "4526413e",
   "metadata": {},
   "outputs": [],
   "source": [
    "ag3 = malariagen_data.Ag3(\n",
    "    \"simplecache::gs://vo_agam_release\",\n",
    "    simplecache=dict(cache_storage=\"../gcs_cache\"),\n",
    ")\n",
    "ag3"
   ]
  },
  {
   "attachments": {},
   "cell_type": "markdown",
   "id": "74c46a04",
   "metadata": {},
   "source": [
    "## CNV HMM coverage"
   ]
  },
  {
   "cell_type": "code",
   "execution_count": null,
   "id": "d6bb2a01",
   "metadata": {},
   "outputs": [],
   "source": [
    "# sample with no CNV\n",
    "ag3.plot_cnv_hmm_coverage_track(\n",
    "    sample=\"AP0021-C\",\n",
    "    region=\"2R:28,460,000-28,580,000\",\n",
    ")"
   ]
  },
  {
   "cell_type": "code",
   "execution_count": null,
   "id": "acd1653f",
   "metadata": {},
   "outputs": [],
   "source": [
    "# sample with a small CNV\n",
    "ag3.plot_cnv_hmm_coverage(\n",
    "    sample=\"AY0091-C\",\n",
    "    region=\"2R:28,460,000-28,580,000\",\n",
    ")"
   ]
  },
  {
   "cell_type": "code",
   "execution_count": null,
   "id": "f6bbcce7",
   "metadata": {},
   "outputs": [],
   "source": [
    "# sample with a big CNV\n",
    "ag3.plot_cnv_hmm_coverage(\n",
    "    sample=\"AY0072-C\",\n",
    "    region=\"2R:28,460,000-28,580,000\",\n",
    ")"
   ]
  },
  {
   "cell_type": "code",
   "execution_count": null,
   "id": "300c961c",
   "metadata": {},
   "outputs": [],
   "source": [
    "# sample with a complex CNV\n",
    "ag3.plot_cnv_hmm_coverage(\n",
    "    sample=\"AY0062-C\",\n",
    "    region=\"2R:28,460,000-28,580,000\",\n",
    ")"
   ]
  },
  {
   "cell_type": "code",
   "execution_count": null,
   "id": "fc1acd04",
   "metadata": {},
   "outputs": [],
   "source": [
    "# sample with a complex CNV\n",
    "ag3.plot_cnv_hmm_coverage(\n",
    "    sample=\"AY0039-C\",\n",
    "    region=\"2R:28,460,000-28,580,000\",\n",
    ")"
   ]
  },
  {
   "cell_type": "code",
   "execution_count": null,
   "id": "e995780b",
   "metadata": {},
   "outputs": [],
   "source": [
    "# sample with high coverage variance\n",
    "ag3.plot_cnv_hmm_coverage(\n",
    "    sample=\"AG0382-CW\",\n",
    "    region=\"2R:28,460,000-28,580,000\",\n",
    ")"
   ]
  },
  {
   "attachments": {},
   "cell_type": "markdown",
   "id": "a302d86c",
   "metadata": {},
   "source": [
    "## CNV HMM heatmap"
   ]
  },
  {
   "cell_type": "code",
   "execution_count": null,
   "id": "17a8a79d",
   "metadata": {},
   "outputs": [],
   "source": [
    "ag3.plot_cnv_hmm_heatmap_track(\n",
    "    sample_sets=\"AG1000G-FR\",\n",
    "    region=\"2R:28,460,000-28,580,000\",\n",
    ")"
   ]
  },
  {
   "cell_type": "code",
   "execution_count": null,
   "id": "649a9194",
   "metadata": {},
   "outputs": [],
   "source": [
    "ag3.plot_cnv_hmm_heatmap_track(\n",
    "    sample_sets=[\"AG1000G-FR\", \"AG1000G-GQ\"],\n",
    "    region=\"2R:28,460,000-28,580,000\",\n",
    ")"
   ]
  },
  {
   "cell_type": "code",
   "execution_count": null,
   "id": "81b8ece4",
   "metadata": {
    "scrolled": false
   },
   "outputs": [],
   "source": [
    "ag3.plot_cnv_hmm_heatmap(\n",
    "    sample_sets=\"AG1000G-BF-A\",\n",
    "    region=\"2R:28,460,000-28,580,000\",\n",
    ")"
   ]
  },
  {
   "cell_type": "code",
   "execution_count": null,
   "id": "c8d588ae",
   "metadata": {},
   "outputs": [],
   "source": [
    "ag3.plot_cnv_hmm_heatmap(\n",
    "    sample_sets=\"AG1000G-BF-A\",\n",
    "    sample_query=\"taxon == 'gambiae'\",\n",
    "    region=\"2R:28,460,000-28,580,000\",\n",
    ")"
   ]
  },
  {
   "cell_type": "code",
   "execution_count": null,
   "id": "54fc714b",
   "metadata": {},
   "outputs": [],
   "source": [
    "ag3.plot_cnv_hmm_heatmap(\n",
    "    sample_sets=\"AG1000G-BF-A\",\n",
    "    sample_query=\"taxon == 'coluzzii'\",\n",
    "    region=\"2R:28,460,000-28,580,000\",\n",
    ")"
   ]
  },
  {
   "cell_type": "code",
   "execution_count": null,
   "id": "1d240bb8",
   "metadata": {},
   "outputs": [],
   "source": [
    "ag3.plot_cnv_hmm_heatmap(\n",
    "    sample_sets=\"AG1000G-CI\",\n",
    "    region=\"2R:28,460,000-28,580,000\",\n",
    ")"
   ]
  },
  {
   "cell_type": "code",
   "execution_count": null,
   "id": "ddc76e07",
   "metadata": {},
   "outputs": [],
   "source": [
    "ag3.plot_cnv_hmm_heatmap(\n",
    "    sample_sets=\"AG1000G-CI\",\n",
    "    region=\"2R:28,460,000-28,580,000\",\n",
    "    max_coverage_variance=None,\n",
    ")"
   ]
  },
  {
   "cell_type": "code",
   "execution_count": null,
   "id": "cac3c68b",
   "metadata": {},
   "outputs": [],
   "source": [
    "ag3.plot_cnv_hmm_heatmap(\n",
    "    sample_sets=\"AG1000G-GM-B\",\n",
    "    region=\"2R:28,460,000-28,580,000\",\n",
    "    max_coverage_variance=None,\n",
    ")"
   ]
  },
  {
   "cell_type": "code",
   "execution_count": null,
   "id": "5c4dcf97",
   "metadata": {},
   "outputs": [],
   "source": []
  }
 ],
 "metadata": {
  "kernelspec": {
   "display_name": "Python 3 (ipykernel)",
   "language": "python",
   "name": "python3"
  },
  "language_info": {
   "codemirror_mode": {
    "name": "ipython",
    "version": 3
   },
   "file_extension": ".py",
   "mimetype": "text/x-python",
   "name": "python",
   "nbconvert_exporter": "python",
   "pygments_lexer": "ipython3",
   "version": "3.8.16"
  }
 },
 "nbformat": 4,
 "nbformat_minor": 5
}
