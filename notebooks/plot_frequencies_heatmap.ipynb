{
 "cells": [
  {
   "cell_type": "code",
   "execution_count": null,
   "id": "820bd2a0-eb8c-42e7-ba56-bef15ae7358a",
   "metadata": {},
   "outputs": [],
   "source": [
    "import malariagen_data\n",
    "\n",
    "ag3 = malariagen_data.Ag3(\n",
    "    \"simplecache::gs://vo_agam_release\",\n",
    "    simplecache=dict(cache_storage=\"../gcs_cache\"),\n",
    "    cohorts_analysis=\"20230516\",\n",
    ")\n",
    "ag3"
   ]
  },
  {
   "cell_type": "code",
   "execution_count": null,
   "id": "702a2213",
   "metadata": {},
   "outputs": [],
   "source": [
    "import malariagen_data\n",
    "\n",
    "af1 = malariagen_data.Af1(\n",
    "    \"simplecache::gs://vo_afun_release\",\n",
    "    simplecache=dict(cache_storage=\"../gcs_cache\"),\n",
    "    cohorts_analysis=\"20230823\",\n",
    ")\n",
    "af1"
   ]
  },
  {
   "attachments": {},
   "cell_type": "markdown",
   "id": "7607169c",
   "metadata": {},
   "source": [
    "## SNP allele frequencies"
   ]
  },
  {
   "cell_type": "code",
   "execution_count": null,
   "id": "ab3ddd98",
   "metadata": {},
   "outputs": [],
   "source": [
    "allele_freqs_df = ag3.snp_allele_frequencies(\n",
    "    transcript=\"AGAP004707-RD\",\n",
    "    cohorts=\"admin1_year\",\n",
    "    sample_sets=(\"AG1000G-BF-A\", \"AG1000G-BF-B\", \"AG1000G-BF-C\"),\n",
    "    sample_query=\"taxon == 'coluzzii'\",\n",
    ")\n",
    "allele_freqs_df"
   ]
  },
  {
   "cell_type": "code",
   "execution_count": null,
   "id": "204d0b93",
   "metadata": {},
   "outputs": [],
   "source": [
    "snps_df = allele_freqs_df.query(\"effect == 'NON_SYNONYMOUS_CODING' and max_af > 0.05\")"
   ]
  },
  {
   "cell_type": "code",
   "execution_count": null,
   "id": "cc92d92f-31ed-4d1b-ac22-0282692db8c1",
   "metadata": {},
   "outputs": [],
   "source": [
    "ag3.plot_frequencies_heatmap(\n",
    "    df=snps_df,\n",
    ")"
   ]
  },
  {
   "cell_type": "code",
   "execution_count": null,
   "id": "ea2ee8e2",
   "metadata": {},
   "outputs": [],
   "source": [
    "ag3.plot_frequencies_heatmap(\n",
    "    df=snps_df.iloc[:2],\n",
    ")"
   ]
  },
  {
   "cell_type": "code",
   "execution_count": null,
   "id": "60f9e53f",
   "metadata": {},
   "outputs": [],
   "source": [
    "ag3.plot_frequencies_heatmap(\n",
    "    df=snps_df.iloc[:1],\n",
    ")"
   ]
  },
  {
   "cell_type": "code",
   "execution_count": null,
   "id": "055a88cb",
   "metadata": {},
   "outputs": [],
   "source": [
    "ag3.plot_frequencies_heatmap(df=snps_df, title=\"SNP frequencies: Vgsc\")"
   ]
  },
  {
   "cell_type": "code",
   "execution_count": null,
   "id": "b41a1026",
   "metadata": {},
   "outputs": [],
   "source": [
    "af1.sample_sets()"
   ]
  },
  {
   "cell_type": "code",
   "execution_count": null,
   "id": "69ee0608",
   "metadata": {},
   "outputs": [],
   "source": [
    "af1.genome_features()"
   ]
  },
  {
   "cell_type": "code",
   "execution_count": null,
   "id": "7bcfc20a",
   "metadata": {},
   "outputs": [],
   "source": [
    "allele_freqs_df = af1.snp_allele_frequencies(\n",
    "    transcript=\"LOC125767311_t1\",\n",
    "    cohorts=\"admin1_year\",\n",
    "    sample_sets=(\"1231-VO-MULTI-WONDJI-VMF00043\", \"1240-VO-CD-KOEKEMOER-VMF00099\"),\n",
    ")\n",
    "allele_freqs_df"
   ]
  },
  {
   "cell_type": "code",
   "execution_count": null,
   "id": "86ee6d8a",
   "metadata": {},
   "outputs": [],
   "source": [
    "snps_df = allele_freqs_df.query(\"effect == 'NON_SYNONYMOUS_CODING' and max_af > 0.05\")\n",
    "snps_df"
   ]
  },
  {
   "cell_type": "code",
   "execution_count": null,
   "id": "65c5093e",
   "metadata": {},
   "outputs": [],
   "source": [
    "af1.plot_frequencies_heatmap(df=snps_df)"
   ]
  },
  {
   "attachments": {},
   "cell_type": "markdown",
   "id": "2a682de7",
   "metadata": {},
   "source": [
    "## Amino acid frequencies"
   ]
  },
  {
   "cell_type": "code",
   "execution_count": null,
   "id": "c24c45f6",
   "metadata": {},
   "outputs": [],
   "source": [
    "aa_freqs_df = ag3.aa_allele_frequencies(\n",
    "    transcript=\"AGAP004707-RD\",\n",
    "    cohorts=\"admin1_year\",\n",
    "    sample_sets=(\"AG1000G-BF-A\", \"AG1000G-BF-B\", \"AG1000G-BF-C\"),\n",
    "    sample_query=\"taxon == 'coluzzii'\",\n",
    ")"
   ]
  },
  {
   "cell_type": "code",
   "execution_count": null,
   "id": "64066236",
   "metadata": {},
   "outputs": [],
   "source": [
    "aa_df = aa_freqs_df.query(\"max_af > 0.05\")"
   ]
  },
  {
   "cell_type": "code",
   "execution_count": null,
   "id": "3a83a404",
   "metadata": {},
   "outputs": [],
   "source": [
    "aa_df"
   ]
  },
  {
   "cell_type": "code",
   "execution_count": null,
   "id": "d5a68fe6",
   "metadata": {},
   "outputs": [],
   "source": [
    "ag3.plot_frequencies_heatmap(\n",
    "    df=aa_df,\n",
    ")"
   ]
  },
  {
   "cell_type": "code",
   "execution_count": null,
   "id": "1fca6e11",
   "metadata": {},
   "outputs": [],
   "source": [
    "aa_freqs_df = ag3.aa_allele_frequencies(\n",
    "    transcript=\"AGAP004707-RD\",\n",
    "    cohorts=\"admin1_year\",\n",
    "    sample_sets=\"3.0\",\n",
    "    sample_query=\"taxon == 'coluzzii'\",\n",
    ").query(\"max_af > 0.05\")\n",
    "aa_freqs_df"
   ]
  },
  {
   "cell_type": "code",
   "execution_count": null,
   "id": "9d55aa57",
   "metadata": {},
   "outputs": [],
   "source": [
    "ag3.plot_frequencies_heatmap(df=aa_freqs_df)"
   ]
  },
  {
   "cell_type": "code",
   "execution_count": null,
   "id": "63f02680",
   "metadata": {},
   "outputs": [],
   "source": [
    "aa_freqs_df = ag3.aa_allele_frequencies(\n",
    "    transcript=\"AGAP004707-RD\",\n",
    "    cohorts=\"admin1_year\",\n",
    "    sample_sets=\"3.0\",\n",
    ").query(\"max_af > 0.05\")\n",
    "ag3.plot_frequencies_heatmap(df=aa_freqs_df)"
   ]
  },
  {
   "cell_type": "code",
   "execution_count": null,
   "id": "a8895338",
   "metadata": {},
   "outputs": [],
   "source": [
    "aa_freqs_df = af1.aa_allele_frequencies(\n",
    "    transcript=\"LOC125767311_t1\",\n",
    "    cohorts=\"admin1_year\",\n",
    "    sample_sets=(\"1231-VO-MULTI-WONDJI-VMF00043\", \"1240-VO-CD-KOEKEMOER-VMF00099\"),\n",
    ").query(\"max_af > 0.05\")\n",
    "aa_freqs_df"
   ]
  },
  {
   "cell_type": "code",
   "execution_count": null,
   "id": "220945ee",
   "metadata": {},
   "outputs": [],
   "source": [
    "af1.plot_frequencies_heatmap(df=aa_freqs_df)"
   ]
  },
  {
   "attachments": {},
   "cell_type": "markdown",
   "id": "7a9b4bc6",
   "metadata": {},
   "source": [
    "## Gene CNV frequencies"
   ]
  },
  {
   "cell_type": "code",
   "execution_count": null,
   "id": "8c914a1b",
   "metadata": {},
   "outputs": [],
   "source": [
    "cyp6aap_region = \"2R:28,450,000-28,510,000\""
   ]
  },
  {
   "cell_type": "code",
   "execution_count": null,
   "id": "edd39fc3",
   "metadata": {},
   "outputs": [],
   "source": [
    "cyp6aap_cnv_freqs_df = ag3.gene_cnv_frequencies(\n",
    "    region=cyp6aap_region,\n",
    "    cohorts=\"admin1_year\",\n",
    "    sample_sets=(\"AG1000G-BF-A\", \"AG1000G-BF-B\", \"AG1000G-BF-C\"),\n",
    "    sample_query=\"taxon == 'coluzzii'\",\n",
    ")"
   ]
  },
  {
   "cell_type": "code",
   "execution_count": null,
   "id": "fa51bcc3-90fc-4879-8366-b2ad80bc833b",
   "metadata": {},
   "outputs": [],
   "source": [
    "cyp6aap_cnv_freqs_df"
   ]
  },
  {
   "cell_type": "code",
   "execution_count": null,
   "id": "763ed786",
   "metadata": {},
   "outputs": [],
   "source": [
    "ag3.plot_frequencies_heatmap(\n",
    "    df=cyp6aap_cnv_freqs_df,\n",
    ")"
   ]
  },
  {
   "cell_type": "code",
   "execution_count": null,
   "id": "f5099554",
   "metadata": {},
   "outputs": [],
   "source": [
    "ag3.plot_frequencies_heatmap(\n",
    "    df=cyp6aap_cnv_freqs_df[[\"label\", \"frq_BF-09_colu_2014\"]],\n",
    ")"
   ]
  },
  {
   "cell_type": "code",
   "execution_count": null,
   "id": "f3c20291",
   "metadata": {},
   "outputs": [],
   "source": [
    "ag3.plot_frequencies_heatmap(\n",
    "    df=cyp6aap_cnv_freqs_df,\n",
    "    color_continuous_scale=\"Blues\",\n",
    "    title=\"Cyp6p/aa gene CNV frequencies\",\n",
    ")"
   ]
  },
  {
   "cell_type": "code",
   "execution_count": null,
   "id": "86c5c594",
   "metadata": {},
   "outputs": [],
   "source": []
  }
 ],
 "metadata": {
  "kernelspec": {
   "display_name": "Python 3 (ipykernel)",
   "language": "python",
   "name": "python3"
  },
  "language_info": {
   "codemirror_mode": {
    "name": "ipython",
    "version": 3
   },
   "file_extension": ".py",
   "mimetype": "text/x-python",
   "name": "python",
   "nbconvert_exporter": "python",
   "pygments_lexer": "ipython3",
   "version": "3.8.18"
  }
 },
 "nbformat": 4,
 "nbformat_minor": 5
}
