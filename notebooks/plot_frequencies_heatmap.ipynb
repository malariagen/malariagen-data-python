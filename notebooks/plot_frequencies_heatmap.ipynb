{
 "cells": [
  {
   "cell_type": "code",
   "execution_count": null,
   "id": "820bd2a0-eb8c-42e7-ba56-bef15ae7358a",
   "metadata": {
    "execution": {
     "iopub.execute_input": "2022-03-09T18:10:35.853933Z",
     "iopub.status.busy": "2022-03-09T18:10:35.853402Z",
     "iopub.status.idle": "2022-03-09T18:10:36.995504Z",
     "shell.execute_reply": "2022-03-09T18:10:36.995110Z"
    }
   },
   "outputs": [],
   "source": [
    "import malariagen_data\n",
    "\n",
    "ag3 = malariagen_data.Ag3(\n",
    "    \"simplecache::gs://vo_agam_release\",\n",
    "    simplecache=dict(cache_storage=\"../gcs_cache\"),\n",
    ")\n",
    "ag3"
   ]
  },
  {
   "cell_type": "code",
   "execution_count": null,
   "id": "702a2213",
   "metadata": {},
   "outputs": [],
   "source": [
    "import malariagen_data\n",
    "\n",
    "af1 = malariagen_data.Af1(\n",
    "    \"simplecache::gs://vo_afun_release\",\n",
    "    simplecache=dict(cache_storage=\"../gcs_cache\"),\n",
    ")\n",
    "af1"
   ]
  },
  {
   "attachments": {},
   "cell_type": "markdown",
   "id": "7607169c",
   "metadata": {},
   "source": [
    "## SNP allele frequencies"
   ]
  },
  {
   "cell_type": "code",
   "execution_count": null,
   "id": "ab3ddd98",
   "metadata": {
    "execution": {
     "iopub.execute_input": "2022-03-09T18:10:37.001729Z",
     "iopub.status.busy": "2022-03-09T18:10:37.001595Z",
     "iopub.status.idle": "2022-03-09T18:10:38.842788Z",
     "shell.execute_reply": "2022-03-09T18:10:38.842294Z"
    }
   },
   "outputs": [],
   "source": [
    "allele_freqs_df = ag3.snp_allele_frequencies(\n",
    "    transcript=\"AGAP004707-RD\",\n",
    "    cohorts=\"admin1_year\",\n",
    "    sample_sets=(\"AG1000G-BF-A\", \"AG1000G-BF-B\", \"AG1000G-BF-C\"),\n",
    "    sample_query=\"taxon == 'coluzzii'\",\n",
    ")\n",
    "allele_freqs_df"
   ]
  },
  {
   "cell_type": "code",
   "execution_count": null,
   "id": "204d0b93",
   "metadata": {
    "execution": {
     "iopub.execute_input": "2022-03-09T18:10:38.870147Z",
     "iopub.status.busy": "2022-03-09T18:10:38.870016Z",
     "iopub.status.idle": "2022-03-09T18:10:38.876570Z",
     "shell.execute_reply": "2022-03-09T18:10:38.876214Z"
    }
   },
   "outputs": [],
   "source": [
    "snps_df = allele_freqs_df.query(\"effect == 'NON_SYNONYMOUS_CODING' and max_af > 0.05\")"
   ]
  },
  {
   "cell_type": "code",
   "execution_count": null,
   "id": "cc92d92f-31ed-4d1b-ac22-0282692db8c1",
   "metadata": {
    "execution": {
     "iopub.execute_input": "2022-03-09T18:10:38.878236Z",
     "iopub.status.busy": "2022-03-09T18:10:38.878105Z",
     "iopub.status.idle": "2022-03-09T18:10:39.384497Z",
     "shell.execute_reply": "2022-03-09T18:10:39.384174Z"
    }
   },
   "outputs": [],
   "source": [
    "ag3.plot_frequencies_heatmap(\n",
    "    df=snps_df,\n",
    ")"
   ]
  },
  {
   "cell_type": "code",
   "execution_count": null,
   "id": "ea2ee8e2",
   "metadata": {},
   "outputs": [],
   "source": [
    "ag3.plot_frequencies_heatmap(\n",
    "    df=snps_df.iloc[:2],\n",
    ")"
   ]
  },
  {
   "cell_type": "code",
   "execution_count": null,
   "id": "60f9e53f",
   "metadata": {},
   "outputs": [],
   "source": [
    "ag3.plot_frequencies_heatmap(\n",
    "    df=snps_df.iloc[:1],\n",
    ")"
   ]
  },
  {
   "cell_type": "code",
   "execution_count": null,
   "id": "055a88cb",
   "metadata": {
    "execution": {
     "iopub.execute_input": "2022-03-09T18:10:39.409416Z",
     "iopub.status.busy": "2022-03-09T18:10:39.409252Z",
     "iopub.status.idle": "2022-03-09T18:10:39.444252Z",
     "shell.execute_reply": "2022-03-09T18:10:39.443948Z"
    }
   },
   "outputs": [],
   "source": [
    "fig = ag3.plot_frequencies_heatmap(df=snps_df, title=\"SNP frequencies: Vgsc\")\n",
    "fig"
   ]
  },
  {
   "cell_type": "code",
   "execution_count": null,
   "id": "b41a1026",
   "metadata": {},
   "outputs": [],
   "source": [
    "af1.sample_sets()"
   ]
  },
  {
   "cell_type": "code",
   "execution_count": null,
   "id": "69ee0608",
   "metadata": {},
   "outputs": [],
   "source": [
    "af1.genome_features()"
   ]
  },
  {
   "cell_type": "code",
   "execution_count": null,
   "id": "7bcfc20a",
   "metadata": {},
   "outputs": [],
   "source": [
    "allele_freqs_df = af1.snp_allele_frequencies(\n",
    "    transcript=\"LOC125767311_t1\",\n",
    "    cohorts=\"admin1_year\",\n",
    "    sample_sets=(\"1231-VO-MULTI-WONDJI-VMF00043\", \"1240-VO-CD-KOEKEMOER-VMF00099\"),\n",
    ")\n",
    "allele_freqs_df"
   ]
  },
  {
   "cell_type": "code",
   "execution_count": null,
   "id": "86ee6d8a",
   "metadata": {},
   "outputs": [],
   "source": [
    "snps_df = allele_freqs_df.query(\"effect == 'NON_SYNONYMOUS_CODING' and max_af > 0.05\")\n",
    "snps_df"
   ]
  },
  {
   "cell_type": "code",
   "execution_count": null,
   "id": "65c5093e",
   "metadata": {},
   "outputs": [],
   "source": [
    "fig = af1.plot_frequencies_heatmap(df=snps_df)\n",
    "fig"
   ]
  },
  {
   "attachments": {},
   "cell_type": "markdown",
   "id": "2a682de7",
   "metadata": {},
   "source": [
    "## Amino acid frequencies"
   ]
  },
  {
   "cell_type": "code",
   "execution_count": null,
   "id": "c24c45f6",
   "metadata": {
    "execution": {
     "iopub.execute_input": "2022-03-09T18:10:39.446058Z",
     "iopub.status.busy": "2022-03-09T18:10:39.445923Z",
     "iopub.status.idle": "2022-03-09T18:10:40.130817Z",
     "shell.execute_reply": "2022-03-09T18:10:40.130365Z"
    }
   },
   "outputs": [],
   "source": [
    "aa_freqs_df = ag3.aa_allele_frequencies(\n",
    "    transcript=\"AGAP004707-RD\",\n",
    "    cohorts=\"admin1_year\",\n",
    "    sample_sets=(\"AG1000G-BF-A\", \"AG1000G-BF-B\", \"AG1000G-BF-C\"),\n",
    "    sample_query=\"taxon == 'coluzzii'\",\n",
    ")"
   ]
  },
  {
   "cell_type": "code",
   "execution_count": null,
   "id": "64066236",
   "metadata": {
    "execution": {
     "iopub.execute_input": "2022-03-09T18:10:40.132910Z",
     "iopub.status.busy": "2022-03-09T18:10:40.132737Z",
     "iopub.status.idle": "2022-03-09T18:10:40.137545Z",
     "shell.execute_reply": "2022-03-09T18:10:40.137124Z"
    }
   },
   "outputs": [],
   "source": [
    "aa_df = aa_freqs_df.query(\"max_af > 0.05\")"
   ]
  },
  {
   "cell_type": "code",
   "execution_count": null,
   "id": "3a83a404",
   "metadata": {
    "execution": {
     "iopub.execute_input": "2022-03-09T18:10:40.139209Z",
     "iopub.status.busy": "2022-03-09T18:10:40.139071Z",
     "iopub.status.idle": "2022-03-09T18:10:40.150642Z",
     "shell.execute_reply": "2022-03-09T18:10:40.150352Z"
    }
   },
   "outputs": [],
   "source": [
    "aa_df"
   ]
  },
  {
   "cell_type": "code",
   "execution_count": null,
   "id": "d5a68fe6",
   "metadata": {
    "execution": {
     "iopub.execute_input": "2022-03-09T18:10:40.152240Z",
     "iopub.status.busy": "2022-03-09T18:10:40.152104Z",
     "iopub.status.idle": "2022-03-09T18:10:40.184656Z",
     "shell.execute_reply": "2022-03-09T18:10:40.184256Z"
    }
   },
   "outputs": [],
   "source": [
    "ag3.plot_frequencies_heatmap(\n",
    "    df=aa_df,\n",
    ")"
   ]
  },
  {
   "cell_type": "code",
   "execution_count": null,
   "id": "1fca6e11",
   "metadata": {},
   "outputs": [],
   "source": [
    "aa_freqs_df = ag3.aa_allele_frequencies(\n",
    "    transcript=\"AGAP004707-RD\",\n",
    "    cohorts=\"admin1_year\",\n",
    "    sample_sets=\"3.0\",\n",
    "    sample_query=\"taxon == 'coluzzii'\",\n",
    ").query(\"max_af > 0.05\")\n",
    "aa_freqs_df"
   ]
  },
  {
   "cell_type": "code",
   "execution_count": null,
   "id": "9d55aa57",
   "metadata": {},
   "outputs": [],
   "source": [
    "ag3.plot_frequencies_heatmap(df=aa_freqs_df)"
   ]
  },
  {
   "cell_type": "code",
   "execution_count": null,
   "id": "63f02680",
   "metadata": {},
   "outputs": [],
   "source": [
    "aa_freqs_df = ag3.aa_allele_frequencies(\n",
    "    transcript=\"AGAP004707-RD\",\n",
    "    cohorts=\"admin1_year\",\n",
    "    sample_sets=\"3.0\",\n",
    ").query(\"max_af > 0.05\")\n",
    "ag3.plot_frequencies_heatmap(df=aa_freqs_df)"
   ]
  },
  {
   "cell_type": "code",
   "execution_count": null,
   "id": "a8895338",
   "metadata": {},
   "outputs": [],
   "source": [
    "aa_freqs_df = af1.aa_allele_frequencies(\n",
    "    transcript=\"LOC125767311_t1\",\n",
    "    cohorts=\"admin1_year\",\n",
    "    sample_sets=(\"1231-VO-MULTI-WONDJI-VMF00043\", \"1240-VO-CD-KOEKEMOER-VMF00099\"),\n",
    ").query(\"max_af > 0.05\")\n",
    "aa_freqs_df"
   ]
  },
  {
   "cell_type": "code",
   "execution_count": null,
   "id": "220945ee",
   "metadata": {},
   "outputs": [],
   "source": [
    "af1.plot_frequencies_heatmap(df=aa_freqs_df)"
   ]
  },
  {
   "attachments": {},
   "cell_type": "markdown",
   "id": "7a9b4bc6",
   "metadata": {},
   "source": [
    "## Gene CNV frequencies"
   ]
  },
  {
   "cell_type": "code",
   "execution_count": null,
   "id": "8c914a1b",
   "metadata": {
    "execution": {
     "iopub.execute_input": "2022-03-09T18:10:40.186526Z",
     "iopub.status.busy": "2022-03-09T18:10:40.186382Z",
     "iopub.status.idle": "2022-03-09T18:10:40.188777Z",
     "shell.execute_reply": "2022-03-09T18:10:40.188430Z"
    }
   },
   "outputs": [],
   "source": [
    "cyp6aap_region = \"2R:28,450,000-28,510,000\""
   ]
  },
  {
   "cell_type": "code",
   "execution_count": null,
   "id": "edd39fc3",
   "metadata": {
    "execution": {
     "iopub.execute_input": "2022-03-09T18:10:40.190473Z",
     "iopub.status.busy": "2022-03-09T18:10:40.190335Z",
     "iopub.status.idle": "2022-03-09T18:10:40.621352Z",
     "shell.execute_reply": "2022-03-09T18:10:40.620767Z"
    }
   },
   "outputs": [],
   "source": [
    "cyp6aap_cnv_freqs_df = ag3.gene_cnv_frequencies(\n",
    "    region=cyp6aap_region,\n",
    "    cohorts=\"admin1_year\",\n",
    "    sample_sets=(\"AG1000G-BF-A\", \"AG1000G-BF-B\", \"AG1000G-BF-C\"),\n",
    "    sample_query=\"taxon == 'coluzzii'\",\n",
    ")"
   ]
  },
  {
   "cell_type": "code",
   "execution_count": null,
   "id": "fa51bcc3-90fc-4879-8366-b2ad80bc833b",
   "metadata": {
    "execution": {
     "iopub.execute_input": "2022-03-09T18:10:40.623323Z",
     "iopub.status.busy": "2022-03-09T18:10:40.623215Z",
     "iopub.status.idle": "2022-03-09T18:10:40.639595Z",
     "shell.execute_reply": "2022-03-09T18:10:40.639260Z"
    }
   },
   "outputs": [],
   "source": [
    "cyp6aap_cnv_freqs_df"
   ]
  },
  {
   "cell_type": "code",
   "execution_count": null,
   "id": "763ed786",
   "metadata": {
    "execution": {
     "iopub.execute_input": "2022-03-09T18:10:40.658918Z",
     "iopub.status.busy": "2022-03-09T18:10:40.658813Z",
     "iopub.status.idle": "2022-03-09T18:10:40.694696Z",
     "shell.execute_reply": "2022-03-09T18:10:40.694357Z"
    }
   },
   "outputs": [],
   "source": [
    "ag3.plot_frequencies_heatmap(\n",
    "    df=cyp6aap_cnv_freqs_df,\n",
    ")"
   ]
  },
  {
   "cell_type": "code",
   "execution_count": null,
   "id": "f5099554",
   "metadata": {},
   "outputs": [],
   "source": [
    "ag3.plot_frequencies_heatmap(\n",
    "    df=cyp6aap_cnv_freqs_df[[\"label\", \"frq_BF-09_colu_2014\"]],\n",
    ")"
   ]
  },
  {
   "cell_type": "code",
   "execution_count": null,
   "id": "f3c20291",
   "metadata": {
    "execution": {
     "iopub.execute_input": "2022-03-09T18:10:40.696360Z",
     "iopub.status.busy": "2022-03-09T18:10:40.696253Z",
     "iopub.status.idle": "2022-03-09T18:10:40.729567Z",
     "shell.execute_reply": "2022-03-09T18:10:40.729163Z"
    }
   },
   "outputs": [],
   "source": [
    "ag3.plot_frequencies_heatmap(\n",
    "    df=cyp6aap_cnv_freqs_df,\n",
    "    color_continuous_scale=\"Blues\",\n",
    "    title=\"Cyp6p/aa gene CNV frequencies\",\n",
    ")"
   ]
  },
  {
   "cell_type": "code",
   "execution_count": null,
   "id": "86c5c594",
   "metadata": {},
   "outputs": [],
   "source": []
  }
 ],
 "metadata": {
  "kernelspec": {
   "display_name": "Python 3 (ipykernel)",
   "language": "python",
   "name": "python3"
  },
  "language_info": {
   "codemirror_mode": {
    "name": "ipython",
    "version": 3
   },
   "file_extension": ".py",
   "mimetype": "text/x-python",
   "name": "python",
   "nbconvert_exporter": "python",
   "pygments_lexer": "ipython3",
   "version": "3.8.16"
  }
 },
 "nbformat": 4,
 "nbformat_minor": 5
}
