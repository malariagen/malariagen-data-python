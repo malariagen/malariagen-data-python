{
 "cells": [
  {
   "cell_type": "markdown",
   "id": "7d93e741-bddf-4a29-aea2-7bc6be697cb7",
   "metadata": {},
   "source": [
    "# PCA plotting"
   ]
  },
  {
   "cell_type": "markdown",
   "id": "2f274c61-c660-47b0-92b9-83ab701eb9eb",
   "metadata": {},
   "source": [
    "### Setup"
   ]
  },
  {
   "cell_type": "code",
   "execution_count": null,
   "id": "36039d6f",
   "metadata": {},
   "outputs": [],
   "source": [
    "import malariagen_data"
   ]
  },
  {
   "cell_type": "code",
   "execution_count": null,
   "id": "d8bf7a3a",
   "metadata": {},
   "outputs": [],
   "source": [
    "ag3 = malariagen_data.Ag3(\n",
    "    \"simplecache::gs://vo_agam_release\",\n",
    "    simplecache=dict(cache_storage=\"../gcs_cache\"),\n",
    "    results_cache=\"results_cache\",\n",
    ")\n",
    "ag3"
   ]
  },
  {
   "cell_type": "code",
   "execution_count": null,
   "id": "bfd56044",
   "metadata": {},
   "outputs": [],
   "source": [
    "af1 = malariagen_data.Af1(\n",
    "    \"simplecache::gs://vo_afun_release\",\n",
    "    simplecache=dict(cache_storage=\"../gcs_cache\"),\n",
    "    results_cache=\"results_cache\",\n",
    ")\n",
    "af1"
   ]
  },
  {
   "cell_type": "code",
   "execution_count": null,
   "id": "4e5e1c70",
   "metadata": {},
   "outputs": [],
   "source": [
    "!rm -rf results_cache"
   ]
  },
  {
   "cell_type": "markdown",
   "id": "b3760474-2ab2-4291-b5ee-48feccd091f4",
   "metadata": {},
   "source": [
    "## Mayotte"
   ]
  },
  {
   "cell_type": "code",
   "execution_count": null,
   "id": "e5743579",
   "metadata": {},
   "outputs": [],
   "source": [
    "df_pca, evr = ag3.pca(\n",
    "    region=\"3L:15,000,000-16,000,000\",\n",
    "    sample_sets=\"AG1000G-FR\",\n",
    "    n_snps=10_000,\n",
    ")\n",
    "df_pca"
   ]
  },
  {
   "cell_type": "code",
   "execution_count": null,
   "id": "ede14f05-a45d-4e12-9e02-3f4980d867cd",
   "metadata": {},
   "outputs": [],
   "source": [
    "evr"
   ]
  },
  {
   "cell_type": "code",
   "execution_count": null,
   "id": "5578c99a-37b1-4011-b34f-267aad0b2763",
   "metadata": {},
   "outputs": [],
   "source": [
    "ag3.plot_pca_coords(\n",
    "    df_pca,\n",
    ")"
   ]
  },
  {
   "cell_type": "code",
   "execution_count": null,
   "id": "a027022f-f700-49c1-8f2d-a43100956155",
   "metadata": {},
   "outputs": [],
   "source": [
    "ag3.plot_pca_coords(\n",
    "    df_pca,\n",
    "    color=\"location\",\n",
    ")"
   ]
  },
  {
   "cell_type": "code",
   "execution_count": null,
   "id": "b73b8a6f",
   "metadata": {},
   "outputs": [],
   "source": [
    "df_pca, evr = ag3.pca(\n",
    "    region=\"3L:15,000,000-16,000,000\",\n",
    "    sample_sets=\"AG1000G-FR\",\n",
    "    n_snps=10_000,\n",
    ")"
   ]
  },
  {
   "cell_type": "code",
   "execution_count": null,
   "id": "c0b018e3",
   "metadata": {},
   "outputs": [],
   "source": [
    "ag3.plot_pca_variance(evr)"
   ]
  },
  {
   "cell_type": "code",
   "execution_count": null,
   "id": "32e505db",
   "metadata": {},
   "outputs": [],
   "source": [
    "ag3.plot_pca_coords(\n",
    "    df_pca,\n",
    "    color=\"location\",\n",
    ")"
   ]
  },
  {
   "cell_type": "markdown",
   "id": "467dbd69-8ba2-41a2-8d01-d9fa78d42326",
   "metadata": {},
   "source": [
    "## Burkina Faso"
   ]
  },
  {
   "cell_type": "code",
   "execution_count": null,
   "id": "6a2ce979-1553-4459-b3c1-f3dea40bc1a1",
   "metadata": {},
   "outputs": [],
   "source": [
    "df_pca, evr = ag3.pca(\n",
    "    region=\"3L:15,000,000-16,000,000\",\n",
    "    sample_sets=\"AG1000G-BF-A\",\n",
    "    n_snps=10_000,\n",
    "    max_cohort_size=50,\n",
    ")"
   ]
  },
  {
   "cell_type": "code",
   "execution_count": null,
   "id": "4cb47917-0d8c-47c8-a68d-34d193e2f61a",
   "metadata": {},
   "outputs": [],
   "source": [
    "ag3.plot_pca_coords(\n",
    "    df_pca,\n",
    "    color=\"taxon\",\n",
    "    category_orders=dict(taxon=[\"coluzzii\", \"gambiae\"]),\n",
    ")"
   ]
  },
  {
   "cell_type": "code",
   "execution_count": null,
   "id": "241cae4e-3305-4c2a-845f-8871a1a114d4",
   "metadata": {},
   "outputs": [],
   "source": [
    "ag3.plot_pca_coords(\n",
    "    df_pca,\n",
    "    color=\"admin1_year\",\n",
    "    symbol=\"taxon\",\n",
    ")"
   ]
  },
  {
   "cell_type": "markdown",
   "id": "a2b46eb9-832d-417c-a082-9fc365b0fc62",
   "metadata": {},
   "source": [
    "## Ag3.0"
   ]
  },
  {
   "cell_type": "code",
   "execution_count": null,
   "id": "8ac26ed8",
   "metadata": {},
   "outputs": [],
   "source": [
    "df_pca, evr = ag3.pca(\n",
    "    region=\"3L:15,000,000-16,000,000\",\n",
    "    sample_sets=\"3.0\",\n",
    "    sample_query=\"country != 'Lab Cross'\",\n",
    "    n_snps=10_000,\n",
    ")"
   ]
  },
  {
   "cell_type": "code",
   "execution_count": null,
   "id": "6e02f847",
   "metadata": {},
   "outputs": [],
   "source": [
    "df_pca, evr = ag3.pca(\n",
    "    region=\"3L:15,000,000-16,000,000\",\n",
    "    sample_sets=\"3.0\",\n",
    "    sample_query=\"country != 'Lab Cross'\",\n",
    "    n_snps=10_000,\n",
    ")"
   ]
  },
  {
   "cell_type": "code",
   "execution_count": null,
   "id": "4b957863",
   "metadata": {},
   "outputs": [],
   "source": [
    "ag3.plot_pca_variance(evr)"
   ]
  },
  {
   "cell_type": "code",
   "execution_count": null,
   "id": "17baa8d0",
   "metadata": {},
   "outputs": [],
   "source": [
    "ag3.plot_pca_coords(\n",
    "    df_pca,\n",
    "    color=\"taxon\",\n",
    "    marker_size=5,\n",
    ")"
   ]
  },
  {
   "cell_type": "code",
   "execution_count": null,
   "id": "114fb016",
   "metadata": {},
   "outputs": [],
   "source": [
    "ag3.plot_pca_coords(\n",
    "    df_pca,\n",
    "    x=\"PC3\",\n",
    "    y=\"PC4\",\n",
    "    color=\"country\",\n",
    "    marker_size=5,\n",
    ")"
   ]
  },
  {
   "cell_type": "code",
   "execution_count": null,
   "id": "92795fa4",
   "metadata": {},
   "outputs": [],
   "source": [
    "ag3.plot_pca_coords_3d(\n",
    "    df_pca,\n",
    "    color=\"taxon\",\n",
    "    marker_size=2,\n",
    ")"
   ]
  },
  {
   "cell_type": "code",
   "execution_count": null,
   "id": "e0c10b0d-3244-4862-acb7-cf60b9a6a9f2",
   "metadata": {},
   "outputs": [],
   "source": [
    "ag3.plot_pca_coords_3d(\n",
    "    df_pca,\n",
    "    color=\"taxon\",\n",
    "    category_orders=dict(taxon=[\"coluzzii\", \"gambiae\", \"arabiensis\", \"gcx1\", \"gcx2\", \"gcx3\"]),\n",
    "    marker_size=2,\n",
    ")"
   ]
  },
  {
   "cell_type": "code",
   "execution_count": null,
   "id": "727402e7-43a1-4c7d-b21e-a051cd881f01",
   "metadata": {},
   "outputs": [],
   "source": [
    "new_cohorts = {\n",
    "    \"East\": \"country in ['Malawi', 'Tanzania', 'Kenya', 'Uganda']\",\n",
    "    \"West\": \"country in ['Mali', 'Burkina Faso', 'Cameroon']\",\n",
    "}"
   ]
  },
  {
   "cell_type": "code",
   "execution_count": null,
   "id": "cccf1386-c578-4af3-97ec-dc7704840102",
   "metadata": {},
   "outputs": [],
   "source": [
    "ag3.plot_pca_coords(\n",
    "    df_pca,\n",
    "    color=new_cohorts,\n",
    "    marker_size=5,\n",
    ")"
   ]
  },
  {
   "cell_type": "code",
   "execution_count": null,
   "id": "1b1a399a-762d-42db-9e40-776575d9ef5a",
   "metadata": {},
   "outputs": [],
   "source": [
    "ag3.plot_pca_coords_3d(\n",
    "    df_pca,\n",
    "    color=new_cohorts,\n",
    "    marker_size=2,\n",
    ")"
   ]
  },
  {
   "cell_type": "markdown",
   "id": "14d04103-2f6f-4f53-8d35-f286de5980d2",
   "metadata": {},
   "source": [
    "## Af1.0"
   ]
  },
  {
   "cell_type": "code",
   "execution_count": null,
   "id": "6c3fc8d5",
   "metadata": {},
   "outputs": [],
   "source": [
    "df_pca, evr = af1.pca(\n",
    "    region=\"3RL:15,000,000-16,000,000\",\n",
    "    sample_sets=\"1.0\",\n",
    "    sample_query=\"country != 'Ghana'\",\n",
    "    n_snps=10_000,\n",
    ")"
   ]
  },
  {
   "cell_type": "code",
   "execution_count": null,
   "id": "fbe1f54f",
   "metadata": {},
   "outputs": [],
   "source": [
    "af1.plot_pca_variance(evr)"
   ]
  },
  {
   "cell_type": "code",
   "execution_count": null,
   "id": "5c055c99",
   "metadata": {},
   "outputs": [],
   "source": [
    "af1.plot_pca_coords(\n",
    "    df_pca,\n",
    "    color=\"country\",\n",
    ")"
   ]
  },
  {
   "cell_type": "code",
   "execution_count": null,
   "id": "ea74cb43",
   "metadata": {},
   "outputs": [],
   "source": [
    "af1.plot_pca_coords(\n",
    "    df_pca,\n",
    "    x=\"PC3\",\n",
    "    y=\"PC4\",\n",
    "    color=\"country\",\n",
    ")"
   ]
  },
  {
   "cell_type": "markdown",
   "id": "fdfbcd5a-5ef4-4cbc-b430-c0b541925142",
   "metadata": {},
   "source": [
    "## Excluding samples"
   ]
  },
  {
   "cell_type": "code",
   "execution_count": null,
   "id": "6c3251e2-a95c-4d4a-bff1-8e632be0eaf5",
   "metadata": {},
   "outputs": [],
   "source": [
    "df_pca, evr = ag3.pca(\n",
    "    region=\"3L:15,000,000-16,000,000\",\n",
    "    sample_sets=\"AG1000G-BF-A\",\n",
    "    n_snps=10_000,\n",
    "    max_cohort_size=50,\n",
    ")"
   ]
  },
  {
   "cell_type": "code",
   "execution_count": null,
   "id": "1f0b88a7-d9f6-44a8-9778-4cbaad397765",
   "metadata": {},
   "outputs": [],
   "source": [
    "df_pca.head()"
   ]
  },
  {
   "cell_type": "code",
   "execution_count": null,
   "id": "4e370936-925a-4e97-86cb-b22f72b39e64",
   "metadata": {},
   "outputs": [],
   "source": [
    "ag3.plot_pca_variance(evr)"
   ]
  },
  {
   "cell_type": "code",
   "execution_count": null,
   "id": "9ea24435-d752-4269-a391-b057e1650d44",
   "metadata": {},
   "outputs": [],
   "source": [
    "ag3.plot_pca_coords(\n",
    "    df_pca,\n",
    "    color=\"taxon\",\n",
    ")"
   ]
  },
  {
   "cell_type": "code",
   "execution_count": null,
   "id": "0f114dd9-965d-4579-8cce-76f45fde6a37",
   "metadata": {},
   "outputs": [],
   "source": [
    "exclude_samples = [\"AB0096-C\", \"AB0241-C\", \"AB0275-C\", \"AB0197-C\"]\n",
    "\n",
    "df_pca_ex, evr_ex = ag3.pca(\n",
    "    region=\"3L:15,000,000-16,000,000\",\n",
    "    sample_sets=\"AG1000G-BF-A\",\n",
    "    n_snps=10_000,\n",
    "    max_cohort_size=50,\n",
    "    exclude_samples=exclude_samples,\n",
    ")"
   ]
  },
  {
   "cell_type": "code",
   "execution_count": null,
   "id": "a5392844-a828-48f3-8222-bfc1817c3493",
   "metadata": {},
   "outputs": [],
   "source": [
    "df_pca_ex.head()"
   ]
  },
  {
   "cell_type": "code",
   "execution_count": null,
   "id": "6d87eeb5-8dc6-4a31-a8a3-e936d4d05215",
   "metadata": {},
   "outputs": [],
   "source": [
    "df_pca_ex.query(f\"sample_id in {exclude_samples}\")"
   ]
  },
  {
   "cell_type": "code",
   "execution_count": null,
   "id": "770b01ee-642e-4903-93fa-eef084924234",
   "metadata": {},
   "outputs": [],
   "source": [
    "ag3.plot_pca_variance(evr_ex)"
   ]
  },
  {
   "cell_type": "code",
   "execution_count": null,
   "id": "9438fd91-b463-4d28-8279-5eaa728a8f2e",
   "metadata": {},
   "outputs": [],
   "source": [
    "ag3.plot_pca_coords(\n",
    "    df_pca_ex,\n",
    "    color=\"taxon\",\n",
    ")"
   ]
  },
  {
   "cell_type": "markdown",
   "id": "58e7b2c1-b4c1-4c93-823c-8531693636e4",
   "metadata": {},
   "source": [
    "## Excluding samples during fit"
   ]
  },
  {
   "cell_type": "code",
   "execution_count": null,
   "id": "1014a17c-12bb-46c3-9a7b-f2449d205ce3",
   "metadata": {},
   "outputs": [],
   "source": [
    "fit_exclude_samples = [\"AB0096-C\", \"AB0241-C\", \"AB0275-C\", \"AB0197-C\"]\n",
    "\n",
    "df_pca_fex, evr_fex = ag3.pca(\n",
    "    region=\"3L:15,000,000-16,000,000\",\n",
    "    sample_sets=\"AG1000G-BF-A\",\n",
    "    n_snps=10_000,\n",
    "    max_cohort_size=50,\n",
    "    fit_exclude_samples=fit_exclude_samples,\n",
    ")"
   ]
  },
  {
   "cell_type": "code",
   "execution_count": null,
   "id": "e48d46dd-5c7f-4573-a5f5-c15a389d2e1e",
   "metadata": {},
   "outputs": [],
   "source": [
    "df_pca_fex.head()"
   ]
  },
  {
   "cell_type": "code",
   "execution_count": null,
   "id": "1fb5192e-f63f-443d-91a9-e82b2de14c69",
   "metadata": {},
   "outputs": [],
   "source": [
    "df_pca_fex.query(f\"sample_id in {fit_exclude_samples}\")"
   ]
  },
  {
   "cell_type": "code",
   "execution_count": null,
   "id": "873c53f5-8690-4690-85f0-8ce1845e2862",
   "metadata": {},
   "outputs": [],
   "source": [
    "ag3.plot_pca_variance(evr_fex)"
   ]
  },
  {
   "cell_type": "code",
   "execution_count": null,
   "id": "0bb86ba2-e428-4ae0-9e0c-703345c89324",
   "metadata": {},
   "outputs": [],
   "source": [
    "ag3.plot_pca_coords(\n",
    "    df_pca_fex,\n",
    "    color=\"taxon\",\n",
    ")"
   ]
  },
  {
   "cell_type": "code",
   "execution_count": null,
   "id": "7b28c4c8-9382-4889-8651-77ef0be929f6",
   "metadata": {},
   "outputs": [],
   "source": [
    "ag3.plot_pca_coords(\n",
    "    df_pca_fex,\n",
    "    color=\"pca_fit\",\n",
    ")"
   ]
  },
  {
   "cell_type": "code",
   "execution_count": null,
   "id": "33d788a2-f256-4930-b1e5-b4f31e681a36",
   "metadata": {},
   "outputs": [],
   "source": []
  }
 ],
 "metadata": {
  "kernelspec": {
   "display_name": "Python 3 (ipykernel)",
   "language": "python",
   "name": "python3"
  },
  "language_info": {
   "codemirror_mode": {
    "name": "ipython",
    "version": 3
   },
   "file_extension": ".py",
   "mimetype": "text/x-python",
   "name": "python",
   "nbconvert_exporter": "python",
   "pygments_lexer": "ipython3",
   "version": "3.10.12"
  },
  "widgets": {
   "application/vnd.jupyter.widget-state+json": {
    "state": {},
    "version_major": 2,
    "version_minor": 0
   }
  }
 },
 "nbformat": 4,
 "nbformat_minor": 5
}
