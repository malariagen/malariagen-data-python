{
 "cells": [
  {
   "cell_type": "code",
   "execution_count": null,
   "id": "36039d6f",
   "metadata": {},
   "outputs": [],
   "source": [
    "import malariagen_data"
   ]
  },
  {
   "cell_type": "code",
   "execution_count": null,
   "id": "d8bf7a3a",
   "metadata": {},
   "outputs": [],
   "source": [
    "ag3 = malariagen_data.Ag3(\n",
    "    \"simplecache::gs://vo_agam_release\",\n",
    "    simplecache=dict(cache_storage=\"../gcs_cache\"),\n",
    "    results_cache=\"results_cache\",\n",
    ")\n",
    "ag3"
   ]
  },
  {
   "cell_type": "code",
   "execution_count": null,
   "id": "bfd56044",
   "metadata": {},
   "outputs": [],
   "source": [
    "af1 = malariagen_data.Af1(\n",
    "    \"simplecache::gs://vo_afun_release\",\n",
    "    simplecache=dict(cache_storage=\"../gcs_cache\"),\n",
    "    results_cache=\"results_cache\",\n",
    ")\n",
    "af1"
   ]
  },
  {
   "cell_type": "code",
   "execution_count": null,
   "id": "4e5e1c70",
   "metadata": {},
   "outputs": [],
   "source": [
    "!rm -rf results_cache"
   ]
  },
  {
   "cell_type": "code",
   "execution_count": null,
   "id": "e5743579",
   "metadata": {},
   "outputs": [],
   "source": [
    "df_pca, evr = ag3.pca(\n",
    "    region=\"3L:15,000,000-16,000,000\",\n",
    "    sample_sets=\"AG1000G-FR\",\n",
    "    n_snps=10_000,\n",
    ")\n",
    "df_pca"
   ]
  },
  {
   "cell_type": "code",
   "execution_count": null,
   "id": "ede14f05-a45d-4e12-9e02-3f4980d867cd",
   "metadata": {},
   "outputs": [],
   "source": [
    "evr"
   ]
  },
  {
   "cell_type": "code",
   "execution_count": null,
   "id": "5578c99a-37b1-4011-b34f-267aad0b2763",
   "metadata": {},
   "outputs": [],
   "source": [
    "ag3.plot_pca_coords(\n",
    "    df_pca,\n",
    ")"
   ]
  },
  {
   "cell_type": "code",
   "execution_count": null,
   "id": "a027022f-f700-49c1-8f2d-a43100956155",
   "metadata": {},
   "outputs": [],
   "source": [
    "ag3.plot_pca_coords(\n",
    "    df_pca,\n",
    "    color=\"location\",\n",
    ")"
   ]
  },
  {
   "cell_type": "code",
   "execution_count": null,
   "id": "b73b8a6f",
   "metadata": {},
   "outputs": [],
   "source": [
    "df_pca, evr = ag3.pca(\n",
    "    region=\"3L:15,000,000-16,000,000\",\n",
    "    sample_sets=\"AG1000G-FR\",\n",
    "    n_snps=10_000,\n",
    ")"
   ]
  },
  {
   "cell_type": "code",
   "execution_count": null,
   "id": "c0b018e3",
   "metadata": {},
   "outputs": [],
   "source": [
    "ag3.plot_pca_variance(evr)"
   ]
  },
  {
   "cell_type": "code",
   "execution_count": null,
   "id": "32e505db",
   "metadata": {},
   "outputs": [],
   "source": [
    "ag3.plot_pca_coords(\n",
    "    df_pca,\n",
    "    color=\"location\",\n",
    ")"
   ]
  },
  {
   "cell_type": "code",
   "execution_count": null,
   "id": "6a2ce979-1553-4459-b3c1-f3dea40bc1a1",
   "metadata": {},
   "outputs": [],
   "source": [
    "df_pca, evr = ag3.pca(\n",
    "    region=\"3L:15,000,000-16,000,000\",\n",
    "    sample_sets=\"AG1000G-BF-A\",\n",
    "    n_snps=10_000,\n",
    "    max_cohort_size=50,\n",
    ")"
   ]
  },
  {
   "cell_type": "code",
   "execution_count": null,
   "id": "4cb47917-0d8c-47c8-a68d-34d193e2f61a",
   "metadata": {},
   "outputs": [],
   "source": [
    "ag3.plot_pca_coords(\n",
    "    df_pca,\n",
    "    color=\"taxon\",\n",
    ")"
   ]
  },
  {
   "cell_type": "code",
   "execution_count": null,
   "id": "241cae4e-3305-4c2a-845f-8871a1a114d4",
   "metadata": {},
   "outputs": [],
   "source": [
    "ag3.plot_pca_coords(\n",
    "    df_pca,\n",
    "    color=\"admin1_year\",\n",
    "    symbol=\"taxon\",\n",
    ")"
   ]
  },
  {
   "cell_type": "code",
   "execution_count": null,
   "id": "8ac26ed8",
   "metadata": {},
   "outputs": [],
   "source": [
    "df_pca, evr = ag3.pca(\n",
    "    region=\"3L:15,000,000-16,000,000\",\n",
    "    sample_sets=\"3.0\",\n",
    "    sample_query=\"country != 'Lab Cross'\",\n",
    "    n_snps=10_000,\n",
    ")"
   ]
  },
  {
   "cell_type": "code",
   "execution_count": null,
   "id": "6e02f847",
   "metadata": {},
   "outputs": [],
   "source": [
    "df_pca, evr = ag3.pca(\n",
    "    region=\"3L:15,000,000-16,000,000\",\n",
    "    sample_sets=\"3.0\",\n",
    "    sample_query=\"country != 'Lab Cross'\",\n",
    "    n_snps=10_000,\n",
    ")"
   ]
  },
  {
   "cell_type": "code",
   "execution_count": null,
   "id": "4b957863",
   "metadata": {},
   "outputs": [],
   "source": [
    "ag3.plot_pca_variance(evr)"
   ]
  },
  {
   "cell_type": "code",
   "execution_count": null,
   "id": "17baa8d0",
   "metadata": {},
   "outputs": [],
   "source": [
    "ag3.plot_pca_coords(\n",
    "    df_pca,\n",
    "    color=\"taxon\",\n",
    "    marker_size=5,\n",
    ")"
   ]
  },
  {
   "cell_type": "code",
   "execution_count": null,
   "id": "114fb016",
   "metadata": {},
   "outputs": [],
   "source": [
    "ag3.plot_pca_coords(\n",
    "    df_pca,\n",
    "    x=\"PC3\",\n",
    "    y=\"PC4\",\n",
    "    color=\"country\",\n",
    "    marker_size=5,\n",
    ")"
   ]
  },
  {
   "cell_type": "code",
   "execution_count": null,
   "id": "92795fa4",
   "metadata": {},
   "outputs": [],
   "source": [
    "ag3.plot_pca_coords_3d(\n",
    "    df_pca,\n",
    "    color=\"taxon\",\n",
    "    marker_size=2,\n",
    ")"
   ]
  },
  {
   "cell_type": "code",
   "execution_count": null,
   "id": "6c3fc8d5",
   "metadata": {},
   "outputs": [],
   "source": [
    "df_pca, evr = af1.pca(\n",
    "    region=\"3RL:15,000,000-16,000,000\",\n",
    "    sample_sets=\"1.0\",\n",
    "    sample_query=\"country != 'Ghana'\",\n",
    "    n_snps=10_000,\n",
    ")"
   ]
  },
  {
   "cell_type": "code",
   "execution_count": null,
   "id": "fbe1f54f",
   "metadata": {},
   "outputs": [],
   "source": [
    "af1.plot_pca_variance(evr)"
   ]
  },
  {
   "cell_type": "code",
   "execution_count": null,
   "id": "5c055c99",
   "metadata": {},
   "outputs": [],
   "source": [
    "af1.plot_pca_coords(\n",
    "    df_pca,\n",
    "    color=\"country\",\n",
    ")"
   ]
  },
  {
   "cell_type": "code",
   "execution_count": null,
   "id": "ea74cb43",
   "metadata": {},
   "outputs": [],
   "source": [
    "af1.plot_pca_coords(\n",
    "    df_pca,\n",
    "    x=\"PC3\",\n",
    "    y=\"PC4\",\n",
    "    color=\"country\",\n",
    ")"
   ]
  },
  {
   "cell_type": "code",
   "execution_count": null,
   "id": "6c3251e2-a95c-4d4a-bff1-8e632be0eaf5",
   "metadata": {},
   "outputs": [],
   "source": []
  }
 ],
 "metadata": {
  "kernelspec": {
   "display_name": "Python 3 (ipykernel)",
   "language": "python",
   "name": "python3"
  },
  "language_info": {
   "codemirror_mode": {
    "name": "ipython",
    "version": 3
   },
   "file_extension": ".py",
   "mimetype": "text/x-python",
   "name": "python",
   "nbconvert_exporter": "python",
   "pygments_lexer": "ipython3",
   "version": "3.8.18"
  },
  "widgets": {
   "application/vnd.jupyter.widget-state+json": {
    "state": {},
    "version_major": 2,
    "version_minor": 0
   }
  }
 },
 "nbformat": 4,
 "nbformat_minor": 5
}
