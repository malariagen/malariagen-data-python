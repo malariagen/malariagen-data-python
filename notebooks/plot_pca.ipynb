{
 "cells": [
  {
   "cell_type": "code",
   "execution_count": null,
   "id": "36039d6f",
   "metadata": {},
   "outputs": [],
   "source": [
    "import malariagen_data"
   ]
  },
  {
   "cell_type": "code",
   "execution_count": null,
   "id": "d8bf7a3a",
   "metadata": {},
   "outputs": [],
   "source": [
    "ag3 = malariagen_data.Ag3(\n",
    "    \"simplecache::gs://vo_agam_release\",\n",
    "    simplecache=dict(cache_storage=\"../gcs_cache\"),\n",
    "    results_cache=\"../results_cache\",\n",
    ")\n",
    "ag3"
   ]
  },
  {
   "cell_type": "code",
   "execution_count": null,
   "id": "bfd56044",
   "metadata": {},
   "outputs": [],
   "source": [
    "af1 = malariagen_data.Af1(\n",
    "    \"simplecache::gs://vo_afun_release\",\n",
    "    simplecache=dict(cache_storage=\"../gcs_cache\"),\n",
    "    results_cache=\"../results_cache\",\n",
    ")\n",
    "af1"
   ]
  },
  {
   "cell_type": "code",
   "execution_count": null,
   "id": "4e5e1c70",
   "metadata": {},
   "outputs": [],
   "source": [
    "!rm -r ../results_cache"
   ]
  },
  {
   "cell_type": "code",
   "execution_count": null,
   "id": "e5743579",
   "metadata": {},
   "outputs": [],
   "source": [
    "df_pca, evr = ag3.pca(\n",
    "    region=\"3L:15,000,000-16,000,000\",\n",
    "    sample_sets=\"AG1000G-FR\",\n",
    "    n_snps=10_000,\n",
    ")"
   ]
  },
  {
   "cell_type": "code",
   "execution_count": null,
   "id": "b73b8a6f",
   "metadata": {},
   "outputs": [],
   "source": [
    "df_pca, evr = ag3.pca(\n",
    "    region=\"3L:15,000,000-16,000,000\",\n",
    "    sample_sets=\"AG1000G-FR\",\n",
    "    n_snps=10_000,\n",
    ")"
   ]
  },
  {
   "cell_type": "code",
   "execution_count": null,
   "id": "c0b018e3",
   "metadata": {},
   "outputs": [],
   "source": [
    "ag3.plot_pca_variance(evr)"
   ]
  },
  {
   "cell_type": "code",
   "execution_count": null,
   "id": "32e505db",
   "metadata": {},
   "outputs": [],
   "source": [
    "ag3.plot_pca_coords(\n",
    "    df_pca,\n",
    "    color=\"taxon\",\n",
    ")"
   ]
  },
  {
   "cell_type": "code",
   "execution_count": null,
   "id": "cb7c3a08",
   "metadata": {},
   "outputs": [],
   "source": [
    "ag3.plot_pca_coords(df_pca, color=\"location\")"
   ]
  },
  {
   "cell_type": "code",
   "execution_count": null,
   "id": "8ac26ed8",
   "metadata": {},
   "outputs": [],
   "source": [
    "df_pca, evr = ag3.pca(\n",
    "    region=\"3L:15,000,000-16,000,000\",\n",
    "    sample_sets=\"3.0\",\n",
    "    sample_query=\"country != 'Lab Cross'\",\n",
    "    n_snps=10_000,\n",
    ")"
   ]
  },
  {
   "cell_type": "code",
   "execution_count": null,
   "id": "6e02f847",
   "metadata": {},
   "outputs": [],
   "source": [
    "df_pca, evr = ag3.pca(\n",
    "    region=\"3L:15,000,000-16,000,000\",\n",
    "    sample_sets=\"3.0\",\n",
    "    sample_query=\"country != 'Lab Cross'\",\n",
    "    n_snps=10_000,\n",
    ")"
   ]
  },
  {
   "cell_type": "code",
   "execution_count": null,
   "id": "4b957863",
   "metadata": {},
   "outputs": [],
   "source": [
    "ag3.plot_pca_variance(evr)"
   ]
  },
  {
   "cell_type": "code",
   "execution_count": null,
   "id": "17baa8d0",
   "metadata": {},
   "outputs": [],
   "source": [
    "ag3.plot_pca_coords(\n",
    "    df_pca,\n",
    "    color=\"taxon\",\n",
    ")"
   ]
  },
  {
   "cell_type": "code",
   "execution_count": null,
   "id": "114fb016",
   "metadata": {},
   "outputs": [],
   "source": [
    "ag3.plot_pca_coords(\n",
    "    df_pca,\n",
    "    x=\"PC3\",\n",
    "    y=\"PC4\",\n",
    "    color=\"country\",\n",
    "    marker_size=12,\n",
    ")"
   ]
  },
  {
   "cell_type": "code",
   "execution_count": null,
   "id": "92795fa4",
   "metadata": {},
   "outputs": [],
   "source": [
    "ag3.plot_pca_coords_3d(\n",
    "    df_pca,\n",
    "    color=\"taxon\",\n",
    ")"
   ]
  },
  {
   "cell_type": "code",
   "execution_count": null,
   "id": "6c3fc8d5",
   "metadata": {},
   "outputs": [],
   "source": [
    "df_pca, evr = af1.pca(\n",
    "    region=\"3RL:15,000,000-16,000,000\",\n",
    "    sample_sets=\"1.0\",\n",
    "    sample_query=\"country != 'Ghana'\",\n",
    "    n_snps=10_000,\n",
    ")"
   ]
  },
  {
   "cell_type": "code",
   "execution_count": null,
   "id": "fbe1f54f",
   "metadata": {},
   "outputs": [],
   "source": [
    "af1.plot_pca_variance(evr)"
   ]
  },
  {
   "cell_type": "code",
   "execution_count": null,
   "id": "5c055c99",
   "metadata": {},
   "outputs": [],
   "source": [
    "af1.plot_pca_coords(\n",
    "    df_pca,\n",
    "    color=\"country\",\n",
    ")"
   ]
  },
  {
   "cell_type": "code",
   "execution_count": null,
   "id": "ea74cb43",
   "metadata": {},
   "outputs": [],
   "source": [
    "af1.plot_pca_coords(\n",
    "    df_pca,\n",
    "    x=\"PC3\",\n",
    "    y=\"PC4\",\n",
    "    color=\"country\",\n",
    ")"
   ]
  },
  {
   "cell_type": "code",
   "execution_count": null,
   "id": "d77d866b",
   "metadata": {},
   "outputs": [],
   "source": [
    "ac = ag3.snp_allele_counts(\n",
    "    region=\"3L:1,000,000-1,100,000\",\n",
    "    sample_sets=\"AG1000G-FR\",\n",
    "    site_mask=\"gamb_colu_arab\",\n",
    ")\n",
    "ac"
   ]
  },
  {
   "cell_type": "code",
   "execution_count": null,
   "id": "26ea732a",
   "metadata": {},
   "outputs": [],
   "source": [
    "ac = ag3.snp_allele_counts(\n",
    "    region=\"3L:1,000,000-1,100,000\",\n",
    "    sample_sets=\"AG1000G-FR\",\n",
    "    site_mask=\"gamb_colu_arab\",\n",
    ")\n",
    "ac"
   ]
  },
  {
   "cell_type": "code",
   "execution_count": null,
   "id": "a1fa72e9-3b9c-4f8d-9979-a19bc2ac76a4",
   "metadata": {},
   "outputs": [],
   "source": []
  }
 ],
 "metadata": {
  "kernelspec": {
   "display_name": "Python 3 (ipykernel)",
   "language": "python",
   "name": "python3"
  },
  "language_info": {
   "codemirror_mode": {
    "name": "ipython",
    "version": 3
   },
   "file_extension": ".py",
   "mimetype": "text/x-python",
   "name": "python",
   "nbconvert_exporter": "python",
   "pygments_lexer": "ipython3",
   "version": "3.8.18"
  },
  "widgets": {
   "application/vnd.jupyter.widget-state+json": {
    "state": {},
    "version_major": 2,
    "version_minor": 0
   }
  }
 },
 "nbformat": 4,
 "nbformat_minor": 5
}
