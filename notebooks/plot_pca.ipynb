{
 "cells": [
  {
   "cell_type": "markdown",
   "id": "7d93e741-bddf-4a29-aea2-7bc6be697cb7",
   "metadata": {},
   "source": [
    "# PCA plotting"
   ]
  },
  {
   "cell_type": "markdown",
   "id": "2f274c61-c660-47b0-92b9-83ab701eb9eb",
   "metadata": {},
   "source": [
    "### Setup"
   ]
  },
  {
   "cell_type": "code",
   "execution_count": null,
   "id": "36039d6f",
   "metadata": {},
   "outputs": [],
   "source": [
    "import malariagen_data"
   ]
  },
  {
   "cell_type": "code",
   "execution_count": null,
   "id": "d8bf7a3a",
   "metadata": {},
   "outputs": [],
   "source": [
    "ag3 = malariagen_data.Ag3(\n",
    "    \"simplecache::gs://vo_agam_release\",\n",
    "    simplecache=dict(cache_storage=\"../gcs_cache\"),\n",
    "    results_cache=\"results_cache\",\n",
    ")\n",
    "ag3"
   ]
  },
  {
   "cell_type": "code",
   "execution_count": null,
   "id": "bfd56044",
   "metadata": {},
   "outputs": [],
   "source": [
    "af1 = malariagen_data.Af1(\n",
    "    \"simplecache::gs://vo_afun_release\",\n",
    "    simplecache=dict(cache_storage=\"../gcs_cache\"),\n",
    "    results_cache=\"results_cache\",\n",
    ")\n",
    "af1"
   ]
  },
  {
   "cell_type": "code",
   "execution_count": null,
   "id": "4e5e1c70",
   "metadata": {},
   "outputs": [],
   "source": [
    "!rm -rf results_cache"
   ]
  },
  {
   "cell_type": "markdown",
   "id": "b3760474-2ab2-4291-b5ee-48feccd091f4",
   "metadata": {},
   "source": [
    "## Mayotte"
   ]
  },
  {
   "cell_type": "code",
   "execution_count": null,
   "id": "e5743579",
   "metadata": {},
   "outputs": [],
   "source": [
    "df_pca, evr = ag3.pca(\n",
    "    region=\"3L:15,000,000-16,000,000\",\n",
    "    sample_sets=\"AG1000G-FR\",\n",
    "    n_snps=10_000,\n",
    ")\n",
    "df_pca"
   ]
  },
  {
   "cell_type": "code",
   "execution_count": null,
   "id": "ede14f05-a45d-4e12-9e02-3f4980d867cd",
   "metadata": {},
   "outputs": [],
   "source": [
    "evr"
   ]
  },
  {
   "cell_type": "code",
   "execution_count": null,
   "id": "5578c99a-37b1-4011-b34f-267aad0b2763",
   "metadata": {},
   "outputs": [],
   "source": [
    "ag3.plot_pca_coords(\n",
    "    df_pca,\n",
    ")"
   ]
  },
  {
   "cell_type": "code",
   "execution_count": null,
   "id": "a027022f-f700-49c1-8f2d-a43100956155",
   "metadata": {},
   "outputs": [],
   "source": [
    "ag3.plot_pca_coords(\n",
    "    df_pca,\n",
    "    color=\"location\",\n",
    ")"
   ]
  },
  {
   "cell_type": "code",
   "execution_count": null,
   "id": "b73b8a6f",
   "metadata": {},
   "outputs": [],
   "source": [
    "df_pca, evr = ag3.pca(\n",
    "    region=\"3L:15,000,000-16,000,000\",\n",
    "    sample_sets=\"AG1000G-FR\",\n",
    "    n_snps=10_000,\n",
    ")"
   ]
  },
  {
   "cell_type": "code",
   "execution_count": null,
   "id": "c0b018e3",
   "metadata": {},
   "outputs": [],
   "source": [
    "ag3.plot_pca_variance(evr)"
   ]
  },
  {
   "cell_type": "code",
   "execution_count": null,
   "id": "32e505db",
   "metadata": {},
   "outputs": [],
   "source": [
    "ag3.plot_pca_coords(\n",
    "    df_pca,\n",
    "    color=\"location\",\n",
    ")"
   ]
  },
  {
   "cell_type": "markdown",
   "id": "467dbd69-8ba2-41a2-8d01-d9fa78d42326",
   "metadata": {},
   "source": [
    "## Burkina Faso"
   ]
  },
  {
   "cell_type": "code",
   "execution_count": null,
   "id": "6a2ce979-1553-4459-b3c1-f3dea40bc1a1",
   "metadata": {},
   "outputs": [],
   "source": [
    "df_pca, evr = ag3.pca(\n",
    "    region=\"3L:15,000,000-16,000,000\",\n",
    "    sample_sets=\"AG1000G-BF-A\",\n",
    "    n_snps=10_000,\n",
    "    max_cohort_size=50,\n",
    ")"
   ]
  },
  {
   "cell_type": "code",
   "execution_count": null,
   "id": "4cb47917-0d8c-47c8-a68d-34d193e2f61a",
   "metadata": {},
   "outputs": [],
   "source": [
    "ag3.plot_pca_coords(\n",
    "    df_pca,\n",
    "    color=\"taxon\",\n",
    "    category_orders=dict(taxon=[\"coluzzii\", \"gambiae\"]),\n",
    ")"
   ]
  },
  {
   "cell_type": "code",
   "execution_count": null,
   "id": "241cae4e-3305-4c2a-845f-8871a1a114d4",
   "metadata": {},
   "outputs": [],
   "source": [
    "ag3.plot_pca_coords(\n",
    "    df_pca,\n",
    "    color=\"admin1_year\",\n",
    "    symbol=\"taxon\",\n",
    ")"
   ]
  },
  {
   "cell_type": "markdown",
   "id": "a2b46eb9-832d-417c-a082-9fc365b0fc62",
   "metadata": {},
   "source": [
    "## Ag3.0"
   ]
  },
  {
   "cell_type": "code",
   "execution_count": null,
   "id": "8ac26ed8",
   "metadata": {},
   "outputs": [],
   "source": [
    "df_pca, evr = ag3.pca(\n",
    "    region=\"3L:15,000,000-16,000,000\",\n",
    "    sample_sets=\"3.0\",\n",
    "    sample_query=\"country != 'Lab Cross'\",\n",
    "    n_snps=10_000,\n",
    ")"
   ]
  },
  {
   "cell_type": "code",
   "execution_count": null,
   "id": "6e02f847",
   "metadata": {},
   "outputs": [],
   "source": [
    "df_pca, evr = ag3.pca(\n",
    "    region=\"3L:15,000,000-16,000,000\",\n",
    "    sample_sets=\"3.0\",\n",
    "    sample_query=\"country != 'Lab Cross'\",\n",
    "    n_snps=10_000,\n",
    ")"
   ]
  },
  {
   "cell_type": "code",
   "execution_count": null,
   "id": "4b957863",
   "metadata": {},
   "outputs": [],
   "source": [
    "ag3.plot_pca_variance(evr)"
   ]
  },
  {
   "cell_type": "code",
   "execution_count": null,
   "id": "17baa8d0",
   "metadata": {},
   "outputs": [],
   "source": [
    "ag3.plot_pca_coords(\n",
    "    df_pca,\n",
    "    color=\"taxon\",\n",
    "    marker_size=5,\n",
    ")"
   ]
  },
  {
   "cell_type": "code",
   "execution_count": null,
   "id": "114fb016",
   "metadata": {},
   "outputs": [],
   "source": [
    "ag3.plot_pca_coords(\n",
    "    df_pca,\n",
    "    x=\"PC3\",\n",
    "    y=\"PC4\",\n",
    "    color=\"country\",\n",
    "    marker_size=5,\n",
    ")"
   ]
  },
  {
   "cell_type": "code",
   "execution_count": null,
   "id": "92795fa4",
   "metadata": {},
   "outputs": [],
   "source": [
    "ag3.plot_pca_coords_3d(\n",
    "    df_pca,\n",
    "    color=\"taxon\",\n",
    "    marker_size=2,\n",
    ")"
   ]
  },
  {
   "cell_type": "code",
   "execution_count": null,
   "id": "e0c10b0d-3244-4862-acb7-cf60b9a6a9f2",
   "metadata": {},
   "outputs": [],
   "source": [
    "ag3.plot_pca_coords_3d(\n",
    "    df_pca,\n",
    "    color=\"taxon\",\n",
    "    category_orders=dict(taxon=[\"coluzzii\", \"gambiae\", \"arabiensis\", \"gcx1\", \"gcx2\", \"gcx3\"]),\n",
    "    marker_size=2,\n",
    ")"
   ]
  },
  {
   "cell_type": "code",
   "execution_count": null,
   "id": "727402e7-43a1-4c7d-b21e-a051cd881f01",
   "metadata": {},
   "outputs": [],
   "source": [
    "new_cohorts = {\n",
    "    \"East\": \"country in ['Malawi', 'Tanzania', 'Kenya', 'Uganda']\",\n",
    "    \"West\": \"country in ['Mali', 'Burkina Faso', 'Cameroon']\",\n",
    "}"
   ]
  },
  {
   "cell_type": "code",
   "execution_count": null,
   "id": "cccf1386-c578-4af3-97ec-dc7704840102",
   "metadata": {},
   "outputs": [],
   "source": [
    "ag3.plot_pca_coords(\n",
    "    df_pca,\n",
    "    color=new_cohorts,\n",
    "    marker_size=5,\n",
    ")"
   ]
  },
  {
   "cell_type": "code",
   "execution_count": null,
   "id": "1b1a399a-762d-42db-9e40-776575d9ef5a",
   "metadata": {},
   "outputs": [],
   "source": [
    "ag3.plot_pca_coords_3d(\n",
    "    df_pca,\n",
    "    color=new_cohorts,\n",
    "    marker_size=2,\n",
    ")"
   ]
  },
  {
   "cell_type": "markdown",
   "id": "14d04103-2f6f-4f53-8d35-f286de5980d2",
   "metadata": {},
   "source": [
    "## Af1.0"
   ]
  },
  {
   "cell_type": "code",
   "execution_count": null,
   "id": "6c3fc8d5",
   "metadata": {},
   "outputs": [],
   "source": [
    "df_pca, evr = af1.pca(\n",
    "    region=\"3RL:15,000,000-16,000,000\",\n",
    "    sample_sets=\"1.0\",\n",
    "    sample_query=\"country != 'Ghana'\",\n",
    "    n_snps=10_000,\n",
    ")"
   ]
  },
  {
   "cell_type": "code",
   "execution_count": null,
   "id": "fbe1f54f",
   "metadata": {},
   "outputs": [],
   "source": [
    "af1.plot_pca_variance(evr)"
   ]
  },
  {
   "cell_type": "code",
   "execution_count": null,
   "id": "5c055c99",
   "metadata": {},
   "outputs": [],
   "source": [
    "af1.plot_pca_coords(\n",
    "    df_pca,\n",
    "    color=\"country\",\n",
    ")"
   ]
  },
  {
   "cell_type": "code",
   "execution_count": null,
   "id": "ea74cb43",
   "metadata": {},
   "outputs": [],
   "source": [
    "af1.plot_pca_coords(\n",
    "    df_pca,\n",
    "    x=\"PC3\",\n",
    "    y=\"PC4\",\n",
    "    color=\"country\",\n",
    ")"
   ]
  },
  {
   "cell_type": "markdown",
   "id": "fdfbcd5a-5ef4-4cbc-b430-c0b541925142",
   "metadata": {},
   "source": [
    "## Excluding samples"
   ]
  },
  {
   "cell_type": "code",
   "execution_count": null,
   "id": "ba82766e-f752-4c91-8c22-f85f32a0428a",
   "metadata": {},
   "outputs": [],
   "source": [
    "!rm -rf results_cache"
   ]
  },
  {
   "cell_type": "code",
   "execution_count": null,
   "id": "fa3947da-f32e-44e2-bb6e-7bffc46e778a",
   "metadata": {},
   "outputs": [],
   "source": [
    "import malariagen_data"
   ]
  },
  {
   "cell_type": "code",
   "execution_count": null,
   "id": "27fb6435-c02a-4b63-a321-dccb962f278e",
   "metadata": {},
   "outputs": [],
   "source": [
    "ag3 = malariagen_data.Ag3(\n",
    "    \"simplecache::gs://vo_agam_release\",\n",
    "    simplecache=dict(cache_storage=\"../gcs_cache\"),\n",
    "    results_cache=\"results_cache\",\n",
    ")\n",
    "ag3"
   ]
  },
  {
   "cell_type": "code",
   "execution_count": null,
   "id": "6c3251e2-a95c-4d4a-bff1-8e632be0eaf5",
   "metadata": {},
   "outputs": [],
   "source": [
    "df_pca, evr = ag3.pca(\n",
    "    region=\"3L:15,000,000-16,000,000\",\n",
    "    sample_sets=\"AG1000G-BF-A\",\n",
    "    n_snps=10_000,\n",
    "    max_cohort_size=50,\n",
    ")"
   ]
  },
  {
   "cell_type": "code",
   "execution_count": null,
   "id": "4e370936-925a-4e97-86cb-b22f72b39e64",
   "metadata": {},
   "outputs": [],
   "source": [
    "ag3.plot_pca_variance(evr)"
   ]
  },
  {
   "cell_type": "code",
   "execution_count": null,
   "id": "9ea24435-d752-4269-a391-b057e1650d44",
   "metadata": {},
   "outputs": [],
   "source": [
    "ag3.plot_pca_coords(\n",
    "    df_pca,\n",
    "    color=\"taxon\",\n",
    ")"
   ]
  },
  {
   "cell_type": "code",
   "execution_count": null,
   "id": "1746f075-8b25-47fc-8f97-35093d8cc899",
   "metadata": {},
   "outputs": [],
   "source": [
    "df_pca_ex, evr_ex = ag3.pca(\n",
    "    region=\"3L:15,000,000-16,000,000\",\n",
    "    sample_sets=\"AG1000G-BF-A\",\n",
    "    n_snps=10_000,\n",
    "    max_cohort_size=50,\n",
    "    exclude_samples=[\"AB0096-C\", \"AB0241-C\", \"AB02750C\", \"AB0197-C\"],\n",
    ")"
   ]
  },
  {
   "cell_type": "code",
   "execution_count": null,
   "id": "770b01ee-642e-4903-93fa-eef084924234",
   "metadata": {},
   "outputs": [],
   "source": [
    "ag3.plot_pca_variance(evr_ex)"
   ]
  },
  {
   "cell_type": "code",
   "execution_count": null,
   "id": "9438fd91-b463-4d28-8279-5eaa728a8f2e",
   "metadata": {},
   "outputs": [],
   "source": [
    "ag3.plot_pca_coords(\n",
    "    df_pca_ex,\n",
    "    color=\"taxon\",\n",
    ")"
   ]
  },
  {
   "cell_type": "markdown",
   "id": "58e7b2c1-b4c1-4c93-823c-8531693636e4",
   "metadata": {},
   "source": [
    "## Excluding samples during fit"
   ]
  },
  {
   "cell_type": "code",
   "execution_count": null,
   "id": "e9feb94d-4ebf-4a81-bc40-a5840caa0293",
   "metadata": {},
   "outputs": [],
   "source": []
  }
 ],
 "metadata": {
  "kernelspec": {
   "display_name": "Python 3 (ipykernel)",
   "language": "python",
   "name": "python3"
  },
  "language_info": {
   "codemirror_mode": {
    "name": "ipython",
    "version": 3
   },
   "file_extension": ".py",
   "mimetype": "text/x-python",
   "name": "python",
   "nbconvert_exporter": "python",
   "pygments_lexer": "ipython3",
   "version": "3.10.12"
  },
  "widgets": {
   "application/vnd.jupyter.widget-state+json": {
    "state": {
     "14df74d18db54df896263bfad27f6af0": {
      "model_module": "@jupyter-widgets/controls",
      "model_module_version": "2.0.0",
      "model_name": "HTMLModel",
      "state": {
       "layout": "IPY_MODEL_75e54883fdfa486aba90b743bd967854",
       "style": "IPY_MODEL_e644f5f6a81e424cbca42786f26688f9",
       "value": "Compute SNP allele counts:  94%"
      }
     },
     "1bc41570790a405d859fd7af512fa851": {
      "model_module": "@jupyter-widgets/controls",
      "model_module_version": "2.0.0",
      "model_name": "ProgressStyleModel",
      "state": {
       "description_width": ""
      }
     },
     "2b4504cbd92b45389f486b79b07d8e38": {
      "model_module": "@jupyter-widgets/controls",
      "model_module_version": "2.0.0",
      "model_name": "HTMLModel",
      "state": {
       "layout": "IPY_MODEL_e18a4909e31e4499847fdf6242430bff",
       "style": "IPY_MODEL_815497cf8e3e4d8989bd4c8bc3d3379c",
       "value": "Compute biallelic diplotypes:  91%"
      }
     },
     "318fab294a694945ae5251c6fc08500c": {
      "model_module": "@jupyter-widgets/controls",
      "model_module_version": "2.0.0",
      "model_name": "FloatProgressModel",
      "state": {
       "layout": "IPY_MODEL_8fbb498a20d24763ba9b3611721aa395",
       "max": 51,
       "style": "IPY_MODEL_1bc41570790a405d859fd7af512fa851",
       "value": 51
      }
     },
     "6527546f7ab74287ac58e984926c1512": {
      "model_module": "@jupyter-widgets/base",
      "model_module_version": "2.0.0",
      "model_name": "LayoutModel",
      "state": {
       "visibility": "hidden"
      }
     },
     "75e54883fdfa486aba90b743bd967854": {
      "model_module": "@jupyter-widgets/base",
      "model_module_version": "2.0.0",
      "model_name": "LayoutModel",
      "state": {}
     },
     "7690103221814c94a3b3504e004039e0": {
      "model_module": "@jupyter-widgets/base",
      "model_module_version": "2.0.0",
      "model_name": "LayoutModel",
      "state": {
       "visibility": "hidden"
      }
     },
     "7973acef3c4c4e46961faec85903ed8b": {
      "model_module": "@jupyter-widgets/base",
      "model_module_version": "2.0.0",
      "model_name": "LayoutModel",
      "state": {}
     },
     "815497cf8e3e4d8989bd4c8bc3d3379c": {
      "model_module": "@jupyter-widgets/controls",
      "model_module_version": "2.0.0",
      "model_name": "HTMLStyleModel",
      "state": {
       "description_width": "",
       "font_size": null,
       "text_color": null
      }
     },
     "8d4c64e36f36477a9b324e564482470b": {
      "model_module": "@jupyter-widgets/base",
      "model_module_version": "2.0.0",
      "model_name": "LayoutModel",
      "state": {}
     },
     "8fbb498a20d24763ba9b3611721aa395": {
      "model_module": "@jupyter-widgets/base",
      "model_module_version": "2.0.0",
      "model_name": "LayoutModel",
      "state": {}
     },
     "a4049f11310c4d6e84c35e0c764f5b13": {
      "model_module": "@jupyter-widgets/controls",
      "model_module_version": "2.0.0",
      "model_name": "ProgressStyleModel",
      "state": {
       "description_width": ""
      }
     },
     "a58266c1624548d1a890f2f3016f797a": {
      "model_module": "@jupyter-widgets/controls",
      "model_module_version": "2.0.0",
      "model_name": "HTMLModel",
      "state": {
       "layout": "IPY_MODEL_7973acef3c4c4e46961faec85903ed8b",
       "style": "IPY_MODEL_ac882e01ebe64accb4082331dc31b4dc",
       "value": " 53/58 [00:01&lt;00:00, 37.31it/s]"
      }
     },
     "ac882e01ebe64accb4082331dc31b4dc": {
      "model_module": "@jupyter-widgets/controls",
      "model_module_version": "2.0.0",
      "model_name": "HTMLStyleModel",
      "state": {
       "description_width": "",
       "font_size": null,
       "text_color": null
      }
     },
     "cbd00b8446b14796a6a9b0f21461604d": {
      "model_module": "@jupyter-widgets/base",
      "model_module_version": "2.0.0",
      "model_name": "LayoutModel",
      "state": {}
     },
     "d364d6a656064d9eb82bca1aadd09a94": {
      "model_module": "@jupyter-widgets/controls",
      "model_module_version": "2.0.0",
      "model_name": "HTMLStyleModel",
      "state": {
       "description_width": "",
       "font_size": null,
       "text_color": null
      }
     },
     "e18a4909e31e4499847fdf6242430bff": {
      "model_module": "@jupyter-widgets/base",
      "model_module_version": "2.0.0",
      "model_name": "LayoutModel",
      "state": {}
     },
     "e644f5f6a81e424cbca42786f26688f9": {
      "model_module": "@jupyter-widgets/controls",
      "model_module_version": "2.0.0",
      "model_name": "HTMLStyleModel",
      "state": {
       "description_width": "",
       "font_size": null,
       "text_color": null
      }
     },
     "f6ebd0d21ca544efbf4bc077a48d8749": {
      "model_module": "@jupyter-widgets/controls",
      "model_module_version": "2.0.0",
      "model_name": "HTMLModel",
      "state": {
       "layout": "IPY_MODEL_8d4c64e36f36477a9b324e564482470b",
       "style": "IPY_MODEL_d364d6a656064d9eb82bca1aadd09a94",
       "value": " 48/51 [00:01&lt;00:00, 33.73it/s]"
      }
     },
     "fa836f50ca5549afaee67afaddd9df7b": {
      "model_module": "@jupyter-widgets/controls",
      "model_module_version": "2.0.0",
      "model_name": "FloatProgressModel",
      "state": {
       "layout": "IPY_MODEL_cbd00b8446b14796a6a9b0f21461604d",
       "max": 58,
       "style": "IPY_MODEL_a4049f11310c4d6e84c35e0c764f5b13",
       "value": 58
      }
     }
    },
    "version_major": 2,
    "version_minor": 0
   }
  }
 },
 "nbformat": 4,
 "nbformat_minor": 5
}
