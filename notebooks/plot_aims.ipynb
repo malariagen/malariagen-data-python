{
 "cells": [
  {
   "cell_type": "code",
   "execution_count": null,
   "id": "17ea65d6",
   "metadata": {},
   "outputs": [],
   "source": [
    "import malariagen_data"
   ]
  },
  {
   "cell_type": "code",
   "execution_count": null,
   "id": "8e5fa0a3",
   "metadata": {},
   "outputs": [],
   "source": [
    "ag3 = malariagen_data.Ag3(\n",
    "    \"simplecache::gs://vo_agam_release_master_us_central1\",\n",
    "    simplecache=dict(cache_storage=\"../gcs_cache\"),\n",
    "    debug=False,\n",
    ")\n",
    "ag3"
   ]
  },
  {
   "cell_type": "code",
   "execution_count": null,
   "id": "15a6c908",
   "metadata": {},
   "outputs": [],
   "source": [
    "ag3.plot_aim_heatmap(\n",
    "    aims=\"gambcolu_vs_arab\",\n",
    "    sample_sets=\"AG1000G-UG\",\n",
    ")"
   ]
  },
  {
   "cell_type": "code",
   "execution_count": null,
   "id": "a2bfe151",
   "metadata": {},
   "outputs": [],
   "source": [
    "ag3.plot_aim_heatmap(\n",
    "    aims=\"gamb_vs_colu\",\n",
    "    sample_sets=[\"AG1000G-BF-A\", \"AG1000G-BF-B\"],\n",
    "    sample_query=\"aim_species != 'arabiensis'\",\n",
    ")"
   ]
  },
  {
   "cell_type": "code",
   "execution_count": null,
   "id": "446a82fb",
   "metadata": {},
   "outputs": [],
   "source": [
    "ag3.plot_aim_heatmap(\n",
    "    aims=\"gamb_vs_colu\",\n",
    "    sample_sets=\"AG1000G-GW\",\n",
    ")"
   ]
  },
  {
   "cell_type": "code",
   "execution_count": null,
   "id": "2c181775",
   "metadata": {},
   "outputs": [],
   "source": []
  },
  {
   "cell_type": "code",
   "execution_count": null,
   "id": "98686752",
   "metadata": {},
   "outputs": [],
   "source": []
  }
 ],
 "metadata": {
  "kernelspec": {
   "display_name": "Python 3 (ipykernel)",
   "language": "python",
   "name": "python3"
  },
  "language_info": {
   "codemirror_mode": {
    "name": "ipython",
    "version": 3
   },
   "file_extension": ".py",
   "mimetype": "text/x-python",
   "name": "python",
   "nbconvert_exporter": "python",
   "pygments_lexer": "ipython3",
   "version": "3.10.12"
  },
  "widgets": {
   "application/vnd.jupyter.widget-state+json": {
    "state": {},
    "version_major": 2,
    "version_minor": 0
   }
  }
 },
 "nbformat": 4,
 "nbformat_minor": 5
}
