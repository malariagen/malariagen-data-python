{
 "cells": [
  {
   "cell_type": "code",
   "execution_count": null,
   "id": "95754202-48fb-40fb-8630-8de938cd90a8",
   "metadata": {
    "tags": []
   },
   "outputs": [],
   "source": [
    "import malariagen_data"
   ]
  },
  {
   "cell_type": "code",
   "execution_count": null,
   "id": "0913ba40-7f43-4f3e-8405-f2c3efae65be",
   "metadata": {
    "tags": []
   },
   "outputs": [],
   "source": [
    "ag3 = malariagen_data.Ag3(\n",
    "    \"simplecache::gs://vo_agam_release_master_us_central1\",\n",
    "    simplecache=dict(cache_storage=\"../gcs_cache\"),\n",
    "    results_cache=\"results_cache\",\n",
    ")\n",
    "ag3"
   ]
  },
  {
   "cell_type": "code",
   "execution_count": null,
   "id": "d65aea9d-953c-47ad-838e-cf205822b6c8",
   "metadata": {
    "tags": []
   },
   "outputs": [],
   "source": [
    "sample_sets = [\"AG1000G-BF-A\", \"AG1000G-GH\"]"
   ]
  },
  {
   "cell_type": "code",
   "execution_count": null,
   "id": "a8b1f82f-a60a-4326-a105-a7fd169ed85e",
   "metadata": {
    "tags": []
   },
   "outputs": [],
   "source": [
    "# Not sure if these inversion coordinates are exactly right, but should do as an approximation.\n",
    "region_2la = \"2L:20,528,089-42,165,182\"\n",
    "region_2rb = \"2R:19,444,433-26,313,071\"\n",
    "region_2rj = \"2R:4,050,701-14,952,998\"\n",
    "region_2rc = \"2R:27,025,144-31,450,000\"\n",
    "region_2ru = \"2R:33,575,891-34,873,652\"\n",
    "region_2rd = \"2R:33,575,891-41,360,919\"\n",
    "region_2rk = \"2R:25,146,360-30,717,395\""
   ]
  },
  {
   "cell_type": "markdown",
   "id": "35e8569a-5e2c-450d-ad8a-283de669aa27",
   "metadata": {},
   "source": [
    "## 2La"
   ]
  },
  {
   "cell_type": "code",
   "execution_count": null,
   "id": "b7556095-b24a-4a26-9a3a-c98cb14d2e24",
   "metadata": {
    "tags": []
   },
   "outputs": [],
   "source": [
    "kt_df_2la = ag3.karyotype(inversion=\"2La\", sample_sets=sample_sets)\n",
    "kt_df_2la.head()"
   ]
  },
  {
   "cell_type": "code",
   "execution_count": null,
   "id": "4a16ebf5-1a66-4b10-9f5a-d57080e26cb7",
   "metadata": {
    "tags": []
   },
   "outputs": [],
   "source": [
    "pca_df_2la, pca_evr_2la = ag3.pca(\n",
    "    region=region_2la,\n",
    "    sample_sets=sample_sets,\n",
    "    n_snps=50_000,\n",
    ")\n",
    "pca_df_2la = pca_df_2la.merge(kt_df_2la, on=\"sample_id\")\n",
    "pca_df_2la.head()"
   ]
  },
  {
   "cell_type": "code",
   "execution_count": null,
   "id": "8cb4d566-fde1-42e7-a7ba-7294b6adbb66",
   "metadata": {
    "tags": []
   },
   "outputs": [],
   "source": [
    "ag3.plot_pca_coords(pca_df_2la, color=\"taxon\", width=600, height=500)"
   ]
  },
  {
   "cell_type": "code",
   "execution_count": null,
   "id": "b522c176-da60-4a4b-ad01-5de74c2a49a6",
   "metadata": {
    "tags": []
   },
   "outputs": [],
   "source": [
    "ag3.plot_pca_coords(pca_df_2la, color=\"karyotype_2La\", symbol=\"taxon\", width=600, height=500)"
   ]
  },
  {
   "cell_type": "code",
   "execution_count": null,
   "id": "0daf1c4e-4e19-43e6-ac9b-b4e0680a01a8",
   "metadata": {
    "tags": []
   },
   "outputs": [],
   "source": [
    "ag3.plot_pca_coords(pca_df_2la, color=\"karyotype_2La_mean\", width=700, height=500)"
   ]
  },
  {
   "cell_type": "code",
   "execution_count": null,
   "id": "f7054916-64b8-4b52-a624-1f4eae413b09",
   "metadata": {
    "tags": []
   },
   "outputs": [],
   "source": [
    "kt_df_2la[\"karyotype_2La_mean\"].hist(backend=\"plotly\")"
   ]
  },
  {
   "cell_type": "markdown",
   "id": "32a8664a-67c7-48c8-9870-43f5ec2777ff",
   "metadata": {},
   "source": [
    "## 2Rb"
   ]
  },
  {
   "cell_type": "code",
   "execution_count": null,
   "id": "8d7dc314-9bae-487e-9078-0bf0dec42d9c",
   "metadata": {
    "tags": []
   },
   "outputs": [],
   "source": [
    "kt_df_2rb = ag3.karyotype(inversion=\"2Rb\", sample_sets=sample_sets)\n",
    "kt_df_2rb.head()"
   ]
  },
  {
   "cell_type": "code",
   "execution_count": null,
   "id": "3a131e26-730a-479d-acaf-735ea92ec93f",
   "metadata": {
    "tags": []
   },
   "outputs": [],
   "source": [
    "pca_df_2rb, pca_evr_2rb = ag3.pca(\n",
    "    region=region_2rb,\n",
    "    sample_sets=sample_sets,\n",
    "    n_snps=50_000,\n",
    ")\n",
    "pca_df_2rb = pca_df_2rb.merge(kt_df_2rb, on=\"sample_id\")\n",
    "pca_df_2rb.head()"
   ]
  },
  {
   "cell_type": "code",
   "execution_count": null,
   "id": "b728fe52-cae6-4c22-9429-52f3d30d475a",
   "metadata": {
    "tags": []
   },
   "outputs": [],
   "source": [
    "ag3.plot_pca_coords(pca_df_2rb, color=\"karyotype_2Rb\", symbol=\"taxon\", width=600, height=500)"
   ]
  },
  {
   "cell_type": "code",
   "execution_count": null,
   "id": "b674c67a-f4fc-471a-a9d0-08f45e9006e9",
   "metadata": {
    "tags": []
   },
   "outputs": [],
   "source": [
    "pca_df_2rb[\"karyotype_2Rb_mean\"].hist(backend=\"plotly\")"
   ]
  },
  {
   "cell_type": "markdown",
   "id": "51595e8d-d911-4f7f-932b-ed1007fa95fd",
   "metadata": {},
   "source": [
    "## 2Rc_gam"
   ]
  },
  {
   "cell_type": "code",
   "execution_count": null,
   "id": "3091fec6-6484-4c76-9078-f78fc988ae28",
   "metadata": {
    "tags": []
   },
   "outputs": [],
   "source": [
    "kt_df_2rc_gam = ag3.karyotype(\n",
    "    inversion=\"2Rc_gam\", \n",
    "    sample_sets=sample_sets,\n",
    "    sample_query=\"taxon == 'gambiae'\",\n",
    ")\n",
    "kt_df_2rc_gam.head()"
   ]
  },
  {
   "cell_type": "code",
   "execution_count": null,
   "id": "da7cd248-2a43-412c-99cf-22ca9786cf2b",
   "metadata": {
    "tags": []
   },
   "outputs": [],
   "source": [
    "fig = kt_df_2rc_gam[\"karyotype_2Rc_gam_mean\"].hist(backend=\"plotly\")\n",
    "fig.update_xaxes(range=[0, 2])\n",
    "fig"
   ]
  },
  {
   "cell_type": "code",
   "execution_count": null,
   "id": "f5a08876-0431-4190-87bb-48962fd4c98c",
   "metadata": {
    "tags": []
   },
   "outputs": [],
   "source": [
    "pca_df_2rc_gam, _ = ag3.pca(\n",
    "    region=region_2rc,\n",
    "    sample_sets=sample_sets,\n",
    "    sample_query=\"taxon == 'gambiae'\",\n",
    "    n_snps=50_000,\n",
    ")\n",
    "pca_df_2rc_gam = pca_df_2rc_gam.merge(kt_df_2rc_gam, on=\"sample_id\")\n",
    "pca_df_2rc_gam.head()"
   ]
  },
  {
   "cell_type": "code",
   "execution_count": null,
   "id": "fa62428f-09c8-4dc5-b45b-e4761041b966",
   "metadata": {},
   "outputs": [],
   "source": [
    "ag3.plot_pca_coords(pca_df_2rc_gam, color=\"karyotype_2Rc_gam\", symbol=\"taxon\", width=600, height=500)"
   ]
  },
  {
   "cell_type": "code",
   "execution_count": null,
   "id": "2287b6e9-50b7-4ce4-9ef5-a4dd0e5463af",
   "metadata": {
    "tags": []
   },
   "outputs": [],
   "source": [
    "ag3.plot_pca_coords(pca_df_2rc_gam, color=\"country\", symbol=\"taxon\", width=600, height=500)"
   ]
  },
  {
   "cell_type": "markdown",
   "id": "8fc6d2af-3d22-42e3-8ca8-756c4e72b141",
   "metadata": {},
   "source": [
    "## 2Rc_col"
   ]
  },
  {
   "cell_type": "code",
   "execution_count": null,
   "id": "483722dc-86ba-4766-826b-c7d3d2d00cf5",
   "metadata": {
    "tags": []
   },
   "outputs": [],
   "source": [
    "kt_df_2rc_col = ag3.karyotype(\n",
    "    inversion=\"2Rc_col\", \n",
    "    sample_sets=sample_sets,\n",
    "    sample_query=\"taxon == 'coluzzii'\",\n",
    ")\n",
    "kt_df_2rc_col.head()"
   ]
  },
  {
   "cell_type": "code",
   "execution_count": null,
   "id": "8ec9135f-4abc-432b-9707-14db25e650ea",
   "metadata": {
    "tags": []
   },
   "outputs": [],
   "source": [
    "fig = kt_df_2rc_col[\"karyotype_2Rc_col_mean\"].hist(backend=\"plotly\")\n",
    "fig.update_xaxes(range=[0, 2])\n",
    "fig"
   ]
  },
  {
   "cell_type": "code",
   "execution_count": null,
   "id": "1bcb2209-a5db-4cc2-8fac-d51dae1f214c",
   "metadata": {
    "tags": []
   },
   "outputs": [],
   "source": [
    "pca_df_2rc_col, _ = ag3.pca(\n",
    "    region=region_2rc,\n",
    "    sample_sets=sample_sets,\n",
    "    sample_query=\"taxon == 'coluzzii'\",\n",
    "    n_snps=50_000,\n",
    ")\n",
    "pca_df_2rc_col = pca_df_2rc_col.merge(kt_df_2rc_col, on=\"sample_id\")\n",
    "pca_df_2rc_col.head()"
   ]
  },
  {
   "cell_type": "code",
   "execution_count": null,
   "id": "ecee39ab-b8f5-4a79-a31b-2badfafc329b",
   "metadata": {
    "tags": []
   },
   "outputs": [],
   "source": [
    "ag3.plot_pca_coords(pca_df_2rc_col, color=\"karyotype_2Rc_col\", symbol=\"country\", width=600, height=500)"
   ]
  }
 ],
 "metadata": {
  "environment": {
   "kernel": "python3",
   "name": "workbench-notebooks.m124",
   "type": "gcloud",
   "uri": "us-docker.pkg.dev/deeplearning-platform-release/gcr.io/workbench-notebooks:m124"
  },
  "kernelspec": {
   "display_name": "Python 3 (ipykernel)",
   "language": "python",
   "name": "python3"
  },
  "language_info": {
   "codemirror_mode": {
    "name": "ipython",
    "version": 3
   },
   "file_extension": ".py",
   "mimetype": "text/x-python",
   "name": "python",
   "nbconvert_exporter": "python",
   "pygments_lexer": "ipython3",
   "version": "3.10.11"
  }
 },
 "nbformat": 4,
 "nbformat_minor": 5
}
