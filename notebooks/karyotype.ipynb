{
 "cells": [
  {
   "cell_type": "code",
   "execution_count": 1,
   "id": "95754202-48fb-40fb-8630-8de938cd90a8",
   "metadata": {
    "tags": []
   },
   "outputs": [],
   "source": [
    "import malariagen_data"
   ]
  },
  {
   "cell_type": "code",
   "execution_count": 2,
   "id": "0913ba40-7f43-4f3e-8405-f2c3efae65be",
   "metadata": {
    "tags": []
   },
   "outputs": [
    {
     "data": {
      "application/javascript": [
       "'use strict';\n",
       "(function(root) {\n",
       "  function now() {\n",
       "    return new Date();\n",
       "  }\n",
       "\n",
       "  const force = true;\n",
       "\n",
       "  if (typeof root._bokeh_onload_callbacks === \"undefined\" || force === true) {\n",
       "    root._bokeh_onload_callbacks = [];\n",
       "    root._bokeh_is_loading = undefined;\n",
       "  }\n",
       "\n",
       "const JS_MIME_TYPE = 'application/javascript';\n",
       "  const HTML_MIME_TYPE = 'text/html';\n",
       "  const EXEC_MIME_TYPE = 'application/vnd.bokehjs_exec.v0+json';\n",
       "  const CLASS_NAME = 'output_bokeh rendered_html';\n",
       "\n",
       "  /**\n",
       "   * Render data to the DOM node\n",
       "   */\n",
       "  function render(props, node) {\n",
       "    const script = document.createElement(\"script\");\n",
       "    node.appendChild(script);\n",
       "  }\n",
       "\n",
       "  /**\n",
       "   * Handle when an output is cleared or removed\n",
       "   */\n",
       "  function handleClearOutput(event, handle) {\n",
       "    function drop(id) {\n",
       "      const view = Bokeh.index.get_by_id(id)\n",
       "      if (view != null) {\n",
       "        view.model.document.clear()\n",
       "        Bokeh.index.delete(view)\n",
       "      }\n",
       "    }\n",
       "\n",
       "    const cell = handle.cell;\n",
       "\n",
       "    const id = cell.output_area._bokeh_element_id;\n",
       "    const server_id = cell.output_area._bokeh_server_id;\n",
       "\n",
       "    // Clean up Bokeh references\n",
       "    if (id != null) {\n",
       "      drop(id)\n",
       "    }\n",
       "\n",
       "    if (server_id !== undefined) {\n",
       "      // Clean up Bokeh references\n",
       "      const cmd_clean = \"from bokeh.io.state import curstate; print(curstate().uuid_to_server['\" + server_id + \"'].get_sessions()[0].document.roots[0]._id)\";\n",
       "      cell.notebook.kernel.execute(cmd_clean, {\n",
       "        iopub: {\n",
       "          output: function(msg) {\n",
       "            const id = msg.content.text.trim()\n",
       "            drop(id)\n",
       "          }\n",
       "        }\n",
       "      });\n",
       "      // Destroy server and session\n",
       "      const cmd_destroy = \"import bokeh.io.notebook as ion; ion.destroy_server('\" + server_id + \"')\";\n",
       "      cell.notebook.kernel.execute(cmd_destroy);\n",
       "    }\n",
       "  }\n",
       "\n",
       "  /**\n",
       "   * Handle when a new output is added\n",
       "   */\n",
       "  function handleAddOutput(event, handle) {\n",
       "    const output_area = handle.output_area;\n",
       "    const output = handle.output;\n",
       "\n",
       "    // limit handleAddOutput to display_data with EXEC_MIME_TYPE content only\n",
       "    if ((output.output_type != \"display_data\") || (!Object.prototype.hasOwnProperty.call(output.data, EXEC_MIME_TYPE))) {\n",
       "      return\n",
       "    }\n",
       "\n",
       "    const toinsert = output_area.element.find(\".\" + CLASS_NAME.split(' ')[0]);\n",
       "\n",
       "    if (output.metadata[EXEC_MIME_TYPE][\"id\"] !== undefined) {\n",
       "      toinsert[toinsert.length - 1].firstChild.textContent = output.data[JS_MIME_TYPE];\n",
       "      // store reference to embed id on output_area\n",
       "      output_area._bokeh_element_id = output.metadata[EXEC_MIME_TYPE][\"id\"];\n",
       "    }\n",
       "    if (output.metadata[EXEC_MIME_TYPE][\"server_id\"] !== undefined) {\n",
       "      const bk_div = document.createElement(\"div\");\n",
       "      bk_div.innerHTML = output.data[HTML_MIME_TYPE];\n",
       "      const script_attrs = bk_div.children[0].attributes;\n",
       "      for (let i = 0; i < script_attrs.length; i++) {\n",
       "        toinsert[toinsert.length - 1].firstChild.setAttribute(script_attrs[i].name, script_attrs[i].value);\n",
       "        toinsert[toinsert.length - 1].firstChild.textContent = bk_div.children[0].textContent\n",
       "      }\n",
       "      // store reference to server id on output_area\n",
       "      output_area._bokeh_server_id = output.metadata[EXEC_MIME_TYPE][\"server_id\"];\n",
       "    }\n",
       "  }\n",
       "\n",
       "  function register_renderer(events, OutputArea) {\n",
       "\n",
       "    function append_mime(data, metadata, element) {\n",
       "      // create a DOM node to render to\n",
       "      const toinsert = this.create_output_subarea(\n",
       "        metadata,\n",
       "        CLASS_NAME,\n",
       "        EXEC_MIME_TYPE\n",
       "      );\n",
       "      this.keyboard_manager.register_events(toinsert);\n",
       "      // Render to node\n",
       "      const props = {data: data, metadata: metadata[EXEC_MIME_TYPE]};\n",
       "      render(props, toinsert[toinsert.length - 1]);\n",
       "      element.append(toinsert);\n",
       "      return toinsert\n",
       "    }\n",
       "\n",
       "    /* Handle when an output is cleared or removed */\n",
       "    events.on('clear_output.CodeCell', handleClearOutput);\n",
       "    events.on('delete.Cell', handleClearOutput);\n",
       "\n",
       "    /* Handle when a new output is added */\n",
       "    events.on('output_added.OutputArea', handleAddOutput);\n",
       "\n",
       "    /**\n",
       "     * Register the mime type and append_mime function with output_area\n",
       "     */\n",
       "    OutputArea.prototype.register_mime_type(EXEC_MIME_TYPE, append_mime, {\n",
       "      /* Is output safe? */\n",
       "      safe: true,\n",
       "      /* Index of renderer in `output_area.display_order` */\n",
       "      index: 0\n",
       "    });\n",
       "  }\n",
       "\n",
       "  // register the mime type if in Jupyter Notebook environment and previously unregistered\n",
       "  if (root.Jupyter !== undefined) {\n",
       "    const events = require('base/js/events');\n",
       "    const OutputArea = require('notebook/js/outputarea').OutputArea;\n",
       "\n",
       "    if (OutputArea.prototype.mime_types().indexOf(EXEC_MIME_TYPE) == -1) {\n",
       "      register_renderer(events, OutputArea);\n",
       "    }\n",
       "  }\n",
       "  if (typeof (root._bokeh_timeout) === \"undefined\" || force === true) {\n",
       "    root._bokeh_timeout = Date.now() + 5000;\n",
       "    root._bokeh_failed_load = false;\n",
       "  }\n",
       "\n",
       "  const NB_LOAD_WARNING = {'data': {'text/html':\n",
       "     \"<div style='background-color: #fdd'>\\n\"+\n",
       "     \"<p>\\n\"+\n",
       "     \"BokehJS does not appear to have successfully loaded. If loading BokehJS from CDN, this \\n\"+\n",
       "     \"may be due to a slow or bad network connection. Possible fixes:\\n\"+\n",
       "     \"</p>\\n\"+\n",
       "     \"<ul>\\n\"+\n",
       "     \"<li>re-rerun `output_notebook()` to attempt to load from CDN again, or</li>\\n\"+\n",
       "     \"<li>use INLINE resources instead, as so:</li>\\n\"+\n",
       "     \"</ul>\\n\"+\n",
       "     \"<code>\\n\"+\n",
       "     \"from bokeh.resources import INLINE\\n\"+\n",
       "     \"output_notebook(resources=INLINE)\\n\"+\n",
       "     \"</code>\\n\"+\n",
       "     \"</div>\"}};\n",
       "\n",
       "  function display_loaded(error = null) {\n",
       "    const el = document.getElementById(null);\n",
       "    if (el != null) {\n",
       "      const html = (() => {\n",
       "        if (typeof root.Bokeh === \"undefined\") {\n",
       "          if (error == null) {\n",
       "            return \"BokehJS is loading ...\";\n",
       "          } else {\n",
       "            return \"BokehJS failed to load.\";\n",
       "          }\n",
       "        } else {\n",
       "          const prefix = `BokehJS ${root.Bokeh.version}`;\n",
       "          if (error == null) {\n",
       "            return `${prefix} successfully loaded.`;\n",
       "          } else {\n",
       "            return `${prefix} <b>encountered errors</b> while loading and may not function as expected.`;\n",
       "          }\n",
       "        }\n",
       "      })();\n",
       "      el.innerHTML = html;\n",
       "\n",
       "      if (error != null) {\n",
       "        const wrapper = document.createElement(\"div\");\n",
       "        wrapper.style.overflow = \"auto\";\n",
       "        wrapper.style.height = \"5em\";\n",
       "        wrapper.style.resize = \"vertical\";\n",
       "        const content = document.createElement(\"div\");\n",
       "        content.style.fontFamily = \"monospace\";\n",
       "        content.style.whiteSpace = \"pre-wrap\";\n",
       "        content.style.backgroundColor = \"rgb(255, 221, 221)\";\n",
       "        content.textContent = error.stack ?? error.toString();\n",
       "        wrapper.append(content);\n",
       "        el.append(wrapper);\n",
       "      }\n",
       "    } else if (Date.now() < root._bokeh_timeout) {\n",
       "      setTimeout(() => display_loaded(error), 100);\n",
       "    }\n",
       "  }\n",
       "\n",
       "  function run_callbacks() {\n",
       "    try {\n",
       "      root._bokeh_onload_callbacks.forEach(function(callback) {\n",
       "        if (callback != null)\n",
       "          callback();\n",
       "      });\n",
       "    } finally {\n",
       "      delete root._bokeh_onload_callbacks\n",
       "    }\n",
       "    console.debug(\"Bokeh: all callbacks have finished\");\n",
       "  }\n",
       "\n",
       "  function load_libs(css_urls, js_urls, callback) {\n",
       "    if (css_urls == null) css_urls = [];\n",
       "    if (js_urls == null) js_urls = [];\n",
       "\n",
       "    root._bokeh_onload_callbacks.push(callback);\n",
       "    if (root._bokeh_is_loading > 0) {\n",
       "      console.debug(\"Bokeh: BokehJS is being loaded, scheduling callback at\", now());\n",
       "      return null;\n",
       "    }\n",
       "    if (js_urls == null || js_urls.length === 0) {\n",
       "      run_callbacks();\n",
       "      return null;\n",
       "    }\n",
       "    console.debug(\"Bokeh: BokehJS not loaded, scheduling load and callback at\", now());\n",
       "    root._bokeh_is_loading = css_urls.length + js_urls.length;\n",
       "\n",
       "    function on_load() {\n",
       "      root._bokeh_is_loading--;\n",
       "      if (root._bokeh_is_loading === 0) {\n",
       "        console.debug(\"Bokeh: all BokehJS libraries/stylesheets loaded\");\n",
       "        run_callbacks()\n",
       "      }\n",
       "    }\n",
       "\n",
       "    function on_error(url) {\n",
       "      console.error(\"failed to load \" + url);\n",
       "    }\n",
       "\n",
       "    for (let i = 0; i < css_urls.length; i++) {\n",
       "      const url = css_urls[i];\n",
       "      const element = document.createElement(\"link\");\n",
       "      element.onload = on_load;\n",
       "      element.onerror = on_error.bind(null, url);\n",
       "      element.rel = \"stylesheet\";\n",
       "      element.type = \"text/css\";\n",
       "      element.href = url;\n",
       "      console.debug(\"Bokeh: injecting link tag for BokehJS stylesheet: \", url);\n",
       "      document.body.appendChild(element);\n",
       "    }\n",
       "\n",
       "    for (let i = 0; i < js_urls.length; i++) {\n",
       "      const url = js_urls[i];\n",
       "      const element = document.createElement('script');\n",
       "      element.onload = on_load;\n",
       "      element.onerror = on_error.bind(null, url);\n",
       "      element.async = false;\n",
       "      element.src = url;\n",
       "      console.debug(\"Bokeh: injecting script tag for BokehJS library: \", url);\n",
       "      document.head.appendChild(element);\n",
       "    }\n",
       "  };\n",
       "\n",
       "  function inject_raw_css(css) {\n",
       "    const element = document.createElement(\"style\");\n",
       "    element.appendChild(document.createTextNode(css));\n",
       "    document.body.appendChild(element);\n",
       "  }\n",
       "\n",
       "  const js_urls = [\"https://cdn.bokeh.org/bokeh/release/bokeh-3.6.1.min.js\", \"https://cdn.bokeh.org/bokeh/release/bokeh-gl-3.6.1.min.js\", \"https://cdn.bokeh.org/bokeh/release/bokeh-widgets-3.6.1.min.js\", \"https://cdn.bokeh.org/bokeh/release/bokeh-tables-3.6.1.min.js\", \"https://cdn.bokeh.org/bokeh/release/bokeh-mathjax-3.6.1.min.js\"];\n",
       "  const css_urls = [];\n",
       "\n",
       "  const inline_js = [    function(Bokeh) {\n",
       "      Bokeh.set_log_level(\"info\");\n",
       "    },\n",
       "function(Bokeh) {\n",
       "    }\n",
       "  ];\n",
       "\n",
       "  function run_inline_js() {\n",
       "    if (root.Bokeh !== undefined || force === true) {\n",
       "      try {\n",
       "            for (let i = 0; i < inline_js.length; i++) {\n",
       "      inline_js[i].call(root, root.Bokeh);\n",
       "    }\n",
       "\n",
       "      } catch (error) {throw error;\n",
       "      }} else if (Date.now() < root._bokeh_timeout) {\n",
       "      setTimeout(run_inline_js, 100);\n",
       "    } else if (!root._bokeh_failed_load) {\n",
       "      console.log(\"Bokeh: BokehJS failed to load within specified timeout.\");\n",
       "      root._bokeh_failed_load = true;\n",
       "    } else if (force !== true) {\n",
       "      const cell = $(document.getElementById(null)).parents('.cell').data().cell;\n",
       "      cell.output_area.append_execute_result(NB_LOAD_WARNING)\n",
       "    }\n",
       "  }\n",
       "\n",
       "  if (root._bokeh_is_loading === 0) {\n",
       "    console.debug(\"Bokeh: BokehJS loaded, going straight to plotting\");\n",
       "    run_inline_js();\n",
       "  } else {\n",
       "    load_libs(css_urls, js_urls, function() {\n",
       "      console.debug(\"Bokeh: BokehJS plotting callback run at\", now());\n",
       "      run_inline_js();\n",
       "    });\n",
       "  }\n",
       "}(window));"
      ],
      "application/vnd.bokehjs_load.v0+json": "'use strict';\n(function(root) {\n  function now() {\n    return new Date();\n  }\n\n  const force = true;\n\n  if (typeof root._bokeh_onload_callbacks === \"undefined\" || force === true) {\n    root._bokeh_onload_callbacks = [];\n    root._bokeh_is_loading = undefined;\n  }\n\n\n  if (typeof (root._bokeh_timeout) === \"undefined\" || force === true) {\n    root._bokeh_timeout = Date.now() + 5000;\n    root._bokeh_failed_load = false;\n  }\n\n  const NB_LOAD_WARNING = {'data': {'text/html':\n     \"<div style='background-color: #fdd'>\\n\"+\n     \"<p>\\n\"+\n     \"BokehJS does not appear to have successfully loaded. If loading BokehJS from CDN, this \\n\"+\n     \"may be due to a slow or bad network connection. Possible fixes:\\n\"+\n     \"</p>\\n\"+\n     \"<ul>\\n\"+\n     \"<li>re-rerun `output_notebook()` to attempt to load from CDN again, or</li>\\n\"+\n     \"<li>use INLINE resources instead, as so:</li>\\n\"+\n     \"</ul>\\n\"+\n     \"<code>\\n\"+\n     \"from bokeh.resources import INLINE\\n\"+\n     \"output_notebook(resources=INLINE)\\n\"+\n     \"</code>\\n\"+\n     \"</div>\"}};\n\n  function display_loaded(error = null) {\n    const el = document.getElementById(null);\n    if (el != null) {\n      const html = (() => {\n        if (typeof root.Bokeh === \"undefined\") {\n          if (error == null) {\n            return \"BokehJS is loading ...\";\n          } else {\n            return \"BokehJS failed to load.\";\n          }\n        } else {\n          const prefix = `BokehJS ${root.Bokeh.version}`;\n          if (error == null) {\n            return `${prefix} successfully loaded.`;\n          } else {\n            return `${prefix} <b>encountered errors</b> while loading and may not function as expected.`;\n          }\n        }\n      })();\n      el.innerHTML = html;\n\n      if (error != null) {\n        const wrapper = document.createElement(\"div\");\n        wrapper.style.overflow = \"auto\";\n        wrapper.style.height = \"5em\";\n        wrapper.style.resize = \"vertical\";\n        const content = document.createElement(\"div\");\n        content.style.fontFamily = \"monospace\";\n        content.style.whiteSpace = \"pre-wrap\";\n        content.style.backgroundColor = \"rgb(255, 221, 221)\";\n        content.textContent = error.stack ?? error.toString();\n        wrapper.append(content);\n        el.append(wrapper);\n      }\n    } else if (Date.now() < root._bokeh_timeout) {\n      setTimeout(() => display_loaded(error), 100);\n    }\n  }\n\n  function run_callbacks() {\n    try {\n      root._bokeh_onload_callbacks.forEach(function(callback) {\n        if (callback != null)\n          callback();\n      });\n    } finally {\n      delete root._bokeh_onload_callbacks\n    }\n    console.debug(\"Bokeh: all callbacks have finished\");\n  }\n\n  function load_libs(css_urls, js_urls, callback) {\n    if (css_urls == null) css_urls = [];\n    if (js_urls == null) js_urls = [];\n\n    root._bokeh_onload_callbacks.push(callback);\n    if (root._bokeh_is_loading > 0) {\n      console.debug(\"Bokeh: BokehJS is being loaded, scheduling callback at\", now());\n      return null;\n    }\n    if (js_urls == null || js_urls.length === 0) {\n      run_callbacks();\n      return null;\n    }\n    console.debug(\"Bokeh: BokehJS not loaded, scheduling load and callback at\", now());\n    root._bokeh_is_loading = css_urls.length + js_urls.length;\n\n    function on_load() {\n      root._bokeh_is_loading--;\n      if (root._bokeh_is_loading === 0) {\n        console.debug(\"Bokeh: all BokehJS libraries/stylesheets loaded\");\n        run_callbacks()\n      }\n    }\n\n    function on_error(url) {\n      console.error(\"failed to load \" + url);\n    }\n\n    for (let i = 0; i < css_urls.length; i++) {\n      const url = css_urls[i];\n      const element = document.createElement(\"link\");\n      element.onload = on_load;\n      element.onerror = on_error.bind(null, url);\n      element.rel = \"stylesheet\";\n      element.type = \"text/css\";\n      element.href = url;\n      console.debug(\"Bokeh: injecting link tag for BokehJS stylesheet: \", url);\n      document.body.appendChild(element);\n    }\n\n    for (let i = 0; i < js_urls.length; i++) {\n      const url = js_urls[i];\n      const element = document.createElement('script');\n      element.onload = on_load;\n      element.onerror = on_error.bind(null, url);\n      element.async = false;\n      element.src = url;\n      console.debug(\"Bokeh: injecting script tag for BokehJS library: \", url);\n      document.head.appendChild(element);\n    }\n  };\n\n  function inject_raw_css(css) {\n    const element = document.createElement(\"style\");\n    element.appendChild(document.createTextNode(css));\n    document.body.appendChild(element);\n  }\n\n  const js_urls = [\"https://cdn.bokeh.org/bokeh/release/bokeh-3.6.1.min.js\", \"https://cdn.bokeh.org/bokeh/release/bokeh-gl-3.6.1.min.js\", \"https://cdn.bokeh.org/bokeh/release/bokeh-widgets-3.6.1.min.js\", \"https://cdn.bokeh.org/bokeh/release/bokeh-tables-3.6.1.min.js\", \"https://cdn.bokeh.org/bokeh/release/bokeh-mathjax-3.6.1.min.js\"];\n  const css_urls = [];\n\n  const inline_js = [    function(Bokeh) {\n      Bokeh.set_log_level(\"info\");\n    },\nfunction(Bokeh) {\n    }\n  ];\n\n  function run_inline_js() {\n    if (root.Bokeh !== undefined || force === true) {\n      try {\n            for (let i = 0; i < inline_js.length; i++) {\n      inline_js[i].call(root, root.Bokeh);\n    }\n\n      } catch (error) {throw error;\n      }} else if (Date.now() < root._bokeh_timeout) {\n      setTimeout(run_inline_js, 100);\n    } else if (!root._bokeh_failed_load) {\n      console.log(\"Bokeh: BokehJS failed to load within specified timeout.\");\n      root._bokeh_failed_load = true;\n    } else if (force !== true) {\n      const cell = $(document.getElementById(null)).parents('.cell').data().cell;\n      cell.output_area.append_execute_result(NB_LOAD_WARNING)\n    }\n  }\n\n  if (root._bokeh_is_loading === 0) {\n    console.debug(\"Bokeh: BokehJS loaded, going straight to plotting\");\n    run_inline_js();\n  } else {\n    load_libs(css_urls, js_urls, function() {\n      console.debug(\"Bokeh: BokehJS plotting callback run at\", now());\n      run_inline_js();\n    });\n  }\n}(window));"
     },
     "metadata": {},
     "output_type": "display_data"
    },
    {
     "data": {
      "text/html": [
       "\n",
       "            <table class=\"malariagen-ag3\">\n",
       "                <thead>\n",
       "                    <tr>\n",
       "                        <th style=\"text-align: left\" colspan=\"2\">MalariaGEN Ag3 API client</th>\n",
       "                    </tr>\n",
       "                    <tr><td colspan=\"2\" style=\"text-align: left\">\n",
       "                        Please note that data are subject to terms of use,\n",
       "                        for more information see <a href=\"https://www.malariagen.net/data\">\n",
       "                        the MalariaGEN website</a> or contact support@malariagen.net.\n",
       "                        See also the <a href=\"https://malariagen.github.io/malariagen-data-python/v0.0.0/Ag3.html\">Ag3 API docs</a>.\n",
       "                    </td></tr>\n",
       "                </thead>\n",
       "                <tbody>\n",
       "                    <tr>\n",
       "                        <th style=\"text-align: left\">\n",
       "                            Storage URL\n",
       "                        </th>\n",
       "                        <td>simplecache::gs://vo_agam_release_master_us_central1</td>\n",
       "                    </tr>\n",
       "                    <tr>\n",
       "                        <th style=\"text-align: left\">\n",
       "                            Data releases available\n",
       "                        </th>\n",
       "                        <td>3.0, 3.1, 3.2, 3.3, 3.4, 3.5, 3.6, 3.7, 3.8, 3.9, 3.10, 3.11, 3.12, 3.13, 3.14</td>\n",
       "                    </tr>\n",
       "                    <tr>\n",
       "                        <th style=\"text-align: left\">\n",
       "                            Results cache\n",
       "                        </th>\n",
       "                        <td>/Users/jb52/GitRepos/malariagen-data-python/notebooks/results_cache</td>\n",
       "                    </tr>\n",
       "                    <tr>\n",
       "                        <th style=\"text-align: left\">\n",
       "                            Cohorts analysis\n",
       "                        </th>\n",
       "                        <td>20250131</td>\n",
       "                    </tr>\n",
       "                    <tr>\n",
       "                        <th style=\"text-align: left\">\n",
       "                            AIM analysis\n",
       "                        </th>\n",
       "                        <td>20220528</td>\n",
       "                    </tr>\n",
       "                    <tr>\n",
       "                        <th style=\"text-align: left\">\n",
       "                            Site filters analysis\n",
       "                        </th>\n",
       "                        <td>dt_20200416</td>\n",
       "                    </tr>\n",
       "                    <tr>\n",
       "                        <th style=\"text-align: left\">\n",
       "                            Software version\n",
       "                        </th>\n",
       "                        <td>malariagen_data 0.0.0</td>\n",
       "                    </tr>\n",
       "                    <tr>\n",
       "                        <th style=\"text-align: left\">\n",
       "                            Client location\n",
       "                        </th>\n",
       "                        <td>England, United Kingdom</td>\n",
       "                    </tr>\n",
       "                </tbody>\n",
       "            </table>\n",
       "        "
      ],
      "text/plain": [
       "<MalariaGEN Ag3 API client>\n",
       "Storage URL             : simplecache::gs://vo_agam_release_master_us_central1\n",
       "Data releases available : 3.0, 3.1, 3.2, 3.3, 3.4, 3.5, 3.6, 3.7, 3.8, 3.9, 3.10, 3.11, 3.12, 3.13, 3.14\n",
       "Results cache           : /Users/jb52/GitRepos/malariagen-data-python/notebooks/results_cache\n",
       "Cohorts analysis        : 20250131\n",
       "AIM analysis            : 20220528\n",
       "Site filters analysis   : dt_20200416\n",
       "Software version        : malariagen_data 0.0.0\n",
       "Client location         : England, United Kingdom\n",
       "---\n",
       "Please note that data are subject to terms of use,\n",
       "for more information see https://www.malariagen.net/data\n",
       "or contact support@malariagen.net. For API documentation see \n",
       "https://malariagen.github.io/malariagen-data-python/v0.0.0/Ag3.html"
      ]
     },
     "execution_count": 2,
     "metadata": {},
     "output_type": "execute_result"
    }
   ],
   "source": [
    "ag3 = malariagen_data.Ag3(\n",
    "    \"simplecache::gs://vo_agam_release_master_us_central1\",\n",
    "    simplecache=dict(cache_storage=\"../gcs_cache\"),\n",
    "    results_cache=\"results_cache\",\n",
    ")\n",
    "ag3"
   ]
  },
  {
   "cell_type": "code",
   "execution_count": 3,
   "id": "d65aea9d-953c-47ad-838e-cf205822b6c8",
   "metadata": {
    "tags": []
   },
   "outputs": [],
   "source": [
    "sample_sets = [\"AG1000G-BF-A\", \"AG1000G-GH\"]"
   ]
  },
  {
   "cell_type": "code",
   "execution_count": 4,
   "id": "a8b1f82f-a60a-4326-a105-a7fd169ed85e",
   "metadata": {
    "tags": []
   },
   "outputs": [],
   "source": [
    "# Not sure if these inversion coordinates are exactly right, but should do as an approximation.\n",
    "region_2la = \"2L:20,528,089-42,165,182\"\n",
    "region_2rb = \"2R:19,444,433-26,313,071\"\n",
    "region_2rj = \"2R:4,050,701-14,952,998\"\n",
    "region_2rc = \"2R:27,025,144-31,450,000\"\n",
    "region_2ru = \"2R:33,575,891-34,873,652\"\n",
    "region_2rd = \"2R:33,575,891-41,360,919\"\n",
    "region_2rk = \"2R:25,146,360-30,717,395\""
   ]
  },
  {
   "cell_type": "markdown",
   "id": "35e8569a-5e2c-450d-ad8a-283de669aa27",
   "metadata": {},
   "source": [
    "## 2La"
   ]
  },
  {
   "cell_type": "code",
   "execution_count": 5,
   "id": "b7556095-b24a-4a26-9a3a-c98cb14d2e24",
   "metadata": {
    "tags": []
   },
   "outputs": [
    {
     "name": "stdout",
     "output_type": "stream",
     "text": [
      "                                                  \r"
     ]
    },
    {
     "data": {
      "text/html": [
       "<div>\n",
       "<style scoped>\n",
       "    .dataframe tbody tr th:only-of-type {\n",
       "        vertical-align: middle;\n",
       "    }\n",
       "\n",
       "    .dataframe tbody tr th {\n",
       "        vertical-align: top;\n",
       "    }\n",
       "\n",
       "    .dataframe thead th {\n",
       "        text-align: right;\n",
       "    }\n",
       "</style>\n",
       "<table border=\"1\" class=\"dataframe\">\n",
       "  <thead>\n",
       "    <tr style=\"text-align: right;\">\n",
       "      <th></th>\n",
       "      <th>sample_id</th>\n",
       "      <th>inversion</th>\n",
       "      <th>karyotype_2La_mean</th>\n",
       "      <th>karyotype_2La</th>\n",
       "      <th>total_tag_snps</th>\n",
       "    </tr>\n",
       "  </thead>\n",
       "  <tbody>\n",
       "    <tr>\n",
       "      <th>0</th>\n",
       "      <td>AB0085-Cx</td>\n",
       "      <td>2La</td>\n",
       "      <td>1.995050</td>\n",
       "      <td>2</td>\n",
       "      <td>202</td>\n",
       "    </tr>\n",
       "    <tr>\n",
       "      <th>1</th>\n",
       "      <td>AB0086-Cx</td>\n",
       "      <td>2La</td>\n",
       "      <td>1.935323</td>\n",
       "      <td>2</td>\n",
       "      <td>201</td>\n",
       "    </tr>\n",
       "    <tr>\n",
       "      <th>2</th>\n",
       "      <td>AB0087-C</td>\n",
       "      <td>2La</td>\n",
       "      <td>2.000000</td>\n",
       "      <td>2</td>\n",
       "      <td>202</td>\n",
       "    </tr>\n",
       "    <tr>\n",
       "      <th>3</th>\n",
       "      <td>AB0088-C</td>\n",
       "      <td>2La</td>\n",
       "      <td>2.000000</td>\n",
       "      <td>2</td>\n",
       "      <td>201</td>\n",
       "    </tr>\n",
       "    <tr>\n",
       "      <th>4</th>\n",
       "      <td>AB0089-Cx</td>\n",
       "      <td>2La</td>\n",
       "      <td>1.995050</td>\n",
       "      <td>2</td>\n",
       "      <td>202</td>\n",
       "    </tr>\n",
       "  </tbody>\n",
       "</table>\n",
       "</div>"
      ],
      "text/plain": [
       "   sample_id inversion  karyotype_2La_mean karyotype_2La  total_tag_snps\n",
       "0  AB0085-Cx       2La            1.995050             2             202\n",
       "1  AB0086-Cx       2La            1.935323             2             201\n",
       "2   AB0087-C       2La            2.000000             2             202\n",
       "3   AB0088-C       2La            2.000000             2             201\n",
       "4  AB0089-Cx       2La            1.995050             2             202"
      ]
     },
     "execution_count": 5,
     "metadata": {},
     "output_type": "execute_result"
    }
   ],
   "source": [
    "kt_df_2la = ag3.karyotype(inversion=\"2La\", sample_sets=sample_sets)\n",
    "kt_df_2la.head()"
   ]
  },
  {
   "cell_type": "code",
   "execution_count": null,
   "id": "4a16ebf5-1a66-4b10-9f5a-d57080e26cb7",
   "metadata": {
    "tags": []
   },
   "outputs": [],
   "source": [
    "pca_df_2la, pca_evr_2la = ag3.pca(\n",
    "    region=region_2la,\n",
    "    sample_sets=sample_sets,\n",
    "    n_snps=50_000,\n",
    ")\n",
    "pca_df_2la = pca_df_2la.merge(kt_df_2la, on=\"sample_id\")\n",
    "pca_df_2la.head()"
   ]
  },
  {
   "cell_type": "code",
   "execution_count": null,
   "id": "8cb4d566-fde1-42e7-a7ba-7294b6adbb66",
   "metadata": {
    "tags": []
   },
   "outputs": [],
   "source": [
    "ag3.plot_pca_coords(pca_df_2la, color=\"taxon\", width=600, height=500)"
   ]
  },
  {
   "cell_type": "code",
   "execution_count": null,
   "id": "b522c176-da60-4a4b-ad01-5de74c2a49a6",
   "metadata": {
    "tags": []
   },
   "outputs": [],
   "source": [
    "ag3.plot_pca_coords(pca_df_2la, color=\"karyotype_2La\", symbol=\"taxon\", width=600, height=500)"
   ]
  },
  {
   "cell_type": "code",
   "execution_count": null,
   "id": "0daf1c4e-4e19-43e6-ac9b-b4e0680a01a8",
   "metadata": {
    "tags": []
   },
   "outputs": [],
   "source": [
    "ag3.plot_pca_coords(pca_df_2la, color=\"karyotype_2La_mean\", width=700, height=500)"
   ]
  },
  {
   "cell_type": "code",
   "execution_count": null,
   "id": "f7054916-64b8-4b52-a624-1f4eae413b09",
   "metadata": {
    "tags": []
   },
   "outputs": [],
   "source": [
    "kt_df_2la[\"karyotype_2La_mean\"].hist(backend=\"plotly\")"
   ]
  },
  {
   "cell_type": "markdown",
   "id": "32a8664a-67c7-48c8-9870-43f5ec2777ff",
   "metadata": {},
   "source": [
    "## 2Rb"
   ]
  },
  {
   "cell_type": "code",
   "execution_count": null,
   "id": "8d7dc314-9bae-487e-9078-0bf0dec42d9c",
   "metadata": {
    "tags": []
   },
   "outputs": [],
   "source": [
    "kt_df_2rb = ag3.karyotype(inversion=\"2Rb\", sample_sets=sample_sets)\n",
    "kt_df_2rb.head()"
   ]
  },
  {
   "cell_type": "code",
   "execution_count": null,
   "id": "3a131e26-730a-479d-acaf-735ea92ec93f",
   "metadata": {
    "tags": []
   },
   "outputs": [],
   "source": [
    "pca_df_2rb, pca_evr_2rb = ag3.pca(\n",
    "    region=region_2rb,\n",
    "    sample_sets=sample_sets,\n",
    "    n_snps=50_000,\n",
    ")\n",
    "pca_df_2rb = pca_df_2rb.merge(kt_df_2rb, on=\"sample_id\")\n",
    "pca_df_2rb.head()"
   ]
  },
  {
   "cell_type": "code",
   "execution_count": null,
   "id": "b728fe52-cae6-4c22-9429-52f3d30d475a",
   "metadata": {
    "tags": []
   },
   "outputs": [],
   "source": [
    "ag3.plot_pca_coords(pca_df_2rb, color=\"karyotype_2Rb\", symbol=\"taxon\", width=600, height=500)"
   ]
  },
  {
   "cell_type": "code",
   "execution_count": null,
   "id": "b674c67a-f4fc-471a-a9d0-08f45e9006e9",
   "metadata": {
    "tags": []
   },
   "outputs": [],
   "source": [
    "pca_df_2rb[\"karyotype_2Rb_mean\"].hist(backend=\"plotly\")"
   ]
  },
  {
   "cell_type": "markdown",
   "id": "51595e8d-d911-4f7f-932b-ed1007fa95fd",
   "metadata": {},
   "source": [
    "## 2Rc_gam"
   ]
  },
  {
   "cell_type": "code",
   "execution_count": null,
   "id": "3091fec6-6484-4c76-9078-f78fc988ae28",
   "metadata": {
    "tags": []
   },
   "outputs": [],
   "source": [
    "kt_df_2rc_gam = ag3.karyotype(\n",
    "    inversion=\"2Rc_gam\", \n",
    "    sample_sets=sample_sets,\n",
    "    sample_query=\"taxon == 'gambiae'\",\n",
    ")\n",
    "kt_df_2rc_gam.head()"
   ]
  },
  {
   "cell_type": "code",
   "execution_count": null,
   "id": "da7cd248-2a43-412c-99cf-22ca9786cf2b",
   "metadata": {
    "tags": []
   },
   "outputs": [],
   "source": [
    "fig = kt_df_2rc_gam[\"karyotype_2Rc_gam_mean\"].hist(backend=\"plotly\")\n",
    "fig.update_xaxes(range=[0, 2])\n",
    "fig"
   ]
  },
  {
   "cell_type": "code",
   "execution_count": null,
   "id": "f5a08876-0431-4190-87bb-48962fd4c98c",
   "metadata": {
    "tags": []
   },
   "outputs": [],
   "source": [
    "pca_df_2rc_gam, _ = ag3.pca(\n",
    "    region=region_2rc,\n",
    "    sample_sets=sample_sets,\n",
    "    sample_query=\"taxon == 'gambiae'\",\n",
    "    n_snps=50_000,\n",
    ")\n",
    "pca_df_2rc_gam = pca_df_2rc_gam.merge(kt_df_2rc_gam, on=\"sample_id\")\n",
    "pca_df_2rc_gam.head()"
   ]
  },
  {
   "cell_type": "code",
   "execution_count": null,
   "id": "fa62428f-09c8-4dc5-b45b-e4761041b966",
   "metadata": {},
   "outputs": [],
   "source": [
    "ag3.plot_pca_coords(pca_df_2rc_gam, color=\"karyotype_2Rc_gam\", symbol=\"taxon\", width=600, height=500)"
   ]
  },
  {
   "cell_type": "code",
   "execution_count": null,
   "id": "2287b6e9-50b7-4ce4-9ef5-a4dd0e5463af",
   "metadata": {
    "tags": []
   },
   "outputs": [],
   "source": [
    "ag3.plot_pca_coords(pca_df_2rc_gam, color=\"country\", symbol=\"taxon\", width=600, height=500)"
   ]
  },
  {
   "cell_type": "markdown",
   "id": "8fc6d2af-3d22-42e3-8ca8-756c4e72b141",
   "metadata": {},
   "source": [
    "## 2Rc_col"
   ]
  },
  {
   "cell_type": "code",
   "execution_count": null,
   "id": "483722dc-86ba-4766-826b-c7d3d2d00cf5",
   "metadata": {
    "tags": []
   },
   "outputs": [],
   "source": [
    "kt_df_2rc_col = ag3.karyotype(\n",
    "    inversion=\"2Rc_col\", \n",
    "    sample_sets=sample_sets,\n",
    "    sample_query=\"taxon == 'coluzzii'\",\n",
    ")\n",
    "kt_df_2rc_col.head()"
   ]
  },
  {
   "cell_type": "code",
   "execution_count": null,
   "id": "8ec9135f-4abc-432b-9707-14db25e650ea",
   "metadata": {
    "tags": []
   },
   "outputs": [],
   "source": [
    "fig = kt_df_2rc_col[\"karyotype_2Rc_col_mean\"].hist(backend=\"plotly\")\n",
    "fig.update_xaxes(range=[0, 2])\n",
    "fig"
   ]
  },
  {
   "cell_type": "code",
   "execution_count": null,
   "id": "1bcb2209-a5db-4cc2-8fac-d51dae1f214c",
   "metadata": {
    "tags": []
   },
   "outputs": [],
   "source": [
    "pca_df_2rc_col, _ = ag3.pca(\n",
    "    region=region_2rc,\n",
    "    sample_sets=sample_sets,\n",
    "    sample_query=\"taxon == 'coluzzii'\",\n",
    "    n_snps=50_000,\n",
    ")\n",
    "pca_df_2rc_col = pca_df_2rc_col.merge(kt_df_2rc_col, on=\"sample_id\")\n",
    "pca_df_2rc_col.head()"
   ]
  },
  {
   "cell_type": "code",
   "execution_count": null,
   "id": "ecee39ab-b8f5-4a79-a31b-2badfafc329b",
   "metadata": {
    "tags": []
   },
   "outputs": [],
   "source": [
    "ag3.plot_pca_coords(pca_df_2rc_col, color=\"karyotype_2Rc_col\", symbol=\"country\", width=600, height=500)"
   ]
  },
  {
   "cell_type": "markdown",
   "id": "185c572b-abf9-465c-85c0-5bf4ab5a8fcd",
   "metadata": {},
   "source": [
    "# Frequencies"
   ]
  },
  {
   "cell_type": "code",
   "execution_count": 5,
   "id": "82f2403c-3deb-4023-8810-c243417a196f",
   "metadata": {},
   "outputs": [
    {
     "name": "stdout",
     "output_type": "stream",
     "text": [
      "                                                  \r"
     ]
    },
    {
     "data": {
      "application/vnd.jupyter.widget-view+json": {
       "model_id": "",
       "version_major": 2,
       "version_minor": 0
      },
      "text/plain": [
       "Compute karyotype frequencies:   0%|          | 0/7 [00:00<?, ?it/s]"
      ]
     },
     "metadata": {},
     "output_type": "display_data"
    },
    {
     "name": "stdout",
     "output_type": "stream",
     "text": [
      "                                                  \r"
     ]
    },
    {
     "data": {
      "application/vnd.jupyter.widget-view+json": {
       "model_id": "",
       "version_major": 2,
       "version_minor": 0
      },
      "text/plain": [
       "Compute karyotype frequencies:   0%|          | 0/7 [00:00<?, ?it/s]"
      ]
     },
     "metadata": {},
     "output_type": "display_data"
    }
   ],
   "source": [
    "kt_frqs_df_2la = ag3.inversion_frequencies([\"2La\", \"2Ru\"], \"admin1_year\", sample_sets=sample_sets, include_counts=True)"
   ]
  },
  {
   "cell_type": "code",
   "execution_count": 11,
   "id": "d1348dcf-536f-4487-8fdf-e83b6ac33bf9",
   "metadata": {},
   "outputs": [
    {
     "name": "stdout",
     "output_type": "stream",
     "text": [
      "                                                  \r"
     ]
    },
    {
     "data": {
      "application/vnd.jupyter.widget-view+json": {
       "model_id": "",
       "version_major": 2,
       "version_minor": 0
      },
      "text/plain": [
       "Compute karyotype frequencies:   0%|          | 0/5 [00:00<?, ?it/s]"
      ]
     },
     "metadata": {},
     "output_type": "display_data"
    }
   ],
   "source": [
    "kt_frqs_df_2la = ag3.inversion_frequencies(\"2La\", \"admin1_year\", sample_sets=\"AG1000G-GH\", include_counts=True)"
   ]
  },
  {
   "cell_type": "code",
   "execution_count": 12,
   "id": "b85e648f-2564-459e-a157-21995cb0d02f",
   "metadata": {},
   "outputs": [
    {
     "data": {
      "text/html": [
       "<div>\n",
       "<style scoped>\n",
       "    .dataframe tbody tr th:only-of-type {\n",
       "        vertical-align: middle;\n",
       "    }\n",
       "\n",
       "    .dataframe tbody tr th {\n",
       "        vertical-align: top;\n",
       "    }\n",
       "\n",
       "    .dataframe thead th {\n",
       "        text-align: right;\n",
       "    }\n",
       "</style>\n",
       "<table border=\"1\" class=\"dataframe\">\n",
       "  <thead>\n",
       "    <tr style=\"text-align: right;\">\n",
       "      <th></th>\n",
       "      <th>inversion</th>\n",
       "      <th>allele</th>\n",
       "      <th>label</th>\n",
       "      <th>frq_GH-AA_colu_2012</th>\n",
       "      <th>frq_GH-AA_gamb_2012</th>\n",
       "      <th>frq_GH-CP_colu_2012</th>\n",
       "      <th>frq_GH-EP_gamb_2012</th>\n",
       "      <th>frq_GH-WP_colu_2012</th>\n",
       "      <th>count_GH-AA_colu_2012</th>\n",
       "      <th>count_GH-AA_gamb_2012</th>\n",
       "      <th>count_GH-CP_colu_2012</th>\n",
       "      <th>count_GH-EP_gamb_2012</th>\n",
       "      <th>count_GH-WP_colu_2012</th>\n",
       "      <th>nobs_GH-AA_colu_2012</th>\n",
       "      <th>nobs_GH-AA_gamb_2012</th>\n",
       "      <th>nobs_GH-CP_colu_2012</th>\n",
       "      <th>nobs_GH-EP_gamb_2012</th>\n",
       "      <th>nobs_GH-WP_colu_2012</th>\n",
       "    </tr>\n",
       "  </thead>\n",
       "  <tbody>\n",
       "    <tr>\n",
       "      <th>0</th>\n",
       "      <td>2La</td>\n",
       "      <td>hom. ref.</td>\n",
       "      <td>2La hom. ref.</td>\n",
       "      <td>0.642857</td>\n",
       "      <td>0.307692</td>\n",
       "      <td>0.48</td>\n",
       "      <td>0.478261</td>\n",
       "      <td>0.333333</td>\n",
       "      <td>9</td>\n",
       "      <td>4</td>\n",
       "      <td>12</td>\n",
       "      <td>11</td>\n",
       "      <td>8</td>\n",
       "      <td>28</td>\n",
       "      <td>26</td>\n",
       "      <td>50</td>\n",
       "      <td>46</td>\n",
       "      <td>48</td>\n",
       "    </tr>\n",
       "    <tr>\n",
       "      <th>1</th>\n",
       "      <td>2La</td>\n",
       "      <td>het.</td>\n",
       "      <td>2La het.</td>\n",
       "      <td>0.285714</td>\n",
       "      <td>0.307692</td>\n",
       "      <td>0.36</td>\n",
       "      <td>0.478261</td>\n",
       "      <td>0.583333</td>\n",
       "      <td>4</td>\n",
       "      <td>4</td>\n",
       "      <td>9</td>\n",
       "      <td>11</td>\n",
       "      <td>14</td>\n",
       "      <td>28</td>\n",
       "      <td>26</td>\n",
       "      <td>50</td>\n",
       "      <td>46</td>\n",
       "      <td>48</td>\n",
       "    </tr>\n",
       "    <tr>\n",
       "      <th>2</th>\n",
       "      <td>2La</td>\n",
       "      <td>hom. alt.</td>\n",
       "      <td>2La hom. alt.</td>\n",
       "      <td>0.071429</td>\n",
       "      <td>0.384615</td>\n",
       "      <td>0.16</td>\n",
       "      <td>0.043478</td>\n",
       "      <td>0.083333</td>\n",
       "      <td>1</td>\n",
       "      <td>5</td>\n",
       "      <td>4</td>\n",
       "      <td>1</td>\n",
       "      <td>2</td>\n",
       "      <td>28</td>\n",
       "      <td>26</td>\n",
       "      <td>50</td>\n",
       "      <td>46</td>\n",
       "      <td>48</td>\n",
       "    </tr>\n",
       "  </tbody>\n",
       "</table>\n",
       "</div>"
      ],
      "text/plain": [
       "  inversion     allele          label  frq_GH-AA_colu_2012  \\\n",
       "0       2La  hom. ref.  2La hom. ref.             0.642857   \n",
       "1       2La       het.       2La het.             0.285714   \n",
       "2       2La  hom. alt.  2La hom. alt.             0.071429   \n",
       "\n",
       "   frq_GH-AA_gamb_2012  frq_GH-CP_colu_2012  frq_GH-EP_gamb_2012  \\\n",
       "0             0.307692                 0.48             0.478261   \n",
       "1             0.307692                 0.36             0.478261   \n",
       "2             0.384615                 0.16             0.043478   \n",
       "\n",
       "   frq_GH-WP_colu_2012  count_GH-AA_colu_2012  count_GH-AA_gamb_2012  \\\n",
       "0             0.333333                      9                      4   \n",
       "1             0.583333                      4                      4   \n",
       "2             0.083333                      1                      5   \n",
       "\n",
       "   count_GH-CP_colu_2012  count_GH-EP_gamb_2012  count_GH-WP_colu_2012  \\\n",
       "0                     12                     11                      8   \n",
       "1                      9                     11                     14   \n",
       "2                      4                      1                      2   \n",
       "\n",
       "   nobs_GH-AA_colu_2012  nobs_GH-AA_gamb_2012  nobs_GH-CP_colu_2012  \\\n",
       "0                    28                    26                    50   \n",
       "1                    28                    26                    50   \n",
       "2                    28                    26                    50   \n",
       "\n",
       "   nobs_GH-EP_gamb_2012  nobs_GH-WP_colu_2012  \n",
       "0                    46                    48  \n",
       "1                    46                    48  \n",
       "2                    46                    48  "
      ]
     },
     "execution_count": 12,
     "metadata": {},
     "output_type": "execute_result"
    }
   ],
   "source": [
    "kt_frqs_df_2la"
   ]
  },
  {
   "cell_type": "code",
   "execution_count": 20,
   "id": "3d7668be-c5e8-44ef-ba32-64e0c2cbe31b",
   "metadata": {},
   "outputs": [],
   "source": [
    "expected_cols = [\n",
    "    \"inversion\",\n",
    "    \"allele\",\n",
    "    \"label\",\n",
    "]\n",
    "df_samples = ag3.sample_metadata(sample_sets=\"AG1000G-GH\")\n",
    "cohort_column = \"cohort_admin1_year\"\n",
    "cohort_counts = df_samples[cohort_column].value_counts()\n",
    "cohort_labels = cohort_counts[cohort_counts >= 10].index.to_list()\n",
    "frq_fields = [\"frq_\" + s for s in cohort_labels]\n",
    "expected_cols += frq_fields\n",
    "count_fields = [\"count_\" + s for s in cohort_labels]\n",
    "expected_cols += count_fields\n",
    "nobs_fields = [\"nobs_\" + s for s in cohort_labels]\n",
    "expected_cols += nobs_fields"
   ]
  },
  {
   "cell_type": "code",
   "execution_count": 21,
   "id": "99c64fc5-6ca4-4324-956b-4b2842ee7976",
   "metadata": {},
   "outputs": [
    {
     "data": {
      "text/plain": [
       "['inversion',\n",
       " 'allele',\n",
       " 'label',\n",
       " 'frq_GH-CP_colu_2012',\n",
       " 'frq_GH-WP_colu_2012',\n",
       " 'frq_GH-EP_gamb_2012',\n",
       " 'frq_GH-AA_colu_2012',\n",
       " 'frq_GH-AA_gamb_2012',\n",
       " 'count_GH-CP_colu_2012',\n",
       " 'count_GH-WP_colu_2012',\n",
       " 'count_GH-EP_gamb_2012',\n",
       " 'count_GH-AA_colu_2012',\n",
       " 'count_GH-AA_gamb_2012',\n",
       " 'nobs_GH-CP_colu_2012',\n",
       " 'nobs_GH-WP_colu_2012',\n",
       " 'nobs_GH-EP_gamb_2012',\n",
       " 'nobs_GH-AA_colu_2012',\n",
       " 'nobs_GH-AA_gamb_2012']"
      ]
     },
     "execution_count": 21,
     "metadata": {},
     "output_type": "execute_result"
    }
   ],
   "source": [
    "expected_cols"
   ]
  },
  {
   "cell_type": "code",
   "execution_count": 15,
   "id": "bc1723ae-83c9-4797-859a-05dda93adfd8",
   "metadata": {},
   "outputs": [
    {
     "data": {
      "text/plain": [
       "Index(['inversion', 'allele', 'label', 'frq_GH-AA_colu_2012',\n",
       "       'frq_GH-AA_gamb_2012', 'frq_GH-CP_colu_2012', 'frq_GH-EP_gamb_2012',\n",
       "       'frq_GH-WP_colu_2012', 'count_GH-AA_colu_2012', 'count_GH-AA_gamb_2012',\n",
       "       'count_GH-CP_colu_2012', 'count_GH-EP_gamb_2012',\n",
       "       'count_GH-WP_colu_2012', 'nobs_GH-AA_colu_2012', 'nobs_GH-AA_gamb_2012',\n",
       "       'nobs_GH-CP_colu_2012', 'nobs_GH-EP_gamb_2012', 'nobs_GH-WP_colu_2012'],\n",
       "      dtype='object')"
      ]
     },
     "execution_count": 15,
     "metadata": {},
     "output_type": "execute_result"
    }
   ],
   "source": [
    "kt_frqs_df_2la.columns"
   ]
  },
  {
   "cell_type": "code",
   "execution_count": 22,
   "id": "6d5a468b-8365-4292-a450-ceddd8a45858",
   "metadata": {},
   "outputs": [],
   "source": [
    "assert sorted(kt_frqs_df_2la.columns.tolist()) == sorted(expected_cols)"
   ]
  },
  {
   "cell_type": "code",
   "execution_count": null,
   "id": "b959d7c5-00dc-4af8-939d-7a8fce71d966",
   "metadata": {},
   "outputs": [],
   "source": [
    "ag3.plot_frequencies_heatmap(kt_frqs_df_2la)"
   ]
  },
  {
   "cell_type": "code",
   "execution_count": null,
   "id": "fb56c068-d016-4779-b0a5-fc576dc0dd80",
   "metadata": {},
   "outputs": [],
   "source": [
    "kt_frqs_ds_2la = ag3.inversion_frequencies_advanced(\"2La\", area_by=\"admin1_name\", period_by=\"year\", sample_sets=sample_sets)\n",
    "ag3.plot_frequencies_time_series(kt_frqs_ds_2la)"
   ]
  },
  {
   "cell_type": "code",
   "execution_count": null,
   "id": "e6018aa6-3258-40c8-ae6f-9339e683a981",
   "metadata": {},
   "outputs": [],
   "source": []
  }
 ],
 "metadata": {
  "environment": {
   "kernel": "python3",
   "name": "workbench-notebooks.m124",
   "type": "gcloud",
   "uri": "us-docker.pkg.dev/deeplearning-platform-release/gcr.io/workbench-notebooks:m124"
  },
  "kernelspec": {
   "display_name": "Python 3 (ipykernel)",
   "language": "python",
   "name": "python3"
  },
  "language_info": {
   "codemirror_mode": {
    "name": "ipython",
    "version": 3
   },
   "file_extension": ".py",
   "mimetype": "text/x-python",
   "name": "python",
   "nbconvert_exporter": "python",
   "pygments_lexer": "ipython3",
   "version": "3.10.11"
  }
 },
 "nbformat": 4,
 "nbformat_minor": 5
}
