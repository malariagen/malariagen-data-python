{
 "cells": [
  {
   "cell_type": "code",
   "execution_count": null,
   "id": "f820bc66-2fb2-4ca2-9b54-824e50d61a0a",
   "metadata": {},
   "outputs": [],
   "source": [
    "import malariagen_data\n",
    "\n",
    "ag3 = malariagen_data.Ag3(\n",
    "    \"simplecache::gs://vo_agam_release_master_us_central1\",\n",
    "    simplecache=dict(cache_storage=\"../gcs_cache\"),\n",
    ")\n",
    "ag3"
   ]
  },
  {
   "cell_type": "code",
   "execution_count": null,
   "id": "22b94b9c",
   "metadata": {},
   "outputs": [],
   "source": [
    "import malariagen_data\n",
    "\n",
    "af1 = malariagen_data.Af1(\n",
    "    \"simplecache::gs://vo_afun_release_master_us_central1\",\n",
    "    simplecache=dict(cache_storage=\"../gcs_cache\"),\n",
    ")\n",
    "af1"
   ]
  },
  {
   "attachments": {},
   "cell_type": "markdown",
   "id": "865f02ea-0673-4d35-ad9e-33088e2d0e58",
   "metadata": {},
   "source": [
    "## Gene CNV frequencies"
   ]
  },
  {
   "cell_type": "code",
   "execution_count": null,
   "id": "1c612c69-27ee-4f50-b467-786bd998de58",
   "metadata": {},
   "outputs": [],
   "source": [
    "ds = ag3.gene_cnv_frequencies_advanced(\n",
    "    region=\"2R:28,450,000-28,510,000\",\n",
    "    area_by=\"admin1_iso\",\n",
    "    period_by=\"year\",\n",
    "    sample_sets=[\"AG1000G-BF-A\", \"AG1000G-BF-B\"],\n",
    "    sample_query=\"taxon in ['coluzzii', 'gambiae']\",\n",
    "    min_cohort_size=10,\n",
    ")\n",
    "ds"
   ]
  },
  {
   "cell_type": "code",
   "execution_count": null,
   "id": "7b38fb26-9562-4f52-9381-ced0687b5a40",
   "metadata": {},
   "outputs": [],
   "source": [
    "ag3.plot_frequencies_time_series(ds, height=500, width=1000)"
   ]
  },
  {
   "cell_type": "code",
   "execution_count": null,
   "id": "fb104e66-7ba0-42ec-9ed0-625a43b69d5b",
   "metadata": {},
   "outputs": [],
   "source": [
    "ds = ag3.gene_cnv_frequencies_advanced(\n",
    "    region=\"2R:28,450,000-28,510,000\",\n",
    "    area_by=\"admin1_iso\",\n",
    "    period_by=\"year\",\n",
    "    sample_sets=\"3.0\",\n",
    "    min_cohort_size=10,\n",
    ")\n",
    "ds"
   ]
  },
  {
   "cell_type": "code",
   "execution_count": null,
   "id": "ccf5279d-fc5a-4efe-972e-60c7b9515558",
   "metadata": {},
   "outputs": [],
   "source": [
    "ag3.plot_frequencies_interactive_map(ds)"
   ]
  },
  {
   "attachments": {},
   "cell_type": "markdown",
   "id": "8d39da45-6875-42e1-9b84-2f0a64189ff4",
   "metadata": {},
   "source": [
    "## Amino acid change frequencies"
   ]
  },
  {
   "cell_type": "code",
   "execution_count": null,
   "id": "bf75e5b1-f2ca-41f4-a0fd-08a03c979fa4",
   "metadata": {},
   "outputs": [],
   "source": [
    "ds = ag3.aa_allele_frequencies_advanced(\n",
    "    transcript=\"AGAP004707-RD\",\n",
    "    area_by=\"admin1_iso\",\n",
    "    period_by=\"year\",\n",
    "    sample_sets=[\"AG1000G-BF-A\", \"AG1000G-BF-B\"],\n",
    "    sample_query=\"sex_call == 'F' and taxon == 'coluzzii'\",\n",
    "    min_cohort_size=10,\n",
    "    variant_query=\"max_af > 0.05\",\n",
    ")\n",
    "ds"
   ]
  },
  {
   "cell_type": "code",
   "execution_count": null,
   "id": "2c6ffd89-7edc-4f90-bd23-b03e15ce9714",
   "metadata": {},
   "outputs": [],
   "source": [
    "ag3.plot_frequencies_time_series(ds, height=400, width=600)"
   ]
  },
  {
   "cell_type": "code",
   "execution_count": null,
   "id": "c058a196-2f78-49a0-8a18-cb2420c3278a",
   "metadata": {},
   "outputs": [],
   "source": [
    "ds = ag3.aa_allele_frequencies_advanced(\n",
    "    transcript=\"AGAP004707-RD\",\n",
    "    area_by=\"admin1_iso\",\n",
    "    period_by=\"year\",\n",
    "    sample_sets=\"3.0\",\n",
    "    min_cohort_size=10,\n",
    "    variant_query=\"max_af > 0.05\",\n",
    ")\n",
    "ds"
   ]
  },
  {
   "cell_type": "code",
   "execution_count": null,
   "id": "e733c877-a1f1-4dc6-b8a3-a9652430ff39",
   "metadata": {},
   "outputs": [],
   "source": [
    "ag3.plot_frequencies_interactive_map(ds)"
   ]
  },
  {
   "cell_type": "code",
   "execution_count": null,
   "id": "82927720",
   "metadata": {},
   "outputs": [],
   "source": [
    "af1.sample_sets()"
   ]
  },
  {
   "cell_type": "code",
   "execution_count": null,
   "id": "5f9257e0",
   "metadata": {},
   "outputs": [],
   "source": [
    "af1.genome_features()"
   ]
  },
  {
   "cell_type": "code",
   "execution_count": null,
   "id": "94ccc5bf",
   "metadata": {},
   "outputs": [],
   "source": [
    "ds = af1.aa_allele_frequencies_advanced(\n",
    "    transcript=\"LOC125767311_t1\",\n",
    "    area_by=\"admin1_iso\",\n",
    "    period_by=\"year\",\n",
    "    sample_sets=\"1.0\",\n",
    "    min_cohort_size=10,\n",
    "    variant_query=\"max_af > 0.05\",\n",
    ")\n",
    "ds"
   ]
  },
  {
   "cell_type": "code",
   "execution_count": null,
   "id": "10d0004b",
   "metadata": {},
   "outputs": [],
   "source": [
    "af1.plot_frequencies_interactive_map(ds)"
   ]
  },
  {
   "attachments": {},
   "cell_type": "markdown",
   "id": "9b189c4f-fbf6-45cf-96ef-04817084b5ec",
   "metadata": {},
   "source": [
    "## SNP allele frequencies"
   ]
  },
  {
   "cell_type": "code",
   "execution_count": null,
   "id": "c3738721-8d16-40dd-8a4d-4b588af36b15",
   "metadata": {},
   "outputs": [],
   "source": [
    "ds = ag3.snp_allele_frequencies_advanced(\n",
    "    transcript=\"AGAP004707-RD\",\n",
    "    area_by=\"admin1_iso\",\n",
    "    period_by=\"year\",\n",
    "    sample_sets=[\"AG1000G-BF-A\", \"AG1000G-BF-B\", \"AG1000G-UG\", \"AG1000G-TZ\"],\n",
    "    sample_query=\"taxon in ['gambiae', 'coluzzii']\",\n",
    "    min_cohort_size=10,\n",
    "    drop_invariant=True,\n",
    "    variant_query=\"max_af > 0.05 and effect == 'NON_SYNONYMOUS_CODING'\",\n",
    "    site_mask=None,\n",
    "    nobs_mode=\"called\",\n",
    "    ci_method=\"wilson\",\n",
    ")\n",
    "ds"
   ]
  },
  {
   "cell_type": "code",
   "execution_count": null,
   "id": "5c743429",
   "metadata": {},
   "outputs": [],
   "source": [
    "ag3.plot_frequencies_time_series(ds, height=900, width=900)"
   ]
  },
  {
   "cell_type": "code",
   "execution_count": null,
   "id": "9f6a7920",
   "metadata": {},
   "outputs": [],
   "source": [
    "ds = ag3.snp_allele_frequencies_advanced(\n",
    "    transcript=\"AGAP004707-RD\",\n",
    "    area_by=\"admin1_iso\",\n",
    "    period_by=\"month\",\n",
    "    sample_query=\"country == 'Burkina Faso' and year > 2010\",\n",
    "    variant_query=\"max_af > 0.05 and effect == 'NON_SYNONYMOUS_CODING'\",\n",
    "    min_cohort_size=5,\n",
    "    sample_sets=\"3.0\",\n",
    ")\n",
    "ds"
   ]
  },
  {
   "cell_type": "code",
   "execution_count": null,
   "id": "03cfc0e7",
   "metadata": {},
   "outputs": [],
   "source": [
    "ag3.plot_frequencies_time_series(ds, height=400, width=800)"
   ]
  },
  {
   "cell_type": "code",
   "execution_count": null,
   "id": "28922f73-f38d-424a-a9c5-1e839c86567b",
   "metadata": {},
   "outputs": [],
   "source": [
    "ds = ag3.snp_allele_frequencies_advanced(\n",
    "    transcript=\"AGAP004707-RD\",\n",
    "    area_by=\"admin1_iso\",\n",
    "    period_by=\"year\",\n",
    "    variant_query=\"max_af > 0.05 and effect == 'NON_SYNONYMOUS_CODING'\",\n",
    "    min_cohort_size=10,\n",
    "    sample_sets=\"3.0\",\n",
    ")\n",
    "ds"
   ]
  },
  {
   "cell_type": "code",
   "execution_count": null,
   "id": "2a8ea4a0-6bf7-41a3-b734-06535e7dbbc8",
   "metadata": {},
   "outputs": [],
   "source": [
    "ag3.plot_frequencies_interactive_map(ds)"
   ]
  },
  {
   "cell_type": "code",
   "execution_count": null,
   "id": "5ce2800c-dfa5-49c3-bde4-3b67423f7807",
   "metadata": {},
   "outputs": [],
   "source": [
    "ds = af1.snp_allele_frequencies_advanced(\n",
    "    transcript=\"LOC125767311_t1\",\n",
    "    area_by=\"admin1_iso\",\n",
    "    period_by=\"year\",\n",
    "    sample_sets=\"1.0\",\n",
    "    min_cohort_size=10,\n",
    "    variant_query=\"max_af > 0.05 and effect == 'NON_SYNONYMOUS_CODING'\",\n",
    ")\n",
    "ds"
   ]
  },
  {
   "cell_type": "code",
   "execution_count": null,
   "id": "b0f6bda5",
   "metadata": {},
   "outputs": [],
   "source": [
    "af1.plot_frequencies_interactive_map(ds)"
   ]
  },
  {
   "cell_type": "code",
   "execution_count": null,
   "id": "a512b459",
   "metadata": {},
   "outputs": [],
   "source": []
  }
 ],
 "metadata": {
  "kernelspec": {
   "display_name": "Python 3 (ipykernel)",
   "language": "python",
   "name": "python3"
  },
  "language_info": {
   "codemirror_mode": {
    "name": "ipython",
    "version": 3
   },
   "file_extension": ".py",
   "mimetype": "text/x-python",
   "name": "python",
   "nbconvert_exporter": "python",
   "pygments_lexer": "ipython3",
   "version": "3.10.12"
  },
  "widgets": {
   "application/vnd.jupyter.widget-state+json": {
    "state": {
     "07e9e6c0ec1c4d508dcea9a114ac0b0a": {
      "model_module": "jupyter-leaflet",
      "model_module_version": "2.0.0",
      "model_name": "LeafletMapStyleModel",
      "state": {
       "_model_module": "jupyter-leaflet",
       "_model_name": "LeafletMapStyleModel",
       "_view_name": "ErrorWidgetView",
       "cursor": "move",
       "error": {},
       "msg": "Failed to load model class 'LeafletMapStyleModel' from module 'jupyter-leaflet'"
      }
     },
     "11daaa1c092d4087a034542d7be112d8": {
      "model_module": "jupyter-leaflet",
      "model_module_version": "2.0.0",
      "model_name": "LeafletTileLayerModel",
      "state": {
       "_model_module": "jupyter-leaflet",
       "_model_name": "LeafletTileLayerModel",
       "_view_name": "ErrorWidgetView",
       "attribution": "&copy; <a href=\"https://www.openstreetmap.org/copyright\">OpenStreetMap</a> contributors",
       "base": true,
       "bottom": true,
       "bounds": null,
       "detect_retina": false,
       "error": {},
       "loading": false,
       "max_native_zoom": null,
       "max_zoom": 19,
       "min_native_zoom": null,
       "min_zoom": 1,
       "msg": "Failed to load model class 'LeafletTileLayerModel' from module 'jupyter-leaflet'",
       "name": "OpenStreetMap.Mapnik",
       "no_wrap": false,
       "opacity": 1,
       "options": [
        "attribution",
        "bounds",
        "detect_retina",
        "max_native_zoom",
        "max_zoom",
        "min_native_zoom",
        "min_zoom",
        "no_wrap",
        "tile_size",
        "tms",
        "zoom_offset"
       ],
       "pane": "",
       "popup": null,
       "popup_max_height": null,
       "popup_max_width": 300,
       "popup_min_width": 50,
       "show_loading": false,
       "subitems": [],
       "tile_size": 256,
       "tms": false,
       "url": "https://tile.openstreetmap.org/{z}/{x}/{y}.png",
       "visible": true,
       "zoom_offset": 0
      }
     },
     "17ce13191ef8482596ea4952c7a52bc9": {
      "model_module": "jupyter-leaflet",
      "model_module_version": "2.0.0",
      "model_name": "LeafletAttributionControlModel",
      "state": {
       "_model_module": "jupyter-leaflet",
       "_model_name": "LeafletAttributionControlModel",
       "_view_name": "ErrorWidgetView",
       "error": {},
       "msg": "Failed to load model class 'LeafletAttributionControlModel' from module 'jupyter-leaflet'",
       "options": [
        "position",
        "prefix"
       ],
       "position": "bottomright",
       "prefix": "ipyleaflet"
      }
     },
     "23a5c26c626a4d0a80140ed91ac45b31": {
      "model_module": "jupyter-leaflet",
      "model_module_version": "2.0.0",
      "model_name": "LeafletMapStyleModel",
      "state": {
       "_model_module": "jupyter-leaflet",
       "_model_name": "LeafletMapStyleModel",
       "_view_name": "ErrorWidgetView",
       "cursor": "grab",
       "error": {},
       "msg": "Failed to load model class 'LeafletMapStyleModel' from module 'jupyter-leaflet'"
      }
     },
     "4adf518de8f14f06a6a26b1da007107c": {
      "model_module": "jupyter-leaflet",
      "model_module_version": "2.0.0",
      "model_name": "LeafletZoomControlModel",
      "state": {
       "_model_module": "jupyter-leaflet",
       "_model_name": "LeafletZoomControlModel",
       "_view_name": "ErrorWidgetView",
       "error": {},
       "msg": "Failed to load model class 'LeafletZoomControlModel' from module 'jupyter-leaflet'",
       "options": [
        "position",
        "zoom_in_text",
        "zoom_in_title",
        "zoom_out_text",
        "zoom_out_title"
       ],
       "position": "topleft",
       "zoom_in_text": "+",
       "zoom_in_title": "Zoom in",
       "zoom_out_text": "-",
       "zoom_out_title": "Zoom out"
      }
     },
     "61c564b2766a467daf09f6d22add5730": {
      "model_module": "jupyter-leaflet",
      "model_module_version": "2.0.0",
      "model_name": "LeafletMapStyleModel",
      "state": {
       "_model_module": "jupyter-leaflet",
       "_model_name": "LeafletMapStyleModel",
       "_view_name": "ErrorWidgetView",
       "cursor": "grab",
       "error": {},
       "msg": "Failed to load model class 'LeafletMapStyleModel' from module 'jupyter-leaflet'"
      }
     },
     "62fb525b1c3646ca9e6b45cb3515a0f5": {
      "model_module": "jupyter-leaflet",
      "model_module_version": "2.0.0",
      "model_name": "LeafletMapStyleModel",
      "state": {
       "_model_module": "jupyter-leaflet",
       "_model_name": "LeafletMapStyleModel",
       "_view_name": "ErrorWidgetView",
       "cursor": "move",
       "error": {},
       "msg": "Failed to load model class 'LeafletMapStyleModel' from module 'jupyter-leaflet'"
      }
     },
     "66c6ef459b264db2893c627f45bdde3a": {
      "model_module": "jupyter-leaflet",
      "model_module_version": "2.0.0",
      "model_name": "LeafletMapStyleModel",
      "state": {
       "_model_module": "jupyter-leaflet",
       "_model_name": "LeafletMapStyleModel",
       "_view_name": "ErrorWidgetView",
       "cursor": "move",
       "error": {},
       "msg": "Failed to load model class 'LeafletMapStyleModel' from module 'jupyter-leaflet'"
      }
     },
     "7caf3c5c54274e9b9d93641bdb7a9339": {
      "model_module": "jupyter-leaflet",
      "model_module_version": "2.0.0",
      "model_name": "LeafletMapStyleModel",
      "state": {
       "_model_module": "jupyter-leaflet",
       "_model_name": "LeafletMapStyleModel",
       "_view_name": "ErrorWidgetView",
       "cursor": "grab",
       "error": {},
       "msg": "Failed to load model class 'LeafletMapStyleModel' from module 'jupyter-leaflet'"
      }
     },
     "87119c6f04ac46628c069e5742f7ce08": {
      "model_module": "jupyter-leaflet",
      "model_module_version": "2.0.0",
      "model_name": "LeafletMapModel",
      "state": {
       "_model_module": "jupyter-leaflet",
       "_model_name": "LeafletMapModel",
       "_view_name": "ErrorWidgetView",
       "bottom": 0,
       "bounce_at_zoom_limits": true,
       "box_zoom": true,
       "center": [
        -2,
        20
       ],
       "close_popup_on_click": true,
       "controls": [
        "IPY_MODEL_f47067463b3a4c42b9e29e76528a5735",
        "IPY_MODEL_17ce13191ef8482596ea4952c7a52bc9"
       ],
       "crs": {
        "custom": false,
        "name": "EPSG3857"
       },
       "default_style": "IPY_MODEL_7caf3c5c54274e9b9d93641bdb7a9339",
       "double_click_zoom": true,
       "dragging": true,
       "dragging_style": "IPY_MODEL_62fb525b1c3646ca9e6b45cb3515a0f5",
       "east": 0,
       "error": {},
       "fullscreen": false,
       "inertia": true,
       "inertia_deceleration": 3000,
       "inertia_max_speed": 1500,
       "interpolation": "bilinear",
       "keyboard": true,
       "keyboard_pan_offset": 80,
       "keyboard_zoom_offset": 1,
       "layers": [
        "IPY_MODEL_11daaa1c092d4087a034542d7be112d8"
       ],
       "layout": "IPY_MODEL_9cfcb8f8e7aa45b6b3b944a6aae9f28e",
       "left": 9007199254740991,
       "max_zoom": null,
       "min_zoom": null,
       "modisdate": "2022-12-22",
       "msg": "Failed to load model class 'LeafletMapModel' from module 'jupyter-leaflet'",
       "north": 0,
       "options": [
        "bounce_at_zoom_limits",
        "box_zoom",
        "center",
        "close_popup_on_click",
        "double_click_zoom",
        "dragging",
        "fullscreen",
        "inertia",
        "inertia_deceleration",
        "inertia_max_speed",
        "interpolation",
        "keyboard",
        "keyboard_pan_offset",
        "keyboard_zoom_offset",
        "max_zoom",
        "min_zoom",
        "prefer_canvas",
        "scroll_wheel_zoom",
        "tap",
        "tap_tolerance",
        "touch_zoom",
        "world_copy_jump",
        "zoom",
        "zoom_animation_threshold",
        "zoom_delta",
        "zoom_snap"
       ],
       "panes": {},
       "prefer_canvas": false,
       "right": 0,
       "scroll_wheel_zoom": false,
       "south": 0,
       "style": "IPY_MODEL_cdb18012556e4a548d1696617b42e52a",
       "tap": true,
       "tap_tolerance": 15,
       "top": 9007199254740991,
       "touch_zoom": true,
       "west": 0,
       "window_url": "",
       "world_copy_jump": false,
       "zoom": 3,
       "zoom_animation_threshold": 4,
       "zoom_delta": 1,
       "zoom_snap": 1
      }
     },
     "9aeaff05b3cd4ad481b58cba4903c26a": {
      "model_module": "jupyter-leaflet",
      "model_module_version": "2.0.0",
      "model_name": "LeafletMapStyleModel",
      "state": {
       "_model_module": "jupyter-leaflet",
       "_model_name": "LeafletMapStyleModel",
       "_view_name": "ErrorWidgetView",
       "cursor": "grab",
       "error": {},
       "msg": "Failed to load model class 'LeafletMapStyleModel' from module 'jupyter-leaflet'"
      }
     },
     "aafb5325f81749efa3385c31feff90b0": {
      "model_module": "jupyter-leaflet",
      "model_module_version": "2.0.0",
      "model_name": "LeafletZoomControlModel",
      "state": {
       "_model_module": "jupyter-leaflet",
       "_model_name": "LeafletZoomControlModel",
       "_view_name": "ErrorWidgetView",
       "error": {},
       "msg": "Failed to load model class 'LeafletZoomControlModel' from module 'jupyter-leaflet'",
       "options": [
        "position",
        "zoom_in_text",
        "zoom_in_title",
        "zoom_out_text",
        "zoom_out_title"
       ],
       "position": "topleft",
       "zoom_in_text": "+",
       "zoom_in_title": "Zoom in",
       "zoom_out_text": "-",
       "zoom_out_title": "Zoom out"
      }
     },
     "c25a9ad7c44e4fa194988bd6143b4a38": {
      "model_module": "jupyter-leaflet",
      "model_module_version": "2.0.0",
      "model_name": "LeafletAttributionControlModel",
      "state": {
       "_model_module": "jupyter-leaflet",
       "_model_name": "LeafletAttributionControlModel",
       "_view_name": "ErrorWidgetView",
       "error": {},
       "msg": "Failed to load model class 'LeafletAttributionControlModel' from module 'jupyter-leaflet'",
       "options": [
        "position",
        "prefix"
       ],
       "position": "bottomright",
       "prefix": "ipyleaflet"
      }
     },
     "cdb18012556e4a548d1696617b42e52a": {
      "model_module": "jupyter-leaflet",
      "model_module_version": "2.0.0",
      "model_name": "LeafletMapStyleModel",
      "state": {
       "_model_module": "jupyter-leaflet",
       "_model_name": "LeafletMapStyleModel",
       "_view_name": "ErrorWidgetView",
       "cursor": "grab",
       "error": {},
       "msg": "Failed to load model class 'LeafletMapStyleModel' from module 'jupyter-leaflet'"
      }
     },
     "cdb3d44557d74e8494dd753f4461fa4f": {
      "model_module": "jupyter-leaflet",
      "model_module_version": "2.0.0",
      "model_name": "LeafletMapModel",
      "state": {
       "_model_module": "jupyter-leaflet",
       "_model_name": "LeafletMapModel",
       "_view_name": "ErrorWidgetView",
       "bottom": 0,
       "bounce_at_zoom_limits": true,
       "box_zoom": true,
       "center": [
        -2,
        20
       ],
       "close_popup_on_click": true,
       "controls": [
        "IPY_MODEL_aafb5325f81749efa3385c31feff90b0",
        "IPY_MODEL_e58d799116564ba082f693bab2ca6d26"
       ],
       "crs": {
        "custom": false,
        "name": "EPSG3857"
       },
       "default_style": "IPY_MODEL_d2fb36e653324e9fb8d26258bd1cd46e",
       "double_click_zoom": true,
       "dragging": true,
       "dragging_style": "IPY_MODEL_07e9e6c0ec1c4d508dcea9a114ac0b0a",
       "east": 0,
       "error": {},
       "fullscreen": false,
       "inertia": true,
       "inertia_deceleration": 3000,
       "inertia_max_speed": 1500,
       "interpolation": "bilinear",
       "keyboard": true,
       "keyboard_pan_offset": 80,
       "keyboard_zoom_offset": 1,
       "layers": [
        "IPY_MODEL_f000402c088144dabd3ea1d8506af240"
       ],
       "layout": "IPY_MODEL_c047232214b9406590eee50bbe5401d2",
       "left": 9007199254740991,
       "max_zoom": null,
       "min_zoom": null,
       "modisdate": "2022-12-22",
       "msg": "Failed to load model class 'LeafletMapModel' from module 'jupyter-leaflet'",
       "north": 0,
       "options": [
        "bounce_at_zoom_limits",
        "box_zoom",
        "center",
        "close_popup_on_click",
        "double_click_zoom",
        "dragging",
        "fullscreen",
        "inertia",
        "inertia_deceleration",
        "inertia_max_speed",
        "interpolation",
        "keyboard",
        "keyboard_pan_offset",
        "keyboard_zoom_offset",
        "max_zoom",
        "min_zoom",
        "prefer_canvas",
        "scroll_wheel_zoom",
        "tap",
        "tap_tolerance",
        "touch_zoom",
        "world_copy_jump",
        "zoom",
        "zoom_animation_threshold",
        "zoom_delta",
        "zoom_snap"
       ],
       "panes": {},
       "prefer_canvas": false,
       "right": 0,
       "scroll_wheel_zoom": false,
       "south": 0,
       "style": "IPY_MODEL_23a5c26c626a4d0a80140ed91ac45b31",
       "tap": true,
       "tap_tolerance": 15,
       "top": 9007199254740991,
       "touch_zoom": true,
       "west": 0,
       "window_url": "",
       "world_copy_jump": false,
       "zoom": 3,
       "zoom_animation_threshold": 4,
       "zoom_delta": 1,
       "zoom_snap": 1
      }
     },
     "d2fb36e653324e9fb8d26258bd1cd46e": {
      "model_module": "jupyter-leaflet",
      "model_module_version": "2.0.0",
      "model_name": "LeafletMapStyleModel",
      "state": {
       "_model_module": "jupyter-leaflet",
       "_model_name": "LeafletMapStyleModel",
       "_view_name": "ErrorWidgetView",
       "cursor": "grab",
       "error": {},
       "msg": "Failed to load model class 'LeafletMapStyleModel' from module 'jupyter-leaflet'"
      }
     },
     "e58d799116564ba082f693bab2ca6d26": {
      "model_module": "jupyter-leaflet",
      "model_module_version": "2.0.0",
      "model_name": "LeafletAttributionControlModel",
      "state": {
       "_model_module": "jupyter-leaflet",
       "_model_name": "LeafletAttributionControlModel",
       "_view_name": "ErrorWidgetView",
       "error": {},
       "msg": "Failed to load model class 'LeafletAttributionControlModel' from module 'jupyter-leaflet'",
       "options": [
        "position",
        "prefix"
       ],
       "position": "bottomright",
       "prefix": "ipyleaflet"
      }
     },
     "e59db8352cbb4a5c9d9ecaed8611159e": {
      "model_module": "jupyter-leaflet",
      "model_module_version": "2.0.0",
      "model_name": "LeafletMapModel",
      "state": {
       "_model_module": "jupyter-leaflet",
       "_model_name": "LeafletMapModel",
       "_view_name": "ErrorWidgetView",
       "bottom": 0,
       "bounce_at_zoom_limits": true,
       "box_zoom": true,
       "center": [
        -2,
        20
       ],
       "close_popup_on_click": true,
       "controls": [
        "IPY_MODEL_4adf518de8f14f06a6a26b1da007107c",
        "IPY_MODEL_c25a9ad7c44e4fa194988bd6143b4a38"
       ],
       "crs": {
        "custom": false,
        "name": "EPSG3857"
       },
       "default_style": "IPY_MODEL_9aeaff05b3cd4ad481b58cba4903c26a",
       "double_click_zoom": true,
       "dragging": true,
       "dragging_style": "IPY_MODEL_66c6ef459b264db2893c627f45bdde3a",
       "east": 0,
       "error": {},
       "fullscreen": false,
       "inertia": true,
       "inertia_deceleration": 3000,
       "inertia_max_speed": 1500,
       "interpolation": "bilinear",
       "keyboard": true,
       "keyboard_pan_offset": 80,
       "keyboard_zoom_offset": 1,
       "layers": [
        "IPY_MODEL_f72eb35d576b4a51ab743a0427bdab68"
       ],
       "layout": "IPY_MODEL_a44bea80c0824335ba071b309104e454",
       "left": 9007199254740991,
       "max_zoom": null,
       "min_zoom": null,
       "modisdate": "2022-12-22",
       "msg": "Failed to load model class 'LeafletMapModel' from module 'jupyter-leaflet'",
       "north": 0,
       "options": [
        "bounce_at_zoom_limits",
        "box_zoom",
        "center",
        "close_popup_on_click",
        "double_click_zoom",
        "dragging",
        "fullscreen",
        "inertia",
        "inertia_deceleration",
        "inertia_max_speed",
        "interpolation",
        "keyboard",
        "keyboard_pan_offset",
        "keyboard_zoom_offset",
        "max_zoom",
        "min_zoom",
        "prefer_canvas",
        "scroll_wheel_zoom",
        "tap",
        "tap_tolerance",
        "touch_zoom",
        "world_copy_jump",
        "zoom",
        "zoom_animation_threshold",
        "zoom_delta",
        "zoom_snap"
       ],
       "panes": {},
       "prefer_canvas": false,
       "right": 0,
       "scroll_wheel_zoom": false,
       "south": 0,
       "style": "IPY_MODEL_61c564b2766a467daf09f6d22add5730",
       "tap": true,
       "tap_tolerance": 15,
       "top": 9007199254740991,
       "touch_zoom": true,
       "west": 0,
       "window_url": "",
       "world_copy_jump": false,
       "zoom": 3,
       "zoom_animation_threshold": 4,
       "zoom_delta": 1,
       "zoom_snap": 1
      }
     },
     "f000402c088144dabd3ea1d8506af240": {
      "model_module": "jupyter-leaflet",
      "model_module_version": "2.0.0",
      "model_name": "LeafletTileLayerModel",
      "state": {
       "_model_module": "jupyter-leaflet",
       "_model_name": "LeafletTileLayerModel",
       "_view_name": "ErrorWidgetView",
       "attribution": "&copy; <a href=\"https://www.openstreetmap.org/copyright\">OpenStreetMap</a> contributors",
       "base": true,
       "bottom": true,
       "bounds": null,
       "detect_retina": false,
       "error": {},
       "loading": false,
       "max_native_zoom": null,
       "max_zoom": 19,
       "min_native_zoom": null,
       "min_zoom": 1,
       "msg": "Failed to load model class 'LeafletTileLayerModel' from module 'jupyter-leaflet'",
       "name": "OpenStreetMap.Mapnik",
       "no_wrap": false,
       "opacity": 1,
       "options": [
        "attribution",
        "bounds",
        "detect_retina",
        "max_native_zoom",
        "max_zoom",
        "min_native_zoom",
        "min_zoom",
        "no_wrap",
        "tile_size",
        "tms",
        "zoom_offset"
       ],
       "pane": "",
       "popup": null,
       "popup_max_height": null,
       "popup_max_width": 300,
       "popup_min_width": 50,
       "show_loading": false,
       "subitems": [],
       "tile_size": 256,
       "tms": false,
       "url": "https://tile.openstreetmap.org/{z}/{x}/{y}.png",
       "visible": true,
       "zoom_offset": 0
      }
     },
     "f47067463b3a4c42b9e29e76528a5735": {
      "model_module": "jupyter-leaflet",
      "model_module_version": "2.0.0",
      "model_name": "LeafletZoomControlModel",
      "state": {
       "_model_module": "jupyter-leaflet",
       "_model_name": "LeafletZoomControlModel",
       "_view_name": "ErrorWidgetView",
       "error": {},
       "msg": "Failed to load model class 'LeafletZoomControlModel' from module 'jupyter-leaflet'",
       "options": [
        "position",
        "zoom_in_text",
        "zoom_in_title",
        "zoom_out_text",
        "zoom_out_title"
       ],
       "position": "topleft",
       "zoom_in_text": "+",
       "zoom_in_title": "Zoom in",
       "zoom_out_text": "-",
       "zoom_out_title": "Zoom out"
      }
     },
     "f72eb35d576b4a51ab743a0427bdab68": {
      "model_module": "jupyter-leaflet",
      "model_module_version": "2.0.0",
      "model_name": "LeafletTileLayerModel",
      "state": {
       "_model_module": "jupyter-leaflet",
       "_model_name": "LeafletTileLayerModel",
       "_view_name": "ErrorWidgetView",
       "attribution": "&copy; <a href=\"https://www.openstreetmap.org/copyright\">OpenStreetMap</a> contributors",
       "base": true,
       "bottom": true,
       "bounds": null,
       "detect_retina": false,
       "error": {},
       "loading": false,
       "max_native_zoom": null,
       "max_zoom": 19,
       "min_native_zoom": null,
       "min_zoom": 1,
       "msg": "Failed to load model class 'LeafletTileLayerModel' from module 'jupyter-leaflet'",
       "name": "OpenStreetMap.Mapnik",
       "no_wrap": false,
       "opacity": 1,
       "options": [
        "attribution",
        "bounds",
        "detect_retina",
        "max_native_zoom",
        "max_zoom",
        "min_native_zoom",
        "min_zoom",
        "no_wrap",
        "tile_size",
        "tms",
        "zoom_offset"
       ],
       "pane": "",
       "popup": null,
       "popup_max_height": null,
       "popup_max_width": 300,
       "popup_min_width": 50,
       "show_loading": false,
       "subitems": [],
       "tile_size": 256,
       "tms": false,
       "url": "https://tile.openstreetmap.org/{z}/{x}/{y}.png",
       "visible": true,
       "zoom_offset": 0
      }
     }
    },
    "version_major": 2,
    "version_minor": 0
   }
  }
 },
 "nbformat": 4,
 "nbformat_minor": 5
}
