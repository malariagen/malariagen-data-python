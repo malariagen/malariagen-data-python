{
 "cells": [
  {
   "cell_type": "code",
   "execution_count": null,
   "id": "ced974cd",
   "metadata": {
    "tags": []
   },
   "outputs": [],
   "source": [
    "import numpy as np"
   ]
  },
  {
   "cell_type": "code",
   "execution_count": null,
   "id": "9d17216f",
   "metadata": {
    "tags": []
   },
   "outputs": [],
   "source": [
    "import malariagen_data"
   ]
  },
  {
   "cell_type": "markdown",
   "id": "a67ec21b",
   "metadata": {},
   "source": [
    "## Ag3"
   ]
  },
  {
   "cell_type": "code",
   "execution_count": null,
   "id": "65b7ff2f",
   "metadata": {
    "tags": []
   },
   "outputs": [],
   "source": [
    "ag3 = malariagen_data.Ag3(\n",
    "    \"simplecache::gs://vo_agam_release_master_us_central1\",\n",
    "    simplecache=dict(cache_storage=\"../gcs_cache\"),\n",
    "    cohorts_analysis=\"20230516\",\n",
    "    results_cache=\"results_cache\",\n",
    ")\n",
    "ag3"
   ]
  },
  {
   "cell_type": "code",
   "execution_count": null,
   "id": "ac276861-43fb-4f09-b004-57487d75aa41",
   "metadata": {
    "tags": []
   },
   "outputs": [],
   "source": [
    "!rm -rf results_cache"
   ]
  },
  {
   "cell_type": "code",
   "execution_count": null,
   "id": "a7c10446",
   "metadata": {
    "tags": []
   },
   "outputs": [],
   "source": [
    "coh1 = \"ML-2_Kati_colu_2014\"\n",
    "coh2 = \"ML-2_Kati_gamb_2014\"\n",
    "coh1_query = f\"cohort_admin2_year == '{coh1}'\"\n",
    "coh2_query = f\"cohort_admin2_year == '{coh2}'\"\n",
    "contig = \"2L\"\n",
    "contigs = \"2RL\""
   ]
  },
  {
   "cell_type": "code",
   "execution_count": null,
   "id": "b0d308fe-4e8a-412f-9487-7f1c29d3323a",
   "metadata": {
    "tags": []
   },
   "outputs": [],
   "source": [
    "ag3.plot_h12_calibration(\n",
    "    contig=contig,\n",
    "    analysis=\"gamb_colu\",\n",
    "    sample_query=coh1_query,\n",
    "    sample_sets=\"3.0\",\n",
    ")"
   ]
  },
  {
   "cell_type": "code",
   "execution_count": null,
   "id": "63cb17ff",
   "metadata": {
    "tags": []
   },
   "outputs": [],
   "source": [
    "ag3.plot_h12_gwss(\n",
    "    contig=contig,\n",
    "    analysis=\"gamb_colu\",\n",
    "    window_size=2000,\n",
    "    sample_query=coh1_query,\n",
    "    sample_sets=\"3.0\",\n",
    "    cohort_size=20,\n",
    ")"
   ]
  },
  {
   "cell_type": "code",
   "execution_count": null,
   "id": "4470d24c-8cf1-4d22-b774-0121b4560e27",
   "metadata": {},
   "outputs": [],
   "source": [
    "ag3.plot_h12_gwss(\n",
    "    contig=contigs,\n",
    "    analysis=\"gamb_colu\",\n",
    "    window_size=2000,\n",
    "    sample_query=coh1_query,\n",
    "    sample_sets=\"3.0\",\n",
    "    cohort_size=20,\n",
    ")"
   ]
  },
  {
   "cell_type": "code",
   "execution_count": null,
   "id": "cd125828",
   "metadata": {
    "tags": []
   },
   "outputs": [],
   "source": [
    "ag3.plot_h12_gwss(\n",
    "    contig=contig,\n",
    "    analysis=\"gamb_colu\",\n",
    "    window_size=2000,\n",
    "    sample_query=coh1_query,\n",
    "    sample_sets=\"3.0\",\n",
    "    cohort_size=20,\n",
    "    output_backend=\"canvas\",\n",
    ")"
   ]
  },
  {
   "cell_type": "code",
   "execution_count": null,
   "id": "5716e777",
   "metadata": {
    "tags": []
   },
   "outputs": [],
   "source": [
    "ag3.plot_h12_gwss(\n",
    "    contig=contig,\n",
    "    analysis=\"gamb_colu\",\n",
    "    window_size=2000,\n",
    "    sample_query=coh2_query,\n",
    "    sample_sets=\"3.0\",\n",
    "    cohort_size=20,\n",
    ")"
   ]
  },
  {
   "cell_type": "code",
   "execution_count": null,
   "id": "fe11bb35",
   "metadata": {
    "tags": []
   },
   "outputs": [],
   "source": [
    "ag3.plot_h1x_gwss(\n",
    "    contig=contig,\n",
    "    window_size=2000,\n",
    "    cohort1_query=coh1_query,\n",
    "    cohort2_query=coh2_query,\n",
    "    sample_sets=\"3.0\",\n",
    "    analysis=\"gamb_colu\",\n",
    "    cohort_size=20,\n",
    ")"
   ]
  },
  {
   "cell_type": "code",
   "execution_count": null,
   "id": "b4b7a8d2-95d0-48dc-a32f-3bc96aacfb9f",
   "metadata": {},
   "outputs": [],
   "source": [
    "ag3.plot_h1x_gwss(\n",
    "    contig=contigs,\n",
    "    window_size=2000,\n",
    "    cohort1_query=coh1_query,\n",
    "    cohort2_query=coh2_query,\n",
    "    sample_sets=\"3.0\",\n",
    "    analysis=\"gamb_colu\",\n",
    "    cohort_size=20,\n",
    "    contig_colors=[\"red\", \"green\"]\n",
    ")"
   ]
  },
  {
   "cell_type": "code",
   "execution_count": null,
   "id": "73e0e746-add1-4774-bced-461c9742bd95",
   "metadata": {
    "tags": []
   },
   "outputs": [],
   "source": [
    "ag3.count_samples(sample_sets=\"AG1000G-ML-A\")"
   ]
  },
  {
   "cell_type": "code",
   "execution_count": null,
   "id": "67f48075-6b79-4722-82f7-278bd0868410",
   "metadata": {
    "tags": []
   },
   "outputs": [],
   "source": [
    "ag3.plot_h12_gwss_multi_overlay(\n",
    "    contig=contig,\n",
    "    window_size=2000,\n",
    "    cohorts=\"admin2_year\",\n",
    "    sample_sets=\"AG1000G-ML-A\",\n",
    "    analysis=\"gamb_colu\",\n",
    "    cohort_size=20,\n",
    ")"
   ]
  },
  {
   "cell_type": "code",
   "execution_count": null,
   "id": "c3e4622b-31e9-444a-8a09-1590862709fe",
   "metadata": {
    "tags": []
   },
   "outputs": [],
   "source": [
    "ag3.plot_h12_gwss_multi_panel(\n",
    "    contig=contig,\n",
    "    window_size=2000,\n",
    "    cohorts=\"admin2_year\",\n",
    "    sample_sets=\"AG1000G-ML-A\",\n",
    "    analysis=\"gamb_colu\",\n",
    "    cohort_size=20,\n",
    ")"
   ]
  },
  {
   "cell_type": "markdown",
   "id": "2801861c",
   "metadata": {},
   "source": [
    "## Af1"
   ]
  },
  {
   "cell_type": "code",
   "execution_count": null,
   "id": "9144452f",
   "metadata": {},
   "outputs": [],
   "source": [
    "af1 = malariagen_data.Af1(\n",
    "    \"simplecache::gs://vo_afun_release_master_us_central1\",\n",
    "    simplecache=dict(cache_storage=\"../gcs_cache\"),\n",
    "    cohorts_analysis=\"20230823\",\n",
    "    results_cache=\"results_cache\",\n",
    ")\n",
    "af1"
   ]
  },
  {
   "cell_type": "code",
   "execution_count": null,
   "id": "c5d835e1",
   "metadata": {},
   "outputs": [],
   "source": [
    "coh1 = \"GH-NP_Kumbungu_fune_2017\"\n",
    "coh2 = \"GH-AH_Adansi-Akrofuom_fune_2014\"\n",
    "coh1_query = f\"cohort_admin2_year == '{coh1}'\"\n",
    "coh2_query = f\"cohort_admin2_year == '{coh2}'\"\n",
    "contig = \"2RL\""
   ]
  },
  {
   "cell_type": "code",
   "execution_count": null,
   "id": "1aaa0573-723c-43b1-baea-750172c4dabc",
   "metadata": {},
   "outputs": [],
   "source": []
  },
  {
   "cell_type": "code",
   "execution_count": null,
   "id": "ffc7dc06-6bdb-42d2-a1fb-878612d10dd1",
   "metadata": {},
   "outputs": [],
   "source": []
  },
  {
   "cell_type": "code",
   "execution_count": null,
   "id": "89b1cd80",
   "metadata": {},
   "outputs": [],
   "source": [
    "af1.plot_h12_gwss(\n",
    "    contig=contig,\n",
    "    window_size=2000,\n",
    "    sample_query=coh1_query,\n",
    "    sample_sets=\"1.0\",\n",
    "    cohort_size=20,\n",
    ")"
   ]
  },
  {
   "cell_type": "code",
   "execution_count": null,
   "id": "82cefa93",
   "metadata": {},
   "outputs": [],
   "source": [
    "af1.plot_h12_gwss(\n",
    "    contig=contig,\n",
    "    window_size=2000,\n",
    "    sample_query=coh2_query,\n",
    "    sample_sets=\"1.0\",\n",
    "    cohort_size=20,\n",
    ")"
   ]
  },
  {
   "cell_type": "code",
   "execution_count": null,
   "id": "981ba052-1960-4f2e-ba91-72ac442ca178",
   "metadata": {
    "tags": []
   },
   "outputs": [],
   "source": [
    "cohorts = {\n",
    "    \"cohort1\": coh1_query,\n",
    "    \"cohort2\": coh2_query,\n",
    "}\n",
    "window_size = {\n",
    "    \"cohort1\": 2000,\n",
    "    \"cohort2\": 1500,\n",
    "}"
   ]
  },
  {
   "cell_type": "code",
   "execution_count": null,
   "id": "e3296b4c-cd72-436f-b21a-d210c7520c39",
   "metadata": {
    "tags": []
   },
   "outputs": [],
   "source": [
    "af1.plot_h12_gwss_multi_overlay(\n",
    "    contig=contig,\n",
    "    window_size=window_size,\n",
    "    cohorts=cohorts,\n",
    "    sample_sets=\"1.0\",\n",
    "    cohort_size=20,\n",
    ")"
   ]
  },
  {
   "cell_type": "code",
   "execution_count": null,
   "id": "1a60cc83-cf30-4152-9eb0-dae7c00ac41b",
   "metadata": {
    "tags": []
   },
   "outputs": [],
   "source": [
    "af1.plot_h12_gwss_multi_panel(\n",
    "    contig=contig,\n",
    "    window_size=window_size,\n",
    "    cohorts=cohorts,\n",
    "    sample_sets=\"1.0\",\n",
    "    cohort_size=20,\n",
    ")"
   ]
  },
  {
   "cell_type": "code",
   "execution_count": null,
   "id": "a3b1c22e",
   "metadata": {},
   "outputs": [],
   "source": [
    "af1.plot_h1x_gwss(\n",
    "    contig=contig,\n",
    "    window_size=2000,\n",
    "    cohort1_query=coh1_query,\n",
    "    cohort2_query=coh2_query,\n",
    "    sample_sets=\"1.0\",\n",
    "    cohort_size=20,\n",
    ")"
   ]
  }
 ],
 "metadata": {
  "environment": {
   "kernel": "python3",
   "name": "workbench-notebooks.m125",
   "type": "gcloud",
   "uri": "us-docker.pkg.dev/deeplearning-platform-release/gcr.io/workbench-notebooks:m125"
  },
  "kernelspec": {
   "display_name": "Python 3 (ipykernel)",
   "language": "python",
   "name": "python3"
  },
  "language_info": {
   "codemirror_mode": {
    "name": "ipython",
    "version": 3
   },
   "file_extension": ".py",
   "mimetype": "text/x-python",
   "name": "python",
   "nbconvert_exporter": "python",
   "pygments_lexer": "ipython3",
   "version": "3.10.11"
  },
  "vscode": {
   "interpreter": {
    "hash": "3b9ddb1005cd06989fd869b9e3d566470f1be01faa610bb17d64e58e32302e8b"
   }
  },
  "widgets": {
   "application/vnd.jupyter.widget-state+json": {
    "state": {},
    "version_major": 2,
    "version_minor": 0
   }
  }
 },
 "nbformat": 4,
 "nbformat_minor": 5
}
