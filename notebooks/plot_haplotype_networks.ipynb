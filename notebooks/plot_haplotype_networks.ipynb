{
 "cells": [
  {
   "cell_type": "code",
   "execution_count": null,
   "id": "9de62268",
   "metadata": {},
   "outputs": [],
   "source": [
    "import malariagen_data"
   ]
  },
  {
   "attachments": {},
   "cell_type": "markdown",
   "id": "dcfe9fab",
   "metadata": {},
   "source": [
    "## Ag3"
   ]
  },
  {
   "cell_type": "code",
   "execution_count": null,
   "id": "0ebfe96b",
   "metadata": {},
   "outputs": [],
   "source": [
    "ag3 = malariagen_data.Ag3(\n",
    "    \"simplecache::gs://vo_agam_release_master_us_central1\",\n",
    "    simplecache=dict(cache_storage=\"../gcs_cache\"),\n",
    "    debug=False,\n",
    ")\n",
    "ag3"
   ]
  },
  {
   "attachments": {},
   "cell_type": "markdown",
   "id": "e3ffe116",
   "metadata": {},
   "source": [
    "N.B., manually specifying the server_port parameter doesn't seem to be necessary on colab, but is needed when running locally via Jupyter notebook, otherwise get \"Address already in use\" error and cannot run multiple plots in same notebook. "
   ]
  },
  {
   "cell_type": "code",
   "execution_count": null,
   "id": "81ceebb1-2316-4a0f-bf85-55cc561ab00c",
   "metadata": {},
   "outputs": [],
   "source": [
    "ag3.plot_haplotype_network(\n",
    "    region=\"2L:2,358,158-2,431,617\",\n",
    "    analysis=\"gamb_colu\",\n",
    "    sample_query=\"taxon == 'coluzzii'\",\n",
    "    sample_sets=\"3.0\",\n",
    "    color=\"country\",\n",
    "    max_dist=2,\n",
    ")"
   ]
  },
  {
   "cell_type": "code",
   "execution_count": null,
   "id": "3206fc04-1074-4f6c-8130-81dadff05c72",
   "metadata": {},
   "outputs": [],
   "source": [
    "ag3.plot_haplotype_network(\n",
    "    region=\"2L:2,358,158-2,431,617\",\n",
    "    analysis=\"gamb_colu\",\n",
    "    sample_query=\"taxon == 'coluzzii'\",\n",
    "    sample_sets=\"3.0\",\n",
    "    color=\"country\",\n",
    "    max_dist=2,\n",
    "    server_mode=\"external\",\n",
    ")"
   ]
  },
  {
   "attachments": {},
   "cell_type": "markdown",
   "id": "bc416bb4",
   "metadata": {},
   "source": [
    "## Af1"
   ]
  },
  {
   "cell_type": "code",
   "execution_count": null,
   "id": "5e601014",
   "metadata": {},
   "outputs": [],
   "source": [
    "af1 = malariagen_data.Af1(\n",
    "    \"simplecache::gs://vo_afun_release_master_us_central1\",\n",
    "    simplecache=dict(cache_storage=\"../gcs_cache\"),\n",
    "    debug=False,\n",
    ")\n",
    "af1"
   ]
  },
  {
   "cell_type": "code",
   "execution_count": null,
   "id": "6b6f149e",
   "metadata": {},
   "outputs": [],
   "source": [
    "af1.plot_haplotype_network(\n",
    "    region=\"2RL:2,358,158-2,431,617\",\n",
    "    sample_query=\"country == 'Ghana'\",\n",
    "    sample_sets=\"1.0\",\n",
    "    color=\"sample_set\",\n",
    "    max_dist=2,\n",
    "    height=500,\n",
    "    width=\"90%\",\n",
    ")"
   ]
  },
  {
   "cell_type": "code",
   "execution_count": null,
   "id": "42af79bc-35a6-4c96-ae5b-62bd46a30ad1",
   "metadata": {},
   "outputs": [],
   "source": []
  }
 ],
 "metadata": {
  "kernelspec": {
   "display_name": "Python 3 (ipykernel)",
   "language": "python",
   "name": "python3"
  },
  "language_info": {
   "codemirror_mode": {
    "name": "ipython",
    "version": 3
   },
   "file_extension": ".py",
   "mimetype": "text/x-python",
   "name": "python",
   "nbconvert_exporter": "python",
   "pygments_lexer": "ipython3",
   "version": "3.10.12"
  },
  "vscode": {
   "interpreter": {
    "hash": "3b9ddb1005cd06989fd869b9e3d566470f1be01faa610bb17d64e58e32302e8b"
   }
  },
  "widgets": {
   "application/vnd.jupyter.widget-state+json": {
    "state": {},
    "version_major": 2,
    "version_minor": 0
   }
  }
 },
 "nbformat": 4,
 "nbformat_minor": 5
}
