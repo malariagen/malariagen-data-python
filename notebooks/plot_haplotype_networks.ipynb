{
 "cells": [
  {
   "cell_type": "markdown",
   "id": "f6b86889",
   "metadata": {},
   "source": [
    "# Haplotype Network Plotting Examples\n",
    "This notebook demonstrates the `plot_haplotype_network` function from the `malariagen_data` package, showcasing different ways to use the `color` parameter to visualize haplotype networks."
   ]
  },
  {
   "cell_type": "code",
   "execution_count": null,
   "id": "1cadfacf",
   "metadata": {},
   "outputs": [],
   "source": [
    "import malariagen_data"
   ]
  },
  {
   "attachments": {},
   "cell_type": "markdown",
   "id": "dcfe9fab",
   "metadata": {},
   "source": [
    "## Ag3"
   ]
  },
  {
   "cell_type": "code",
   "execution_count": null,
   "id": "0ebfe96b",
   "metadata": {},
   "outputs": [],
   "source": [
    "# Initialize Ag3 instance\n",
    "ag3 = malariagen_data.Ag3(\n",
    "    \"simplecache::gs://vo_agam_release_master_us_central1\",\n",
    "    simplecache=dict(cache_storage=\"../gcs_cache\"),\n",
    "    debug=False,\n",
    ")\n",
    "ag3"
   ]
  },
  {
   "attachments": {},
   "cell_type": "markdown",
   "id": "e3ffe116",
   "metadata": {},
   "source": [
    "N.B., manually specifying the server_port parameter doesn't seem to be necessary on colab, but is needed when running locally via Jupyter notebook, otherwise get \"Address already in use\" error and cannot run multiple plots in same notebook."
   ]
  },
  {
   "cell_type": "markdown",
   "id": "e5687f24",
   "metadata": {},
   "source": [
    "## Example 1: Direct Column Name (String)\n",
    "Use a direct column name like 'country' to color nodes by country."
   ]
  },
  {
   "cell_type": "code",
   "execution_count": null,
   "id": "81ceebb1-2316-4a0f-bf85-55cc561ab00c",
   "metadata": {},
   "outputs": [],
   "source": [
    "# Plot haplotype network with country coloring\n",
    "ag3.plot_haplotype_network(\n",
    "    region=\"2L:2,358,158-2,431,617\",\n",
    "    analysis=\"gamb_colu\",\n",
    "    sample_sets=\"3.0\",\n",
    "    sample_query=\"taxon == 'coluzzii'\",\n",
    "    color=\"country\",\n",
    "    max_dist=2,\n",
    ")"
   ]
  },
  {
   "cell_type": "markdown",
   "id": "2798b459",
   "metadata": {},
   "source": [
    "## Example 2: Cohorts Prefix (String)\n",
    "In this example, `\"admin1_iso\"` is used, which the function interprets as `\"cohorts_admin1_iso\"`, a column typically available in cohort-annotated metadata."
   ]
  },
  {
   "cell_type": "code",
   "execution_count": null,
   "id": "3206fc04-1074-4f6c-8130-81dadff05c72",
   "metadata": {},
   "outputs": [],
   "source": [
    "ag3.plot_haplotype_network(\n",
    "    region=\"2L:2,358,158-2,431,617\",\n",
    "    analysis=\"gamb_colu\",\n",
    "    sample_query=\"taxon == 'coluzzii'\",\n",
    "    sample_sets=\"3.0\",\n",
    "    color=\"admin1_iso\",  # Implies \"cohorts_admin1_iso\"\n",
    "    max_dist=2,\n",
    ")"
   ]
  },
  {
   "cell_type": "markdown",
   "id": "44c6a40b",
   "metadata": {},
   "source": [
    "This example uses a dictionary to define custom color groups based on conditions applied to the `\"country\"` column."
   ]
  },
  {
   "cell_type": "code",
   "execution_count": null,
   "id": "8236cd99",
   "metadata": {},
   "outputs": [],
   "source": [
    "color_mapping = {\n",
    "    \"Ghana\": \"country == 'Ghana'\",\n",
    "    \"Other\": \"country != 'Ghana'\"\n",
    "}\n",
    "ag3.plot_haplotype_network(\n",
    "    region=\"2L:2,358,158-2,431,617\",\n",
    "    analysis=\"gamb_colu\",\n",
    "    sample_query=\"taxon == 'coluzzii'\",\n",
    "    sample_sets=\"3.0\",\n",
    "    color=color_mapping,\n",
    "    max_dist=2,\n",
    ")"
   ]
  },
  {
   "cell_type": "markdown",
   "id": "bd1962ba",
   "metadata": {},
   "source": [
    "Setting `color=None` applies the default coloring scheme, typically uniform across all nodes."
   ]
  },
  {
   "cell_type": "code",
   "execution_count": null,
   "id": "eab4c6fb",
   "metadata": {},
   "outputs": [],
   "source": [
    "ag3.plot_haplotype_network(\n",
    "    region=\"2L:2,358,158-2,431,617\",\n",
    "    analysis=\"gamb_colu\",\n",
    "    sample_query=\"taxon == 'coluzzii'\",\n",
    "    sample_sets=\"3.0\",\n",
    "    color=None,\n",
    "    max_dist=2,\n",
    ")"
   ]
  },
  {
   "cell_type": "markdown",
   "id": "20b54aa0",
   "metadata": {},
   "source": [
    "This replicates Example 1 but uses `server_mode=\"external\"`, useful for rendering plots in certain environments."
   ]
  },
  {
   "cell_type": "code",
   "execution_count": null,
   "id": "698ab518",
   "metadata": {},
   "outputs": [],
   "source": [
    "ag3.plot_haplotype_network(\n",
    "    region=\"2L:2,358,158-2,431,617\",\n",
    "    analysis=\"gamb_colu\",\n",
    "    sample_query=\"taxon == 'coluzzii'\",\n",
    "    sample_sets=\"3.0\",\n",
    "    color=\"country\",\n",
    "    max_dist=2,\n",
    "    server_mode=\"external\",\n",
    ")"
   ]
  },
  {
   "attachments": {},
   "cell_type": "markdown",
   "id": "bc416bb4",
   "metadata": {},
   "source": [
    "## Af1"
   ]
  },
  {
   "cell_type": "code",
   "execution_count": null,
   "id": "5e601014",
   "metadata": {},
   "outputs": [],
   "source": [
    "# Initialize Af1 instance\n",
    "af1 = malariagen_data.Af1(\n",
    "    \"simplecache::gs://vo_afun_release_master_us_central1\",\n",
    "    simplecache=dict(cache_storage=\"../gcs_cache\"),\n",
    "    debug=False,\n",
    ")\n",
    "af1"
   ]
  },
  {
   "cell_type": "markdown",
   "id": "d8aeab21",
   "metadata": {},
   "source": [
    "Here, nodes are colored based on the `\"sample_set\"` column."
   ]
  },
  {
   "cell_type": "code",
   "execution_count": null,
   "id": "6b6f149e",
   "metadata": {},
   "outputs": [],
   "source": [
    "af1.plot_haplotype_network(\n",
    "    region=\"2RL:2,358,158-2,431,617\",\n",
    "    sample_query=\"country == 'Ghana'\",\n",
    "    sample_sets=\"1.0\",\n",
    "    color=\"sample_set\",\n",
    "    max_dist=2,\n",
    "    height=500,\n",
    "    width=\"90%\",\n",
    ")"
   ]
  },
  {
   "cell_type": "markdown",
   "id": "b1cde074",
   "metadata": {},
   "source": [
    "Using `\"year\"` implies the function looks for `\"cohorts_year\"` in the metadata."
   ]
  },
  {
   "cell_type": "code",
   "execution_count": null,
   "id": "6d7fc155",
   "metadata": {},
   "outputs": [],
   "source": [
    "af1.plot_haplotype_network(\n",
    "    region=\"2RL:2,358,158-2,431,617\",\n",
    "    sample_query=\"country == 'Ghana'\",\n",
    "    sample_sets=\"1.0\",\n",
    "    color=\"year\",  # Implies \"cohorts_year\"\n",
    "    max_dist=2,\n",
    ")"
   ]
  },
  {
   "cell_type": "markdown",
   "id": "e6e60160",
   "metadata": {},
   "source": [
    "A dictionary defines custom groups based on the `\"year\"` column (assuming year data is available)."
   ]
  },
  {
   "cell_type": "code",
   "execution_count": null,
   "id": "882e6b8f",
   "metadata": {},
   "outputs": [],
   "source": [
    "color_mapping = {\n",
    "    \"2012\": \"year == 2012\",\n",
    "    \"2014\": \"year == 2014\"\n",
    "}\n",
    "af1.plot_haplotype_network(\n",
    "    region=\"2RL:2,358,158-2,431,617\",\n",
    "    sample_query=\"country == 'Ghana'\",\n",
    "    sample_sets=\"1.0\",\n",
    "    color=color_mapping,\n",
    "    max_dist=2,\n",
    ")"
   ]
  },
  {
   "cell_type": "markdown",
   "id": "485becad",
   "metadata": {},
   "source": [
    "With `color=None`, the default coloring is applied."
   ]
  },
  {
   "cell_type": "code",
   "execution_count": null,
   "id": "bd013c5c",
   "metadata": {},
   "outputs": [],
   "source": [
    "af1.plot_haplotype_network(\n",
    "    region=\"2RL:2,358,158-2,431,617\",\n",
    "    sample_query=\"country == 'Ghana'\",\n",
    "    sample_sets=\"1.0\",\n",
    "    color=None,\n",
    "    max_dist=2,\n",
    ")"
   ]
  }
 ],
 "metadata": {
  "kernelspec": {
   "display_name": "Python 3 (ipykernel)",
   "language": "python",
   "name": "python3"
  },
  "language_info": {
   "codemirror_mode": {
    "name": "ipython",
    "version": 3
   },
   "file_extension": ".py",
   "mimetype": "text/x-python",
   "name": "python",
   "nbconvert_exporter": "python",
   "pygments_lexer": "ipython3",
   "version": "3.12.0"
  },
  "widgets": {
   "application/vnd.jupyter.widget-state+json": {
    "state": {},
    "version_major": 2,
    "version_minor": 0
   }
  }
 },
 "nbformat": 4,
 "nbformat_minor": 5
}
