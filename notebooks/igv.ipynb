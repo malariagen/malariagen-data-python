{
 "cells": [
  {
   "cell_type": "code",
   "execution_count": null,
   "id": "07b16c04",
   "metadata": {},
   "outputs": [],
   "source": [
    "import malariagen_data"
   ]
  },
  {
   "cell_type": "code",
   "execution_count": null,
   "id": "1c7ecf7a",
   "metadata": {},
   "outputs": [],
   "source": [
    "ag3 = malariagen_data.Ag3(pre=True)\n",
    "ag3"
   ]
  },
  {
   "cell_type": "code",
   "execution_count": null,
   "id": "921aa6e4",
   "metadata": {},
   "outputs": [],
   "source": [
    "ag3.igv(region=\"2L:2,422,600-2,422,700\")"
   ]
  },
  {
   "cell_type": "code",
   "execution_count": null,
   "id": "72d27502",
   "metadata": {
    "scrolled": false
   },
   "outputs": [],
   "source": [
    "ag3.view_alignments(sample=\"AR0002-C\", region=\"2L:2,422,600-2,422,700\")"
   ]
  },
  {
   "cell_type": "code",
   "execution_count": null,
   "id": "f6ff2c51",
   "metadata": {},
   "outputs": [],
   "source": [
    "ag3.sample_metadata(sample_sets=\"3.1\").head()"
   ]
  },
  {
   "cell_type": "code",
   "execution_count": null,
   "id": "3e64cfeb",
   "metadata": {},
   "outputs": [],
   "source": [
    "ag3.sample_sets(release=\"3.1\")"
   ]
  },
  {
   "cell_type": "code",
   "execution_count": null,
   "id": "08571777",
   "metadata": {},
   "outputs": [],
   "source": [
    "ag3.view_alignments(\n",
    "    sample=ag3.sample_metadata(sample_sets=\"3.1\").iloc[0][\"sample_id\"],\n",
    "    region=\"2L:2,422,600-2,422,700\",\n",
    ")"
   ]
  },
  {
   "cell_type": "code",
   "execution_count": null,
   "id": "14fb9ad2",
   "metadata": {},
   "outputs": [],
   "source": [
    "ag3.view_alignments(\n",
    "    sample=ag3.sample_metadata(sample_sets=\"3.2\").iloc[0][\"sample_id\"],\n",
    "    region=\"2L:2,422,600-2,422,700\",\n",
    ")"
   ]
  },
  {
   "cell_type": "code",
   "execution_count": null,
   "id": "c3f68890",
   "metadata": {},
   "outputs": [],
   "source": [
    "ag3.view_alignments(\n",
    "    sample=ag3.sample_metadata(sample_sets=\"3.3\").iloc[0][\"sample_id\"],\n",
    "    region=\"2L:2,422,600-2,422,700\",\n",
    ")"
   ]
  },
  {
   "cell_type": "code",
   "execution_count": null,
   "id": "fe787f1c",
   "metadata": {},
   "outputs": [],
   "source": [
    "ag3.view_alignments(\n",
    "    sample=ag3.sample_metadata(sample_sets=\"3.4\").iloc[0][\"sample_id\"],\n",
    "    region=\"2L:2,422,600-2,422,700\",\n",
    ")"
   ]
  },
  {
   "cell_type": "code",
   "execution_count": null,
   "id": "064a2953",
   "metadata": {},
   "outputs": [],
   "source": [
    "ag3.view_alignments(\n",
    "    sample=ag3.sample_metadata(sample_sets=\"3.5\").iloc[0][\"sample_id\"],\n",
    "    region=\"2L:2,422,600-2,422,700\",\n",
    ")"
   ]
  },
  {
   "cell_type": "code",
   "execution_count": null,
   "id": "cd41cf04",
   "metadata": {},
   "outputs": [],
   "source": [
    "ag3.view_alignments(\n",
    "    sample=ag3.sample_metadata(sample_sets=\"3.6\").iloc[0][\"sample_id\"],\n",
    "    region=\"2L:2,422,600-2,422,700\",\n",
    ")"
   ]
  },
  {
   "cell_type": "code",
   "execution_count": null,
   "id": "fe887a0a",
   "metadata": {},
   "outputs": [],
   "source": [
    "af1 = malariagen_data.Af1(pre=True)\n",
    "af1"
   ]
  },
  {
   "cell_type": "code",
   "execution_count": null,
   "id": "9d6bbf22",
   "metadata": {},
   "outputs": [],
   "source": [
    "af1.igv(region=\"2RL:2,441,878-2,468,205\")"
   ]
  },
  {
   "cell_type": "code",
   "execution_count": null,
   "id": "d73b2743",
   "metadata": {},
   "outputs": [],
   "source": [
    "af1.sample_sets()"
   ]
  },
  {
   "cell_type": "code",
   "execution_count": null,
   "id": "6ccb0fe4",
   "metadata": {},
   "outputs": [],
   "source": [
    "af1.view_alignments(\n",
    "    sample=af1.sample_metadata(sample_sets=\"1229-VO-GH-DADZIE-VMF00095\").iloc[0][\n",
    "        \"sample_id\"\n",
    "    ],\n",
    "    region=\"2RL:2,447,600-2,447,700\",\n",
    ")"
   ]
  },
  {
   "cell_type": "code",
   "execution_count": null,
   "id": "d96182f0",
   "metadata": {},
   "outputs": [],
   "source": [
    "af1.view_alignments(\n",
    "    sample=af1.sample_metadata(sample_sets=\"1240-VO-MZ-KOEKEMOER-VMF00101\").iloc[0][\n",
    "        \"sample_id\"\n",
    "    ],\n",
    "    region=\"2RL:2,447,600-2,447,700\",\n",
    ")"
   ]
  },
  {
   "cell_type": "code",
   "execution_count": null,
   "id": "ac02dc0b",
   "metadata": {},
   "outputs": [],
   "source": []
  }
 ],
 "metadata": {
  "kernelspec": {
   "display_name": "Python 3 (ipykernel)",
   "language": "python",
   "name": "python3"
  },
  "language_info": {
   "codemirror_mode": {
    "name": "ipython",
    "version": 3
   },
   "file_extension": ".py",
   "mimetype": "text/x-python",
   "name": "python",
   "nbconvert_exporter": "python",
   "pygments_lexer": "ipython3",
   "version": "3.8.16"
  }
 },
 "nbformat": 4,
 "nbformat_minor": 5
}
