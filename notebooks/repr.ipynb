{
 "cells": [
  {
   "cell_type": "code",
   "execution_count": null,
   "id": "aa5bad7b",
   "metadata": {
    "tags": []
   },
   "outputs": [],
   "source": [
    "import malariagen_data"
   ]
  },
  {
   "cell_type": "code",
   "execution_count": null,
   "id": "24cdd3a1",
   "metadata": {
    "tags": []
   },
   "outputs": [],
   "source": [
    "ag3 = malariagen_data.Ag3()"
   ]
  },
  {
   "cell_type": "code",
   "execution_count": null,
   "id": "362dedbf",
   "metadata": {
    "tags": []
   },
   "outputs": [],
   "source": [
    "ag3"
   ]
  },
  {
   "cell_type": "code",
   "execution_count": null,
   "id": "294fc8b7",
   "metadata": {
    "tags": []
   },
   "outputs": [],
   "source": [
    "print(repr(ag3))"
   ]
  },
  {
   "cell_type": "code",
   "execution_count": null,
   "id": "9ca832ac",
   "metadata": {
    "tags": []
   },
   "outputs": [],
   "source": [
    "af1 = malariagen_data.Af1()\n",
    "af1"
   ]
  },
  {
   "cell_type": "code",
   "execution_count": null,
   "id": "73e79af6",
   "metadata": {
    "tags": []
   },
   "outputs": [],
   "source": [
    "print(repr(af1))"
   ]
  },
  {
   "cell_type": "code",
   "execution_count": null,
   "id": "4781d110",
   "metadata": {},
   "outputs": [],
   "source": []
  }
 ],
 "metadata": {
  "kernelspec": {
   "display_name": "Python 3 (ipykernel)",
   "language": "python",
   "name": "python3"
  },
  "language_info": {
   "codemirror_mode": {
    "name": "ipython",
    "version": 3
   },
   "file_extension": ".py",
   "mimetype": "text/x-python",
   "name": "python",
   "nbconvert_exporter": "python",
   "pygments_lexer": "ipython3",
   "version": "3.8.16"
  }
 },
 "nbformat": 4,
 "nbformat_minor": 5
}
