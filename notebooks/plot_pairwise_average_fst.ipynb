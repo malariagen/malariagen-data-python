{
 "cells": [
  {
   "cell_type": "code",
   "execution_count": null,
   "id": "d0f3796b-cc12-4370-bdb2-ad4f4bd50a3e",
   "metadata": {},
   "outputs": [],
   "source": [
    "import malariagen_data\n",
    "import allel\n",
    "import pandas as pd\n",
    "import numpy as np\n",
    "import plotly.express as px"
   ]
  },
  {
   "cell_type": "code",
   "execution_count": null,
   "id": "0e719256-3561-4362-a169-c38c9fe96972",
   "metadata": {},
   "outputs": [],
   "source": [
    "ag3 = malariagen_data.Ag3(\n",
    "    \"simplecache::gs://vo_agam_release\",\n",
    "    simplecache=dict(cache_storage=\"../gcs_cache\"),\n",
    "    cohorts_analysis=\"20230516\",\n",
    ")\n",
    "ag3"
   ]
  },
  {
   "cell_type": "code",
   "execution_count": null,
   "id": "be539d92-3bd5-40b5-b67f-7ae6569db62f",
   "metadata": {},
   "outputs": [],
   "source": [
    "region=\"3L:15,000,000-16,000,000\"\n",
    "site_mask='gamb_colu'\n",
    "n_jack=200"
   ]
  },
  {
   "cell_type": "code",
   "execution_count": null,
   "id": "a7c0815f-7ca9-4ed0-9982-16409f2bc675",
   "metadata": {},
   "outputs": [],
   "source": [
    "fst_hudson, se_hudson = ag3.average_fst(\n",
    "    region=region,\n",
    "    cohort1_query=\"cohort_admin2_year == 'ML-2_Kati_colu_2014'\",\n",
    "    cohort2_query=\"cohort_admin2_year == 'ML-2_Kati_gamb_2014'\",\n",
    "    sample_sets=\"3.0\",\n",
    "    n_jack=n_jack,\n",
    "    site_mask=site_mask)\n",
    "fst_hudson, se_hudson"
   ]
  },
  {
   "cell_type": "code",
   "execution_count": null,
   "id": "53a6b0e2-959d-4af1-92ed-bdb748be51c1",
   "metadata": {},
   "outputs": [],
   "source": [
    "pairwise_fst_df = ag3.pairwise_average_fst(\n",
    "    region=region,\n",
    "    cohorts=\"cohort_admin1_year\",\n",
    "    sample_query=\"country == 'Mali' and taxon == 'gambiae'\",\n",
    "    sample_sets=\"3.0\",\n",
    "    n_jack=n_jack,\n",
    "    site_mask=site_mask,\n",
    ")\n",
    "pairwise_fst_df"
   ]
  },
  {
   "cell_type": "code",
   "execution_count": null,
   "id": "35d304bd-3f39-4dc7-9f7d-905068d5cd0d",
   "metadata": {},
   "outputs": [],
   "source": [
    "ag3.plot_pairwise_average_fst(pairwise_fst_df, annotate_se=True)"
   ]
  },
  {
   "cell_type": "code",
   "execution_count": null,
   "id": "ec418b8f-1451-415e-96e5-bcc5e98428bb",
   "metadata": {},
   "outputs": [],
   "source": [
    "ag3.plot_pairwise_average_fst(pairwise_fst_df, annotate_se=False)"
   ]
  },
  {
   "cell_type": "code",
   "execution_count": null,
   "id": "35959f42-732e-40fa-86ad-16d95fb6e740",
   "metadata": {},
   "outputs": [],
   "source": [
    "ag3.plot_pairwise_average_fst(pairwise_fst_df, zmax=0.1)"
   ]
  },
  {
   "cell_type": "code",
   "execution_count": null,
   "id": "c16035d2-b5d3-4441-87d9-eda953079161",
   "metadata": {},
   "outputs": [],
   "source": [
    "ag3.plot_pairwise_average_fst(pairwise_fst_df, zmax=0.1, width=400, height=300)"
   ]
  },
  {
   "cell_type": "code",
   "execution_count": null,
   "id": "48a52211-2ef9-47da-b715-d0d74a69a4ad",
   "metadata": {},
   "outputs": [],
   "source": []
  }
 ],
 "metadata": {
  "kernelspec": {
   "display_name": "Python 3 (ipykernel)",
   "language": "python",
   "name": "python3"
  },
  "language_info": {
   "codemirror_mode": {
    "name": "ipython",
    "version": 3
   },
   "file_extension": ".py",
   "mimetype": "text/x-python",
   "name": "python",
   "nbconvert_exporter": "python",
   "pygments_lexer": "ipython3",
   "version": "3.8.18"
  }
 },
 "nbformat": 4,
 "nbformat_minor": 5
}
