{
 "cells": [
  {
   "cell_type": "code",
   "execution_count": null,
   "id": "381912bf",
   "metadata": {
    "execution": {
     "iopub.execute_input": "2022-03-09T18:09:27.950846Z",
     "iopub.status.busy": "2022-03-09T18:09:27.950618Z",
     "iopub.status.idle": "2022-03-09T18:09:29.094180Z",
     "shell.execute_reply": "2022-03-09T18:09:29.093711Z"
    }
   },
   "outputs": [],
   "source": [
    "import malariagen_data\n",
    "import bokeh.layouts as bklay\n",
    "import bokeh.plotting as bkplt"
   ]
  },
  {
   "cell_type": "code",
   "execution_count": null,
   "id": "d1f1824b",
   "metadata": {
    "execution": {
     "iopub.execute_input": "2022-03-09T18:09:29.096307Z",
     "iopub.status.busy": "2022-03-09T18:09:29.096169Z",
     "iopub.status.idle": "2022-03-09T18:09:29.271174Z",
     "shell.execute_reply": "2022-03-09T18:09:29.270693Z"
    }
   },
   "outputs": [],
   "source": [
    "ag3 = malariagen_data.Ag3(\n",
    "    \"simplecache::gs://vo_agam_release\",\n",
    "    simplecache=dict(cache_storage=\"../gcs_cache\"),\n",
    ")\n",
    "ag3"
   ]
  },
  {
   "cell_type": "code",
   "execution_count": null,
   "id": "f54b8381",
   "metadata": {
    "execution": {
     "iopub.execute_input": "2022-03-09T18:09:29.273487Z",
     "iopub.status.busy": "2022-03-09T18:09:29.273298Z",
     "iopub.status.idle": "2022-03-09T18:09:31.492555Z",
     "shell.execute_reply": "2022-03-09T18:09:31.492104Z"
    }
   },
   "outputs": [],
   "source": [
    "ag3.plot_genes(\"2R\");"
   ]
  },
  {
   "cell_type": "code",
   "execution_count": null,
   "id": "6c6865ac",
   "metadata": {
    "execution": {
     "iopub.execute_input": "2022-03-09T18:09:31.499205Z",
     "iopub.status.busy": "2022-03-09T18:09:31.499024Z",
     "iopub.status.idle": "2022-03-09T18:09:31.551337Z",
     "shell.execute_reply": "2022-03-09T18:09:31.550930Z"
    }
   },
   "outputs": [],
   "source": [
    "ag3.plot_genes(\"2R:28,000,000-29,000,000\");"
   ]
  },
  {
   "cell_type": "code",
   "execution_count": null,
   "id": "40b63386",
   "metadata": {
    "execution": {
     "iopub.execute_input": "2022-03-09T18:09:31.553318Z",
     "iopub.status.busy": "2022-03-09T18:09:31.553187Z",
     "iopub.status.idle": "2022-03-09T18:09:31.702387Z",
     "shell.execute_reply": "2022-03-09T18:09:31.701939Z"
    }
   },
   "outputs": [],
   "source": [
    "fig = bklay.column([\n",
    "        ag3.plot_genes(\"2R\", show=False),\n",
    "        ag3.plot_genes(\"2L\", show=False),    \n",
    "    ],\n",
    "    sizing_mode=\"stretch_width\"\n",
    ")\n",
    "bkplt.show(fig)"
   ]
  },
  {
   "cell_type": "code",
   "execution_count": null,
   "id": "066fb262",
   "metadata": {
    "execution": {
     "iopub.execute_input": "2022-03-09T18:09:31.712754Z",
     "iopub.status.busy": "2022-03-09T18:09:31.712597Z",
     "iopub.status.idle": "2022-03-09T18:09:33.866554Z",
     "shell.execute_reply": "2022-03-09T18:09:33.865947Z"
    }
   },
   "outputs": [],
   "source": [
    "ag3.plot_transcript(\"AGAP004707-RD\");"
   ]
  },
  {
   "cell_type": "code",
   "execution_count": null,
   "id": "ce93e47e",
   "metadata": {
    "execution": {
     "iopub.execute_input": "2022-03-09T18:09:33.868626Z",
     "iopub.status.busy": "2022-03-09T18:09:33.868483Z",
     "iopub.status.idle": "2022-03-09T18:09:34.121104Z",
     "shell.execute_reply": "2022-03-09T18:09:34.120683Z"
    }
   },
   "outputs": [],
   "source": [
    "ag3.plot_transcript(\"AGAP004050-RA\");"
   ]
  },
  {
   "cell_type": "code",
   "execution_count": null,
   "id": "86178607",
   "metadata": {
    "execution": {
     "iopub.execute_input": "2022-03-09T18:09:34.123309Z",
     "iopub.status.busy": "2022-03-09T18:09:34.123167Z",
     "iopub.status.idle": "2022-03-09T18:09:35.690698Z",
     "shell.execute_reply": "2022-03-09T18:09:35.690292Z"
    }
   },
   "outputs": [],
   "source": [
    "fig1 = ag3.plot_transcript(f\"AGAP004707-RA\", show=False)\n",
    "figs = (\n",
    "    [fig1] + \n",
    "    [ag3.plot_transcript(f\"AGAP004707-R{x}\", \n",
    "                         x_range=fig1.x_range, \n",
    "                         show=False, \n",
    "                         toolbar_location=None,)\n",
    "     for x in 'BCD']\n",
    ")\n",
    "    \n",
    "fig = bklay.column(figs, sizing_mode=\"stretch_width\")\n",
    "bkplt.show(fig)"
   ]
  },
  {
   "cell_type": "code",
   "execution_count": null,
   "id": "be70a93a",
   "metadata": {},
   "outputs": [],
   "source": [
    "af1 = malariagen_data.Af1(\n",
    "    \"simplecache::gs://vo_afun_release\",\n",
    "    simplecache=dict(cache_storage=\"../gcs_cache\"),\n",
    ")\n",
    "af1"
   ]
  },
  {
   "cell_type": "code",
   "execution_count": null,
   "id": "48814614",
   "metadata": {},
   "outputs": [],
   "source": [
    "af1.plot_genes(\"3RL\");"
   ]
  },
  {
   "cell_type": "code",
   "execution_count": null,
   "id": "0c3399fa",
   "metadata": {},
   "outputs": [],
   "source": [
    "af1.plot_genes(\"2RL:28,000,000-29,000,000\");"
   ]
  },
  {
   "cell_type": "code",
   "execution_count": null,
   "id": "0ed22cf1",
   "metadata": {},
   "outputs": [],
   "source": [
    "af1.plot_transcript(\"LOC125767311_t1\");"
   ]
  },
  {
   "cell_type": "code",
   "execution_count": null,
   "id": "0589ed21",
   "metadata": {},
   "outputs": [],
   "source": [
    "af1.plot_transcript(\"LOC125767311_t2\");"
   ]
  },
  {
   "cell_type": "markdown",
   "id": "92363778",
   "metadata": {},
   "source": [
    "Plotting code looks right, it's the gene models that are broken, because exon records appear to be missing.\n",
    "\n",
    "Raised separately here: https://github.com/malariagen/vobs-funestus/issues/252"
   ]
  },
  {
   "cell_type": "code",
   "execution_count": null,
   "id": "a1a56a70",
   "metadata": {},
   "outputs": [],
   "source": [
    "df = af1.genome_features()\n",
    "df"
   ]
  },
  {
   "cell_type": "code",
   "execution_count": null,
   "id": "6f34f119",
   "metadata": {},
   "outputs": [],
   "source": [
    "df.query(\"Parent == 'LOC125767311_t1'\")"
   ]
  },
  {
   "cell_type": "code",
   "execution_count": null,
   "id": "f10ad39e",
   "metadata": {},
   "outputs": [],
   "source": [
    "df.query(\"Parent == 'LOC125767311_t2'\")"
   ]
  },
  {
   "cell_type": "code",
   "execution_count": null,
   "id": "c27741d9",
   "metadata": {},
   "outputs": [],
   "source": []
  }
 ],
 "metadata": {
  "kernelspec": {
   "display_name": "Python 3 (ipykernel)",
   "language": "python",
   "name": "python3"
  },
  "language_info": {
   "codemirror_mode": {
    "name": "ipython",
    "version": 3
   },
   "file_extension": ".py",
   "mimetype": "text/x-python",
   "name": "python",
   "nbconvert_exporter": "python",
   "pygments_lexer": "ipython3",
   "version": "3.7.16"
  }
 },
 "nbformat": 4,
 "nbformat_minor": 5
}
