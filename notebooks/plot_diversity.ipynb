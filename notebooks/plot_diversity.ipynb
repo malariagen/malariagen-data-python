{
 "cells": [
  {
   "cell_type": "code",
   "execution_count": null,
   "id": "a383fb19-cc62-4433-9f05-ba2709dd446b",
   "metadata": {},
   "outputs": [],
   "source": [
    "import malariagen_data"
   ]
  },
  {
   "cell_type": "code",
   "execution_count": null,
   "id": "56ea182c-2446-45ba-921a-a0b5cc1d413e",
   "metadata": {},
   "outputs": [],
   "source": [
    "ag3 = malariagen_data.Ag3(\n",
    "    \"simplecache::gs://vo_agam_release_master_us_central1\",\n",
    "    simplecache=dict(cache_storage=\"../gcs_cache\"),\n",
    "    results_cache=\"results_cache\",\n",
    ")\n",
    "ag3"
   ]
  },
  {
   "cell_type": "code",
   "execution_count": null,
   "id": "75759d4b-d0f8-4489-bda2-5d7d1d9adf17",
   "metadata": {},
   "outputs": [],
   "source": [
    "!rm -rf results_cache"
   ]
  },
  {
   "cell_type": "code",
   "execution_count": null,
   "id": "531a2131-c2e1-42fc-85b6-09561b67c820",
   "metadata": {},
   "outputs": [],
   "source": [
    "df_stats = ag3.diversity_stats(\n",
    "    sample_sets=\"AG1000G-TZ\",\n",
    "    cohorts=\"admin2_year\",\n",
    "    cohort_size=10,\n",
    "    region=\"3L:15,000,000-16,000,000\",\n",
    "    site_mask=\"gamb_colu_arab\",\n",
    "    site_class=\"CDS_DEG_4\",\n",
    ")\n",
    "df_stats"
   ]
  },
  {
   "cell_type": "code",
   "execution_count": null,
   "id": "e86a9ebd-5fba-4d6e-8ffb-6338d6a59e11",
   "metadata": {},
   "outputs": [],
   "source": [
    "df_stats = ag3.diversity_stats(\n",
    "    sample_sets=\"AG1000G-TZ\",\n",
    "    cohorts=\"admin2_year\",\n",
    "    cohort_size=10,\n",
    "    region=\"3L:15,000,000-16,000,000\",\n",
    "    site_mask=\"gamb_colu_arab\",\n",
    "    site_class=\"CDS_DEG_4\",\n",
    ")\n",
    "df_stats"
   ]
  },
  {
   "cell_type": "code",
   "execution_count": null,
   "id": "da8bcab8-897f-4f5b-9058-137fb3ee1064",
   "metadata": {},
   "outputs": [],
   "source": [
    "ag3.plot_diversity_stats(df_stats)"
   ]
  },
  {
   "cell_type": "code",
   "execution_count": null,
   "id": "b3f385ed-d0f8-45da-9ae1-e8ef4f2360c3",
   "metadata": {},
   "outputs": [],
   "source": [
    "ag3.plot_diversity_stats(df_stats, color=\"taxon\")"
   ]
  },
  {
   "cell_type": "code",
   "execution_count": null,
   "id": "7b0b6f96-f292-446b-a231-6a82fb4fb808",
   "metadata": {},
   "outputs": [],
   "source": [
    "figs = ag3.plot_diversity_stats(df_stats, color=\"admin2_name\", show=False)"
   ]
  },
  {
   "cell_type": "code",
   "execution_count": null,
   "id": "63e55e75-ff85-46e1-b20f-4edd2a02ab92",
   "metadata": {},
   "outputs": [],
   "source": [
    "figs[0]"
   ]
  },
  {
   "cell_type": "code",
   "execution_count": null,
   "id": "149cab79-3f22-4a20-8a13-63f9319d466c",
   "metadata": {},
   "outputs": [],
   "source": [
    "figs[1]"
   ]
  },
  {
   "cell_type": "code",
   "execution_count": null,
   "id": "1928463b-2461-4025-898f-dc05dc0cb214",
   "metadata": {},
   "outputs": [],
   "source": [
    "figs[2]"
   ]
  },
  {
   "cell_type": "code",
   "execution_count": null,
   "id": "fa7cad0a-e9cb-4d06-bece-298642fa79b3",
   "metadata": {},
   "outputs": [],
   "source": [
    "figs[3]"
   ]
  },
  {
   "cell_type": "code",
   "execution_count": null,
   "id": "431f1274-fc55-4baa-8c67-f8f3d16d5874",
   "metadata": {},
   "outputs": [],
   "source": []
  }
 ],
 "metadata": {
  "kernelspec": {
   "display_name": "Python 3 (ipykernel)",
   "language": "python",
   "name": "python3"
  },
  "language_info": {
   "codemirror_mode": {
    "name": "ipython",
    "version": 3
   },
   "file_extension": ".py",
   "mimetype": "text/x-python",
   "name": "python",
   "nbconvert_exporter": "python",
   "pygments_lexer": "ipython3",
   "version": "3.10.12"
  },
  "widgets": {
   "application/vnd.jupyter.widget-state+json": {
    "state": {},
    "version_major": 2,
    "version_minor": 0
   }
  }
 },
 "nbformat": 4,
 "nbformat_minor": 5
}
