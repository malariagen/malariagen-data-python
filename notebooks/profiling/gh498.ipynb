{
 "cells": [
  {
   "cell_type": "code",
   "execution_count": null,
   "id": "a790fb90-492e-480a-9403-d1d242c48389",
   "metadata": {},
   "outputs": [],
   "source": [
    "import malariagen_data"
   ]
  },
  {
   "cell_type": "code",
   "execution_count": null,
   "id": "a00d7b52-ac2e-44ef-9e08-a9d33ee90276",
   "metadata": {},
   "outputs": [],
   "source": [
    "af1 = malariagen_data.Af1(\n",
    "    \"simplecache::gs://vo_afun_release\",\n",
    "    simplecache=dict(cache_storage=\"../gcs_cache\"),\n",
    "    cohorts_analysis=\"20230823\",\n",
    ")\n",
    "af1"
   ]
  },
  {
   "cell_type": "code",
   "execution_count": null,
   "id": "0fdd5aea-803c-477e-9b35-8edc61a31b7e",
   "metadata": {},
   "outputs": [],
   "source": [
    "# af1.diversity_stats(\n",
    "#     cohorts=\"cohort_admin2_year\",\n",
    "#     cohort_size=10,\n",
    "#     region=\"3RL:1,000,000-2,000,000\",\n",
    "#     sample_query=\"country == 'Gabon'\",\n",
    "#     site_mask='funestus',\n",
    "#     site_class=\"CDS_DEG_4\"\n",
    "# )"
   ]
  },
  {
   "cell_type": "code",
   "execution_count": null,
   "id": "ff092693-dd1e-44ff-bd09-7cfb57b9134f",
   "metadata": {},
   "outputs": [],
   "source": [
    "%load_ext memory_profiler"
   ]
  },
  {
   "cell_type": "code",
   "execution_count": null,
   "id": "9a75f64f-fe2c-44d9-abae-18ff8453d154",
   "metadata": {},
   "outputs": [],
   "source": [
    "%%memit\n",
    "af1 = malariagen_data.Af1(\n",
    "    \"simplecache::gs://vo_afun_release\",\n",
    "    simplecache=dict(cache_storage=\"../gcs_cache\"),\n",
    "    cohorts_analysis=\"20230823\",\n",
    ")\n",
    "af1.snp_calls(\n",
    "    region=\"3RL:1,000,000-2,000,000\",\n",
    "    sample_query=\"country == 'Gabon'\",\n",
    "    site_mask='funestus',\n",
    "    site_class=\"CDS_DEG_4\"\n",
    ")"
   ]
  },
  {
   "cell_type": "code",
   "execution_count": null,
   "id": "0c433078-8c78-4a2a-93d3-d9330762bbbd",
   "metadata": {},
   "outputs": [],
   "source": [
    "%%memit\n",
    "af1 = malariagen_data.Af1(\n",
    "    \"simplecache::gs://vo_afun_release\",\n",
    "    simplecache=dict(cache_storage=\"../gcs_cache\"),\n",
    "    cohorts_analysis=\"20230823\",\n",
    ")\n",
    "af1.snp_calls(\n",
    "    region=\"3RL:1,000,000-2,000,000\",\n",
    "    sample_query=\"country == 'Gabon'\",\n",
    "    site_mask='funestus',\n",
    ")"
   ]
  },
  {
   "cell_type": "code",
   "execution_count": null,
   "id": "8f945545-7a73-4c9a-8867-e2cae9e1aece",
   "metadata": {},
   "outputs": [],
   "source": [
    "%%memit\n",
    "af1 = malariagen_data.Af1(\n",
    "    \"simplecache::gs://vo_afun_release\",\n",
    "    simplecache=dict(cache_storage=\"../gcs_cache\"),\n",
    "    cohorts_analysis=\"20230823\",\n",
    ")\n",
    "af1.snp_calls(\n",
    "    region=\"3RL\",\n",
    "    sample_query=\"country == 'Gabon'\",\n",
    "    site_mask='funestus',\n",
    "    site_class=\"CDS_DEG_4\"\n",
    ")"
   ]
  },
  {
   "cell_type": "code",
   "execution_count": null,
   "id": "1fcae9c4-9c1c-402f-a6c9-70a7f6f939a7",
   "metadata": {},
   "outputs": [],
   "source": []
  }
 ],
 "metadata": {
  "kernelspec": {
   "display_name": "Python 3 (ipykernel)",
   "language": "python",
   "name": "python3"
  },
  "language_info": {
   "codemirror_mode": {
    "name": "ipython",
    "version": 3
   },
   "file_extension": ".py",
   "mimetype": "text/x-python",
   "name": "python",
   "nbconvert_exporter": "python",
   "pygments_lexer": "ipython3",
   "version": "3.8.18"
  }
 },
 "nbformat": 4,
 "nbformat_minor": 5
}
