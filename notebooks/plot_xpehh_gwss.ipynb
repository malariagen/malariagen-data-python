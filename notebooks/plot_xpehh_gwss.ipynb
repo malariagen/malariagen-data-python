{
 "cells": [
  {
   "cell_type": "code",
   "execution_count": null,
   "id": "32067e1d",
   "metadata": {},
   "outputs": [],
   "source": [
    "import malariagen_data\n",
    "\n",
    "ag3 = malariagen_data.Ag3(\n",
    "    \"simplecache::gs://vo_agam_release\",\n",
    "    simplecache=dict(cache_storage=\"../gcs_cache\"),\n",
    "    cohorts_analysis=\"20230516\",\n",
    ")\n",
    "ag3"
   ]
  },
  {
   "cell_type": "code",
   "execution_count": null,
   "id": "966049ec",
   "metadata": {},
   "outputs": [],
   "source": [
    "af1 = malariagen_data.Af1(\n",
    "    \"simplecache::gs://vo_afun_release\",\n",
    "    simplecache=dict(cache_storage=\"../gcs_cache\"),\n",
    "    cohorts_analysis=\"20230823\",\n",
    ")\n",
    "af1"
   ]
  },
  {
   "cell_type": "code",
   "execution_count": null,
   "id": "838eddc4",
   "metadata": {},
   "outputs": [],
   "source": [
    "ag3.plot_xpehh_gwss(\n",
    "    contig=\"X\",\n",
    "    window_size=1_000,\n",
    "    analysis=\"gamb_colu\",\n",
    "    percentiles=(50, 60, 90, 100),\n",
    "    cohort1_query=\"cohort_admin2_year == 'ML-2_Kati_colu_2014'\",\n",
    "    cohort2_query=\"country == 'Mayotte'\",\n",
    "    sample_sets=\"3.0\",\n",
    "    max_cohort_size=10,\n",
    ")"
   ]
  },
  {
   "cell_type": "code",
   "execution_count": null,
   "id": "e780aa23",
   "metadata": {},
   "outputs": [],
   "source": [
    "ag3.plot_xpehh_gwss_track(\n",
    "    contig=\"X\",\n",
    "    window_size=1_000,\n",
    "    analysis=\"gamb_colu\",\n",
    "    cohort1_query=\"cohort_admin2_year == 'ML-2_Kati_colu_2014'\",\n",
    "    cohort2_query=\"country == 'Mayotte'\",\n",
    "    sample_sets=\"3.0\",\n",
    "    max_cohort_size=10,\n",
    "    filter_min_maf=0.1,\n",
    "    width=700,\n",
    "    sizing_mode=\"fixed\",\n",
    ")"
   ]
  },
  {
   "cell_type": "code",
   "execution_count": null,
   "id": "b26a9654",
   "metadata": {},
   "outputs": [],
   "source": [
    "ag3.plot_xpehh_gwss(\n",
    "    contig=\"X\",\n",
    "    window_size=100,\n",
    "    analysis=\"gamb_colu\",\n",
    "    cohort1_query=\"cohort_admin2_year == 'ML-2_Kati_colu_2014'\",\n",
    "    cohort2_query=\"country == 'Mayotte'\",\n",
    "    sample_sets=\"3.0\",\n",
    "    max_cohort_size=10,\n",
    ")"
   ]
  },
  {
   "cell_type": "code",
   "execution_count": null,
   "id": "181227f6",
   "metadata": {},
   "outputs": [],
   "source": [
    "ag3.plot_xpehh_gwss(\n",
    "    contig=\"2RL\",\n",
    "    window_size=100,\n",
    "    analysis=\"gamb_colu\",\n",
    "    cohort1_query=\"cohort_admin2_year == 'ML-2_Kati_colu_2014'\",\n",
    "    cohort2_query=\"country == 'Mayotte'\",\n",
    "    sample_sets=\"3.0\",\n",
    "    max_cohort_size=10,\n",
    ")"
   ]
  },
  {
   "cell_type": "code",
   "execution_count": null,
   "id": "89cf50ac",
   "metadata": {},
   "outputs": [],
   "source": [
    "ag3.plot_xpehh_gwss(\n",
    "    contig=\"X\",\n",
    "    window_size=1_000,\n",
    "    analysis=\"gamb_colu\",\n",
    "    cohort1_query=\"cohort_admin2_year == 'ML-2_Kati_colu_2014'\",\n",
    "    cohort2_query=\"country == 'Mayotte'\",\n",
    "    sample_sets=\"3.0\",\n",
    "    min_ehh=0.1,\n",
    "    max_cohort_size=None,\n",
    ")"
   ]
  },
  {
   "cell_type": "code",
   "execution_count": null,
   "id": "78b452f5",
   "metadata": {},
   "outputs": [],
   "source": [
    "af1.sample_metadata(sample_sets=\"1.0\")[\"cohort_admin1_year\"].value_counts()"
   ]
  },
  {
   "cell_type": "code",
   "execution_count": null,
   "id": "079a3308",
   "metadata": {},
   "outputs": [],
   "source": [
    "af1.plot_xpehh_gwss(\n",
    "    contig=\"X\",\n",
    "    window_size=2_000,\n",
    "    cohort1_query=\"cohort_admin1_year == 'MZ-L_fune_2018'\",\n",
    "    cohort2_query=\"cohort_admin1_year == 'GA-2_fune_2017'\",\n",
    "    sample_sets=\"1.0\",\n",
    "    max_cohort_size=20,\n",
    ")"
   ]
  },
  {
   "cell_type": "code",
   "execution_count": null,
   "id": "d6290896",
   "metadata": {},
   "outputs": [],
   "source": [
    "af1.plot_xpehh_gwss(\n",
    "    contig=\"2RL\",\n",
    "    window_size=200,\n",
    "    cohort1_query=\"cohort_admin1_year == 'MZ-L_fune_2018'\",\n",
    "    cohort2_query=\"cohort_admin1_year == 'GA-2_fune_2017'\",\n",
    "    sample_sets=\"1.0\",\n",
    "    max_cohort_size=20,\n",
    ")"
   ]
  },
  {
   "cell_type": "code",
   "execution_count": null,
   "id": "a5aed96d",
   "metadata": {},
   "outputs": [],
   "source": []
  }
 ],
 "metadata": {
  "kernelspec": {
   "display_name": "Python 3 (ipykernel)",
   "language": "python",
   "name": "python3"
  },
  "language_info": {
   "codemirror_mode": {
    "name": "ipython",
    "version": 3
   },
   "file_extension": ".py",
   "mimetype": "text/x-python",
   "name": "python",
   "nbconvert_exporter": "python",
   "pygments_lexer": "ipython3",
   "version": "3.8.18"
  }
 },
 "nbformat": 4,
 "nbformat_minor": 5
}
