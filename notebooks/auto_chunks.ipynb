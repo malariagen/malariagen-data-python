{
 "cells": [
  {
   "cell_type": "code",
   "execution_count": null,
   "id": "5ba32f43-2308-43a0-9849-489d77a2f841",
   "metadata": {},
   "outputs": [],
   "source": [
    "import malariagen_data"
   ]
  },
  {
   "cell_type": "code",
   "execution_count": null,
   "id": "8015add7-81c7-42bd-94c3-a433047c6ca2",
   "metadata": {},
   "outputs": [],
   "source": [
    "ag3 = malariagen_data.Ag3(\n",
    "    \"simplecache::gs://vo_agam_release_master_us_central1\",\n",
    "    simplecache=dict(cache_storage=\"../gcs_cache\"),\n",
    ")\n",
    "ag3"
   ]
  },
  {
   "cell_type": "markdown",
   "id": "fe297aa9-cfe2-40e5-aa18-3f3a082cdd34",
   "metadata": {},
   "source": [
    "## Default chunk sizes"
   ]
  },
  {
   "cell_type": "code",
   "execution_count": null,
   "id": "27c25fb3-ad5c-4652-bf6c-c51d07558790",
   "metadata": {},
   "outputs": [],
   "source": [
    "ds = ag3.snp_calls(\n",
    "    region=\"3R\", sample_sets=\"AG1000G-BF-A\"\n",
    ")"
   ]
  },
  {
   "cell_type": "code",
   "execution_count": null,
   "id": "0dbaca2c-d4f0-44c9-b5c8-a992e52dc476",
   "metadata": {},
   "outputs": [],
   "source": [
    "ds[\"variant_position\"].data"
   ]
  },
  {
   "cell_type": "code",
   "execution_count": null,
   "id": "f149f390-8e34-42c0-aaa5-7cfe3bbd4c6c",
   "metadata": {},
   "outputs": [],
   "source": [
    "ds[\"call_genotype\"].data"
   ]
  },
  {
   "cell_type": "markdown",
   "id": "8c1a6207-29bb-4ef9-a8a0-4c6a20acda3c",
   "metadata": {},
   "source": [
    "## Explicit chunk sizes"
   ]
  },
  {
   "cell_type": "code",
   "execution_count": null,
   "id": "5cbedcb4-cf4e-4f5b-9f0a-901e6abb7dd6",
   "metadata": {},
   "outputs": [],
   "source": [
    "ds = ag3.snp_calls(\n",
    "    region=\"3R\", sample_sets=\"AG1000G-BF-A\", chunks=\"300MB\",\n",
    ")"
   ]
  },
  {
   "cell_type": "code",
   "execution_count": null,
   "id": "05598e4a-f362-4b21-a601-9968619135a4",
   "metadata": {},
   "outputs": [],
   "source": [
    "ds[\"variant_position\"].data"
   ]
  },
  {
   "cell_type": "code",
   "execution_count": null,
   "id": "b903fb3a-1f17-403a-bf8b-43623148ffaa",
   "metadata": {},
   "outputs": [],
   "source": [
    "ds[\"call_genotype\"].data"
   ]
  },
  {
   "cell_type": "markdown",
   "id": "497bd930-c0a1-4ab9-9f56-874673420fbd",
   "metadata": {},
   "source": [
    "## Auto chunk sizes"
   ]
  },
  {
   "cell_type": "code",
   "execution_count": null,
   "id": "9238bb0f-739e-428b-b4f4-9797b15e045b",
   "metadata": {},
   "outputs": [],
   "source": [
    "ds = ag3.snp_calls(\n",
    "    region=\"3R\", sample_sets=\"AG1000G-BF-A\", chunks=\"auto\"\n",
    ")"
   ]
  },
  {
   "cell_type": "code",
   "execution_count": null,
   "id": "8c894749-6486-478d-9f83-0849aa8a62f2",
   "metadata": {},
   "outputs": [],
   "source": [
    "ds[\"variant_position\"].data"
   ]
  },
  {
   "cell_type": "code",
   "execution_count": null,
   "id": "f9caefda-4adf-4836-bae4-f7b7bedf8e86",
   "metadata": {},
   "outputs": [],
   "source": [
    "ds[\"call_genotype\"].data"
   ]
  },
  {
   "cell_type": "markdown",
   "id": "84bd96e2-42d3-402b-9bca-e071802cb53e",
   "metadata": {},
   "source": [
    "## ND auto chunk sizes"
   ]
  },
  {
   "cell_type": "code",
   "execution_count": null,
   "id": "a7f5c439-505f-44c0-abfb-05999e4d9759",
   "metadata": {},
   "outputs": [],
   "source": [
    "ds = ag3.snp_calls(\n",
    "    region=\"3R\", sample_sets=\"AG1000G-BF-A\", chunks=\"ndauto\"\n",
    ")"
   ]
  },
  {
   "cell_type": "code",
   "execution_count": null,
   "id": "6b2e3c60-5d05-445b-91fc-da5115b190bb",
   "metadata": {},
   "outputs": [],
   "source": [
    "ds[\"variant_position\"].data"
   ]
  },
  {
   "cell_type": "code",
   "execution_count": null,
   "id": "92c9edab-9653-438c-990a-0bffeb81d5fe",
   "metadata": {},
   "outputs": [],
   "source": [
    "ds[\"call_genotype\"].data"
   ]
  },
  {
   "cell_type": "code",
   "execution_count": null,
   "id": "04e2f86c-bd3d-4bc1-9142-4f1d243ddbd7",
   "metadata": {},
   "outputs": [],
   "source": []
  }
 ],
 "metadata": {
  "kernelspec": {
   "display_name": "Python 3 (ipykernel)",
   "language": "python",
   "name": "python3"
  },
  "language_info": {
   "codemirror_mode": {
    "name": "ipython",
    "version": 3
   },
   "file_extension": ".py",
   "mimetype": "text/x-python",
   "name": "python",
   "nbconvert_exporter": "python",
   "pygments_lexer": "ipython3",
   "version": "3.10.12"
  },
  "widgets": {
   "application/vnd.jupyter.widget-state+json": {
    "state": {},
    "version_major": 2,
    "version_minor": 0
   }
  }
 },
 "nbformat": 4,
 "nbformat_minor": 5
}
