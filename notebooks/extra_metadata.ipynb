{
 "cells": [
  {
   "cell_type": "code",
   "execution_count": null,
   "id": "38bb6b32",
   "metadata": {},
   "outputs": [],
   "source": [
    "import malariagen_data\n",
    "import pandas as pd\n",
    "import numpy as np"
   ]
  },
  {
   "cell_type": "code",
   "execution_count": null,
   "id": "142627af",
   "metadata": {},
   "outputs": [],
   "source": [
    "ag3 = malariagen_data.Ag3(\n",
    "    \"simplecache::gs://vo_agam_release\",\n",
    "    simplecache=dict(cache_storage=\"../gcs_cache\"),\n",
    ")\n",
    "ag3"
   ]
  },
  {
   "cell_type": "code",
   "execution_count": null,
   "id": "e1634546",
   "metadata": {},
   "outputs": [],
   "source": [
    "df_samples = ag3.sample_metadata()\n",
    "df_samples"
   ]
  },
  {
   "cell_type": "code",
   "execution_count": null,
   "id": "5e6e7edd",
   "metadata": {},
   "outputs": [],
   "source": [
    "df_extra = pd.DataFrame(\n",
    "    {\n",
    "        \"sample_id\": df_samples[\"sample_id\"],\n",
    "        \"flavour\": np.random.choice(\n",
    "            [\"vanilla\", \"chocolate\", \"strawberry\"], len(df_samples)\n",
    "        ),\n",
    "    }\n",
    ")\n",
    "df_extra"
   ]
  },
  {
   "cell_type": "code",
   "execution_count": null,
   "id": "140cd606",
   "metadata": {},
   "outputs": [],
   "source": [
    "ag3.add_extra_metadata(df_extra)"
   ]
  },
  {
   "cell_type": "code",
   "execution_count": null,
   "id": "3f507df0",
   "metadata": {},
   "outputs": [],
   "source": [
    "sample_query = \"flavour == 'chocolate' and country == 'Burkina Faso'\""
   ]
  },
  {
   "cell_type": "code",
   "execution_count": null,
   "id": "47a85795",
   "metadata": {},
   "outputs": [],
   "source": [
    "ag3.sample_metadata(sample_query=sample_query)"
   ]
  },
  {
   "cell_type": "code",
   "execution_count": null,
   "id": "d51ae27a",
   "metadata": {},
   "outputs": [],
   "source": [
    "ag3.snp_calls(region=\"3R\", sample_query=sample_query)"
   ]
  },
  {
   "cell_type": "code",
   "execution_count": null,
   "id": "c13b4e5a",
   "metadata": {},
   "outputs": [],
   "source": [
    "ag3.cnv_hmm(region=\"3R\", sample_query=sample_query)"
   ]
  },
  {
   "cell_type": "code",
   "execution_count": null,
   "id": "171ad0ce",
   "metadata": {},
   "outputs": [],
   "source": [
    "ag3.haplotypes(region=\"3R\", analysis=\"gamb_colu_arab\", sample_query=sample_query)"
   ]
  },
  {
   "cell_type": "code",
   "execution_count": null,
   "id": "450d0e1f",
   "metadata": {},
   "outputs": [],
   "source": []
  }
 ],
 "metadata": {
  "kernelspec": {
   "display_name": "Python 3 (ipykernel)",
   "language": "python",
   "name": "python3"
  },
  "language_info": {
   "codemirror_mode": {
    "name": "ipython",
    "version": 3
   },
   "file_extension": ".py",
   "mimetype": "text/x-python",
   "name": "python",
   "nbconvert_exporter": "python",
   "pygments_lexer": "ipython3",
   "version": "3.8.16"
  }
 },
 "nbformat": 4,
 "nbformat_minor": 5
}
