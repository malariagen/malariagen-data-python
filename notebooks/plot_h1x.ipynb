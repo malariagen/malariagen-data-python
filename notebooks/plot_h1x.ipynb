{
 "cells": [
  {
   "cell_type": "code",
   "execution_count": null,
   "id": "ced974cd",
   "metadata": {},
   "outputs": [],
   "source": [
    "import numpy as np"
   ]
  },
  {
   "cell_type": "code",
   "execution_count": null,
   "id": "65b7ff2f",
   "metadata": {},
   "outputs": [],
   "source": [
    "import malariagen_data\n",
    "\n",
    "ag3 = malariagen_data.Ag3(\n",
    "    \"simplecache::gs://vo_agam_release\",\n",
    "    simplecache=dict(cache_storage=\"../gcs_cache\"),\n",
    ")\n",
    "ag3"
   ]
  },
  {
   "cell_type": "code",
   "execution_count": null,
   "id": "867cb69b",
   "metadata": {},
   "outputs": [],
   "source": [
    "df_samples = ag3.sample_metadata()\n",
    "df_samples"
   ]
  },
  {
   "cell_type": "code",
   "execution_count": null,
   "id": "ee8290f2",
   "metadata": {},
   "outputs": [],
   "source": [
    "df_samples.query(\"country == 'Mali'\").groupby([\"sample_set\", \"cohort_admin2_year\"]).size()"
   ]
  },
  {
   "cell_type": "code",
   "execution_count": null,
   "id": "a7c10446",
   "metadata": {},
   "outputs": [],
   "source": [
    "coh1 = \"ML-2_Kati_colu_2014\"\n",
    "coh2 = \"ML-2_Kati_gamb_2014\"\n",
    "coh1_query = f\"cohort_admin2_year == '{coh1}'\"\n",
    "coh2_query = f\"cohort_admin2_year == '{coh2}'\"\n",
    "contig = \"2L\""
   ]
  },
  {
   "cell_type": "code",
   "execution_count": null,
   "id": "63cb17ff",
   "metadata": {},
   "outputs": [],
   "source": [
    "ag3.plot_h12_gwss(\n",
    "    contig=contig,\n",
    "    analysis=\"gamb_colu\",\n",
    "    window_size=2000,\n",
    "    sample_query=coh1_query,\n",
    "    cohort_size=20,\n",
    ")"
   ]
  },
  {
   "cell_type": "code",
   "execution_count": null,
   "id": "5716e777",
   "metadata": {},
   "outputs": [],
   "source": [
    "ag3.plot_h12_gwss(\n",
    "    contig=contig,\n",
    "    analysis=\"gamb_colu\",\n",
    "    window_size=2000,\n",
    "    sample_query=coh2_query,\n",
    "    cohort_size=20,\n",
    ")"
   ]
  },
  {
   "cell_type": "code",
   "execution_count": null,
   "id": "fe11bb35",
   "metadata": {},
   "outputs": [],
   "source": [
    "ag3.plot_h1x_gwss(\n",
    "    contig=contig,\n",
    "    window_size=2000,\n",
    "    cohort1_query=coh1_query,\n",
    "    cohort2_query=coh2_query,\n",
    "    analysis=\"gamb_colu\",\n",
    "    cohort_size=20,\n",
    ")"
   ]
  },
  {
   "cell_type": "code",
   "execution_count": null,
   "id": "9144452f",
   "metadata": {},
   "outputs": [],
   "source": []
  }
 ],
 "metadata": {
  "kernelspec": {
   "display_name": "Python 3 (ipykernel)",
   "language": "python",
   "name": "python3"
  },
  "language_info": {
   "codemirror_mode": {
    "name": "ipython",
    "version": 3
   },
   "file_extension": ".py",
   "mimetype": "text/x-python",
   "name": "python",
   "nbconvert_exporter": "python",
   "pygments_lexer": "ipython3",
   "version": "3.7.16"
  }
 },
 "nbformat": 4,
 "nbformat_minor": 5
}
