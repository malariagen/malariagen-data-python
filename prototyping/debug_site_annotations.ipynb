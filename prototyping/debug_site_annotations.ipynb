{
 "cells": [
  {
   "cell_type": "code",
   "execution_count": 1,
   "id": "exceptional-obligation",
   "metadata": {},
   "outputs": [
    {
     "data": {
      "text/plain": [
       "<malariagen_data.ag3.Ag3 at 0x7f2b205b9400>"
      ]
     },
     "execution_count": 1,
     "metadata": {},
     "output_type": "execute_result"
    }
   ],
   "source": [
    "import malariagen_data\n",
    "ag3 = malariagen_data.Ag3(\"gs://vo_agam_release/\")\n",
    "ag3"
   ]
  },
  {
   "cell_type": "code",
   "execution_count": 2,
   "id": "macro-nation",
   "metadata": {},
   "outputs": [
    {
     "data": {
      "text/plain": [
       "<zarr.hierarchy.Group '/'>"
      ]
     },
     "execution_count": 2,
     "metadata": {},
     "output_type": "execute_result"
    }
   ],
   "source": [
    "root = ag3.open_site_annotations()\n",
    "root"
   ]
  },
  {
   "cell_type": "code",
   "execution_count": 3,
   "id": "revised-martin",
   "metadata": {},
   "outputs": [
    {
     "name": "stdout",
     "output_type": "stream",
     "text": [
      "/\n",
      " ├── codon_degeneracy\n",
      " │   ├── 2L (49364325,) int8\n",
      " │   ├── 2R (61545105,) int8\n",
      " │   ├── 3L (41963435,) int8\n",
      " │   ├── 3R (53200684,) int8\n",
      " │   ├── Mt (15363,) int8\n",
      " │   ├── UNKN (42389979,) int8\n",
      " │   ├── X (24393108,) int8\n",
      " │   └── Y_unplaced (237045,) int8\n",
      " ├── codon_nonsyn\n",
      " │   ├── 2L (49364325,) uint8\n",
      " │   ├── 2R (61545105,) uint8\n",
      " │   ├── 3L (41963435,) uint8\n",
      " │   ├── 3R (53200684,) uint8\n",
      " │   ├── Mt (15363,) uint8\n",
      " │   ├── UNKN (42389979,) uint8\n",
      " │   ├── X (24393108,) uint8\n",
      " │   └── Y_unplaced (237045,) uint8\n",
      " ├── codon_position\n",
      " │   ├── 2L (49364325,) int8\n",
      " │   ├── 2R (61545105,) int8\n",
      " │   ├── 3L (41963435,) int8\n",
      " │   ├── 3R (53200684,) int8\n",
      " │   ├── Mt (15363,) int8\n",
      " │   ├── UNKN (42389979,) int8\n",
      " │   ├── X (24393108,) int8\n",
      " │   └── Y_unplaced (237045,) int8\n",
      " ├── seq_cls\n",
      " │   ├── 2L (49364325,) uint8\n",
      " │   ├── 2R (61545105,) uint8\n",
      " │   ├── 3L (41963435,) uint8\n",
      " │   ├── 3R (53200684,) uint8\n",
      " │   ├── Mt (15363,) uint8\n",
      " │   ├── UNKN (42389979,) uint8\n",
      " │   ├── X (24393108,) uint8\n",
      " │   └── Y_unplaced (237045,) uint8\n",
      " ├── seq_flen\n",
      " │   ├── 2L (49364325,) uint32\n",
      " │   ├── 2R (61545105,) uint32\n",
      " │   ├── 3L (41963435,) uint32\n",
      " │   ├── 3R (53200684,) uint32\n",
      " │   ├── Mt (15363,) uint32\n",
      " │   ├── UNKN (42389979,) uint32\n",
      " │   ├── X (24393108,) uint32\n",
      " │   └── Y_unplaced (237045,) uint32\n",
      " ├── seq_relpos_start\n",
      " │   ├── 2L (49364325,) uint32\n",
      " │   ├── 2R (61545105,) uint32\n",
      " │   ├── 3L (41963435,) uint32\n",
      " │   ├── 3R (53200684,) uint32\n",
      " │   ├── Mt (15363,) uint32\n",
      " │   ├── UNKN (42389979,) uint32\n",
      " │   ├── X (24393108,) uint32\n",
      " │   └── Y_unplaced (237045,) uint32\n",
      " └── seq_relpos_stop\n",
      "     ├── 2L (49364325,) uint32\n",
      "     ├── 2R (61545105,) uint32\n",
      "     ├── 3L (41963435,) uint32\n",
      "     ├── 3R (53200684,) uint32\n",
      "     ├── Mt (15363,) uint32\n",
      "     ├── UNKN (42389979,) uint32\n",
      "     ├── X (24393108,) uint32\n",
      "     └── Y_unplaced (237045,) uint32\n"
     ]
    }
   ],
   "source": [
    "print(root.tree())"
   ]
  },
  {
   "cell_type": "code",
   "execution_count": 4,
   "id": "tribal-classroom",
   "metadata": {},
   "outputs": [
    {
     "data": {
      "text/html": [
       "<div>\n",
       "<style scoped>\n",
       "    .dataframe tbody tr th:only-of-type {\n",
       "        vertical-align: middle;\n",
       "    }\n",
       "\n",
       "    .dataframe tbody tr th {\n",
       "        vertical-align: top;\n",
       "    }\n",
       "\n",
       "    .dataframe thead th {\n",
       "        text-align: right;\n",
       "    }\n",
       "</style>\n",
       "<table border=\"1\" class=\"dataframe\">\n",
       "  <thead>\n",
       "    <tr style=\"text-align: right;\">\n",
       "      <th></th>\n",
       "      <th>seqid</th>\n",
       "      <th>source</th>\n",
       "      <th>type</th>\n",
       "      <th>start</th>\n",
       "      <th>end</th>\n",
       "      <th>score</th>\n",
       "      <th>strand</th>\n",
       "      <th>phase</th>\n",
       "      <th>ID</th>\n",
       "      <th>Parent</th>\n",
       "      <th>Name</th>\n",
       "    </tr>\n",
       "  </thead>\n",
       "  <tbody>\n",
       "    <tr>\n",
       "      <th>0</th>\n",
       "      <td>2L</td>\n",
       "      <td>VectorBase</td>\n",
       "      <td>chromosome</td>\n",
       "      <td>1</td>\n",
       "      <td>49364325</td>\n",
       "      <td>NaN</td>\n",
       "      <td>NaN</td>\n",
       "      <td>NaN</td>\n",
       "      <td>2L</td>\n",
       "      <td>NaN</td>\n",
       "      <td>NaN</td>\n",
       "    </tr>\n",
       "    <tr>\n",
       "      <th>1</th>\n",
       "      <td>2L</td>\n",
       "      <td>VectorBase</td>\n",
       "      <td>gene</td>\n",
       "      <td>157348</td>\n",
       "      <td>186936</td>\n",
       "      <td>NaN</td>\n",
       "      <td>-</td>\n",
       "      <td>NaN</td>\n",
       "      <td>AGAP004677</td>\n",
       "      <td>NaN</td>\n",
       "      <td>NaN</td>\n",
       "    </tr>\n",
       "    <tr>\n",
       "      <th>2</th>\n",
       "      <td>2L</td>\n",
       "      <td>VectorBase</td>\n",
       "      <td>mRNA</td>\n",
       "      <td>157348</td>\n",
       "      <td>181305</td>\n",
       "      <td>NaN</td>\n",
       "      <td>-</td>\n",
       "      <td>NaN</td>\n",
       "      <td>AGAP004677-RA</td>\n",
       "      <td>AGAP004677</td>\n",
       "      <td>NaN</td>\n",
       "    </tr>\n",
       "    <tr>\n",
       "      <th>3</th>\n",
       "      <td>2L</td>\n",
       "      <td>VectorBase</td>\n",
       "      <td>three_prime_UTR</td>\n",
       "      <td>157348</td>\n",
       "      <td>157495</td>\n",
       "      <td>NaN</td>\n",
       "      <td>-</td>\n",
       "      <td>NaN</td>\n",
       "      <td>NaN</td>\n",
       "      <td>AGAP004677-RA</td>\n",
       "      <td>NaN</td>\n",
       "    </tr>\n",
       "    <tr>\n",
       "      <th>4</th>\n",
       "      <td>2L</td>\n",
       "      <td>VectorBase</td>\n",
       "      <td>exon</td>\n",
       "      <td>157348</td>\n",
       "      <td>157623</td>\n",
       "      <td>NaN</td>\n",
       "      <td>-</td>\n",
       "      <td>NaN</td>\n",
       "      <td>NaN</td>\n",
       "      <td>AGAP004677-RA</td>\n",
       "      <td>AGAP004677-RB-E4</td>\n",
       "    </tr>\n",
       "    <tr>\n",
       "      <th>...</th>\n",
       "      <td>...</td>\n",
       "      <td>...</td>\n",
       "      <td>...</td>\n",
       "      <td>...</td>\n",
       "      <td>...</td>\n",
       "      <td>...</td>\n",
       "      <td>...</td>\n",
       "      <td>...</td>\n",
       "      <td>...</td>\n",
       "      <td>...</td>\n",
       "      <td>...</td>\n",
       "    </tr>\n",
       "    <tr>\n",
       "      <th>196140</th>\n",
       "      <td>Y_unplaced</td>\n",
       "      <td>VectorBase</td>\n",
       "      <td>five_prime_UTR</td>\n",
       "      <td>47932</td>\n",
       "      <td>48111</td>\n",
       "      <td>NaN</td>\n",
       "      <td>+</td>\n",
       "      <td>NaN</td>\n",
       "      <td>NaN</td>\n",
       "      <td>AGAP029375-RA</td>\n",
       "      <td>NaN</td>\n",
       "    </tr>\n",
       "    <tr>\n",
       "      <th>196141</th>\n",
       "      <td>Y_unplaced</td>\n",
       "      <td>VectorBase</td>\n",
       "      <td>exon</td>\n",
       "      <td>47932</td>\n",
       "      <td>48138</td>\n",
       "      <td>NaN</td>\n",
       "      <td>+</td>\n",
       "      <td>NaN</td>\n",
       "      <td>NaN</td>\n",
       "      <td>AGAP029375-RA</td>\n",
       "      <td>AGAP029375-RA-E2</td>\n",
       "    </tr>\n",
       "    <tr>\n",
       "      <th>196142</th>\n",
       "      <td>Y_unplaced</td>\n",
       "      <td>VectorBase</td>\n",
       "      <td>CDS</td>\n",
       "      <td>48112</td>\n",
       "      <td>48138</td>\n",
       "      <td>NaN</td>\n",
       "      <td>+</td>\n",
       "      <td>0.0</td>\n",
       "      <td>AGAP029375-PA</td>\n",
       "      <td>AGAP029375-RA</td>\n",
       "      <td>NaN</td>\n",
       "    </tr>\n",
       "    <tr>\n",
       "      <th>196143</th>\n",
       "      <td>Y_unplaced</td>\n",
       "      <td>VectorBase</td>\n",
       "      <td>exon</td>\n",
       "      <td>48301</td>\n",
       "      <td>48385</td>\n",
       "      <td>NaN</td>\n",
       "      <td>+</td>\n",
       "      <td>NaN</td>\n",
       "      <td>NaN</td>\n",
       "      <td>AGAP029375-RA</td>\n",
       "      <td>AGAP029375-RA-E3</td>\n",
       "    </tr>\n",
       "    <tr>\n",
       "      <th>196144</th>\n",
       "      <td>Y_unplaced</td>\n",
       "      <td>VectorBase</td>\n",
       "      <td>CDS</td>\n",
       "      <td>48301</td>\n",
       "      <td>48385</td>\n",
       "      <td>NaN</td>\n",
       "      <td>+</td>\n",
       "      <td>0.0</td>\n",
       "      <td>AGAP029375-PA</td>\n",
       "      <td>AGAP029375-RA</td>\n",
       "      <td>NaN</td>\n",
       "    </tr>\n",
       "  </tbody>\n",
       "</table>\n",
       "<p>196145 rows × 11 columns</p>\n",
       "</div>"
      ],
      "text/plain": [
       "             seqid      source             type   start       end  score  \\\n",
       "0               2L  VectorBase       chromosome       1  49364325    NaN   \n",
       "1               2L  VectorBase             gene  157348    186936    NaN   \n",
       "2               2L  VectorBase             mRNA  157348    181305    NaN   \n",
       "3               2L  VectorBase  three_prime_UTR  157348    157495    NaN   \n",
       "4               2L  VectorBase             exon  157348    157623    NaN   \n",
       "...            ...         ...              ...     ...       ...    ...   \n",
       "196140  Y_unplaced  VectorBase   five_prime_UTR   47932     48111    NaN   \n",
       "196141  Y_unplaced  VectorBase             exon   47932     48138    NaN   \n",
       "196142  Y_unplaced  VectorBase              CDS   48112     48138    NaN   \n",
       "196143  Y_unplaced  VectorBase             exon   48301     48385    NaN   \n",
       "196144  Y_unplaced  VectorBase              CDS   48301     48385    NaN   \n",
       "\n",
       "       strand  phase             ID         Parent              Name  \n",
       "0         NaN    NaN             2L            NaN               NaN  \n",
       "1           -    NaN     AGAP004677            NaN               NaN  \n",
       "2           -    NaN  AGAP004677-RA     AGAP004677               NaN  \n",
       "3           -    NaN            NaN  AGAP004677-RA               NaN  \n",
       "4           -    NaN            NaN  AGAP004677-RA  AGAP004677-RB-E4  \n",
       "...       ...    ...            ...            ...               ...  \n",
       "196140      +    NaN            NaN  AGAP029375-RA               NaN  \n",
       "196141      +    NaN            NaN  AGAP029375-RA  AGAP029375-RA-E2  \n",
       "196142      +    0.0  AGAP029375-PA  AGAP029375-RA               NaN  \n",
       "196143      +    NaN            NaN  AGAP029375-RA  AGAP029375-RA-E3  \n",
       "196144      +    0.0  AGAP029375-PA  AGAP029375-RA               NaN  \n",
       "\n",
       "[196145 rows x 11 columns]"
      ]
     },
     "execution_count": 4,
     "metadata": {},
     "output_type": "execute_result"
    }
   ],
   "source": [
    "df_geneset = ag3.geneset()\n",
    "df_geneset"
   ]
  },
  {
   "cell_type": "code",
   "execution_count": 5,
   "id": "saving-magnitude",
   "metadata": {},
   "outputs": [
    {
     "data": {
      "text/html": [
       "<div>\n",
       "<style scoped>\n",
       "    .dataframe tbody tr th:only-of-type {\n",
       "        vertical-align: middle;\n",
       "    }\n",
       "\n",
       "    .dataframe tbody tr th {\n",
       "        vertical-align: top;\n",
       "    }\n",
       "\n",
       "    .dataframe thead th {\n",
       "        text-align: right;\n",
       "    }\n",
       "</style>\n",
       "<table border=\"1\" class=\"dataframe\">\n",
       "  <thead>\n",
       "    <tr style=\"text-align: right;\">\n",
       "      <th></th>\n",
       "      <th>seqid</th>\n",
       "      <th>source</th>\n",
       "      <th>type</th>\n",
       "      <th>start</th>\n",
       "      <th>end</th>\n",
       "      <th>score</th>\n",
       "      <th>strand</th>\n",
       "      <th>phase</th>\n",
       "      <th>ID</th>\n",
       "      <th>Parent</th>\n",
       "      <th>Name</th>\n",
       "    </tr>\n",
       "  </thead>\n",
       "  <tbody>\n",
       "    <tr>\n",
       "      <th>716</th>\n",
       "      <td>2L</td>\n",
       "      <td>VectorBase</td>\n",
       "      <td>gene</td>\n",
       "      <td>2358158</td>\n",
       "      <td>2431617</td>\n",
       "      <td>NaN</td>\n",
       "      <td>+</td>\n",
       "      <td>NaN</td>\n",
       "      <td>AGAP004707</td>\n",
       "      <td>NaN</td>\n",
       "      <td>para</td>\n",
       "    </tr>\n",
       "  </tbody>\n",
       "</table>\n",
       "</div>"
      ],
      "text/plain": [
       "    seqid      source  type    start      end  score strand  phase  \\\n",
       "716    2L  VectorBase  gene  2358158  2431617    NaN      +    NaN   \n",
       "\n",
       "             ID Parent  Name  \n",
       "716  AGAP004707    NaN  para  "
      ]
     },
     "execution_count": 5,
     "metadata": {},
     "output_type": "execute_result"
    }
   ],
   "source": [
    "df_geneset.query(\"ID == 'AGAP004707'\")"
   ]
  },
  {
   "cell_type": "code",
   "execution_count": 6,
   "id": "noted-receipt",
   "metadata": {},
   "outputs": [
    {
     "data": {
      "text/plain": [
       "array([0, 1, 2, 0, 1, 2, 0, 1, 2], dtype=int8)"
      ]
     },
     "execution_count": 6,
     "metadata": {},
     "output_type": "execute_result"
    }
   ],
   "source": [
    "root[\"codon_position/2L\"][2358157:2358166]"
   ]
  },
  {
   "cell_type": "code",
   "execution_count": 7,
   "id": "german-amino",
   "metadata": {},
   "outputs": [
    {
     "data": {
      "text/plain": [
       "array([-1, -1, -1, -1, -1, -1, -1,  3,  1,  3,  1,  1,  4,  1,  1,  2],\n",
       "      dtype=int8)"
      ]
     },
     "execution_count": 7,
     "metadata": {},
     "output_type": "execute_result"
    }
   ],
   "source": [
    "root[\"codon_degeneracy/2L\"][2358150:2358166]"
   ]
  },
  {
   "cell_type": "code",
   "execution_count": 8,
   "id": "logical-impact",
   "metadata": {},
   "outputs": [
    {
     "data": {
      "text/plain": [
       "array([0, 0, 0, 0, 0, 0, 0, 3, 3, 3, 3, 3, 0, 3, 3, 2], dtype=uint8)"
      ]
     },
     "execution_count": 8,
     "metadata": {},
     "output_type": "execute_result"
    }
   ],
   "source": [
    "root[\"codon_nonsyn/2L\"][2358150:2358166]"
   ]
  },
  {
   "cell_type": "code",
   "execution_count": 9,
   "id": "rental-glasgow",
   "metadata": {},
   "outputs": [
    {
     "data": {
      "text/plain": [
       "array([1, 1, 1, 1, 1, 1, 1, 5, 5, 5, 5, 5, 5, 5, 5, 5], dtype=uint8)"
      ]
     },
     "execution_count": 9,
     "metadata": {},
     "output_type": "execute_result"
    }
   ],
   "source": [
    "root[\"seq_cls/2L\"][2358150:2358166]"
   ]
  },
  {
   "cell_type": "code",
   "execution_count": 10,
   "id": "rural-handy",
   "metadata": {},
   "outputs": [
    {
     "data": {
      "text/plain": [
       "array([26020, 26020, 26020, 26020, 26020, 26020, 26020,   147,   147,\n",
       "         147,   147,   147,   147,   147,   147,   147], dtype=uint32)"
      ]
     },
     "execution_count": 10,
     "metadata": {},
     "output_type": "execute_result"
    }
   ],
   "source": [
    "root[\"seq_flen/2L\"][2358150:2358166]"
   ]
  },
  {
   "cell_type": "code",
   "execution_count": 11,
   "id": "standing-herald",
   "metadata": {},
   "outputs": [
    {
     "data": {
      "text/plain": [
       "array([26013, 26014, 26015, 26016, 26017, 26018, 26019,     0,     1,\n",
       "           2,     3,     4,     5,     6,     7,     8], dtype=uint32)"
      ]
     },
     "execution_count": 11,
     "metadata": {},
     "output_type": "execute_result"
    }
   ],
   "source": [
    "root[\"seq_relpos_start/2L\"][2358150:2358166]"
   ]
  },
  {
   "cell_type": "code",
   "execution_count": 12,
   "id": "induced-capitol",
   "metadata": {},
   "outputs": [
    {
     "data": {
      "text/plain": [
       "array([  6,   5,   4,   3,   2,   1,   0, 146, 145, 144, 143, 142, 141,\n",
       "       140, 139, 138], dtype=uint32)"
      ]
     },
     "execution_count": 12,
     "metadata": {},
     "output_type": "execute_result"
    }
   ],
   "source": [
    "root[\"seq_relpos_stop/2L\"][2358150:2358166]"
   ]
  },
  {
   "cell_type": "code",
   "execution_count": 13,
   "id": "reliable-ability",
   "metadata": {},
   "outputs": [
    {
     "data": {
      "text/html": [
       "<table>\n",
       "<tr>\n",
       "<td>\n",
       "<table>\n",
       "  <thead>\n",
       "    <tr><td> </td><th> Array </th><th> Chunk </th></tr>\n",
       "  </thead>\n",
       "  <tbody>\n",
       "    <tr><th> Bytes </th><td> 48.53 MB </td> <td> 771.17 kB </td></tr>\n",
       "    <tr><th> Shape </th><td> (48525747,) </td> <td> (771170,) </td></tr>\n",
       "    <tr><th> Count </th><td> 129 Tasks </td><td> 64 Chunks </td></tr>\n",
       "    <tr><th> Type </th><td> uint8 </td><td> numpy.ndarray </td></tr>\n",
       "  </tbody>\n",
       "</table>\n",
       "</td>\n",
       "<td>\n",
       "<svg width=\"170\" height=\"75\" style=\"stroke:rgb(0,0,0);stroke-width:1\" >\n",
       "\n",
       "  <!-- Horizontal lines -->\n",
       "  <line x1=\"0\" y1=\"0\" x2=\"120\" y2=\"0\" style=\"stroke-width:2\" />\n",
       "  <line x1=\"0\" y1=\"25\" x2=\"120\" y2=\"25\" style=\"stroke-width:2\" />\n",
       "\n",
       "  <!-- Vertical lines -->\n",
       "  <line x1=\"0\" y1=\"0\" x2=\"0\" y2=\"25\" style=\"stroke-width:2\" />\n",
       "  <line x1=\"5\" y1=\"0\" x2=\"5\" y2=\"25\" />\n",
       "  <line x1=\"10\" y1=\"0\" x2=\"10\" y2=\"25\" />\n",
       "  <line x1=\"17\" y1=\"0\" x2=\"17\" y2=\"25\" />\n",
       "  <line x1=\"23\" y1=\"0\" x2=\"23\" y2=\"25\" />\n",
       "  <line x1=\"29\" y1=\"0\" x2=\"29\" y2=\"25\" />\n",
       "  <line x1=\"36\" y1=\"0\" x2=\"36\" y2=\"25\" />\n",
       "  <line x1=\"42\" y1=\"0\" x2=\"42\" y2=\"25\" />\n",
       "  <line x1=\"47\" y1=\"0\" x2=\"47\" y2=\"25\" />\n",
       "  <line x1=\"55\" y1=\"0\" x2=\"55\" y2=\"25\" />\n",
       "  <line x1=\"61\" y1=\"0\" x2=\"61\" y2=\"25\" />\n",
       "  <line x1=\"68\" y1=\"0\" x2=\"68\" y2=\"25\" />\n",
       "  <line x1=\"74\" y1=\"0\" x2=\"74\" y2=\"25\" />\n",
       "  <line x1=\"80\" y1=\"0\" x2=\"80\" y2=\"25\" />\n",
       "  <line x1=\"87\" y1=\"0\" x2=\"87\" y2=\"25\" />\n",
       "  <line x1=\"93\" y1=\"0\" x2=\"93\" y2=\"25\" />\n",
       "  <line x1=\"99\" y1=\"0\" x2=\"99\" y2=\"25\" />\n",
       "  <line x1=\"106\" y1=\"0\" x2=\"106\" y2=\"25\" />\n",
       "  <line x1=\"112\" y1=\"0\" x2=\"112\" y2=\"25\" />\n",
       "  <line x1=\"120\" y1=\"0\" x2=\"120\" y2=\"25\" style=\"stroke-width:2\" />\n",
       "\n",
       "  <!-- Colored Rectangle -->\n",
       "  <polygon points=\"0.0,0.0 120.0,0.0 120.0,25.412616514582485 0.0,25.412616514582485\" style=\"fill:#8B4903A0;stroke-width:0\"/>\n",
       "\n",
       "  <!-- Text -->\n",
       "  <text x=\"60.000000\" y=\"45.412617\" font-size=\"1.0rem\" font-weight=\"100\" text-anchor=\"middle\" >48525747</text>\n",
       "  <text x=\"140.000000\" y=\"12.706308\" font-size=\"1.0rem\" font-weight=\"100\" text-anchor=\"middle\" transform=\"rotate(0,140.000000,12.706308)\">1</text>\n",
       "</svg>\n",
       "</td>\n",
       "</tr>\n",
       "</table>"
      ],
      "text/plain": [
       "dask.array<getitem, shape=(48525747,), dtype=uint8, chunksize=(771170,), chunktype=numpy.ndarray>"
      ]
     },
     "execution_count": 13,
     "metadata": {},
     "output_type": "execute_result"
    }
   ],
   "source": [
    "d = ag3.site_annotations(contig=\"2L\", field=\"seq_cls\")\n",
    "d"
   ]
  },
  {
   "cell_type": "code",
   "execution_count": 15,
   "id": "organic-greece",
   "metadata": {},
   "outputs": [],
   "source": [
    "from malariagen_data import SiteClass"
   ]
  },
  {
   "cell_type": "code",
   "execution_count": 16,
   "id": "stunning-walter",
   "metadata": {},
   "outputs": [],
   "source": [
    "import numpy as np"
   ]
  },
  {
   "cell_type": "code",
   "execution_count": 17,
   "id": "mental-grace",
   "metadata": {},
   "outputs": [],
   "source": [
    "s = np.bincount(d).compute()"
   ]
  },
  {
   "cell_type": "code",
   "execution_count": 18,
   "id": "chicken-conviction",
   "metadata": {},
   "outputs": [
    {
     "data": {
      "text/plain": [
       "array([  892457, 12558080, 10410051,   750923,  1561113,   697336,\n",
       "        2395901,  1176587,  5153084, 11478176,  1452039])"
      ]
     },
     "execution_count": 18,
     "metadata": {},
     "output_type": "execute_result"
    }
   ],
   "source": [
    "s"
   ]
  },
  {
   "cell_type": "code",
   "execution_count": 19,
   "id": "transsexual-silly",
   "metadata": {},
   "outputs": [
    {
     "data": {
      "text/plain": [
       "[<SiteClass.UPSTREAM: 1>,\n",
       " <SiteClass.DOWNSTREAM: 2>,\n",
       " <SiteClass.UTR5: 3>,\n",
       " <SiteClass.UTR3: 4>,\n",
       " <SiteClass.CDS_FIRST: 5>,\n",
       " <SiteClass.CDS_MID: 6>,\n",
       " <SiteClass.CDS_LAST: 7>,\n",
       " <SiteClass.INTRON_FIRST: 8>,\n",
       " <SiteClass.INTRON_MID: 9>,\n",
       " <SiteClass.INTRON_LAST: 10>]"
      ]
     },
     "execution_count": 19,
     "metadata": {},
     "output_type": "execute_result"
    }
   ],
   "source": [
    "list(SiteClass)"
   ]
  },
  {
   "cell_type": "code",
   "execution_count": 20,
   "id": "female-backing",
   "metadata": {},
   "outputs": [
    {
     "name": "stdout",
     "output_type": "stream",
     "text": [
      "UPSTREAM (1): 12,558,080\n",
      "DOWNSTREAM (2): 10,410,051\n",
      "UTR5 (3): 750,923\n",
      "UTR3 (4): 1,561,113\n",
      "CDS_FIRST (5): 697,336\n",
      "CDS_MID (6): 2,395,901\n",
      "CDS_LAST (7): 1,176,587\n",
      "INTRON_FIRST (8): 5,153,084\n",
      "INTRON_MID (9): 11,478,176\n",
      "INTRON_LAST (10): 1,452,039\n"
     ]
    }
   ],
   "source": [
    "for x in SiteClass:\n",
    "    print(f\"{x.name} ({x.value}): {s[x.value]:,}\")"
   ]
  },
  {
   "cell_type": "code",
   "execution_count": 21,
   "id": "powerful-pencil",
   "metadata": {},
   "outputs": [
    {
     "data": {
      "text/html": [
       "<table>\n",
       "<tr>\n",
       "<td>\n",
       "<table>\n",
       "  <thead>\n",
       "    <tr><td> </td><th> Array </th><th> Chunk </th></tr>\n",
       "  </thead>\n",
       "  <tbody>\n",
       "    <tr><th> Bytes </th><td> 194.10 MB </td> <td> 2.10 MB </td></tr>\n",
       "    <tr><th> Shape </th><td> (48525747,) </td> <td> (524288,) </td></tr>\n",
       "    <tr><th> Count </th><td> 94 Tasks </td><td> 93 Chunks </td></tr>\n",
       "    <tr><th> Type </th><td> int32 </td><td> numpy.ndarray </td></tr>\n",
       "  </tbody>\n",
       "</table>\n",
       "</td>\n",
       "<td>\n",
       "<svg width=\"170\" height=\"75\" style=\"stroke:rgb(0,0,0);stroke-width:1\" >\n",
       "\n",
       "  <!-- Horizontal lines -->\n",
       "  <line x1=\"0\" y1=\"0\" x2=\"120\" y2=\"0\" style=\"stroke-width:2\" />\n",
       "  <line x1=\"0\" y1=\"25\" x2=\"120\" y2=\"25\" style=\"stroke-width:2\" />\n",
       "\n",
       "  <!-- Vertical lines -->\n",
       "  <line x1=\"0\" y1=\"0\" x2=\"0\" y2=\"25\" style=\"stroke-width:2\" />\n",
       "  <line x1=\"5\" y1=\"0\" x2=\"5\" y2=\"25\" />\n",
       "  <line x1=\"11\" y1=\"0\" x2=\"11\" y2=\"25\" />\n",
       "  <line x1=\"18\" y1=\"0\" x2=\"18\" y2=\"25\" />\n",
       "  <line x1=\"24\" y1=\"0\" x2=\"24\" y2=\"25\" />\n",
       "  <line x1=\"31\" y1=\"0\" x2=\"31\" y2=\"25\" />\n",
       "  <line x1=\"37\" y1=\"0\" x2=\"37\" y2=\"25\" />\n",
       "  <line x1=\"44\" y1=\"0\" x2=\"44\" y2=\"25\" />\n",
       "  <line x1=\"50\" y1=\"0\" x2=\"50\" y2=\"25\" />\n",
       "  <line x1=\"57\" y1=\"0\" x2=\"57\" y2=\"25\" />\n",
       "  <line x1=\"62\" y1=\"0\" x2=\"62\" y2=\"25\" />\n",
       "  <line x1=\"68\" y1=\"0\" x2=\"68\" y2=\"25\" />\n",
       "  <line x1=\"75\" y1=\"0\" x2=\"75\" y2=\"25\" />\n",
       "  <line x1=\"81\" y1=\"0\" x2=\"81\" y2=\"25\" />\n",
       "  <line x1=\"88\" y1=\"0\" x2=\"88\" y2=\"25\" />\n",
       "  <line x1=\"94\" y1=\"0\" x2=\"94\" y2=\"25\" />\n",
       "  <line x1=\"101\" y1=\"0\" x2=\"101\" y2=\"25\" />\n",
       "  <line x1=\"107\" y1=\"0\" x2=\"107\" y2=\"25\" />\n",
       "  <line x1=\"114\" y1=\"0\" x2=\"114\" y2=\"25\" />\n",
       "  <line x1=\"120\" y1=\"0\" x2=\"120\" y2=\"25\" style=\"stroke-width:2\" />\n",
       "\n",
       "  <!-- Colored Rectangle -->\n",
       "  <polygon points=\"0.0,0.0 120.0,0.0 120.0,25.412616514582485 0.0,25.412616514582485\" style=\"fill:#8B4903A0;stroke-width:0\"/>\n",
       "\n",
       "  <!-- Text -->\n",
       "  <text x=\"60.000000\" y=\"45.412617\" font-size=\"1.0rem\" font-weight=\"100\" text-anchor=\"middle\" >48525747</text>\n",
       "  <text x=\"140.000000\" y=\"12.706308\" font-size=\"1.0rem\" font-weight=\"100\" text-anchor=\"middle\" transform=\"rotate(0,140.000000,12.706308)\">1</text>\n",
       "</svg>\n",
       "</td>\n",
       "</tr>\n",
       "</table>"
      ],
      "text/plain": [
       "dask.array<array, shape=(48525747,), dtype=int32, chunksize=(524288,), chunktype=numpy.ndarray>"
      ]
     },
     "execution_count": 21,
     "metadata": {},
     "output_type": "execute_result"
    }
   ],
   "source": [
    "pos = ag3.snp_sites(contig=\"2L\", field=\"POS\")\n",
    "pos"
   ]
  },
  {
   "cell_type": "code",
   "execution_count": null,
   "id": "medical-township",
   "metadata": {},
   "outputs": [],
   "source": []
  }
 ],
 "metadata": {
  "kernelspec": {
   "display_name": "Python 3",
   "language": "python",
   "name": "python3"
  },
  "language_info": {
   "codemirror_mode": {
    "name": "ipython",
    "version": 3
   },
   "file_extension": ".py",
   "mimetype": "text/x-python",
   "name": "python",
   "nbconvert_exporter": "python",
   "pygments_lexer": "ipython3",
   "version": "3.6.9"
  }
 },
 "nbformat": 4,
 "nbformat_minor": 5
}
